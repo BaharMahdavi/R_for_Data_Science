{
  "cells": [
    {
      "cell_type": "markdown",
      "id": "0ca573fd",
      "metadata": {
        "id": "0ca573fd"
      },
      "source": [
        "<a href=https://uplimit.com/course/r-for-data-science>\n",
        "  <img src=https://imgur.com/6Vkc11w.png />\n",
        "</a>\n",
        "\n",
        "|        |                                   |                                   |                                 |                                |\n",
        "| -------| ----------------------------------| -------------------------------- -| --------------------------------| ------------------------------------------|\n",
        "| Week 1 | [[01] Doing Data Science](https://colab.research.google.com/drive/1aWpmzS36qVc8hNIaSSSHexlodwwyMJCB)           | [[02] Data Science in Action](https://colab.research.google.com/drive/1aWpmzS36qVc8hNIaSSSHexlodwwyMJCB)       | [[03] Importing Data](https://colab.research.google.com/drive/13kHBX3H1F2yx5yXWJ5iFZh48qjEtpLjU)             | [[04] Visualizing Data: Overview](https://colab.research.google.com/drive/1JSeDt-Gneegd5B2KwWTJF_igYPb-xsIv)          |\n",
        "|        | [[05] Transforming Data: Overview](https://colab.research.google.com/drive/1IMZJFE8WmwjgdYCddvaO386PljKq_PjC)  | [[06] Transforming Data: Manipulate](https://colab.research.google.com/drive/19ClnAH7d30I9PkD9KuZndPmy5hxk3gdi) |                                 |                                           |\n",
        "| Week 2 | [[07] Transforming Data: Aggregate](https://colab.research.google.com/drive/1zigvePewKpzKQHx2pjABXU6Ms8QzQXj7) | [[08] Transforming Data: Reshape](https://colab.research.google.com/drive/1Ma9VrM9SrkNEeXTSul0Ca8a7GHAeNLzC)   | [[09] Transforming Data: Combine](https://colab.research.google.com/drive/1JUGm1h4YPmCkre-rVUj5Ql7lBS66_xIs) | [[10] Visualizing Data: Grammar of Graphics](https://colab.research.google.com/drive/1YLE3NPp-TO2KUTohtidjzKMeqJVWxYoT) |\n",
        "|        | [[11] Data Science in Action Again](https://colab.research.google.com/drive/1eWjVK4oEiXdwdP4sT0nOJlmkCMBkfLpz) |                                   |                                 |                                           |\n",
        "Books | [Hands on Programming with R](https://rstudio-education.github.io/hopr/index.html) | [R for Data Science](https://r4ds.hadley.nz/) | [Elegant Graphics for Data Analysis](https://ggplot2-book.org/)\n"
      ]
    },
    {
      "cell_type": "markdown",
      "id": "42f92171",
      "metadata": {
        "id": "42f92171"
      },
      "source": [
        "> 📕 __BEFORE YOU GET STARTED:__\n",
        "> 1. Click on **Copy to Drive** to copy notebook to your drive.\n",
        "> 2. Click on **Share** on the top-right corner (of your copied notebook).\n",
        "> 3. Update sharing settings to **Anyone with link**\n",
        "> 4. Delete this cell.\n"
      ]
    },
    {
      "cell_type": "markdown",
      "id": "040a0a73",
      "metadata": {
        "id": "040a0a73"
      },
      "source": [
        "## Combining Data\n",
        "\n",
        "__Combining__ data spread across multiple tables is a common task. This is where the `join` and `bind` functions in `dplyr` comes into play.\n",
        "\n",
        "<img src=\"https://i.imgur.com/qfpUdFQ.png\" height=250px/>\n"
      ]
    },
    {
      "cell_type": "code",
      "execution_count": null,
      "id": "6b0ec674",
      "metadata": {
        "message": false,
        "name": "setup",
        "colab": {
          "base_uri": "https://localhost:8080/"
        },
        "id": "6b0ec674",
        "outputId": "e30572bc-4943-4268-9e26-b5f2cb40678d"
      },
      "outputs": [
        {
          "output_type": "stream",
          "name": "stderr",
          "text": [
            "── \u001b[1mAttaching core tidyverse packages\u001b[22m ──────────────────────── tidyverse 2.0.0 ──\n",
            "\u001b[32m✔\u001b[39m \u001b[34mdplyr    \u001b[39m 1.1.3     \u001b[32m✔\u001b[39m \u001b[34mreadr    \u001b[39m 2.1.4\n",
            "\u001b[32m✔\u001b[39m \u001b[34mforcats  \u001b[39m 1.0.0     \u001b[32m✔\u001b[39m \u001b[34mstringr  \u001b[39m 1.5.0\n",
            "\u001b[32m✔\u001b[39m \u001b[34mggplot2  \u001b[39m 3.4.4     \u001b[32m✔\u001b[39m \u001b[34mtibble   \u001b[39m 3.2.1\n",
            "\u001b[32m✔\u001b[39m \u001b[34mlubridate\u001b[39m 1.9.3     \u001b[32m✔\u001b[39m \u001b[34mtidyr    \u001b[39m 1.3.0\n",
            "\u001b[32m✔\u001b[39m \u001b[34mpurrr    \u001b[39m 1.0.2     \n",
            "── \u001b[1mConflicts\u001b[22m ────────────────────────────────────────── tidyverse_conflicts() ──\n",
            "\u001b[31m✖\u001b[39m \u001b[34mdplyr\u001b[39m::\u001b[32mfilter()\u001b[39m masks \u001b[34mstats\u001b[39m::filter()\n",
            "\u001b[31m✖\u001b[39m \u001b[34mdplyr\u001b[39m::\u001b[32mlag()\u001b[39m    masks \u001b[34mstats\u001b[39m::lag()\n",
            "\u001b[36mℹ\u001b[39m Use the conflicted package (\u001b[3m\u001b[34m<http://conflicted.r-lib.org/>\u001b[39m\u001b[23m) to force all conflicts to become errors\n",
            "Installing package into ‘/usr/local/lib/R/site-library’\n",
            "(as ‘lib’ is unspecified)\n",
            "\n",
            "Tracing function \"install.packages\" in package \"utils\"\n",
            "\n",
            "Tracing function \"update.packages\" in package \"utils\"\n",
            "\n",
            "Installing packages into ‘/usr/local/lib/R/site-library’\n",
            "(as ‘lib’ is unspecified)\n",
            "\n",
            "Inspecting installed packages...\n",
            "\n"
          ]
        }
      ],
      "source": [
        "# Load packages and common utility functions\n",
        "library(tidyverse)\n",
        "url = \"https://gist.githubusercontent.com/ramnathv/e71d3ffe88961fc4ef95642053012384/raw/9dda53562d06009912841ab3538d4aeb90e5ee09/_common.R\"\n",
        "download.file(url, basename(url))\n",
        "source(\"_common.R\")"
      ]
    },
    {
      "cell_type": "markdown",
      "id": "83055333",
      "metadata": {
        "id": "83055333"
      },
      "source": [
        "### Join\n",
        "\n",
        "__Joining__ tables means combining the rows of one table with the rows of another based on common columns. In `dplyr`, you can use the `inner_join()`, `left_join()`, `right_join()`, and `full_join()` functions to perform different types of joins.\n",
        "\n",
        "Let us take two datasets `band_instruments` and `band_members` which contain information on the instruments that different members play and the bands that they belong to. Note that not everyone plays an instrument, and not everyone is in a band."
      ]
    },
    {
      "cell_type": "code",
      "execution_count": null,
      "id": "ee2e1d13",
      "metadata": {
        "name": "data-band-instruments",
        "colab": {
          "base_uri": "https://localhost:8080/",
          "height": 192
        },
        "id": "ee2e1d13",
        "outputId": "b898c9d5-9763-4535-dfe9-0f23c7b525e3"
      },
      "outputs": [
        {
          "output_type": "display_data",
          "data": {
            "text/html": [
              "<table class=\"dataframe\">\n",
              "<caption>A tibble: 3 × 2</caption>\n",
              "<thead>\n",
              "\t<tr><th scope=col>name</th><th scope=col>plays</th></tr>\n",
              "\t<tr><th scope=col>&lt;chr&gt;</th><th scope=col>&lt;chr&gt;</th></tr>\n",
              "</thead>\n",
              "<tbody>\n",
              "\t<tr><td>John </td><td>guitar</td></tr>\n",
              "\t<tr><td>Paul </td><td>bass  </td></tr>\n",
              "\t<tr><td>Keith</td><td>guitar</td></tr>\n",
              "</tbody>\n",
              "</table>\n"
            ],
            "text/markdown": "\nA tibble: 3 × 2\n\n| name &lt;chr&gt; | plays &lt;chr&gt; |\n|---|---|\n| John  | guitar |\n| Paul  | bass   |\n| Keith | guitar |\n\n",
            "text/latex": "A tibble: 3 × 2\n\\begin{tabular}{ll}\n name & plays\\\\\n <chr> & <chr>\\\\\n\\hline\n\t John  & guitar\\\\\n\t Paul  & bass  \\\\\n\t Keith & guitar\\\\\n\\end{tabular}\n",
            "text/plain": [
              "  name  plays \n",
              "1 John  guitar\n",
              "2 Paul  bass  \n",
              "3 Keith guitar"
            ]
          },
          "metadata": {}
        }
      ],
      "source": [
        "band_instruments"
      ]
    },
    {
      "cell_type": "code",
      "execution_count": null,
      "id": "c5d8bc58",
      "metadata": {
        "name": "data-band-members",
        "colab": {
          "base_uri": "https://localhost:8080/",
          "height": 192
        },
        "id": "c5d8bc58",
        "outputId": "60b76f7c-62be-426e-f2e1-2dea1b0ffc0c"
      },
      "outputs": [
        {
          "output_type": "display_data",
          "data": {
            "text/html": [
              "<table class=\"dataframe\">\n",
              "<caption>A tibble: 3 × 2</caption>\n",
              "<thead>\n",
              "\t<tr><th scope=col>name</th><th scope=col>band</th></tr>\n",
              "\t<tr><th scope=col>&lt;chr&gt;</th><th scope=col>&lt;chr&gt;</th></tr>\n",
              "</thead>\n",
              "<tbody>\n",
              "\t<tr><td>Mick</td><td>Stones </td></tr>\n",
              "\t<tr><td>John</td><td>Beatles</td></tr>\n",
              "\t<tr><td>Paul</td><td>Beatles</td></tr>\n",
              "</tbody>\n",
              "</table>\n"
            ],
            "text/markdown": "\nA tibble: 3 × 2\n\n| name &lt;chr&gt; | band &lt;chr&gt; |\n|---|---|\n| Mick | Stones  |\n| John | Beatles |\n| Paul | Beatles |\n\n",
            "text/latex": "A tibble: 3 × 2\n\\begin{tabular}{ll}\n name & band\\\\\n <chr> & <chr>\\\\\n\\hline\n\t Mick & Stones \\\\\n\t John & Beatles\\\\\n\t Paul & Beatles\\\\\n\\end{tabular}\n",
            "text/plain": [
              "  name band   \n",
              "1 Mick Stones \n",
              "2 John Beatles\n",
              "3 Paul Beatles"
            ]
          },
          "metadata": {}
        }
      ],
      "source": [
        "band_members"
      ]
    },
    {
      "cell_type": "markdown",
      "id": "0c72bb1d",
      "metadata": {
        "id": "0c72bb1d"
      },
      "source": [
        "#### `inner_join()`: Keep only matching rows in both tables\n",
        "\n",
        "The `inner_join()` function returns only the rows that have matching values in both tables. In this case, we get a table with only those members who play an instrument and belong to a band."
      ]
    },
    {
      "cell_type": "code",
      "execution_count": null,
      "id": "bb108f1d",
      "metadata": {
        "lines_to_next_cell": 2,
        "name": "inner-join",
        "colab": {
          "base_uri": "https://localhost:8080/",
          "height": 161
        },
        "id": "bb108f1d",
        "outputId": "7a88df82-2056-4d53-ac70-4ed557059e3a"
      },
      "outputs": [
        {
          "output_type": "display_data",
          "data": {
            "text/html": [
              "<table class=\"dataframe\">\n",
              "<caption>A tibble: 2 × 3</caption>\n",
              "<thead>\n",
              "\t<tr><th scope=col>name</th><th scope=col>plays</th><th scope=col>band</th></tr>\n",
              "\t<tr><th scope=col>&lt;chr&gt;</th><th scope=col>&lt;chr&gt;</th><th scope=col>&lt;chr&gt;</th></tr>\n",
              "</thead>\n",
              "<tbody>\n",
              "\t<tr><td>John</td><td>guitar</td><td>Beatles</td></tr>\n",
              "\t<tr><td>Paul</td><td>bass  </td><td>Beatles</td></tr>\n",
              "</tbody>\n",
              "</table>\n"
            ],
            "text/markdown": "\nA tibble: 2 × 3\n\n| name &lt;chr&gt; | plays &lt;chr&gt; | band &lt;chr&gt; |\n|---|---|---|\n| John | guitar | Beatles |\n| Paul | bass   | Beatles |\n\n",
            "text/latex": "A tibble: 2 × 3\n\\begin{tabular}{lll}\n name & plays & band\\\\\n <chr> & <chr> & <chr>\\\\\n\\hline\n\t John & guitar & Beatles\\\\\n\t Paul & bass   & Beatles\\\\\n\\end{tabular}\n",
            "text/plain": [
              "  name plays  band   \n",
              "1 John guitar Beatles\n",
              "2 Paul bass   Beatles"
            ]
          },
          "metadata": {}
        }
      ],
      "source": [
        "inner_join(band_instruments, band_members, by = \"name\")"
      ]
    },
    {
      "cell_type": "markdown",
      "id": "5685835b",
      "metadata": {
        "id": "5685835b"
      },
      "source": [
        "#### `left_join()`: Keep all rows in the left table\n",
        "\n",
        "The `left_join()` function returns all the rows from the left table and the matching rows from the right table. Hence, we have all members who play an instrument, even if they did not belong to a band."
      ]
    },
    {
      "cell_type": "code",
      "execution_count": null,
      "id": "40f181c9",
      "metadata": {
        "lines_to_next_cell": 2,
        "name": "left-join",
        "colab": {
          "base_uri": "https://localhost:8080/",
          "height": 192
        },
        "id": "40f181c9",
        "outputId": "723ed68a-727c-4436-c4d8-c3da47a37628"
      },
      "outputs": [
        {
          "output_type": "display_data",
          "data": {
            "text/html": [
              "<table class=\"dataframe\">\n",
              "<caption>A tibble: 3 × 3</caption>\n",
              "<thead>\n",
              "\t<tr><th scope=col>name</th><th scope=col>plays</th><th scope=col>band</th></tr>\n",
              "\t<tr><th scope=col>&lt;chr&gt;</th><th scope=col>&lt;chr&gt;</th><th scope=col>&lt;chr&gt;</th></tr>\n",
              "</thead>\n",
              "<tbody>\n",
              "\t<tr><td>John </td><td>guitar</td><td>Beatles</td></tr>\n",
              "\t<tr><td>Paul </td><td>bass  </td><td>Beatles</td></tr>\n",
              "\t<tr><td>Keith</td><td>guitar</td><td>NA     </td></tr>\n",
              "</tbody>\n",
              "</table>\n"
            ],
            "text/markdown": "\nA tibble: 3 × 3\n\n| name &lt;chr&gt; | plays &lt;chr&gt; | band &lt;chr&gt; |\n|---|---|---|\n| John  | guitar | Beatles |\n| Paul  | bass   | Beatles |\n| Keith | guitar | NA      |\n\n",
            "text/latex": "A tibble: 3 × 3\n\\begin{tabular}{lll}\n name & plays & band\\\\\n <chr> & <chr> & <chr>\\\\\n\\hline\n\t John  & guitar & Beatles\\\\\n\t Paul  & bass   & Beatles\\\\\n\t Keith & guitar & NA     \\\\\n\\end{tabular}\n",
            "text/plain": [
              "  name  plays  band   \n",
              "1 John  guitar Beatles\n",
              "2 Paul  bass   Beatles\n",
              "3 Keith guitar NA     "
            ]
          },
          "metadata": {}
        }
      ],
      "source": [
        "left_join(band_instruments, band_members, by = \"name\")"
      ]
    },
    {
      "cell_type": "markdown",
      "id": "4a2964b7",
      "metadata": {
        "id": "4a2964b7"
      },
      "source": [
        "#### `right_join()`: Keep all rows in the right table\n",
        "\n",
        "The `right_join()` function returns all the rows from the right table and the matching rows from the left table. Hence, we have all members who belong to a band, even if they did not play an instrument."
      ]
    },
    {
      "cell_type": "code",
      "execution_count": null,
      "id": "f62d601c",
      "metadata": {
        "lines_to_next_cell": 2,
        "name": "right-join",
        "colab": {
          "base_uri": "https://localhost:8080/",
          "height": 192
        },
        "id": "f62d601c",
        "outputId": "bf9efa1f-d758-4aab-fe7c-afa3a52b0af2"
      },
      "outputs": [
        {
          "output_type": "display_data",
          "data": {
            "text/html": [
              "<table class=\"dataframe\">\n",
              "<caption>A tibble: 3 × 3</caption>\n",
              "<thead>\n",
              "\t<tr><th scope=col>name</th><th scope=col>plays</th><th scope=col>band</th></tr>\n",
              "\t<tr><th scope=col>&lt;chr&gt;</th><th scope=col>&lt;chr&gt;</th><th scope=col>&lt;chr&gt;</th></tr>\n",
              "</thead>\n",
              "<tbody>\n",
              "\t<tr><td>John</td><td>guitar</td><td>Beatles</td></tr>\n",
              "\t<tr><td>Paul</td><td>bass  </td><td>Beatles</td></tr>\n",
              "\t<tr><td>Mick</td><td>NA    </td><td>Stones </td></tr>\n",
              "</tbody>\n",
              "</table>\n"
            ],
            "text/markdown": "\nA tibble: 3 × 3\n\n| name &lt;chr&gt; | plays &lt;chr&gt; | band &lt;chr&gt; |\n|---|---|---|\n| John | guitar | Beatles |\n| Paul | bass   | Beatles |\n| Mick | NA     | Stones  |\n\n",
            "text/latex": "A tibble: 3 × 3\n\\begin{tabular}{lll}\n name & plays & band\\\\\n <chr> & <chr> & <chr>\\\\\n\\hline\n\t John & guitar & Beatles\\\\\n\t Paul & bass   & Beatles\\\\\n\t Mick & NA     & Stones \\\\\n\\end{tabular}\n",
            "text/plain": [
              "  name plays  band   \n",
              "1 John guitar Beatles\n",
              "2 Paul bass   Beatles\n",
              "3 Mick NA     Stones "
            ]
          },
          "metadata": {}
        }
      ],
      "source": [
        "right_join(band_instruments, band_members, by = \"name\")"
      ]
    },
    {
      "cell_type": "markdown",
      "id": "7bb123f4",
      "metadata": {
        "id": "7bb123f4"
      },
      "source": [
        "#### `full_join()`: Keep all rows in both tables\n",
        "\n",
        "The `full_join()` function returns all rows from both tables, filling in `NA` for missing values. Here, we get all members whether or not they play an instrument or belong to a band."
      ]
    },
    {
      "cell_type": "code",
      "execution_count": null,
      "id": "0a65376a",
      "metadata": {
        "name": "full-join",
        "colab": {
          "base_uri": "https://localhost:8080/",
          "height": 224
        },
        "id": "0a65376a",
        "outputId": "f497b376-c180-47e4-d8e7-6113aaf8ee90"
      },
      "outputs": [
        {
          "output_type": "display_data",
          "data": {
            "text/html": [
              "<table class=\"dataframe\">\n",
              "<caption>A tibble: 4 × 3</caption>\n",
              "<thead>\n",
              "\t<tr><th scope=col>name</th><th scope=col>plays</th><th scope=col>band</th></tr>\n",
              "\t<tr><th scope=col>&lt;chr&gt;</th><th scope=col>&lt;chr&gt;</th><th scope=col>&lt;chr&gt;</th></tr>\n",
              "</thead>\n",
              "<tbody>\n",
              "\t<tr><td>John </td><td>guitar</td><td>Beatles</td></tr>\n",
              "\t<tr><td>Paul </td><td>bass  </td><td>Beatles</td></tr>\n",
              "\t<tr><td>Keith</td><td>guitar</td><td>NA     </td></tr>\n",
              "\t<tr><td>Mick </td><td>NA    </td><td>Stones </td></tr>\n",
              "</tbody>\n",
              "</table>\n"
            ],
            "text/markdown": "\nA tibble: 4 × 3\n\n| name &lt;chr&gt; | plays &lt;chr&gt; | band &lt;chr&gt; |\n|---|---|---|\n| John  | guitar | Beatles |\n| Paul  | bass   | Beatles |\n| Keith | guitar | NA      |\n| Mick  | NA     | Stones  |\n\n",
            "text/latex": "A tibble: 4 × 3\n\\begin{tabular}{lll}\n name & plays & band\\\\\n <chr> & <chr> & <chr>\\\\\n\\hline\n\t John  & guitar & Beatles\\\\\n\t Paul  & bass   & Beatles\\\\\n\t Keith & guitar & NA     \\\\\n\t Mick  & NA     & Stones \\\\\n\\end{tabular}\n",
            "text/plain": [
              "  name  plays  band   \n",
              "1 John  guitar Beatles\n",
              "2 Paul  bass   Beatles\n",
              "3 Keith guitar NA     \n",
              "4 Mick  NA     Stones "
            ]
          },
          "metadata": {}
        }
      ],
      "source": [
        "full_join(band_instruments, band_members, by = \"name\")"
      ]
    },
    {
      "cell_type": "markdown",
      "id": "7e5ecbae",
      "metadata": {
        "id": "7e5ecbae"
      },
      "source": [
        "#### `cross_join()`: Cartesian join of both tables\n",
        "\n",
        "The `cross_join()` function is a cartesian join that matches every row in one table with every row in another table WITHOUT consideration for any matching columns. As a result, we end up with a table with number of rows equaling the product of number of rows of the two tables."
      ]
    },
    {
      "cell_type": "code",
      "execution_count": null,
      "id": "a3195c86",
      "metadata": {
        "name": "cross-join",
        "colab": {
          "base_uri": "https://localhost:8080/",
          "height": 380
        },
        "id": "a3195c86",
        "outputId": "88ccfdf8-a678-4398-8990-06d7ca891f95"
      },
      "outputs": [
        {
          "output_type": "display_data",
          "data": {
            "text/html": [
              "<table class=\"dataframe\">\n",
              "<caption>A tibble: 9 × 4</caption>\n",
              "<thead>\n",
              "\t<tr><th scope=col>name.x</th><th scope=col>plays</th><th scope=col>name.y</th><th scope=col>band</th></tr>\n",
              "\t<tr><th scope=col>&lt;chr&gt;</th><th scope=col>&lt;chr&gt;</th><th scope=col>&lt;chr&gt;</th><th scope=col>&lt;chr&gt;</th></tr>\n",
              "</thead>\n",
              "<tbody>\n",
              "\t<tr><td>John </td><td>guitar</td><td>Mick</td><td>Stones </td></tr>\n",
              "\t<tr><td>John </td><td>guitar</td><td>John</td><td>Beatles</td></tr>\n",
              "\t<tr><td>John </td><td>guitar</td><td>Paul</td><td>Beatles</td></tr>\n",
              "\t<tr><td>Paul </td><td>bass  </td><td>Mick</td><td>Stones </td></tr>\n",
              "\t<tr><td>Paul </td><td>bass  </td><td>John</td><td>Beatles</td></tr>\n",
              "\t<tr><td>Paul </td><td>bass  </td><td>Paul</td><td>Beatles</td></tr>\n",
              "\t<tr><td>Keith</td><td>guitar</td><td>Mick</td><td>Stones </td></tr>\n",
              "\t<tr><td>Keith</td><td>guitar</td><td>John</td><td>Beatles</td></tr>\n",
              "\t<tr><td>Keith</td><td>guitar</td><td>Paul</td><td>Beatles</td></tr>\n",
              "</tbody>\n",
              "</table>\n"
            ],
            "text/markdown": "\nA tibble: 9 × 4\n\n| name.x &lt;chr&gt; | plays &lt;chr&gt; | name.y &lt;chr&gt; | band &lt;chr&gt; |\n|---|---|---|---|\n| John  | guitar | Mick | Stones  |\n| John  | guitar | John | Beatles |\n| John  | guitar | Paul | Beatles |\n| Paul  | bass   | Mick | Stones  |\n| Paul  | bass   | John | Beatles |\n| Paul  | bass   | Paul | Beatles |\n| Keith | guitar | Mick | Stones  |\n| Keith | guitar | John | Beatles |\n| Keith | guitar | Paul | Beatles |\n\n",
            "text/latex": "A tibble: 9 × 4\n\\begin{tabular}{llll}\n name.x & plays & name.y & band\\\\\n <chr> & <chr> & <chr> & <chr>\\\\\n\\hline\n\t John  & guitar & Mick & Stones \\\\\n\t John  & guitar & John & Beatles\\\\\n\t John  & guitar & Paul & Beatles\\\\\n\t Paul  & bass   & Mick & Stones \\\\\n\t Paul  & bass   & John & Beatles\\\\\n\t Paul  & bass   & Paul & Beatles\\\\\n\t Keith & guitar & Mick & Stones \\\\\n\t Keith & guitar & John & Beatles\\\\\n\t Keith & guitar & Paul & Beatles\\\\\n\\end{tabular}\n",
            "text/plain": [
              "  name.x plays  name.y band   \n",
              "1 John   guitar Mick   Stones \n",
              "2 John   guitar John   Beatles\n",
              "3 John   guitar Paul   Beatles\n",
              "4 Paul   bass   Mick   Stones \n",
              "5 Paul   bass   John   Beatles\n",
              "6 Paul   bass   Paul   Beatles\n",
              "7 Keith  guitar Mick   Stones \n",
              "8 Keith  guitar John   Beatles\n",
              "9 Keith  guitar Paul   Beatles"
            ]
          },
          "metadata": {}
        }
      ],
      "source": [
        "cross_join(band_instruments, band_members)"
      ]
    },
    {
      "cell_type": "markdown",
      "id": "993f6354",
      "metadata": {
        "id": "993f6354"
      },
      "source": [
        "#### `semi_join()`: Keep columns with matching rows in the right table\n",
        "\n",
        "The `semi_join()` function returns all rows from the left table with a match in the right table. It is very similar to the `inner_join()`, but differs in that it ONLY returns the columns in the left table."
      ]
    },
    {
      "cell_type": "code",
      "execution_count": null,
      "id": "b6029c68",
      "metadata": {
        "name": "semi-join",
        "colab": {
          "base_uri": "https://localhost:8080/",
          "height": 305
        },
        "id": "b6029c68",
        "outputId": "ebdbed5d-afe2-4a4b-8988-d3f738408221"
      },
      "outputs": [
        {
          "output_type": "display_data",
          "data": {
            "text/html": [
              "<table class=\"dataframe\">\n",
              "<caption>A tibble: 2 × 2</caption>\n",
              "<thead>\n",
              "\t<tr><th scope=col>name</th><th scope=col>plays</th></tr>\n",
              "\t<tr><th scope=col>&lt;chr&gt;</th><th scope=col>&lt;chr&gt;</th></tr>\n",
              "</thead>\n",
              "<tbody>\n",
              "\t<tr><td>John</td><td>guitar</td></tr>\n",
              "\t<tr><td>Paul</td><td>bass  </td></tr>\n",
              "</tbody>\n",
              "</table>\n"
            ],
            "text/markdown": "\nA tibble: 2 × 2\n\n| name &lt;chr&gt; | plays &lt;chr&gt; |\n|---|---|\n| John | guitar |\n| Paul | bass   |\n\n",
            "text/latex": "A tibble: 2 × 2\n\\begin{tabular}{ll}\n name & plays\\\\\n <chr> & <chr>\\\\\n\\hline\n\t John & guitar\\\\\n\t Paul & bass  \\\\\n\\end{tabular}\n",
            "text/plain": [
              "  name plays \n",
              "1 John guitar\n",
              "2 Paul bass  "
            ]
          },
          "metadata": {}
        },
        {
          "output_type": "display_data",
          "data": {
            "text/html": [
              "<table class=\"dataframe\">\n",
              "<caption>A tibble: 2 × 3</caption>\n",
              "<thead>\n",
              "\t<tr><th scope=col>name</th><th scope=col>plays</th><th scope=col>band</th></tr>\n",
              "\t<tr><th scope=col>&lt;chr&gt;</th><th scope=col>&lt;chr&gt;</th><th scope=col>&lt;chr&gt;</th></tr>\n",
              "</thead>\n",
              "<tbody>\n",
              "\t<tr><td>John</td><td>guitar</td><td>Beatles</td></tr>\n",
              "\t<tr><td>Paul</td><td>bass  </td><td>Beatles</td></tr>\n",
              "</tbody>\n",
              "</table>\n"
            ],
            "text/markdown": "\nA tibble: 2 × 3\n\n| name &lt;chr&gt; | plays &lt;chr&gt; | band &lt;chr&gt; |\n|---|---|---|\n| John | guitar | Beatles |\n| Paul | bass   | Beatles |\n\n",
            "text/latex": "A tibble: 2 × 3\n\\begin{tabular}{lll}\n name & plays & band\\\\\n <chr> & <chr> & <chr>\\\\\n\\hline\n\t John & guitar & Beatles\\\\\n\t Paul & bass   & Beatles\\\\\n\\end{tabular}\n",
            "text/plain": [
              "  name plays  band   \n",
              "1 John guitar Beatles\n",
              "2 Paul bass   Beatles"
            ]
          },
          "metadata": {}
        }
      ],
      "source": [
        "semi_join(band_instruments, band_members, by = \"name\")\n",
        "inner_join(band_instruments, band_members, by = \"name\")"
      ]
    },
    {
      "cell_type": "markdown",
      "id": "d5767ffd",
      "metadata": {
        "id": "d5767ffd"
      },
      "source": [
        "#### `anti_join()`: Keep columns with non-matching rows in the right table\n",
        "\n",
        "The `anti_join()` function returns all rows from the left table that DONT have a match in the right table. You can think of it as the opposite of `semi_join()`.\n"
      ]
    },
    {
      "cell_type": "code",
      "execution_count": null,
      "id": "eb63e3e1",
      "metadata": {
        "lines_to_next_cell": 0,
        "name": "anti-join",
        "colab": {
          "base_uri": "https://localhost:8080/",
          "height": 129
        },
        "id": "eb63e3e1",
        "outputId": "45fab8ff-aa77-4cd1-c757-8b7c32ecd62e"
      },
      "outputs": [
        {
          "output_type": "display_data",
          "data": {
            "text/html": [
              "<table class=\"dataframe\">\n",
              "<caption>A tibble: 1 × 2</caption>\n",
              "<thead>\n",
              "\t<tr><th scope=col>name</th><th scope=col>plays</th></tr>\n",
              "\t<tr><th scope=col>&lt;chr&gt;</th><th scope=col>&lt;chr&gt;</th></tr>\n",
              "</thead>\n",
              "<tbody>\n",
              "\t<tr><td>Keith</td><td>guitar</td></tr>\n",
              "</tbody>\n",
              "</table>\n"
            ],
            "text/markdown": "\nA tibble: 1 × 2\n\n| name &lt;chr&gt; | plays &lt;chr&gt; |\n|---|---|\n| Keith | guitar |\n\n",
            "text/latex": "A tibble: 1 × 2\n\\begin{tabular}{ll}\n name & plays\\\\\n <chr> & <chr>\\\\\n\\hline\n\t Keith & guitar\\\\\n\\end{tabular}\n",
            "text/plain": [
              "  name  plays \n",
              "1 Keith guitar"
            ]
          },
          "metadata": {}
        }
      ],
      "source": [
        "anti_join(band_instruments, band_members, by = \"name\")"
      ]
    },
    {
      "cell_type": "markdown",
      "id": "f03854c4",
      "metadata": {
        "id": "f03854c4"
      },
      "source": [
        "### Bind\n",
        "\n",
        "While the `join` functions combine two tables by matching rows, the `bind` functions combine them by stacking them along rows or columns."
      ]
    },
    {
      "cell_type": "markdown",
      "id": "2083ae4e",
      "metadata": {
        "id": "2083ae4e"
      },
      "source": [
        "#### `bind_rows()`: Bind multiple data frames by row"
      ]
    },
    {
      "cell_type": "code",
      "execution_count": null,
      "id": "54c4b89e",
      "metadata": {
        "lines_to_next_cell": 2,
        "name": "bind-rows",
        "colab": {
          "base_uri": "https://localhost:8080/",
          "height": 224
        },
        "id": "54c4b89e",
        "outputId": "39b86f37-9336-4634-c2f6-7a06648ba240"
      },
      "outputs": [
        {
          "output_type": "display_data",
          "data": {
            "text/html": [
              "<table class=\"dataframe\">\n",
              "<caption>A tibble: 4 × 3</caption>\n",
              "<thead>\n",
              "\t<tr><th scope=col>x</th><th scope=col>y</th><th scope=col>z</th></tr>\n",
              "\t<tr><th scope=col>&lt;int&gt;</th><th scope=col>&lt;chr&gt;</th><th scope=col>&lt;int&gt;</th></tr>\n",
              "</thead>\n",
              "<tbody>\n",
              "\t<tr><td>1</td><td>a </td><td>NA</td></tr>\n",
              "\t<tr><td>2</td><td>b </td><td>NA</td></tr>\n",
              "\t<tr><td>4</td><td>NA</td><td> 1</td></tr>\n",
              "\t<tr><td>5</td><td>NA</td><td> 2</td></tr>\n",
              "</tbody>\n",
              "</table>\n"
            ],
            "text/markdown": "\nA tibble: 4 × 3\n\n| x &lt;int&gt; | y &lt;chr&gt; | z &lt;int&gt; |\n|---|---|---|\n| 1 | a  | NA |\n| 2 | b  | NA |\n| 4 | NA |  1 |\n| 5 | NA |  2 |\n\n",
            "text/latex": "A tibble: 4 × 3\n\\begin{tabular}{lll}\n x & y & z\\\\\n <int> & <chr> & <int>\\\\\n\\hline\n\t 1 & a  & NA\\\\\n\t 2 & b  & NA\\\\\n\t 4 & NA &  1\\\\\n\t 5 & NA &  2\\\\\n\\end{tabular}\n",
            "text/plain": [
              "  x y  z \n",
              "1 1 a  NA\n",
              "2 2 b  NA\n",
              "3 4 NA  1\n",
              "4 5 NA  2"
            ]
          },
          "metadata": {}
        }
      ],
      "source": [
        "df1 <- tibble(x = 1:2, y = letters[1:2])\n",
        "df2 <- tibble(x = 4:5, z = 1:2)\n",
        "bind_rows(df1, df2)"
      ]
    },
    {
      "cell_type": "markdown",
      "id": "cf56c88b",
      "metadata": {
        "id": "cf56c88b"
      },
      "source": [
        "#### `bind_cols()`: Bind multiple data frames by column"
      ]
    },
    {
      "cell_type": "code",
      "execution_count": null,
      "id": "b8579d38",
      "metadata": {
        "lines_to_next_cell": 0,
        "name": "bind-cols",
        "colab": {
          "base_uri": "https://localhost:8080/",
          "height": 192
        },
        "id": "b8579d38",
        "outputId": "89275e88-b3ae-4159-9c20-d4305b0e5e79"
      },
      "outputs": [
        {
          "output_type": "display_data",
          "data": {
            "text/html": [
              "<table class=\"dataframe\">\n",
              "<caption>A tibble: 3 × 2</caption>\n",
              "<thead>\n",
              "\t<tr><th scope=col>x</th><th scope=col>y</th></tr>\n",
              "\t<tr><th scope=col>&lt;int&gt;</th><th scope=col>&lt;int&gt;</th></tr>\n",
              "</thead>\n",
              "<tbody>\n",
              "\t<tr><td>1</td><td>3</td></tr>\n",
              "\t<tr><td>2</td><td>2</td></tr>\n",
              "\t<tr><td>3</td><td>1</td></tr>\n",
              "</tbody>\n",
              "</table>\n"
            ],
            "text/markdown": "\nA tibble: 3 × 2\n\n| x &lt;int&gt; | y &lt;int&gt; |\n|---|---|\n| 1 | 3 |\n| 2 | 2 |\n| 3 | 1 |\n\n",
            "text/latex": "A tibble: 3 × 2\n\\begin{tabular}{ll}\n x & y\\\\\n <int> & <int>\\\\\n\\hline\n\t 1 & 3\\\\\n\t 2 & 2\\\\\n\t 3 & 1\\\\\n\\end{tabular}\n",
            "text/plain": [
              "  x y\n",
              "1 1 3\n",
              "2 2 2\n",
              "3 3 1"
            ]
          },
          "metadata": {}
        }
      ],
      "source": [
        "df1 <- tibble(x = 1:3)\n",
        "df2 <- tibble(y = 3:1)\n",
        "bind_cols(df1, df2)"
      ]
    }
  ],
  "metadata": {
    "jupytext": {
      "cell_metadata_filter": "name,message,tags,out.width,-all",
      "split_at_heading": true
    },
    "kernelspec": {
      "display_name": "R",
      "language": "R",
      "name": "ir"
    },
    "colab": {
      "provenance": []
    }
  },
  "nbformat": 4,
  "nbformat_minor": 5
}