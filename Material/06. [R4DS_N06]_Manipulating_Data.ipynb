{
  "cells": [
    {
      "cell_type": "markdown",
      "id": "d9640fa6",
      "metadata": {
        "id": "d9640fa6"
      },
      "source": [
        "<a href=https://uplimit.com/course/r-for-data-science>\n",
        "  <img src=https://imgur.com/6Vkc11w.png />\n",
        "</a>\n",
        "\n",
        "|        |                                   |                                   |                                 |                                |\n",
        "| -------| ----------------------------------| -------------------------------- -| --------------------------------| ------------------------------------------|\n",
        "| Week 1 | [[01] Doing Data Science](https://colab.research.google.com/drive/1aWpmzS36qVc8hNIaSSSHexlodwwyMJCB)           | [[02] Data Science in Action](https://colab.research.google.com/drive/1aWpmzS36qVc8hNIaSSSHexlodwwyMJCB)       | [[03] Importing Data](https://colab.research.google.com/drive/13kHBX3H1F2yx5yXWJ5iFZh48qjEtpLjU)             | [[04] Visualizing Data: Overview](https://colab.research.google.com/drive/1JSeDt-Gneegd5B2KwWTJF_igYPb-xsIv)          |\n",
        "|        | [[05] Transforming Data: Overview](https://colab.research.google.com/drive/1IMZJFE8WmwjgdYCddvaO386PljKq_PjC)  | [[06] Transforming Data: Manipulate](https://colab.research.google.com/drive/19ClnAH7d30I9PkD9KuZndPmy5hxk3gdi) |                                 |                                           |\n",
        "| Week 2 | [[07] Transforming Data: Aggregate](https://colab.research.google.com/drive/1zigvePewKpzKQHx2pjABXU6Ms8QzQXj7) | [[08] Transforming Data: Reshape](https://colab.research.google.com/drive/1Ma9VrM9SrkNEeXTSul0Ca8a7GHAeNLzC)   | [[09] Transforming Data: Combine](https://colab.research.google.com/drive/1JUGm1h4YPmCkre-rVUj5Ql7lBS66_xIs) | [[10] Visualizing Data: Grammar of Graphics](https://colab.research.google.com/drive/1YLE3NPp-TO2KUTohtidjzKMeqJVWxYoT) |\n",
        "|        | [[11] Data Science in Action Again](https://colab.research.google.com/drive/1eWjVK4oEiXdwdP4sT0nOJlmkCMBkfLpz) |                                   |                                 |                                           |\n",
        "Books | [Hands on Programming with R](https://rstudio-education.github.io/hopr/index.html) | [R for Data Science](https://r4ds.hadley.nz/) | [Elegant Graphics for Data Analysis](https://ggplot2-book.org/)\n",
        "\n"
      ]
    },
    {
      "cell_type": "markdown",
      "id": "2840900d",
      "metadata": {
        "id": "2840900d"
      },
      "source": [
        "> 📕 __BEFORE YOU GET STARTED:__\n",
        "> 1. Click on **Copy to Drive** to copy notebook to your drive.\n",
        "> 2. Click on **Share** on the top-right corner (of your copied notebook).\n",
        "> 3. Update sharing settings to **Anyone with link**\n",
        "> 4. Delete this cell.\n"
      ]
    },
    {
      "cell_type": "markdown",
      "id": "fb34bec3",
      "metadata": {
        "id": "fb34bec3"
      },
      "source": [
        "## Manipulating Data\n",
        "\n",
        "Recall how data manipulation operations work on rows and columns of a table, while leaving its shape largely intact. It is useful to group these operations based on whether they manipulate rows or columns.\n",
        "\n",
        "<img src=\"https://imgur.com/xd7PCyy.png\" />"
      ]
    },
    {
      "cell_type": "code",
      "execution_count": null,
      "id": "e95acf0c",
      "metadata": {
        "message": false,
        "name": "setup",
        "colab": {
          "base_uri": "https://localhost:8080/"
        },
        "id": "e95acf0c",
        "outputId": "28814d67-7c40-4589-ac85-6ba7a9e621b9"
      },
      "outputs": [
        {
          "output_type": "stream",
          "name": "stderr",
          "text": [
            "Installing package into ‘/usr/local/lib/R/site-library’\n",
            "(as ‘lib’ is unspecified)\n",
            "\n",
            "Inspecting installed packages...\n",
            "\n",
            "Tracing function \"install.packages\" in package \"utils\"\n",
            "\n",
            "Tracing function \"update.packages\" in package \"utils\"\n",
            "\n",
            "Installing packages into ‘/usr/local/lib/R/site-library’\n",
            "(as ‘lib’ is unspecified)\n",
            "\n",
            "Inspecting installed packages...\n",
            "\n"
          ]
        }
      ],
      "source": [
        "# Load packages and common utilities\n",
        "library(tidyverse)\n",
        "url = \"https://gist.githubusercontent.com/ramnathv/e71d3ffe88961fc4ef95642053012384/raw/9dda53562d06009912841ab3538d4aeb90e5ee09/_common.R\"\n",
        "download.file(url, basename(url))\n",
        "source(\"_common.R\")\n",
        "knitr::opts_chunk$set(collapse = FALSE)"
      ]
    },
    {
      "cell_type": "markdown",
      "id": "e56328a5",
      "metadata": {
        "id": "e56328a5"
      },
      "source": [
        "We will use a handy dataset named `starwars` that ships with the `dplyr` package, to illustrate the basic idea behind these data manipulation operations."
      ]
    },
    {
      "cell_type": "code",
      "execution_count": null,
      "id": "6e568e9f",
      "metadata": {
        "lines_to_next_cell": 2,
        "colab": {
          "base_uri": "https://localhost:8080/",
          "height": 512
        },
        "id": "6e568e9f",
        "outputId": "79f034e0-5ae6-40bb-9f7d-ffb72ebaf165"
      },
      "outputs": [
        {
          "output_type": "display_data",
          "data": {
            "text/html": [
              "<table class=\"dataframe\">\n",
              "<caption>A tibble: 6 × 14</caption>\n",
              "<thead>\n",
              "\t<tr><th scope=col>name</th><th scope=col>height</th><th scope=col>mass</th><th scope=col>hair_color</th><th scope=col>skin_color</th><th scope=col>eye_color</th><th scope=col>birth_year</th><th scope=col>sex</th><th scope=col>gender</th><th scope=col>homeworld</th><th scope=col>species</th><th scope=col>films</th><th scope=col>vehicles</th><th scope=col>starships</th></tr>\n",
              "\t<tr><th scope=col>&lt;chr&gt;</th><th scope=col>&lt;int&gt;</th><th scope=col>&lt;dbl&gt;</th><th scope=col>&lt;chr&gt;</th><th scope=col>&lt;chr&gt;</th><th scope=col>&lt;chr&gt;</th><th scope=col>&lt;dbl&gt;</th><th scope=col>&lt;chr&gt;</th><th scope=col>&lt;chr&gt;</th><th scope=col>&lt;chr&gt;</th><th scope=col>&lt;chr&gt;</th><th scope=col>&lt;list&gt;</th><th scope=col>&lt;list&gt;</th><th scope=col>&lt;list&gt;</th></tr>\n",
              "</thead>\n",
              "<tbody>\n",
              "\t<tr><td>Luke Skywalker</td><td>172</td><td> 77</td><td>blond      </td><td>fair       </td><td>blue  </td><td> 19.0</td><td>male  </td><td>masculine</td><td>Tatooine</td><td>Human</td><td>The Empire Strikes Back, Revenge of the Sith    , Return of the Jedi     , A New Hope             , The Force Awakens      </td><td>Snowspeeder          , Imperial Speeder Bike</td><td>X-wing          , Imperial shuttle</td></tr>\n",
              "\t<tr><td>C-3PO         </td><td>167</td><td> 75</td><td>NA         </td><td>gold       </td><td>yellow</td><td>112.0</td><td>none  </td><td>masculine</td><td>Tatooine</td><td>Droid</td><td>The Empire Strikes Back, Attack of the Clones   , The Phantom Menace     , Revenge of the Sith    , Return of the Jedi     , A New Hope             </td><td></td><td></td></tr>\n",
              "\t<tr><td>R2-D2         </td><td> 96</td><td> 32</td><td>NA         </td><td>white, blue</td><td>red   </td><td> 33.0</td><td>none  </td><td>masculine</td><td>Naboo   </td><td>Droid</td><td>The Empire Strikes Back, Attack of the Clones   , The Phantom Menace     , Revenge of the Sith    , Return of the Jedi     , A New Hope             , The Force Awakens      </td><td></td><td></td></tr>\n",
              "\t<tr><td>Darth Vader   </td><td>202</td><td>136</td><td>none       </td><td>white      </td><td>yellow</td><td> 41.9</td><td>male  </td><td>masculine</td><td>Tatooine</td><td>Human</td><td>The Empire Strikes Back, Revenge of the Sith    , Return of the Jedi     , A New Hope             </td><td></td><td>TIE Advanced x1</td></tr>\n",
              "\t<tr><td>Leia Organa   </td><td>150</td><td> 49</td><td>brown      </td><td>light      </td><td>brown </td><td> 19.0</td><td>female</td><td>feminine </td><td>Alderaan</td><td>Human</td><td>The Empire Strikes Back, Revenge of the Sith    , Return of the Jedi     , A New Hope             , The Force Awakens      </td><td>Imperial Speeder Bike</td><td></td></tr>\n",
              "\t<tr><td>Owen Lars     </td><td>178</td><td>120</td><td>brown, grey</td><td>light      </td><td>blue  </td><td> 52.0</td><td>male  </td><td>masculine</td><td>Tatooine</td><td>Human</td><td>Attack of the Clones, Revenge of the Sith , A New Hope          </td><td></td><td></td></tr>\n",
              "</tbody>\n",
              "</table>\n"
            ],
            "text/markdown": "\nA tibble: 6 × 14\n\n| name &lt;chr&gt; | height &lt;int&gt; | mass &lt;dbl&gt; | hair_color &lt;chr&gt; | skin_color &lt;chr&gt; | eye_color &lt;chr&gt; | birth_year &lt;dbl&gt; | sex &lt;chr&gt; | gender &lt;chr&gt; | homeworld &lt;chr&gt; | species &lt;chr&gt; | films &lt;list&gt; | vehicles &lt;list&gt; | starships &lt;list&gt; |\n|---|---|---|---|---|---|---|---|---|---|---|---|---|---|\n| Luke Skywalker | 172 |  77 | blond       | fair        | blue   |  19.0 | male   | masculine | Tatooine | Human | The Empire Strikes Back, Revenge of the Sith    , Return of the Jedi     , A New Hope             , The Force Awakens       | Snowspeeder          , Imperial Speeder Bike | X-wing          , Imperial shuttle |\n| C-3PO          | 167 |  75 | NA          | gold        | yellow | 112.0 | none   | masculine | Tatooine | Droid | The Empire Strikes Back, Attack of the Clones   , The Phantom Menace     , Revenge of the Sith    , Return of the Jedi     , A New Hope              | <!----> | <!----> |\n| R2-D2          |  96 |  32 | NA          | white, blue | red    |  33.0 | none   | masculine | Naboo    | Droid | The Empire Strikes Back, Attack of the Clones   , The Phantom Menace     , Revenge of the Sith    , Return of the Jedi     , A New Hope             , The Force Awakens       | <!----> | <!----> |\n| Darth Vader    | 202 | 136 | none        | white       | yellow |  41.9 | male   | masculine | Tatooine | Human | The Empire Strikes Back, Revenge of the Sith    , Return of the Jedi     , A New Hope              | <!----> | TIE Advanced x1 |\n| Leia Organa    | 150 |  49 | brown       | light       | brown  |  19.0 | female | feminine  | Alderaan | Human | The Empire Strikes Back, Revenge of the Sith    , Return of the Jedi     , A New Hope             , The Force Awakens       | Imperial Speeder Bike | <!----> |\n| Owen Lars      | 178 | 120 | brown, grey | light       | blue   |  52.0 | male   | masculine | Tatooine | Human | Attack of the Clones, Revenge of the Sith , A New Hope           | <!----> | <!----> |\n\n",
            "text/latex": "A tibble: 6 × 14\n\\begin{tabular}{llllllllllllll}\n name & height & mass & hair\\_color & skin\\_color & eye\\_color & birth\\_year & sex & gender & homeworld & species & films & vehicles & starships\\\\\n <chr> & <int> & <dbl> & <chr> & <chr> & <chr> & <dbl> & <chr> & <chr> & <chr> & <chr> & <list> & <list> & <list>\\\\\n\\hline\n\t Luke Skywalker & 172 &  77 & blond       & fair        & blue   &  19.0 & male   & masculine & Tatooine & Human & The Empire Strikes Back, Revenge of the Sith    , Return of the Jedi     , A New Hope             , The Force Awakens       & Snowspeeder          , Imperial Speeder Bike & X-wing          , Imperial shuttle\\\\\n\t C-3PO          & 167 &  75 & NA          & gold        & yellow & 112.0 & none   & masculine & Tatooine & Droid & The Empire Strikes Back, Attack of the Clones   , The Phantom Menace     , Revenge of the Sith    , Return of the Jedi     , A New Hope              &  & \\\\\n\t R2-D2          &  96 &  32 & NA          & white, blue & red    &  33.0 & none   & masculine & Naboo    & Droid & The Empire Strikes Back, Attack of the Clones   , The Phantom Menace     , Revenge of the Sith    , Return of the Jedi     , A New Hope             , The Force Awakens       &  & \\\\\n\t Darth Vader    & 202 & 136 & none        & white       & yellow &  41.9 & male   & masculine & Tatooine & Human & The Empire Strikes Back, Revenge of the Sith    , Return of the Jedi     , A New Hope              &  & TIE Advanced x1\\\\\n\t Leia Organa    & 150 &  49 & brown       & light       & brown  &  19.0 & female & feminine  & Alderaan & Human & The Empire Strikes Back, Revenge of the Sith    , Return of the Jedi     , A New Hope             , The Force Awakens       & Imperial Speeder Bike & \\\\\n\t Owen Lars      & 178 & 120 & brown, grey & light       & blue   &  52.0 & male   & masculine & Tatooine & Human & Attack of the Clones, Revenge of the Sith , A New Hope           &  & \\\\\n\\end{tabular}\n",
            "text/plain": [
              "  name           height mass hair_color  skin_color  eye_color birth_year\n",
              "1 Luke Skywalker 172     77  blond       fair        blue       19.0     \n",
              "2 C-3PO          167     75  NA          gold        yellow    112.0     \n",
              "3 R2-D2           96     32  NA          white, blue red        33.0     \n",
              "4 Darth Vader    202    136  none        white       yellow     41.9     \n",
              "5 Leia Organa    150     49  brown       light       brown      19.0     \n",
              "6 Owen Lars      178    120  brown, grey light       blue       52.0     \n",
              "  sex    gender    homeworld species\n",
              "1 male   masculine Tatooine  Human  \n",
              "2 none   masculine Tatooine  Droid  \n",
              "3 none   masculine Naboo     Droid  \n",
              "4 male   masculine Tatooine  Human  \n",
              "5 female feminine  Alderaan  Human  \n",
              "6 male   masculine Tatooine  Human  \n",
              "  films                                                                                                                                                                        \n",
              "1 The Empire Strikes Back, Revenge of the Sith    , Return of the Jedi     , A New Hope             , The Force Awakens                                                        \n",
              "2 The Empire Strikes Back, Attack of the Clones   , The Phantom Menace     , Revenge of the Sith    , Return of the Jedi     , A New Hope                                      \n",
              "3 The Empire Strikes Back, Attack of the Clones   , The Phantom Menace     , Revenge of the Sith    , Return of the Jedi     , A New Hope             , The Force Awakens      \n",
              "4 The Empire Strikes Back, Revenge of the Sith    , Return of the Jedi     , A New Hope                                                                                        \n",
              "5 The Empire Strikes Back, Revenge of the Sith    , Return of the Jedi     , A New Hope             , The Force Awakens                                                        \n",
              "6 Attack of the Clones, Revenge of the Sith , A New Hope                                                                                                                       \n",
              "  vehicles                                    \n",
              "1 Snowspeeder          , Imperial Speeder Bike\n",
              "2                                             \n",
              "3                                             \n",
              "4                                             \n",
              "5 Imperial Speeder Bike                       \n",
              "6                                             \n",
              "  starships                         \n",
              "1 X-wing          , Imperial shuttle\n",
              "2                                   \n",
              "3                                   \n",
              "4 TIE Advanced x1                   \n",
              "5                                   \n",
              "6                                   "
            ]
          },
          "metadata": {}
        }
      ],
      "source": [
        "head(starwars)"
      ]
    },
    {
      "cell_type": "markdown",
      "id": "a0f1ae29",
      "metadata": {
        "id": "a0f1ae29"
      },
      "source": [
        "While the data is largely self explanatory, as always, you can type `? starwars` to get more details on the data."
      ]
    },
    {
      "cell_type": "markdown",
      "id": "893cad51",
      "metadata": {
        "id": "893cad51"
      },
      "source": [
        "### Manipulating Rows\n",
        "\n",
        "These functions operate on the rows of a table and allow us to subset a table."
      ]
    },
    {
      "cell_type": "markdown",
      "id": "8c78ee7f",
      "metadata": {
        "id": "8c78ee7f"
      },
      "source": [
        "#### `filter`: Keep rows that match a condition\n",
        "\n",
        "The `filter()` functions allows you to subset rows of a table based on a set of one or more matching conditions. You can combine one or more criteria to keep only the rows that you want to keep.\n",
        "\n",
        "Run these examples one at a time to understand what they accomplish. In order to get the most out of it, have a hypothesis in place before you run the line of code, so you can corroborate your understanding with the results. Finally, don't limit yourself to these examples. Come up with your own criteria and explore."
      ]
    },
    {
      "cell_type": "code",
      "execution_count": null,
      "id": "a29bc86a",
      "metadata": {
        "colab": {
          "base_uri": "https://localhost:8080/",
          "height": 460
        },
        "id": "a29bc86a",
        "outputId": "bcffdfde-7ee0-4657-a3c9-fe45ecda7ac8"
      },
      "outputs": [
        {
          "output_type": "display_data",
          "data": {
            "text/html": [
              "<table class=\"dataframe\">\n",
              "<caption>A tibble: 6 × 14</caption>\n",
              "<thead>\n",
              "\t<tr><th scope=col>name</th><th scope=col>height</th><th scope=col>mass</th><th scope=col>hair_color</th><th scope=col>skin_color</th><th scope=col>eye_color</th><th scope=col>birth_year</th><th scope=col>sex</th><th scope=col>gender</th><th scope=col>homeworld</th><th scope=col>species</th><th scope=col>films</th><th scope=col>vehicles</th><th scope=col>starships</th></tr>\n",
              "\t<tr><th scope=col>&lt;chr&gt;</th><th scope=col>&lt;int&gt;</th><th scope=col>&lt;dbl&gt;</th><th scope=col>&lt;chr&gt;</th><th scope=col>&lt;chr&gt;</th><th scope=col>&lt;chr&gt;</th><th scope=col>&lt;dbl&gt;</th><th scope=col>&lt;chr&gt;</th><th scope=col>&lt;chr&gt;</th><th scope=col>&lt;chr&gt;</th><th scope=col>&lt;chr&gt;</th><th scope=col>&lt;list&gt;</th><th scope=col>&lt;list&gt;</th><th scope=col>&lt;list&gt;</th></tr>\n",
              "</thead>\n",
              "<tbody>\n",
              "\t<tr><td>Luke Skywalker    </td><td>172</td><td> 77</td><td>blond      </td><td>fair </td><td>blue  </td><td>19.0</td><td>male  </td><td>masculine</td><td>Tatooine</td><td>Human</td><td>The Empire Strikes Back, Revenge of the Sith    , Return of the Jedi     , A New Hope             , The Force Awakens      </td><td>Snowspeeder          , Imperial Speeder Bike</td><td>X-wing          , Imperial shuttle</td></tr>\n",
              "\t<tr><td>Darth Vader       </td><td>202</td><td>136</td><td>none       </td><td>white</td><td>yellow</td><td>41.9</td><td>male  </td><td>masculine</td><td>Tatooine</td><td>Human</td><td>The Empire Strikes Back, Revenge of the Sith    , Return of the Jedi     , A New Hope             </td><td></td><td>TIE Advanced x1</td></tr>\n",
              "\t<tr><td>Leia Organa       </td><td>150</td><td> 49</td><td>brown      </td><td>light</td><td>brown </td><td>19.0</td><td>female</td><td>feminine </td><td>Alderaan</td><td>Human</td><td>The Empire Strikes Back, Revenge of the Sith    , Return of the Jedi     , A New Hope             , The Force Awakens      </td><td>Imperial Speeder Bike</td><td></td></tr>\n",
              "\t<tr><td>Owen Lars         </td><td>178</td><td>120</td><td>brown, grey</td><td>light</td><td>blue  </td><td>52.0</td><td>male  </td><td>masculine</td><td>Tatooine</td><td>Human</td><td>Attack of the Clones, Revenge of the Sith , A New Hope          </td><td></td><td></td></tr>\n",
              "\t<tr><td>Beru Whitesun lars</td><td>165</td><td> 75</td><td>brown      </td><td>light</td><td>blue  </td><td>47.0</td><td>female</td><td>feminine </td><td>Tatooine</td><td>Human</td><td>Attack of the Clones, Revenge of the Sith , A New Hope          </td><td></td><td></td></tr>\n",
              "\t<tr><td>Biggs Darklighter </td><td>183</td><td> 84</td><td>black      </td><td>light</td><td>brown </td><td>24.0</td><td>male  </td><td>masculine</td><td>Tatooine</td><td>Human</td><td>A New Hope</td><td></td><td>X-wing</td></tr>\n",
              "</tbody>\n",
              "</table>\n"
            ],
            "text/markdown": "\nA tibble: 6 × 14\n\n| name &lt;chr&gt; | height &lt;int&gt; | mass &lt;dbl&gt; | hair_color &lt;chr&gt; | skin_color &lt;chr&gt; | eye_color &lt;chr&gt; | birth_year &lt;dbl&gt; | sex &lt;chr&gt; | gender &lt;chr&gt; | homeworld &lt;chr&gt; | species &lt;chr&gt; | films &lt;list&gt; | vehicles &lt;list&gt; | starships &lt;list&gt; |\n|---|---|---|---|---|---|---|---|---|---|---|---|---|---|\n| Luke Skywalker     | 172 |  77 | blond       | fair  | blue   | 19.0 | male   | masculine | Tatooine | Human | The Empire Strikes Back, Revenge of the Sith    , Return of the Jedi     , A New Hope             , The Force Awakens       | Snowspeeder          , Imperial Speeder Bike | X-wing          , Imperial shuttle |\n| Darth Vader        | 202 | 136 | none        | white | yellow | 41.9 | male   | masculine | Tatooine | Human | The Empire Strikes Back, Revenge of the Sith    , Return of the Jedi     , A New Hope              | <!----> | TIE Advanced x1 |\n| Leia Organa        | 150 |  49 | brown       | light | brown  | 19.0 | female | feminine  | Alderaan | Human | The Empire Strikes Back, Revenge of the Sith    , Return of the Jedi     , A New Hope             , The Force Awakens       | Imperial Speeder Bike | <!----> |\n| Owen Lars          | 178 | 120 | brown, grey | light | blue   | 52.0 | male   | masculine | Tatooine | Human | Attack of the Clones, Revenge of the Sith , A New Hope           | <!----> | <!----> |\n| Beru Whitesun lars | 165 |  75 | brown       | light | blue   | 47.0 | female | feminine  | Tatooine | Human | Attack of the Clones, Revenge of the Sith , A New Hope           | <!----> | <!----> |\n| Biggs Darklighter  | 183 |  84 | black       | light | brown  | 24.0 | male   | masculine | Tatooine | Human | A New Hope | <!----> | X-wing |\n\n",
            "text/latex": "A tibble: 6 × 14\n\\begin{tabular}{llllllllllllll}\n name & height & mass & hair\\_color & skin\\_color & eye\\_color & birth\\_year & sex & gender & homeworld & species & films & vehicles & starships\\\\\n <chr> & <int> & <dbl> & <chr> & <chr> & <chr> & <dbl> & <chr> & <chr> & <chr> & <chr> & <list> & <list> & <list>\\\\\n\\hline\n\t Luke Skywalker     & 172 &  77 & blond       & fair  & blue   & 19.0 & male   & masculine & Tatooine & Human & The Empire Strikes Back, Revenge of the Sith    , Return of the Jedi     , A New Hope             , The Force Awakens       & Snowspeeder          , Imperial Speeder Bike & X-wing          , Imperial shuttle\\\\\n\t Darth Vader        & 202 & 136 & none        & white & yellow & 41.9 & male   & masculine & Tatooine & Human & The Empire Strikes Back, Revenge of the Sith    , Return of the Jedi     , A New Hope              &  & TIE Advanced x1\\\\\n\t Leia Organa        & 150 &  49 & brown       & light & brown  & 19.0 & female & feminine  & Alderaan & Human & The Empire Strikes Back, Revenge of the Sith    , Return of the Jedi     , A New Hope             , The Force Awakens       & Imperial Speeder Bike & \\\\\n\t Owen Lars          & 178 & 120 & brown, grey & light & blue   & 52.0 & male   & masculine & Tatooine & Human & Attack of the Clones, Revenge of the Sith , A New Hope           &  & \\\\\n\t Beru Whitesun lars & 165 &  75 & brown       & light & blue   & 47.0 & female & feminine  & Tatooine & Human & Attack of the Clones, Revenge of the Sith , A New Hope           &  & \\\\\n\t Biggs Darklighter  & 183 &  84 & black       & light & brown  & 24.0 & male   & masculine & Tatooine & Human & A New Hope &  & X-wing\\\\\n\\end{tabular}\n",
            "text/plain": [
              "  name               height mass hair_color  skin_color eye_color birth_year\n",
              "1 Luke Skywalker     172     77  blond       fair       blue      19.0      \n",
              "2 Darth Vader        202    136  none        white      yellow    41.9      \n",
              "3 Leia Organa        150     49  brown       light      brown     19.0      \n",
              "4 Owen Lars          178    120  brown, grey light      blue      52.0      \n",
              "5 Beru Whitesun lars 165     75  brown       light      blue      47.0      \n",
              "6 Biggs Darklighter  183     84  black       light      brown     24.0      \n",
              "  sex    gender    homeworld species\n",
              "1 male   masculine Tatooine  Human  \n",
              "2 male   masculine Tatooine  Human  \n",
              "3 female feminine  Alderaan  Human  \n",
              "4 male   masculine Tatooine  Human  \n",
              "5 female feminine  Tatooine  Human  \n",
              "6 male   masculine Tatooine  Human  \n",
              "  films                                                                                                                      \n",
              "1 The Empire Strikes Back, Revenge of the Sith    , Return of the Jedi     , A New Hope             , The Force Awakens      \n",
              "2 The Empire Strikes Back, Revenge of the Sith    , Return of the Jedi     , A New Hope                                      \n",
              "3 The Empire Strikes Back, Revenge of the Sith    , Return of the Jedi     , A New Hope             , The Force Awakens      \n",
              "4 Attack of the Clones, Revenge of the Sith , A New Hope                                                                     \n",
              "5 Attack of the Clones, Revenge of the Sith , A New Hope                                                                     \n",
              "6 A New Hope                                                                                                                 \n",
              "  vehicles                                    \n",
              "1 Snowspeeder          , Imperial Speeder Bike\n",
              "2                                             \n",
              "3 Imperial Speeder Bike                       \n",
              "4                                             \n",
              "5                                             \n",
              "6                                             \n",
              "  starships                         \n",
              "1 X-wing          , Imperial shuttle\n",
              "2 TIE Advanced x1                   \n",
              "3                                   \n",
              "4                                   \n",
              "5                                   \n",
              "6 X-wing                            "
            ]
          },
          "metadata": {}
        }
      ],
      "source": [
        "# One criterion, One expression\n",
        "starwars |>\n",
        "  filter(species == \"Human\") |>\n",
        "  head()"
      ]
    },
    {
      "cell_type": "code",
      "source": [
        "starwars |>\n",
        "  filter(mass > 1000) |>\n",
        "  head()"
      ],
      "metadata": {
        "colab": {
          "base_uri": "https://localhost:8080/",
          "height": 147
        },
        "id": "5Ccu3HZHgoh9",
        "outputId": "3b7503eb-a0c5-4d60-d27b-a7ac89bdf6ba"
      },
      "id": "5Ccu3HZHgoh9",
      "execution_count": null,
      "outputs": [
        {
          "output_type": "display_data",
          "data": {
            "text/html": [
              "<table class=\"dataframe\">\n",
              "<caption>A tibble: 1 × 14</caption>\n",
              "<thead>\n",
              "\t<tr><th scope=col>name</th><th scope=col>height</th><th scope=col>mass</th><th scope=col>hair_color</th><th scope=col>skin_color</th><th scope=col>eye_color</th><th scope=col>birth_year</th><th scope=col>sex</th><th scope=col>gender</th><th scope=col>homeworld</th><th scope=col>species</th><th scope=col>films</th><th scope=col>vehicles</th><th scope=col>starships</th></tr>\n",
              "\t<tr><th scope=col>&lt;chr&gt;</th><th scope=col>&lt;int&gt;</th><th scope=col>&lt;dbl&gt;</th><th scope=col>&lt;chr&gt;</th><th scope=col>&lt;chr&gt;</th><th scope=col>&lt;chr&gt;</th><th scope=col>&lt;dbl&gt;</th><th scope=col>&lt;chr&gt;</th><th scope=col>&lt;chr&gt;</th><th scope=col>&lt;chr&gt;</th><th scope=col>&lt;chr&gt;</th><th scope=col>&lt;list&gt;</th><th scope=col>&lt;list&gt;</th><th scope=col>&lt;list&gt;</th></tr>\n",
              "</thead>\n",
              "<tbody>\n",
              "\t<tr><td>Jabba Desilijic Tiure</td><td>175</td><td>1358</td><td>NA</td><td>green-tan, brown</td><td>orange</td><td>600</td><td>hermaphroditic</td><td>masculine</td><td>Nal Hutta</td><td>Hutt</td><td>The Phantom Menace, Return of the Jedi, A New Hope        </td><td></td><td></td></tr>\n",
              "</tbody>\n",
              "</table>\n"
            ],
            "text/markdown": "\nA tibble: 1 × 14\n\n| name &lt;chr&gt; | height &lt;int&gt; | mass &lt;dbl&gt; | hair_color &lt;chr&gt; | skin_color &lt;chr&gt; | eye_color &lt;chr&gt; | birth_year &lt;dbl&gt; | sex &lt;chr&gt; | gender &lt;chr&gt; | homeworld &lt;chr&gt; | species &lt;chr&gt; | films &lt;list&gt; | vehicles &lt;list&gt; | starships &lt;list&gt; |\n|---|---|---|---|---|---|---|---|---|---|---|---|---|---|\n| Jabba Desilijic Tiure | 175 | 1358 | NA | green-tan, brown | orange | 600 | hermaphroditic | masculine | Nal Hutta | Hutt | The Phantom Menace, Return of the Jedi, A New Hope         | <!----> | <!----> |\n\n",
            "text/latex": "A tibble: 1 × 14\n\\begin{tabular}{llllllllllllll}\n name & height & mass & hair\\_color & skin\\_color & eye\\_color & birth\\_year & sex & gender & homeworld & species & films & vehicles & starships\\\\\n <chr> & <int> & <dbl> & <chr> & <chr> & <chr> & <dbl> & <chr> & <chr> & <chr> & <chr> & <list> & <list> & <list>\\\\\n\\hline\n\t Jabba Desilijic Tiure & 175 & 1358 & NA & green-tan, brown & orange & 600 & hermaphroditic & masculine & Nal Hutta & Hutt & The Phantom Menace, Return of the Jedi, A New Hope         &  & \\\\\n\\end{tabular}\n",
            "text/plain": [
              "  name                  height mass hair_color skin_color       eye_color\n",
              "1 Jabba Desilijic Tiure 175    1358 NA         green-tan, brown orange   \n",
              "  birth_year sex            gender    homeworld species\n",
              "1 600        hermaphroditic masculine Nal Hutta Hutt   \n",
              "  films                                                      vehicles starships\n",
              "1 The Phantom Menace, Return of the Jedi, A New Hope                           "
            ]
          },
          "metadata": {}
        }
      ]
    },
    {
      "cell_type": "code",
      "source": [
        "# Multiple criterion, One expression\n",
        "starwars |>\n",
        "  filter(hair_color == \"none\" & eye_color == \"black\") |>\n",
        "  head()"
      ],
      "metadata": {
        "colab": {
          "base_uri": "https://localhost:8080/",
          "height": 338
        },
        "id": "3QwMDn2mfJj-",
        "outputId": "25e94039-6f12-4b70-cd54-d9759f702dd7"
      },
      "id": "3QwMDn2mfJj-",
      "execution_count": null,
      "outputs": [
        {
          "output_type": "display_data",
          "data": {
            "text/html": [
              "<table class=\"dataframe\">\n",
              "<caption>A tibble: 6 × 14</caption>\n",
              "<thead>\n",
              "\t<tr><th scope=col>name</th><th scope=col>height</th><th scope=col>mass</th><th scope=col>hair_color</th><th scope=col>skin_color</th><th scope=col>eye_color</th><th scope=col>birth_year</th><th scope=col>sex</th><th scope=col>gender</th><th scope=col>homeworld</th><th scope=col>species</th><th scope=col>films</th><th scope=col>vehicles</th><th scope=col>starships</th></tr>\n",
              "\t<tr><th scope=col>&lt;chr&gt;</th><th scope=col>&lt;int&gt;</th><th scope=col>&lt;dbl&gt;</th><th scope=col>&lt;chr&gt;</th><th scope=col>&lt;chr&gt;</th><th scope=col>&lt;chr&gt;</th><th scope=col>&lt;dbl&gt;</th><th scope=col>&lt;chr&gt;</th><th scope=col>&lt;chr&gt;</th><th scope=col>&lt;chr&gt;</th><th scope=col>&lt;chr&gt;</th><th scope=col>&lt;list&gt;</th><th scope=col>&lt;list&gt;</th><th scope=col>&lt;list&gt;</th></tr>\n",
              "</thead>\n",
              "<tbody>\n",
              "\t<tr><td>Nien Nunb</td><td>160</td><td>68</td><td>none</td><td>grey       </td><td>black</td><td>NA</td><td>male  </td><td>masculine</td><td>Sullust    </td><td>Sullustan</td><td>Return of the Jedi</td><td></td><td>Millennium Falcon</td></tr>\n",
              "\t<tr><td>Gasgano  </td><td>122</td><td>NA</td><td>none</td><td>white, blue</td><td>black</td><td>NA</td><td>male  </td><td>masculine</td><td>Troiken    </td><td>Xexto    </td><td>The Phantom Menace</td><td></td><td></td></tr>\n",
              "\t<tr><td>Kit Fisto</td><td>196</td><td>87</td><td>none</td><td>green      </td><td>black</td><td>NA</td><td>male  </td><td>masculine</td><td>Glee Anselm</td><td>Nautolan </td><td>Attack of the Clones, The Phantom Menace  , Revenge of the Sith </td><td></td><td></td></tr>\n",
              "\t<tr><td>Plo Koon </td><td>188</td><td>80</td><td>none</td><td>orange     </td><td>black</td><td>22</td><td>male  </td><td>masculine</td><td>Dorin      </td><td>Kel Dor  </td><td>Attack of the Clones, The Phantom Menace  , Revenge of the Sith </td><td></td><td>Jedi starfighter</td></tr>\n",
              "\t<tr><td>Lama Su  </td><td>229</td><td>88</td><td>none</td><td>grey       </td><td>black</td><td>NA</td><td>male  </td><td>masculine</td><td>Kamino     </td><td>Kaminoan </td><td>Attack of the Clones</td><td></td><td></td></tr>\n",
              "\t<tr><td>Taun We  </td><td>213</td><td>NA</td><td>none</td><td>grey       </td><td>black</td><td>NA</td><td>female</td><td>feminine </td><td>Kamino     </td><td>Kaminoan </td><td>Attack of the Clones</td><td></td><td></td></tr>\n",
              "</tbody>\n",
              "</table>\n"
            ],
            "text/markdown": "\nA tibble: 6 × 14\n\n| name &lt;chr&gt; | height &lt;int&gt; | mass &lt;dbl&gt; | hair_color &lt;chr&gt; | skin_color &lt;chr&gt; | eye_color &lt;chr&gt; | birth_year &lt;dbl&gt; | sex &lt;chr&gt; | gender &lt;chr&gt; | homeworld &lt;chr&gt; | species &lt;chr&gt; | films &lt;list&gt; | vehicles &lt;list&gt; | starships &lt;list&gt; |\n|---|---|---|---|---|---|---|---|---|---|---|---|---|---|\n| Nien Nunb | 160 | 68 | none | grey        | black | NA | male   | masculine | Sullust     | Sullustan | Return of the Jedi | <!----> | Millennium Falcon |\n| Gasgano   | 122 | NA | none | white, blue | black | NA | male   | masculine | Troiken     | Xexto     | The Phantom Menace | <!----> | <!----> |\n| Kit Fisto | 196 | 87 | none | green       | black | NA | male   | masculine | Glee Anselm | Nautolan  | Attack of the Clones, The Phantom Menace  , Revenge of the Sith  | <!----> | <!----> |\n| Plo Koon  | 188 | 80 | none | orange      | black | 22 | male   | masculine | Dorin       | Kel Dor   | Attack of the Clones, The Phantom Menace  , Revenge of the Sith  | <!----> | Jedi starfighter |\n| Lama Su   | 229 | 88 | none | grey        | black | NA | male   | masculine | Kamino      | Kaminoan  | Attack of the Clones | <!----> | <!----> |\n| Taun We   | 213 | NA | none | grey        | black | NA | female | feminine  | Kamino      | Kaminoan  | Attack of the Clones | <!----> | <!----> |\n\n",
            "text/latex": "A tibble: 6 × 14\n\\begin{tabular}{llllllllllllll}\n name & height & mass & hair\\_color & skin\\_color & eye\\_color & birth\\_year & sex & gender & homeworld & species & films & vehicles & starships\\\\\n <chr> & <int> & <dbl> & <chr> & <chr> & <chr> & <dbl> & <chr> & <chr> & <chr> & <chr> & <list> & <list> & <list>\\\\\n\\hline\n\t Nien Nunb & 160 & 68 & none & grey        & black & NA & male   & masculine & Sullust     & Sullustan & Return of the Jedi &  & Millennium Falcon\\\\\n\t Gasgano   & 122 & NA & none & white, blue & black & NA & male   & masculine & Troiken     & Xexto     & The Phantom Menace &  & \\\\\n\t Kit Fisto & 196 & 87 & none & green       & black & NA & male   & masculine & Glee Anselm & Nautolan  & Attack of the Clones, The Phantom Menace  , Revenge of the Sith  &  & \\\\\n\t Plo Koon  & 188 & 80 & none & orange      & black & 22 & male   & masculine & Dorin       & Kel Dor   & Attack of the Clones, The Phantom Menace  , Revenge of the Sith  &  & Jedi starfighter\\\\\n\t Lama Su   & 229 & 88 & none & grey        & black & NA & male   & masculine & Kamino      & Kaminoan  & Attack of the Clones &  & \\\\\n\t Taun We   & 213 & NA & none & grey        & black & NA & female & feminine  & Kamino      & Kaminoan  & Attack of the Clones &  & \\\\\n\\end{tabular}\n",
            "text/plain": [
              "  name      height mass hair_color skin_color  eye_color birth_year sex   \n",
              "1 Nien Nunb 160    68   none       grey        black     NA         male  \n",
              "2 Gasgano   122    NA   none       white, blue black     NA         male  \n",
              "3 Kit Fisto 196    87   none       green       black     NA         male  \n",
              "4 Plo Koon  188    80   none       orange      black     22         male  \n",
              "5 Lama Su   229    88   none       grey        black     NA         male  \n",
              "6 Taun We   213    NA   none       grey        black     NA         female\n",
              "  gender    homeworld   species  \n",
              "1 masculine Sullust     Sullustan\n",
              "2 masculine Troiken     Xexto    \n",
              "3 masculine Glee Anselm Nautolan \n",
              "4 masculine Dorin       Kel Dor  \n",
              "5 masculine Kamino      Kaminoan \n",
              "6 feminine  Kamino      Kaminoan \n",
              "  films                                                            vehicles\n",
              "1 Return of the Jedi                                                       \n",
              "2 The Phantom Menace                                                       \n",
              "3 Attack of the Clones, The Phantom Menace  , Revenge of the Sith          \n",
              "4 Attack of the Clones, The Phantom Menace  , Revenge of the Sith          \n",
              "5 Attack of the Clones                                                     \n",
              "6 Attack of the Clones                                                     \n",
              "  starships        \n",
              "1 Millennium Falcon\n",
              "2                  \n",
              "3                  \n",
              "4 Jedi starfighter \n",
              "5                  \n",
              "6                  "
            ]
          },
          "metadata": {}
        }
      ]
    },
    {
      "cell_type": "code",
      "source": [
        "starwars |>\n",
        "  filter(hair_color == \"none\" | eye_color == \"black\") |>\n",
        "  head()"
      ],
      "metadata": {
        "colab": {
          "base_uri": "https://localhost:8080/",
          "height": 321
        },
        "id": "xnOylRsDgrts",
        "outputId": "4d5f8a24-5bc3-4cfb-fa00-80fc36a77a2f"
      },
      "id": "xnOylRsDgrts",
      "execution_count": null,
      "outputs": [
        {
          "output_type": "display_data",
          "data": {
            "text/html": [
              "<table class=\"dataframe\">\n",
              "<caption>A tibble: 6 × 14</caption>\n",
              "<thead>\n",
              "\t<tr><th scope=col>name</th><th scope=col>height</th><th scope=col>mass</th><th scope=col>hair_color</th><th scope=col>skin_color</th><th scope=col>eye_color</th><th scope=col>birth_year</th><th scope=col>sex</th><th scope=col>gender</th><th scope=col>homeworld</th><th scope=col>species</th><th scope=col>films</th><th scope=col>vehicles</th><th scope=col>starships</th></tr>\n",
              "\t<tr><th scope=col>&lt;chr&gt;</th><th scope=col>&lt;int&gt;</th><th scope=col>&lt;dbl&gt;</th><th scope=col>&lt;chr&gt;</th><th scope=col>&lt;chr&gt;</th><th scope=col>&lt;chr&gt;</th><th scope=col>&lt;dbl&gt;</th><th scope=col>&lt;chr&gt;</th><th scope=col>&lt;chr&gt;</th><th scope=col>&lt;chr&gt;</th><th scope=col>&lt;chr&gt;</th><th scope=col>&lt;list&gt;</th><th scope=col>&lt;list&gt;</th><th scope=col>&lt;list&gt;</th></tr>\n",
              "</thead>\n",
              "<tbody>\n",
              "\t<tr><td>Darth Vader</td><td>202</td><td>136</td><td>none</td><td>white       </td><td>yellow</td><td>41.9</td><td>male</td><td>masculine</td><td>Tatooine </td><td>Human       </td><td>The Empire Strikes Back, Revenge of the Sith    , Return of the Jedi     , A New Hope             </td><td></td><td>TIE Advanced x1</td></tr>\n",
              "\t<tr><td>Greedo     </td><td>173</td><td> 74</td><td>NA  </td><td>green       </td><td>black </td><td>44.0</td><td>male</td><td>masculine</td><td>Rodia    </td><td>Rodian      </td><td>A New Hope</td><td></td><td></td></tr>\n",
              "\t<tr><td>IG-88      </td><td>200</td><td>140</td><td>none</td><td>metal       </td><td>red   </td><td>15.0</td><td>none</td><td>masculine</td><td>NA       </td><td>Droid       </td><td>The Empire Strikes Back</td><td></td><td></td></tr>\n",
              "\t<tr><td>Bossk      </td><td>190</td><td>113</td><td>none</td><td>green       </td><td>red   </td><td>53.0</td><td>male</td><td>masculine</td><td>Trandosha</td><td>Trandoshan  </td><td>The Empire Strikes Back</td><td></td><td></td></tr>\n",
              "\t<tr><td>Lobot      </td><td>175</td><td> 79</td><td>none</td><td>light       </td><td>blue  </td><td>37.0</td><td>male</td><td>masculine</td><td>Bespin   </td><td>Human       </td><td>The Empire Strikes Back</td><td></td><td></td></tr>\n",
              "\t<tr><td>Ackbar     </td><td>180</td><td> 83</td><td>none</td><td>brown mottle</td><td>orange</td><td>41.0</td><td>male</td><td>masculine</td><td>Mon Cala </td><td>Mon Calamari</td><td>Return of the Jedi, The Force Awakens </td><td></td><td></td></tr>\n",
              "</tbody>\n",
              "</table>\n"
            ],
            "text/markdown": "\nA tibble: 6 × 14\n\n| name &lt;chr&gt; | height &lt;int&gt; | mass &lt;dbl&gt; | hair_color &lt;chr&gt; | skin_color &lt;chr&gt; | eye_color &lt;chr&gt; | birth_year &lt;dbl&gt; | sex &lt;chr&gt; | gender &lt;chr&gt; | homeworld &lt;chr&gt; | species &lt;chr&gt; | films &lt;list&gt; | vehicles &lt;list&gt; | starships &lt;list&gt; |\n|---|---|---|---|---|---|---|---|---|---|---|---|---|---|\n| Darth Vader | 202 | 136 | none | white        | yellow | 41.9 | male | masculine | Tatooine  | Human        | The Empire Strikes Back, Revenge of the Sith    , Return of the Jedi     , A New Hope              | <!----> | TIE Advanced x1 |\n| Greedo      | 173 |  74 | NA   | green        | black  | 44.0 | male | masculine | Rodia     | Rodian       | A New Hope | <!----> | <!----> |\n| IG-88       | 200 | 140 | none | metal        | red    | 15.0 | none | masculine | NA        | Droid        | The Empire Strikes Back | <!----> | <!----> |\n| Bossk       | 190 | 113 | none | green        | red    | 53.0 | male | masculine | Trandosha | Trandoshan   | The Empire Strikes Back | <!----> | <!----> |\n| Lobot       | 175 |  79 | none | light        | blue   | 37.0 | male | masculine | Bespin    | Human        | The Empire Strikes Back | <!----> | <!----> |\n| Ackbar      | 180 |  83 | none | brown mottle | orange | 41.0 | male | masculine | Mon Cala  | Mon Calamari | Return of the Jedi, The Force Awakens  | <!----> | <!----> |\n\n",
            "text/latex": "A tibble: 6 × 14\n\\begin{tabular}{llllllllllllll}\n name & height & mass & hair\\_color & skin\\_color & eye\\_color & birth\\_year & sex & gender & homeworld & species & films & vehicles & starships\\\\\n <chr> & <int> & <dbl> & <chr> & <chr> & <chr> & <dbl> & <chr> & <chr> & <chr> & <chr> & <list> & <list> & <list>\\\\\n\\hline\n\t Darth Vader & 202 & 136 & none & white        & yellow & 41.9 & male & masculine & Tatooine  & Human        & The Empire Strikes Back, Revenge of the Sith    , Return of the Jedi     , A New Hope              &  & TIE Advanced x1\\\\\n\t Greedo      & 173 &  74 & NA   & green        & black  & 44.0 & male & masculine & Rodia     & Rodian       & A New Hope &  & \\\\\n\t IG-88       & 200 & 140 & none & metal        & red    & 15.0 & none & masculine & NA        & Droid        & The Empire Strikes Back &  & \\\\\n\t Bossk       & 190 & 113 & none & green        & red    & 53.0 & male & masculine & Trandosha & Trandoshan   & The Empire Strikes Back &  & \\\\\n\t Lobot       & 175 &  79 & none & light        & blue   & 37.0 & male & masculine & Bespin    & Human        & The Empire Strikes Back &  & \\\\\n\t Ackbar      & 180 &  83 & none & brown mottle & orange & 41.0 & male & masculine & Mon Cala  & Mon Calamari & Return of the Jedi, The Force Awakens  &  & \\\\\n\\end{tabular}\n",
            "text/plain": [
              "  name        height mass hair_color skin_color   eye_color birth_year sex \n",
              "1 Darth Vader 202    136  none       white        yellow    41.9       male\n",
              "2 Greedo      173     74  NA         green        black     44.0       male\n",
              "3 IG-88       200    140  none       metal        red       15.0       none\n",
              "4 Bossk       190    113  none       green        red       53.0       male\n",
              "5 Lobot       175     79  none       light        blue      37.0       male\n",
              "6 Ackbar      180     83  none       brown mottle orange    41.0       male\n",
              "  gender    homeworld species     \n",
              "1 masculine Tatooine  Human       \n",
              "2 masculine Rodia     Rodian      \n",
              "3 masculine NA        Droid       \n",
              "4 masculine Trandosha Trandoshan  \n",
              "5 masculine Bespin    Human       \n",
              "6 masculine Mon Cala  Mon Calamari\n",
              "  films                                                                                             \n",
              "1 The Empire Strikes Back, Revenge of the Sith    , Return of the Jedi     , A New Hope             \n",
              "2 A New Hope                                                                                        \n",
              "3 The Empire Strikes Back                                                                           \n",
              "4 The Empire Strikes Back                                                                           \n",
              "5 The Empire Strikes Back                                                                           \n",
              "6 Return of the Jedi, The Force Awakens                                                             \n",
              "  vehicles starships      \n",
              "1          TIE Advanced x1\n",
              "2                         \n",
              "3                         \n",
              "4                         \n",
              "5                         \n",
              "6                         "
            ]
          },
          "metadata": {}
        }
      ]
    },
    {
      "cell_type": "code",
      "source": [
        "# Multiple criterion, Multiple expressions\n",
        "starwars |>\n",
        "  filter(hair_color == \"none\", eye_color == \"black\") |>\n",
        "  head()"
      ],
      "metadata": {
        "colab": {
          "base_uri": "https://localhost:8080/",
          "height": 338
        },
        "id": "aQorReYZfKui",
        "outputId": "abab8f98-8d1f-4413-af77-975286334ea1"
      },
      "id": "aQorReYZfKui",
      "execution_count": null,
      "outputs": [
        {
          "output_type": "display_data",
          "data": {
            "text/html": [
              "<table class=\"dataframe\">\n",
              "<caption>A tibble: 6 × 14</caption>\n",
              "<thead>\n",
              "\t<tr><th scope=col>name</th><th scope=col>height</th><th scope=col>mass</th><th scope=col>hair_color</th><th scope=col>skin_color</th><th scope=col>eye_color</th><th scope=col>birth_year</th><th scope=col>sex</th><th scope=col>gender</th><th scope=col>homeworld</th><th scope=col>species</th><th scope=col>films</th><th scope=col>vehicles</th><th scope=col>starships</th></tr>\n",
              "\t<tr><th scope=col>&lt;chr&gt;</th><th scope=col>&lt;int&gt;</th><th scope=col>&lt;dbl&gt;</th><th scope=col>&lt;chr&gt;</th><th scope=col>&lt;chr&gt;</th><th scope=col>&lt;chr&gt;</th><th scope=col>&lt;dbl&gt;</th><th scope=col>&lt;chr&gt;</th><th scope=col>&lt;chr&gt;</th><th scope=col>&lt;chr&gt;</th><th scope=col>&lt;chr&gt;</th><th scope=col>&lt;list&gt;</th><th scope=col>&lt;list&gt;</th><th scope=col>&lt;list&gt;</th></tr>\n",
              "</thead>\n",
              "<tbody>\n",
              "\t<tr><td>Nien Nunb</td><td>160</td><td>68</td><td>none</td><td>grey       </td><td>black</td><td>NA</td><td>male  </td><td>masculine</td><td>Sullust    </td><td>Sullustan</td><td>Return of the Jedi</td><td></td><td>Millennium Falcon</td></tr>\n",
              "\t<tr><td>Gasgano  </td><td>122</td><td>NA</td><td>none</td><td>white, blue</td><td>black</td><td>NA</td><td>male  </td><td>masculine</td><td>Troiken    </td><td>Xexto    </td><td>The Phantom Menace</td><td></td><td></td></tr>\n",
              "\t<tr><td>Kit Fisto</td><td>196</td><td>87</td><td>none</td><td>green      </td><td>black</td><td>NA</td><td>male  </td><td>masculine</td><td>Glee Anselm</td><td>Nautolan </td><td>Attack of the Clones, The Phantom Menace  , Revenge of the Sith </td><td></td><td></td></tr>\n",
              "\t<tr><td>Plo Koon </td><td>188</td><td>80</td><td>none</td><td>orange     </td><td>black</td><td>22</td><td>male  </td><td>masculine</td><td>Dorin      </td><td>Kel Dor  </td><td>Attack of the Clones, The Phantom Menace  , Revenge of the Sith </td><td></td><td>Jedi starfighter</td></tr>\n",
              "\t<tr><td>Lama Su  </td><td>229</td><td>88</td><td>none</td><td>grey       </td><td>black</td><td>NA</td><td>male  </td><td>masculine</td><td>Kamino     </td><td>Kaminoan </td><td>Attack of the Clones</td><td></td><td></td></tr>\n",
              "\t<tr><td>Taun We  </td><td>213</td><td>NA</td><td>none</td><td>grey       </td><td>black</td><td>NA</td><td>female</td><td>feminine </td><td>Kamino     </td><td>Kaminoan </td><td>Attack of the Clones</td><td></td><td></td></tr>\n",
              "</tbody>\n",
              "</table>\n"
            ],
            "text/markdown": "\nA tibble: 6 × 14\n\n| name &lt;chr&gt; | height &lt;int&gt; | mass &lt;dbl&gt; | hair_color &lt;chr&gt; | skin_color &lt;chr&gt; | eye_color &lt;chr&gt; | birth_year &lt;dbl&gt; | sex &lt;chr&gt; | gender &lt;chr&gt; | homeworld &lt;chr&gt; | species &lt;chr&gt; | films &lt;list&gt; | vehicles &lt;list&gt; | starships &lt;list&gt; |\n|---|---|---|---|---|---|---|---|---|---|---|---|---|---|\n| Nien Nunb | 160 | 68 | none | grey        | black | NA | male   | masculine | Sullust     | Sullustan | Return of the Jedi | <!----> | Millennium Falcon |\n| Gasgano   | 122 | NA | none | white, blue | black | NA | male   | masculine | Troiken     | Xexto     | The Phantom Menace | <!----> | <!----> |\n| Kit Fisto | 196 | 87 | none | green       | black | NA | male   | masculine | Glee Anselm | Nautolan  | Attack of the Clones, The Phantom Menace  , Revenge of the Sith  | <!----> | <!----> |\n| Plo Koon  | 188 | 80 | none | orange      | black | 22 | male   | masculine | Dorin       | Kel Dor   | Attack of the Clones, The Phantom Menace  , Revenge of the Sith  | <!----> | Jedi starfighter |\n| Lama Su   | 229 | 88 | none | grey        | black | NA | male   | masculine | Kamino      | Kaminoan  | Attack of the Clones | <!----> | <!----> |\n| Taun We   | 213 | NA | none | grey        | black | NA | female | feminine  | Kamino      | Kaminoan  | Attack of the Clones | <!----> | <!----> |\n\n",
            "text/latex": "A tibble: 6 × 14\n\\begin{tabular}{llllllllllllll}\n name & height & mass & hair\\_color & skin\\_color & eye\\_color & birth\\_year & sex & gender & homeworld & species & films & vehicles & starships\\\\\n <chr> & <int> & <dbl> & <chr> & <chr> & <chr> & <dbl> & <chr> & <chr> & <chr> & <chr> & <list> & <list> & <list>\\\\\n\\hline\n\t Nien Nunb & 160 & 68 & none & grey        & black & NA & male   & masculine & Sullust     & Sullustan & Return of the Jedi &  & Millennium Falcon\\\\\n\t Gasgano   & 122 & NA & none & white, blue & black & NA & male   & masculine & Troiken     & Xexto     & The Phantom Menace &  & \\\\\n\t Kit Fisto & 196 & 87 & none & green       & black & NA & male   & masculine & Glee Anselm & Nautolan  & Attack of the Clones, The Phantom Menace  , Revenge of the Sith  &  & \\\\\n\t Plo Koon  & 188 & 80 & none & orange      & black & 22 & male   & masculine & Dorin       & Kel Dor   & Attack of the Clones, The Phantom Menace  , Revenge of the Sith  &  & Jedi starfighter\\\\\n\t Lama Su   & 229 & 88 & none & grey        & black & NA & male   & masculine & Kamino      & Kaminoan  & Attack of the Clones &  & \\\\\n\t Taun We   & 213 & NA & none & grey        & black & NA & female & feminine  & Kamino      & Kaminoan  & Attack of the Clones &  & \\\\\n\\end{tabular}\n",
            "text/plain": [
              "  name      height mass hair_color skin_color  eye_color birth_year sex   \n",
              "1 Nien Nunb 160    68   none       grey        black     NA         male  \n",
              "2 Gasgano   122    NA   none       white, blue black     NA         male  \n",
              "3 Kit Fisto 196    87   none       green       black     NA         male  \n",
              "4 Plo Koon  188    80   none       orange      black     22         male  \n",
              "5 Lama Su   229    88   none       grey        black     NA         male  \n",
              "6 Taun We   213    NA   none       grey        black     NA         female\n",
              "  gender    homeworld   species  \n",
              "1 masculine Sullust     Sullustan\n",
              "2 masculine Troiken     Xexto    \n",
              "3 masculine Glee Anselm Nautolan \n",
              "4 masculine Dorin       Kel Dor  \n",
              "5 masculine Kamino      Kaminoan \n",
              "6 feminine  Kamino      Kaminoan \n",
              "  films                                                            vehicles\n",
              "1 Return of the Jedi                                                       \n",
              "2 The Phantom Menace                                                       \n",
              "3 Attack of the Clones, The Phantom Menace  , Revenge of the Sith          \n",
              "4 Attack of the Clones, The Phantom Menace  , Revenge of the Sith          \n",
              "5 Attack of the Clones                                                     \n",
              "6 Attack of the Clones                                                     \n",
              "  starships        \n",
              "1 Millennium Falcon\n",
              "2                  \n",
              "3                  \n",
              "4 Jedi starfighter \n",
              "5                  \n",
              "6                  "
            ]
          },
          "metadata": {}
        }
      ]
    },
    {
      "cell_type": "markdown",
      "id": "15d3f067",
      "metadata": {
        "id": "15d3f067"
      },
      "source": [
        "#### `arrange`: Order rows using column values\n",
        "\n",
        "The `arrange()` function lets you sort a table based on the values of one or more columns. You can use the modifier function, `desc()`, to indicate that you want to sort a column in the descending order."
      ]
    },
    {
      "cell_type": "code",
      "execution_count": null,
      "id": "dd3a0ea5",
      "metadata": {
        "colab": {
          "base_uri": "https://localhost:8080/",
          "height": 408
        },
        "id": "dd3a0ea5",
        "outputId": "58875d5a-8ad3-42bf-d7e1-5c94a053fea4"
      },
      "outputs": [
        {
          "output_type": "display_data",
          "data": {
            "text/html": [
              "<table class=\"dataframe\">\n",
              "<caption>A tibble: 6 × 14</caption>\n",
              "<thead>\n",
              "\t<tr><th scope=col>name</th><th scope=col>height</th><th scope=col>mass</th><th scope=col>hair_color</th><th scope=col>skin_color</th><th scope=col>eye_color</th><th scope=col>birth_year</th><th scope=col>sex</th><th scope=col>gender</th><th scope=col>homeworld</th><th scope=col>species</th><th scope=col>films</th><th scope=col>vehicles</th><th scope=col>starships</th></tr>\n",
              "\t<tr><th scope=col>&lt;chr&gt;</th><th scope=col>&lt;int&gt;</th><th scope=col>&lt;dbl&gt;</th><th scope=col>&lt;chr&gt;</th><th scope=col>&lt;chr&gt;</th><th scope=col>&lt;chr&gt;</th><th scope=col>&lt;dbl&gt;</th><th scope=col>&lt;chr&gt;</th><th scope=col>&lt;chr&gt;</th><th scope=col>&lt;chr&gt;</th><th scope=col>&lt;chr&gt;</th><th scope=col>&lt;list&gt;</th><th scope=col>&lt;list&gt;</th><th scope=col>&lt;list&gt;</th></tr>\n",
              "</thead>\n",
              "<tbody>\n",
              "\t<tr><td>Ackbar          </td><td>180</td><td>83</td><td>none </td><td>brown mottle</td><td>orange</td><td>41.0</td><td>male  </td><td>masculine</td><td>Mon Cala </td><td>Mon Calamari</td><td>Return of the Jedi, The Force Awakens </td><td></td><td></td></tr>\n",
              "\t<tr><td>Adi Gallia      </td><td>184</td><td>50</td><td>none </td><td>dark        </td><td>blue  </td><td>  NA</td><td>female</td><td>feminine </td><td>Coruscant</td><td>Tholothian  </td><td>The Phantom Menace , Revenge of the Sith</td><td></td><td></td></tr>\n",
              "\t<tr><td>Anakin Skywalker</td><td>188</td><td>84</td><td>blond</td><td>fair        </td><td>blue  </td><td>41.9</td><td>male  </td><td>masculine</td><td>Tatooine </td><td>Human       </td><td>Attack of the Clones, The Phantom Menace  , Revenge of the Sith </td><td>Zephyr-G swoop bike, XJ-6 airspeeder    </td><td>Trade Federation cruiser, Jedi Interceptor        , Naboo fighter           </td></tr>\n",
              "\t<tr><td>Arvel Crynyd    </td><td> NA</td><td>NA</td><td>brown</td><td>fair        </td><td>brown </td><td>  NA</td><td>male  </td><td>masculine</td><td>NA       </td><td>Human       </td><td>Return of the Jedi</td><td></td><td>A-wing</td></tr>\n",
              "\t<tr><td>Ayla Secura     </td><td>178</td><td>55</td><td>none </td><td>blue        </td><td>hazel </td><td>48.0</td><td>female</td><td>feminine </td><td>Ryloth   </td><td>Twi'lek     </td><td>Attack of the Clones, The Phantom Menace  , Revenge of the Sith </td><td></td><td></td></tr>\n",
              "\t<tr><td>BB8             </td><td> NA</td><td>NA</td><td>none </td><td>none        </td><td>black </td><td>  NA</td><td>none  </td><td>masculine</td><td>NA       </td><td>Droid       </td><td>The Force Awakens</td><td></td><td></td></tr>\n",
              "</tbody>\n",
              "</table>\n"
            ],
            "text/markdown": "\nA tibble: 6 × 14\n\n| name &lt;chr&gt; | height &lt;int&gt; | mass &lt;dbl&gt; | hair_color &lt;chr&gt; | skin_color &lt;chr&gt; | eye_color &lt;chr&gt; | birth_year &lt;dbl&gt; | sex &lt;chr&gt; | gender &lt;chr&gt; | homeworld &lt;chr&gt; | species &lt;chr&gt; | films &lt;list&gt; | vehicles &lt;list&gt; | starships &lt;list&gt; |\n|---|---|---|---|---|---|---|---|---|---|---|---|---|---|\n| Ackbar           | 180 | 83 | none  | brown mottle | orange | 41.0 | male   | masculine | Mon Cala  | Mon Calamari | Return of the Jedi, The Force Awakens  | <!----> | <!----> |\n| Adi Gallia       | 184 | 50 | none  | dark         | blue   |   NA | female | feminine  | Coruscant | Tholothian   | The Phantom Menace , Revenge of the Sith | <!----> | <!----> |\n| Anakin Skywalker | 188 | 84 | blond | fair         | blue   | 41.9 | male   | masculine | Tatooine  | Human        | Attack of the Clones, The Phantom Menace  , Revenge of the Sith  | Zephyr-G swoop bike, XJ-6 airspeeder     | Trade Federation cruiser, Jedi Interceptor        , Naboo fighter            |\n| Arvel Crynyd     |  NA | NA | brown | fair         | brown  |   NA | male   | masculine | NA        | Human        | Return of the Jedi | <!----> | A-wing |\n| Ayla Secura      | 178 | 55 | none  | blue         | hazel  | 48.0 | female | feminine  | Ryloth    | Twi'lek      | Attack of the Clones, The Phantom Menace  , Revenge of the Sith  | <!----> | <!----> |\n| BB8              |  NA | NA | none  | none         | black  |   NA | none   | masculine | NA        | Droid        | The Force Awakens | <!----> | <!----> |\n\n",
            "text/latex": "A tibble: 6 × 14\n\\begin{tabular}{llllllllllllll}\n name & height & mass & hair\\_color & skin\\_color & eye\\_color & birth\\_year & sex & gender & homeworld & species & films & vehicles & starships\\\\\n <chr> & <int> & <dbl> & <chr> & <chr> & <chr> & <dbl> & <chr> & <chr> & <chr> & <chr> & <list> & <list> & <list>\\\\\n\\hline\n\t Ackbar           & 180 & 83 & none  & brown mottle & orange & 41.0 & male   & masculine & Mon Cala  & Mon Calamari & Return of the Jedi, The Force Awakens  &  & \\\\\n\t Adi Gallia       & 184 & 50 & none  & dark         & blue   &   NA & female & feminine  & Coruscant & Tholothian   & The Phantom Menace , Revenge of the Sith &  & \\\\\n\t Anakin Skywalker & 188 & 84 & blond & fair         & blue   & 41.9 & male   & masculine & Tatooine  & Human        & Attack of the Clones, The Phantom Menace  , Revenge of the Sith  & Zephyr-G swoop bike, XJ-6 airspeeder     & Trade Federation cruiser, Jedi Interceptor        , Naboo fighter           \\\\\n\t Arvel Crynyd     &  NA & NA & brown & fair         & brown  &   NA & male   & masculine & NA        & Human        & Return of the Jedi &  & A-wing\\\\\n\t Ayla Secura      & 178 & 55 & none  & blue         & hazel  & 48.0 & female & feminine  & Ryloth    & Twi'lek      & Attack of the Clones, The Phantom Menace  , Revenge of the Sith  &  & \\\\\n\t BB8              &  NA & NA & none  & none         & black  &   NA & none   & masculine & NA        & Droid        & The Force Awakens &  & \\\\\n\\end{tabular}\n",
            "text/plain": [
              "  name             height mass hair_color skin_color   eye_color birth_year\n",
              "1 Ackbar           180    83   none       brown mottle orange    41.0      \n",
              "2 Adi Gallia       184    50   none       dark         blue        NA      \n",
              "3 Anakin Skywalker 188    84   blond      fair         blue      41.9      \n",
              "4 Arvel Crynyd      NA    NA   brown      fair         brown       NA      \n",
              "5 Ayla Secura      178    55   none       blue         hazel     48.0      \n",
              "6 BB8               NA    NA   none       none         black       NA      \n",
              "  sex    gender    homeworld species     \n",
              "1 male   masculine Mon Cala  Mon Calamari\n",
              "2 female feminine  Coruscant Tholothian  \n",
              "3 male   masculine Tatooine  Human       \n",
              "4 male   masculine NA        Human       \n",
              "5 female feminine  Ryloth    Twi'lek     \n",
              "6 none   masculine NA        Droid       \n",
              "  films                                                           \n",
              "1 Return of the Jedi, The Force Awakens                           \n",
              "2 The Phantom Menace , Revenge of the Sith                        \n",
              "3 Attack of the Clones, The Phantom Menace  , Revenge of the Sith \n",
              "4 Return of the Jedi                                              \n",
              "5 Attack of the Clones, The Phantom Menace  , Revenge of the Sith \n",
              "6 The Force Awakens                                               \n",
              "  vehicles                                \n",
              "1                                         \n",
              "2                                         \n",
              "3 Zephyr-G swoop bike, XJ-6 airspeeder    \n",
              "4                                         \n",
              "5                                         \n",
              "6                                         \n",
              "  starships                                                                   \n",
              "1                                                                             \n",
              "2                                                                             \n",
              "3 Trade Federation cruiser, Jedi Interceptor        , Naboo fighter           \n",
              "4 A-wing                                                                      \n",
              "5                                                                             \n",
              "6                                                                             "
            ]
          },
          "metadata": {}
        }
      ],
      "source": [
        "# Single Column > Ascending\n",
        "starwars |>\n",
        "  arrange(name) |>\n",
        "  head()"
      ]
    },
    {
      "cell_type": "code",
      "source": [
        "# Single Column > Descending\n",
        "starwars |>\n",
        "  arrange(desc(mass)) |>\n",
        "  head()"
      ],
      "metadata": {
        "colab": {
          "base_uri": "https://localhost:8080/",
          "height": 408
        },
        "id": "Xd1MQ-HkfMlh",
        "outputId": "56e59f08-1c8f-4b5e-c6ba-eb02d47b0541"
      },
      "id": "Xd1MQ-HkfMlh",
      "execution_count": null,
      "outputs": [
        {
          "output_type": "display_data",
          "data": {
            "text/html": [
              "<table class=\"dataframe\">\n",
              "<caption>A tibble: 6 × 14</caption>\n",
              "<thead>\n",
              "\t<tr><th scope=col>name</th><th scope=col>height</th><th scope=col>mass</th><th scope=col>hair_color</th><th scope=col>skin_color</th><th scope=col>eye_color</th><th scope=col>birth_year</th><th scope=col>sex</th><th scope=col>gender</th><th scope=col>homeworld</th><th scope=col>species</th><th scope=col>films</th><th scope=col>vehicles</th><th scope=col>starships</th></tr>\n",
              "\t<tr><th scope=col>&lt;chr&gt;</th><th scope=col>&lt;int&gt;</th><th scope=col>&lt;dbl&gt;</th><th scope=col>&lt;chr&gt;</th><th scope=col>&lt;chr&gt;</th><th scope=col>&lt;chr&gt;</th><th scope=col>&lt;dbl&gt;</th><th scope=col>&lt;chr&gt;</th><th scope=col>&lt;chr&gt;</th><th scope=col>&lt;chr&gt;</th><th scope=col>&lt;chr&gt;</th><th scope=col>&lt;list&gt;</th><th scope=col>&lt;list&gt;</th><th scope=col>&lt;list&gt;</th></tr>\n",
              "</thead>\n",
              "<tbody>\n",
              "\t<tr><td>Jabba Desilijic Tiure</td><td>175</td><td>1358</td><td>NA         </td><td>green-tan, brown</td><td>orange       </td><td>600.0</td><td>hermaphroditic</td><td>masculine</td><td>Nal Hutta</td><td>Hutt   </td><td>The Phantom Menace, Return of the Jedi, A New Hope        </td><td></td><td></td></tr>\n",
              "\t<tr><td>Grievous             </td><td>216</td><td> 159</td><td>none       </td><td>brown, white    </td><td>green, yellow</td><td>   NA</td><td>male          </td><td>masculine</td><td>Kalee    </td><td>Kaleesh</td><td>Revenge of the Sith</td><td>Tsmeu-6 personal wheel bike</td><td>Belbullab-22 starfighter</td></tr>\n",
              "\t<tr><td>IG-88                </td><td>200</td><td> 140</td><td>none       </td><td>metal           </td><td>red          </td><td> 15.0</td><td>none          </td><td>masculine</td><td>NA       </td><td>Droid  </td><td>The Empire Strikes Back</td><td></td><td></td></tr>\n",
              "\t<tr><td>Darth Vader          </td><td>202</td><td> 136</td><td>none       </td><td>white           </td><td>yellow       </td><td> 41.9</td><td>male          </td><td>masculine</td><td>Tatooine </td><td>Human  </td><td>The Empire Strikes Back, Revenge of the Sith    , Return of the Jedi     , A New Hope             </td><td></td><td>TIE Advanced x1</td></tr>\n",
              "\t<tr><td>Tarfful              </td><td>234</td><td> 136</td><td>brown      </td><td>brown           </td><td>blue         </td><td>   NA</td><td>male          </td><td>masculine</td><td>Kashyyyk </td><td>Wookiee</td><td>Revenge of the Sith</td><td></td><td></td></tr>\n",
              "\t<tr><td>Owen Lars            </td><td>178</td><td> 120</td><td>brown, grey</td><td>light           </td><td>blue         </td><td> 52.0</td><td>male          </td><td>masculine</td><td>Tatooine </td><td>Human  </td><td>Attack of the Clones, Revenge of the Sith , A New Hope          </td><td></td><td></td></tr>\n",
              "</tbody>\n",
              "</table>\n"
            ],
            "text/markdown": "\nA tibble: 6 × 14\n\n| name &lt;chr&gt; | height &lt;int&gt; | mass &lt;dbl&gt; | hair_color &lt;chr&gt; | skin_color &lt;chr&gt; | eye_color &lt;chr&gt; | birth_year &lt;dbl&gt; | sex &lt;chr&gt; | gender &lt;chr&gt; | homeworld &lt;chr&gt; | species &lt;chr&gt; | films &lt;list&gt; | vehicles &lt;list&gt; | starships &lt;list&gt; |\n|---|---|---|---|---|---|---|---|---|---|---|---|---|---|\n| Jabba Desilijic Tiure | 175 | 1358 | NA          | green-tan, brown | orange        | 600.0 | hermaphroditic | masculine | Nal Hutta | Hutt    | The Phantom Menace, Return of the Jedi, A New Hope         | <!----> | <!----> |\n| Grievous              | 216 |  159 | none        | brown, white     | green, yellow |    NA | male           | masculine | Kalee     | Kaleesh | Revenge of the Sith | Tsmeu-6 personal wheel bike | Belbullab-22 starfighter |\n| IG-88                 | 200 |  140 | none        | metal            | red           |  15.0 | none           | masculine | NA        | Droid   | The Empire Strikes Back | <!----> | <!----> |\n| Darth Vader           | 202 |  136 | none        | white            | yellow        |  41.9 | male           | masculine | Tatooine  | Human   | The Empire Strikes Back, Revenge of the Sith    , Return of the Jedi     , A New Hope              | <!----> | TIE Advanced x1 |\n| Tarfful               | 234 |  136 | brown       | brown            | blue          |    NA | male           | masculine | Kashyyyk  | Wookiee | Revenge of the Sith | <!----> | <!----> |\n| Owen Lars             | 178 |  120 | brown, grey | light            | blue          |  52.0 | male           | masculine | Tatooine  | Human   | Attack of the Clones, Revenge of the Sith , A New Hope           | <!----> | <!----> |\n\n",
            "text/latex": "A tibble: 6 × 14\n\\begin{tabular}{llllllllllllll}\n name & height & mass & hair\\_color & skin\\_color & eye\\_color & birth\\_year & sex & gender & homeworld & species & films & vehicles & starships\\\\\n <chr> & <int> & <dbl> & <chr> & <chr> & <chr> & <dbl> & <chr> & <chr> & <chr> & <chr> & <list> & <list> & <list>\\\\\n\\hline\n\t Jabba Desilijic Tiure & 175 & 1358 & NA          & green-tan, brown & orange        & 600.0 & hermaphroditic & masculine & Nal Hutta & Hutt    & The Phantom Menace, Return of the Jedi, A New Hope         &  & \\\\\n\t Grievous              & 216 &  159 & none        & brown, white     & green, yellow &    NA & male           & masculine & Kalee     & Kaleesh & Revenge of the Sith & Tsmeu-6 personal wheel bike & Belbullab-22 starfighter\\\\\n\t IG-88                 & 200 &  140 & none        & metal            & red           &  15.0 & none           & masculine & NA        & Droid   & The Empire Strikes Back &  & \\\\\n\t Darth Vader           & 202 &  136 & none        & white            & yellow        &  41.9 & male           & masculine & Tatooine  & Human   & The Empire Strikes Back, Revenge of the Sith    , Return of the Jedi     , A New Hope              &  & TIE Advanced x1\\\\\n\t Tarfful               & 234 &  136 & brown       & brown            & blue          &    NA & male           & masculine & Kashyyyk  & Wookiee & Revenge of the Sith &  & \\\\\n\t Owen Lars             & 178 &  120 & brown, grey & light            & blue          &  52.0 & male           & masculine & Tatooine  & Human   & Attack of the Clones, Revenge of the Sith , A New Hope           &  & \\\\\n\\end{tabular}\n",
            "text/plain": [
              "  name                  height mass hair_color  skin_color       eye_color    \n",
              "1 Jabba Desilijic Tiure 175    1358 NA          green-tan, brown orange       \n",
              "2 Grievous              216     159 none        brown, white     green, yellow\n",
              "3 IG-88                 200     140 none        metal            red          \n",
              "4 Darth Vader           202     136 none        white            yellow       \n",
              "5 Tarfful               234     136 brown       brown            blue         \n",
              "6 Owen Lars             178     120 brown, grey light            blue         \n",
              "  birth_year sex            gender    homeworld species\n",
              "1 600.0      hermaphroditic masculine Nal Hutta Hutt   \n",
              "2    NA      male           masculine Kalee     Kaleesh\n",
              "3  15.0      none           masculine NA        Droid  \n",
              "4  41.9      male           masculine Tatooine  Human  \n",
              "5    NA      male           masculine Kashyyyk  Wookiee\n",
              "6  52.0      male           masculine Tatooine  Human  \n",
              "  films                                                                                             \n",
              "1 The Phantom Menace, Return of the Jedi, A New Hope                                                \n",
              "2 Revenge of the Sith                                                                               \n",
              "3 The Empire Strikes Back                                                                           \n",
              "4 The Empire Strikes Back, Revenge of the Sith    , Return of the Jedi     , A New Hope             \n",
              "5 Revenge of the Sith                                                                               \n",
              "6 Attack of the Clones, Revenge of the Sith , A New Hope                                            \n",
              "  vehicles                    starships               \n",
              "1                                                     \n",
              "2 Tsmeu-6 personal wheel bike Belbullab-22 starfighter\n",
              "3                                                     \n",
              "4                             TIE Advanced x1         \n",
              "5                                                     \n",
              "6                                                     "
            ]
          },
          "metadata": {}
        }
      ]
    },
    {
      "cell_type": "code",
      "source": [
        "# Multiple Columns\n",
        "starwars |>\n",
        "  arrange(name, desc(mass)) |>\n",
        "  head()"
      ],
      "metadata": {
        "colab": {
          "base_uri": "https://localhost:8080/",
          "height": 408
        },
        "id": "5W547Z3vfNl7",
        "outputId": "8e78247a-edfd-4b7e-8ce2-c77e4bec9a9a"
      },
      "id": "5W547Z3vfNl7",
      "execution_count": null,
      "outputs": [
        {
          "output_type": "display_data",
          "data": {
            "text/html": [
              "<table class=\"dataframe\">\n",
              "<caption>A tibble: 6 × 14</caption>\n",
              "<thead>\n",
              "\t<tr><th scope=col>name</th><th scope=col>height</th><th scope=col>mass</th><th scope=col>hair_color</th><th scope=col>skin_color</th><th scope=col>eye_color</th><th scope=col>birth_year</th><th scope=col>sex</th><th scope=col>gender</th><th scope=col>homeworld</th><th scope=col>species</th><th scope=col>films</th><th scope=col>vehicles</th><th scope=col>starships</th></tr>\n",
              "\t<tr><th scope=col>&lt;chr&gt;</th><th scope=col>&lt;int&gt;</th><th scope=col>&lt;dbl&gt;</th><th scope=col>&lt;chr&gt;</th><th scope=col>&lt;chr&gt;</th><th scope=col>&lt;chr&gt;</th><th scope=col>&lt;dbl&gt;</th><th scope=col>&lt;chr&gt;</th><th scope=col>&lt;chr&gt;</th><th scope=col>&lt;chr&gt;</th><th scope=col>&lt;chr&gt;</th><th scope=col>&lt;list&gt;</th><th scope=col>&lt;list&gt;</th><th scope=col>&lt;list&gt;</th></tr>\n",
              "</thead>\n",
              "<tbody>\n",
              "\t<tr><td>Ackbar          </td><td>180</td><td>83</td><td>none </td><td>brown mottle</td><td>orange</td><td>41.0</td><td>male  </td><td>masculine</td><td>Mon Cala </td><td>Mon Calamari</td><td>Return of the Jedi, The Force Awakens </td><td></td><td></td></tr>\n",
              "\t<tr><td>Adi Gallia      </td><td>184</td><td>50</td><td>none </td><td>dark        </td><td>blue  </td><td>  NA</td><td>female</td><td>feminine </td><td>Coruscant</td><td>Tholothian  </td><td>The Phantom Menace , Revenge of the Sith</td><td></td><td></td></tr>\n",
              "\t<tr><td>Anakin Skywalker</td><td>188</td><td>84</td><td>blond</td><td>fair        </td><td>blue  </td><td>41.9</td><td>male  </td><td>masculine</td><td>Tatooine </td><td>Human       </td><td>Attack of the Clones, The Phantom Menace  , Revenge of the Sith </td><td>Zephyr-G swoop bike, XJ-6 airspeeder    </td><td>Trade Federation cruiser, Jedi Interceptor        , Naboo fighter           </td></tr>\n",
              "\t<tr><td>Arvel Crynyd    </td><td> NA</td><td>NA</td><td>brown</td><td>fair        </td><td>brown </td><td>  NA</td><td>male  </td><td>masculine</td><td>NA       </td><td>Human       </td><td>Return of the Jedi</td><td></td><td>A-wing</td></tr>\n",
              "\t<tr><td>Ayla Secura     </td><td>178</td><td>55</td><td>none </td><td>blue        </td><td>hazel </td><td>48.0</td><td>female</td><td>feminine </td><td>Ryloth   </td><td>Twi'lek     </td><td>Attack of the Clones, The Phantom Menace  , Revenge of the Sith </td><td></td><td></td></tr>\n",
              "\t<tr><td>BB8             </td><td> NA</td><td>NA</td><td>none </td><td>none        </td><td>black </td><td>  NA</td><td>none  </td><td>masculine</td><td>NA       </td><td>Droid       </td><td>The Force Awakens</td><td></td><td></td></tr>\n",
              "</tbody>\n",
              "</table>\n"
            ],
            "text/markdown": "\nA tibble: 6 × 14\n\n| name &lt;chr&gt; | height &lt;int&gt; | mass &lt;dbl&gt; | hair_color &lt;chr&gt; | skin_color &lt;chr&gt; | eye_color &lt;chr&gt; | birth_year &lt;dbl&gt; | sex &lt;chr&gt; | gender &lt;chr&gt; | homeworld &lt;chr&gt; | species &lt;chr&gt; | films &lt;list&gt; | vehicles &lt;list&gt; | starships &lt;list&gt; |\n|---|---|---|---|---|---|---|---|---|---|---|---|---|---|\n| Ackbar           | 180 | 83 | none  | brown mottle | orange | 41.0 | male   | masculine | Mon Cala  | Mon Calamari | Return of the Jedi, The Force Awakens  | <!----> | <!----> |\n| Adi Gallia       | 184 | 50 | none  | dark         | blue   |   NA | female | feminine  | Coruscant | Tholothian   | The Phantom Menace , Revenge of the Sith | <!----> | <!----> |\n| Anakin Skywalker | 188 | 84 | blond | fair         | blue   | 41.9 | male   | masculine | Tatooine  | Human        | Attack of the Clones, The Phantom Menace  , Revenge of the Sith  | Zephyr-G swoop bike, XJ-6 airspeeder     | Trade Federation cruiser, Jedi Interceptor        , Naboo fighter            |\n| Arvel Crynyd     |  NA | NA | brown | fair         | brown  |   NA | male   | masculine | NA        | Human        | Return of the Jedi | <!----> | A-wing |\n| Ayla Secura      | 178 | 55 | none  | blue         | hazel  | 48.0 | female | feminine  | Ryloth    | Twi'lek      | Attack of the Clones, The Phantom Menace  , Revenge of the Sith  | <!----> | <!----> |\n| BB8              |  NA | NA | none  | none         | black  |   NA | none   | masculine | NA        | Droid        | The Force Awakens | <!----> | <!----> |\n\n",
            "text/latex": "A tibble: 6 × 14\n\\begin{tabular}{llllllllllllll}\n name & height & mass & hair\\_color & skin\\_color & eye\\_color & birth\\_year & sex & gender & homeworld & species & films & vehicles & starships\\\\\n <chr> & <int> & <dbl> & <chr> & <chr> & <chr> & <dbl> & <chr> & <chr> & <chr> & <chr> & <list> & <list> & <list>\\\\\n\\hline\n\t Ackbar           & 180 & 83 & none  & brown mottle & orange & 41.0 & male   & masculine & Mon Cala  & Mon Calamari & Return of the Jedi, The Force Awakens  &  & \\\\\n\t Adi Gallia       & 184 & 50 & none  & dark         & blue   &   NA & female & feminine  & Coruscant & Tholothian   & The Phantom Menace , Revenge of the Sith &  & \\\\\n\t Anakin Skywalker & 188 & 84 & blond & fair         & blue   & 41.9 & male   & masculine & Tatooine  & Human        & Attack of the Clones, The Phantom Menace  , Revenge of the Sith  & Zephyr-G swoop bike, XJ-6 airspeeder     & Trade Federation cruiser, Jedi Interceptor        , Naboo fighter           \\\\\n\t Arvel Crynyd     &  NA & NA & brown & fair         & brown  &   NA & male   & masculine & NA        & Human        & Return of the Jedi &  & A-wing\\\\\n\t Ayla Secura      & 178 & 55 & none  & blue         & hazel  & 48.0 & female & feminine  & Ryloth    & Twi'lek      & Attack of the Clones, The Phantom Menace  , Revenge of the Sith  &  & \\\\\n\t BB8              &  NA & NA & none  & none         & black  &   NA & none   & masculine & NA        & Droid        & The Force Awakens &  & \\\\\n\\end{tabular}\n",
            "text/plain": [
              "  name             height mass hair_color skin_color   eye_color birth_year\n",
              "1 Ackbar           180    83   none       brown mottle orange    41.0      \n",
              "2 Adi Gallia       184    50   none       dark         blue        NA      \n",
              "3 Anakin Skywalker 188    84   blond      fair         blue      41.9      \n",
              "4 Arvel Crynyd      NA    NA   brown      fair         brown       NA      \n",
              "5 Ayla Secura      178    55   none       blue         hazel     48.0      \n",
              "6 BB8               NA    NA   none       none         black       NA      \n",
              "  sex    gender    homeworld species     \n",
              "1 male   masculine Mon Cala  Mon Calamari\n",
              "2 female feminine  Coruscant Tholothian  \n",
              "3 male   masculine Tatooine  Human       \n",
              "4 male   masculine NA        Human       \n",
              "5 female feminine  Ryloth    Twi'lek     \n",
              "6 none   masculine NA        Droid       \n",
              "  films                                                           \n",
              "1 Return of the Jedi, The Force Awakens                           \n",
              "2 The Phantom Menace , Revenge of the Sith                        \n",
              "3 Attack of the Clones, The Phantom Menace  , Revenge of the Sith \n",
              "4 Return of the Jedi                                              \n",
              "5 Attack of the Clones, The Phantom Menace  , Revenge of the Sith \n",
              "6 The Force Awakens                                               \n",
              "  vehicles                                \n",
              "1                                         \n",
              "2                                         \n",
              "3 Zephyr-G swoop bike, XJ-6 airspeeder    \n",
              "4                                         \n",
              "5                                         \n",
              "6                                         \n",
              "  starships                                                                   \n",
              "1                                                                             \n",
              "2                                                                             \n",
              "3 Trade Federation cruiser, Jedi Interceptor        , Naboo fighter           \n",
              "4 A-wing                                                                      \n",
              "5                                                                             \n",
              "6                                                                             "
            ]
          },
          "metadata": {}
        }
      ]
    },
    {
      "cell_type": "markdown",
      "id": "3df86f6b",
      "metadata": {
        "id": "3df86f6b"
      },
      "source": [
        "#### `distinct`: Keep distinct/unique rows\n",
        "\n",
        "The `distinct()` function allows you to keep rows with distinct combinations of column values."
      ]
    },
    {
      "cell_type": "code",
      "execution_count": null,
      "id": "89473a55",
      "metadata": {
        "colab": {
          "base_uri": "https://localhost:8080/",
          "height": 255
        },
        "id": "89473a55",
        "outputId": "d7f79b34-9770-4c01-a038-8356a438c1df"
      },
      "outputs": [
        {
          "output_type": "display_data",
          "data": {
            "text/html": [
              "<table class=\"dataframe\">\n",
              "<caption>A tibble: 5 × 1</caption>\n",
              "<thead>\n",
              "\t<tr><th scope=col>sex</th></tr>\n",
              "\t<tr><th scope=col>&lt;chr&gt;</th></tr>\n",
              "</thead>\n",
              "<tbody>\n",
              "\t<tr><td>male          </td></tr>\n",
              "\t<tr><td>none          </td></tr>\n",
              "\t<tr><td>female        </td></tr>\n",
              "\t<tr><td>hermaphroditic</td></tr>\n",
              "\t<tr><td>NA            </td></tr>\n",
              "</tbody>\n",
              "</table>\n"
            ],
            "text/markdown": "\nA tibble: 5 × 1\n\n| sex &lt;chr&gt; |\n|---|\n| male           |\n| none           |\n| female         |\n| hermaphroditic |\n| NA             |\n\n",
            "text/latex": "A tibble: 5 × 1\n\\begin{tabular}{l}\n sex\\\\\n <chr>\\\\\n\\hline\n\t male          \\\\\n\t none          \\\\\n\t female        \\\\\n\t hermaphroditic\\\\\n\t NA            \\\\\n\\end{tabular}\n",
            "text/plain": [
              "  sex           \n",
              "1 male          \n",
              "2 none          \n",
              "3 female        \n",
              "4 hermaphroditic\n",
              "5 NA            "
            ]
          },
          "metadata": {}
        }
      ],
      "source": [
        "# Single Column\n",
        "starwars |>\n",
        "  distinct(sex)"
      ]
    },
    {
      "cell_type": "code",
      "source": [
        "# Multiple Columns\n",
        "starwars |>\n",
        "  distinct(sex, skin_color) |>\n",
        "  head()"
      ],
      "metadata": {
        "colab": {
          "base_uri": "https://localhost:8080/",
          "height": 286
        },
        "id": "DSm6gAywfO2A",
        "outputId": "47b56dac-6e63-496f-f09a-eacb595b09db"
      },
      "id": "DSm6gAywfO2A",
      "execution_count": null,
      "outputs": [
        {
          "output_type": "display_data",
          "data": {
            "text/html": [
              "<table class=\"dataframe\">\n",
              "<caption>A tibble: 6 × 2</caption>\n",
              "<thead>\n",
              "\t<tr><th scope=col>sex</th><th scope=col>skin_color</th></tr>\n",
              "\t<tr><th scope=col>&lt;chr&gt;</th><th scope=col>&lt;chr&gt;</th></tr>\n",
              "</thead>\n",
              "<tbody>\n",
              "\t<tr><td>male  </td><td>fair       </td></tr>\n",
              "\t<tr><td>none  </td><td>gold       </td></tr>\n",
              "\t<tr><td>none  </td><td>white, blue</td></tr>\n",
              "\t<tr><td>male  </td><td>white      </td></tr>\n",
              "\t<tr><td>female</td><td>light      </td></tr>\n",
              "\t<tr><td>male  </td><td>light      </td></tr>\n",
              "</tbody>\n",
              "</table>\n"
            ],
            "text/markdown": "\nA tibble: 6 × 2\n\n| sex &lt;chr&gt; | skin_color &lt;chr&gt; |\n|---|---|\n| male   | fair        |\n| none   | gold        |\n| none   | white, blue |\n| male   | white       |\n| female | light       |\n| male   | light       |\n\n",
            "text/latex": "A tibble: 6 × 2\n\\begin{tabular}{ll}\n sex & skin\\_color\\\\\n <chr> & <chr>\\\\\n\\hline\n\t male   & fair       \\\\\n\t none   & gold       \\\\\n\t none   & white, blue\\\\\n\t male   & white      \\\\\n\t female & light      \\\\\n\t male   & light      \\\\\n\\end{tabular}\n",
            "text/plain": [
              "  sex    skin_color \n",
              "1 male   fair       \n",
              "2 none   gold       \n",
              "3 none   white, blue\n",
              "4 male   white      \n",
              "5 female light      \n",
              "6 male   light      "
            ]
          },
          "metadata": {}
        }
      ]
    },
    {
      "cell_type": "markdown",
      "id": "212eac4c",
      "metadata": {
        "id": "212eac4c"
      },
      "source": [
        "#### `slice`: Subset rows using their positions\n",
        "\n",
        "The `slice_` family of functions let you subset rows based on their position. It ships with several variations that let you pick rows by their absolute position (`slice_head` and `slice_tail`), by their relative position based on a column value (`slice_min` and `slice_max`), or at random (`slice_sample`)."
      ]
    },
    {
      "cell_type": "code",
      "execution_count": null,
      "id": "f6f95192",
      "metadata": {
        "colab": {
          "base_uri": "https://localhost:8080/",
          "height": 463
        },
        "id": "f6f95192",
        "outputId": "5c02ba0c-824d-4442-ac2f-93d6527abbab"
      },
      "outputs": [
        {
          "output_type": "display_data",
          "data": {
            "text/html": [
              "<table class=\"dataframe\">\n",
              "<caption>A tibble: 5 × 14</caption>\n",
              "<thead>\n",
              "\t<tr><th scope=col>name</th><th scope=col>height</th><th scope=col>mass</th><th scope=col>hair_color</th><th scope=col>skin_color</th><th scope=col>eye_color</th><th scope=col>birth_year</th><th scope=col>sex</th><th scope=col>gender</th><th scope=col>homeworld</th><th scope=col>species</th><th scope=col>films</th><th scope=col>vehicles</th><th scope=col>starships</th></tr>\n",
              "\t<tr><th scope=col>&lt;chr&gt;</th><th scope=col>&lt;int&gt;</th><th scope=col>&lt;dbl&gt;</th><th scope=col>&lt;chr&gt;</th><th scope=col>&lt;chr&gt;</th><th scope=col>&lt;chr&gt;</th><th scope=col>&lt;dbl&gt;</th><th scope=col>&lt;chr&gt;</th><th scope=col>&lt;chr&gt;</th><th scope=col>&lt;chr&gt;</th><th scope=col>&lt;chr&gt;</th><th scope=col>&lt;list&gt;</th><th scope=col>&lt;list&gt;</th><th scope=col>&lt;list&gt;</th></tr>\n",
              "</thead>\n",
              "<tbody>\n",
              "\t<tr><td>Luke Skywalker</td><td>172</td><td> 77</td><td>blond</td><td>fair       </td><td>blue  </td><td> 19.0</td><td>male  </td><td>masculine</td><td>Tatooine</td><td>Human</td><td>The Empire Strikes Back, Revenge of the Sith    , Return of the Jedi     , A New Hope             , The Force Awakens      </td><td>Snowspeeder          , Imperial Speeder Bike</td><td>X-wing          , Imperial shuttle</td></tr>\n",
              "\t<tr><td>C-3PO         </td><td>167</td><td> 75</td><td>NA   </td><td>gold       </td><td>yellow</td><td>112.0</td><td>none  </td><td>masculine</td><td>Tatooine</td><td>Droid</td><td>The Empire Strikes Back, Attack of the Clones   , The Phantom Menace     , Revenge of the Sith    , Return of the Jedi     , A New Hope             </td><td></td><td></td></tr>\n",
              "\t<tr><td>R2-D2         </td><td> 96</td><td> 32</td><td>NA   </td><td>white, blue</td><td>red   </td><td> 33.0</td><td>none  </td><td>masculine</td><td>Naboo   </td><td>Droid</td><td>The Empire Strikes Back, Attack of the Clones   , The Phantom Menace     , Revenge of the Sith    , Return of the Jedi     , A New Hope             , The Force Awakens      </td><td></td><td></td></tr>\n",
              "\t<tr><td>Darth Vader   </td><td>202</td><td>136</td><td>none </td><td>white      </td><td>yellow</td><td> 41.9</td><td>male  </td><td>masculine</td><td>Tatooine</td><td>Human</td><td>The Empire Strikes Back, Revenge of the Sith    , Return of the Jedi     , A New Hope             </td><td></td><td>TIE Advanced x1</td></tr>\n",
              "\t<tr><td>Leia Organa   </td><td>150</td><td> 49</td><td>brown</td><td>light      </td><td>brown </td><td> 19.0</td><td>female</td><td>feminine </td><td>Alderaan</td><td>Human</td><td>The Empire Strikes Back, Revenge of the Sith    , Return of the Jedi     , A New Hope             , The Force Awakens      </td><td>Imperial Speeder Bike</td><td></td></tr>\n",
              "</tbody>\n",
              "</table>\n"
            ],
            "text/markdown": "\nA tibble: 5 × 14\n\n| name &lt;chr&gt; | height &lt;int&gt; | mass &lt;dbl&gt; | hair_color &lt;chr&gt; | skin_color &lt;chr&gt; | eye_color &lt;chr&gt; | birth_year &lt;dbl&gt; | sex &lt;chr&gt; | gender &lt;chr&gt; | homeworld &lt;chr&gt; | species &lt;chr&gt; | films &lt;list&gt; | vehicles &lt;list&gt; | starships &lt;list&gt; |\n|---|---|---|---|---|---|---|---|---|---|---|---|---|---|\n| Luke Skywalker | 172 |  77 | blond | fair        | blue   |  19.0 | male   | masculine | Tatooine | Human | The Empire Strikes Back, Revenge of the Sith    , Return of the Jedi     , A New Hope             , The Force Awakens       | Snowspeeder          , Imperial Speeder Bike | X-wing          , Imperial shuttle |\n| C-3PO          | 167 |  75 | NA    | gold        | yellow | 112.0 | none   | masculine | Tatooine | Droid | The Empire Strikes Back, Attack of the Clones   , The Phantom Menace     , Revenge of the Sith    , Return of the Jedi     , A New Hope              | <!----> | <!----> |\n| R2-D2          |  96 |  32 | NA    | white, blue | red    |  33.0 | none   | masculine | Naboo    | Droid | The Empire Strikes Back, Attack of the Clones   , The Phantom Menace     , Revenge of the Sith    , Return of the Jedi     , A New Hope             , The Force Awakens       | <!----> | <!----> |\n| Darth Vader    | 202 | 136 | none  | white       | yellow |  41.9 | male   | masculine | Tatooine | Human | The Empire Strikes Back, Revenge of the Sith    , Return of the Jedi     , A New Hope              | <!----> | TIE Advanced x1 |\n| Leia Organa    | 150 |  49 | brown | light       | brown  |  19.0 | female | feminine  | Alderaan | Human | The Empire Strikes Back, Revenge of the Sith    , Return of the Jedi     , A New Hope             , The Force Awakens       | Imperial Speeder Bike | <!----> |\n\n",
            "text/latex": "A tibble: 5 × 14\n\\begin{tabular}{llllllllllllll}\n name & height & mass & hair\\_color & skin\\_color & eye\\_color & birth\\_year & sex & gender & homeworld & species & films & vehicles & starships\\\\\n <chr> & <int> & <dbl> & <chr> & <chr> & <chr> & <dbl> & <chr> & <chr> & <chr> & <chr> & <list> & <list> & <list>\\\\\n\\hline\n\t Luke Skywalker & 172 &  77 & blond & fair        & blue   &  19.0 & male   & masculine & Tatooine & Human & The Empire Strikes Back, Revenge of the Sith    , Return of the Jedi     , A New Hope             , The Force Awakens       & Snowspeeder          , Imperial Speeder Bike & X-wing          , Imperial shuttle\\\\\n\t C-3PO          & 167 &  75 & NA    & gold        & yellow & 112.0 & none   & masculine & Tatooine & Droid & The Empire Strikes Back, Attack of the Clones   , The Phantom Menace     , Revenge of the Sith    , Return of the Jedi     , A New Hope              &  & \\\\\n\t R2-D2          &  96 &  32 & NA    & white, blue & red    &  33.0 & none   & masculine & Naboo    & Droid & The Empire Strikes Back, Attack of the Clones   , The Phantom Menace     , Revenge of the Sith    , Return of the Jedi     , A New Hope             , The Force Awakens       &  & \\\\\n\t Darth Vader    & 202 & 136 & none  & white       & yellow &  41.9 & male   & masculine & Tatooine & Human & The Empire Strikes Back, Revenge of the Sith    , Return of the Jedi     , A New Hope              &  & TIE Advanced x1\\\\\n\t Leia Organa    & 150 &  49 & brown & light       & brown  &  19.0 & female & feminine  & Alderaan & Human & The Empire Strikes Back, Revenge of the Sith    , Return of the Jedi     , A New Hope             , The Force Awakens       & Imperial Speeder Bike & \\\\\n\\end{tabular}\n",
            "text/plain": [
              "  name           height mass hair_color skin_color  eye_color birth_year sex   \n",
              "1 Luke Skywalker 172     77  blond      fair        blue       19.0      male  \n",
              "2 C-3PO          167     75  NA         gold        yellow    112.0      none  \n",
              "3 R2-D2           96     32  NA         white, blue red        33.0      none  \n",
              "4 Darth Vader    202    136  none       white       yellow     41.9      male  \n",
              "5 Leia Organa    150     49  brown      light       brown      19.0      female\n",
              "  gender    homeworld species\n",
              "1 masculine Tatooine  Human  \n",
              "2 masculine Tatooine  Droid  \n",
              "3 masculine Naboo     Droid  \n",
              "4 masculine Tatooine  Human  \n",
              "5 feminine  Alderaan  Human  \n",
              "  films                                                                                                                                                                        \n",
              "1 The Empire Strikes Back, Revenge of the Sith    , Return of the Jedi     , A New Hope             , The Force Awakens                                                        \n",
              "2 The Empire Strikes Back, Attack of the Clones   , The Phantom Menace     , Revenge of the Sith    , Return of the Jedi     , A New Hope                                      \n",
              "3 The Empire Strikes Back, Attack of the Clones   , The Phantom Menace     , Revenge of the Sith    , Return of the Jedi     , A New Hope             , The Force Awakens      \n",
              "4 The Empire Strikes Back, Revenge of the Sith    , Return of the Jedi     , A New Hope                                                                                        \n",
              "5 The Empire Strikes Back, Revenge of the Sith    , Return of the Jedi     , A New Hope             , The Force Awakens                                                        \n",
              "  vehicles                                    \n",
              "1 Snowspeeder          , Imperial Speeder Bike\n",
              "2                                             \n",
              "3                                             \n",
              "4                                             \n",
              "5 Imperial Speeder Bike                       \n",
              "  starships                         \n",
              "1 X-wing          , Imperial shuttle\n",
              "2                                   \n",
              "3                                   \n",
              "4 TIE Advanced x1                   \n",
              "5                                   "
            ]
          },
          "metadata": {}
        }
      ],
      "source": [
        "# Rows 1-5\n",
        "starwars |>\n",
        "  slice(1:5)"
      ]
    },
    {
      "cell_type": "code",
      "source": [
        "# First 5 Rows\n",
        "starwars |>\n",
        "  slice_head(n = 5)"
      ],
      "metadata": {
        "colab": {
          "base_uri": "https://localhost:8080/",
          "height": 463
        },
        "id": "NLCJKr4sfmnG",
        "outputId": "60dfaddf-ebbf-41dd-865f-7ff4c31916dd"
      },
      "id": "NLCJKr4sfmnG",
      "execution_count": null,
      "outputs": [
        {
          "output_type": "display_data",
          "data": {
            "text/html": [
              "<table class=\"dataframe\">\n",
              "<caption>A tibble: 5 × 14</caption>\n",
              "<thead>\n",
              "\t<tr><th scope=col>name</th><th scope=col>height</th><th scope=col>mass</th><th scope=col>hair_color</th><th scope=col>skin_color</th><th scope=col>eye_color</th><th scope=col>birth_year</th><th scope=col>sex</th><th scope=col>gender</th><th scope=col>homeworld</th><th scope=col>species</th><th scope=col>films</th><th scope=col>vehicles</th><th scope=col>starships</th></tr>\n",
              "\t<tr><th scope=col>&lt;chr&gt;</th><th scope=col>&lt;int&gt;</th><th scope=col>&lt;dbl&gt;</th><th scope=col>&lt;chr&gt;</th><th scope=col>&lt;chr&gt;</th><th scope=col>&lt;chr&gt;</th><th scope=col>&lt;dbl&gt;</th><th scope=col>&lt;chr&gt;</th><th scope=col>&lt;chr&gt;</th><th scope=col>&lt;chr&gt;</th><th scope=col>&lt;chr&gt;</th><th scope=col>&lt;list&gt;</th><th scope=col>&lt;list&gt;</th><th scope=col>&lt;list&gt;</th></tr>\n",
              "</thead>\n",
              "<tbody>\n",
              "\t<tr><td>Luke Skywalker</td><td>172</td><td> 77</td><td>blond</td><td>fair       </td><td>blue  </td><td> 19.0</td><td>male  </td><td>masculine</td><td>Tatooine</td><td>Human</td><td>The Empire Strikes Back, Revenge of the Sith    , Return of the Jedi     , A New Hope             , The Force Awakens      </td><td>Snowspeeder          , Imperial Speeder Bike</td><td>X-wing          , Imperial shuttle</td></tr>\n",
              "\t<tr><td>C-3PO         </td><td>167</td><td> 75</td><td>NA   </td><td>gold       </td><td>yellow</td><td>112.0</td><td>none  </td><td>masculine</td><td>Tatooine</td><td>Droid</td><td>The Empire Strikes Back, Attack of the Clones   , The Phantom Menace     , Revenge of the Sith    , Return of the Jedi     , A New Hope             </td><td></td><td></td></tr>\n",
              "\t<tr><td>R2-D2         </td><td> 96</td><td> 32</td><td>NA   </td><td>white, blue</td><td>red   </td><td> 33.0</td><td>none  </td><td>masculine</td><td>Naboo   </td><td>Droid</td><td>The Empire Strikes Back, Attack of the Clones   , The Phantom Menace     , Revenge of the Sith    , Return of the Jedi     , A New Hope             , The Force Awakens      </td><td></td><td></td></tr>\n",
              "\t<tr><td>Darth Vader   </td><td>202</td><td>136</td><td>none </td><td>white      </td><td>yellow</td><td> 41.9</td><td>male  </td><td>masculine</td><td>Tatooine</td><td>Human</td><td>The Empire Strikes Back, Revenge of the Sith    , Return of the Jedi     , A New Hope             </td><td></td><td>TIE Advanced x1</td></tr>\n",
              "\t<tr><td>Leia Organa   </td><td>150</td><td> 49</td><td>brown</td><td>light      </td><td>brown </td><td> 19.0</td><td>female</td><td>feminine </td><td>Alderaan</td><td>Human</td><td>The Empire Strikes Back, Revenge of the Sith    , Return of the Jedi     , A New Hope             , The Force Awakens      </td><td>Imperial Speeder Bike</td><td></td></tr>\n",
              "</tbody>\n",
              "</table>\n"
            ],
            "text/markdown": "\nA tibble: 5 × 14\n\n| name &lt;chr&gt; | height &lt;int&gt; | mass &lt;dbl&gt; | hair_color &lt;chr&gt; | skin_color &lt;chr&gt; | eye_color &lt;chr&gt; | birth_year &lt;dbl&gt; | sex &lt;chr&gt; | gender &lt;chr&gt; | homeworld &lt;chr&gt; | species &lt;chr&gt; | films &lt;list&gt; | vehicles &lt;list&gt; | starships &lt;list&gt; |\n|---|---|---|---|---|---|---|---|---|---|---|---|---|---|\n| Luke Skywalker | 172 |  77 | blond | fair        | blue   |  19.0 | male   | masculine | Tatooine | Human | The Empire Strikes Back, Revenge of the Sith    , Return of the Jedi     , A New Hope             , The Force Awakens       | Snowspeeder          , Imperial Speeder Bike | X-wing          , Imperial shuttle |\n| C-3PO          | 167 |  75 | NA    | gold        | yellow | 112.0 | none   | masculine | Tatooine | Droid | The Empire Strikes Back, Attack of the Clones   , The Phantom Menace     , Revenge of the Sith    , Return of the Jedi     , A New Hope              | <!----> | <!----> |\n| R2-D2          |  96 |  32 | NA    | white, blue | red    |  33.0 | none   | masculine | Naboo    | Droid | The Empire Strikes Back, Attack of the Clones   , The Phantom Menace     , Revenge of the Sith    , Return of the Jedi     , A New Hope             , The Force Awakens       | <!----> | <!----> |\n| Darth Vader    | 202 | 136 | none  | white       | yellow |  41.9 | male   | masculine | Tatooine | Human | The Empire Strikes Back, Revenge of the Sith    , Return of the Jedi     , A New Hope              | <!----> | TIE Advanced x1 |\n| Leia Organa    | 150 |  49 | brown | light       | brown  |  19.0 | female | feminine  | Alderaan | Human | The Empire Strikes Back, Revenge of the Sith    , Return of the Jedi     , A New Hope             , The Force Awakens       | Imperial Speeder Bike | <!----> |\n\n",
            "text/latex": "A tibble: 5 × 14\n\\begin{tabular}{llllllllllllll}\n name & height & mass & hair\\_color & skin\\_color & eye\\_color & birth\\_year & sex & gender & homeworld & species & films & vehicles & starships\\\\\n <chr> & <int> & <dbl> & <chr> & <chr> & <chr> & <dbl> & <chr> & <chr> & <chr> & <chr> & <list> & <list> & <list>\\\\\n\\hline\n\t Luke Skywalker & 172 &  77 & blond & fair        & blue   &  19.0 & male   & masculine & Tatooine & Human & The Empire Strikes Back, Revenge of the Sith    , Return of the Jedi     , A New Hope             , The Force Awakens       & Snowspeeder          , Imperial Speeder Bike & X-wing          , Imperial shuttle\\\\\n\t C-3PO          & 167 &  75 & NA    & gold        & yellow & 112.0 & none   & masculine & Tatooine & Droid & The Empire Strikes Back, Attack of the Clones   , The Phantom Menace     , Revenge of the Sith    , Return of the Jedi     , A New Hope              &  & \\\\\n\t R2-D2          &  96 &  32 & NA    & white, blue & red    &  33.0 & none   & masculine & Naboo    & Droid & The Empire Strikes Back, Attack of the Clones   , The Phantom Menace     , Revenge of the Sith    , Return of the Jedi     , A New Hope             , The Force Awakens       &  & \\\\\n\t Darth Vader    & 202 & 136 & none  & white       & yellow &  41.9 & male   & masculine & Tatooine & Human & The Empire Strikes Back, Revenge of the Sith    , Return of the Jedi     , A New Hope              &  & TIE Advanced x1\\\\\n\t Leia Organa    & 150 &  49 & brown & light       & brown  &  19.0 & female & feminine  & Alderaan & Human & The Empire Strikes Back, Revenge of the Sith    , Return of the Jedi     , A New Hope             , The Force Awakens       & Imperial Speeder Bike & \\\\\n\\end{tabular}\n",
            "text/plain": [
              "  name           height mass hair_color skin_color  eye_color birth_year sex   \n",
              "1 Luke Skywalker 172     77  blond      fair        blue       19.0      male  \n",
              "2 C-3PO          167     75  NA         gold        yellow    112.0      none  \n",
              "3 R2-D2           96     32  NA         white, blue red        33.0      none  \n",
              "4 Darth Vader    202    136  none       white       yellow     41.9      male  \n",
              "5 Leia Organa    150     49  brown      light       brown      19.0      female\n",
              "  gender    homeworld species\n",
              "1 masculine Tatooine  Human  \n",
              "2 masculine Tatooine  Droid  \n",
              "3 masculine Naboo     Droid  \n",
              "4 masculine Tatooine  Human  \n",
              "5 feminine  Alderaan  Human  \n",
              "  films                                                                                                                                                                        \n",
              "1 The Empire Strikes Back, Revenge of the Sith    , Return of the Jedi     , A New Hope             , The Force Awakens                                                        \n",
              "2 The Empire Strikes Back, Attack of the Clones   , The Phantom Menace     , Revenge of the Sith    , Return of the Jedi     , A New Hope                                      \n",
              "3 The Empire Strikes Back, Attack of the Clones   , The Phantom Menace     , Revenge of the Sith    , Return of the Jedi     , A New Hope             , The Force Awakens      \n",
              "4 The Empire Strikes Back, Revenge of the Sith    , Return of the Jedi     , A New Hope                                                                                        \n",
              "5 The Empire Strikes Back, Revenge of the Sith    , Return of the Jedi     , A New Hope             , The Force Awakens                                                        \n",
              "  vehicles                                    \n",
              "1 Snowspeeder          , Imperial Speeder Bike\n",
              "2                                             \n",
              "3                                             \n",
              "4                                             \n",
              "5 Imperial Speeder Bike                       \n",
              "  starships                         \n",
              "1 X-wing          , Imperial shuttle\n",
              "2                                   \n",
              "3                                   \n",
              "4 TIE Advanced x1                   \n",
              "5                                   "
            ]
          },
          "metadata": {}
        }
      ]
    },
    {
      "cell_type": "code",
      "source": [
        "# Last 5 Rows\n",
        "starwars |>\n",
        "  slice_tail(n = 5)"
      ],
      "metadata": {
        "colab": {
          "base_uri": "https://localhost:8080/",
          "height": 324
        },
        "id": "o0rXNHtDfn18",
        "outputId": "538e7dc9-d96e-4913-e88e-8e29d5744cf8"
      },
      "id": "o0rXNHtDfn18",
      "execution_count": null,
      "outputs": [
        {
          "output_type": "display_data",
          "data": {
            "text/html": [
              "<table class=\"dataframe\">\n",
              "<caption>A tibble: 5 × 14</caption>\n",
              "<thead>\n",
              "\t<tr><th scope=col>name</th><th scope=col>height</th><th scope=col>mass</th><th scope=col>hair_color</th><th scope=col>skin_color</th><th scope=col>eye_color</th><th scope=col>birth_year</th><th scope=col>sex</th><th scope=col>gender</th><th scope=col>homeworld</th><th scope=col>species</th><th scope=col>films</th><th scope=col>vehicles</th><th scope=col>starships</th></tr>\n",
              "\t<tr><th scope=col>&lt;chr&gt;</th><th scope=col>&lt;int&gt;</th><th scope=col>&lt;dbl&gt;</th><th scope=col>&lt;chr&gt;</th><th scope=col>&lt;chr&gt;</th><th scope=col>&lt;chr&gt;</th><th scope=col>&lt;dbl&gt;</th><th scope=col>&lt;chr&gt;</th><th scope=col>&lt;chr&gt;</th><th scope=col>&lt;chr&gt;</th><th scope=col>&lt;chr&gt;</th><th scope=col>&lt;list&gt;</th><th scope=col>&lt;list&gt;</th><th scope=col>&lt;list&gt;</th></tr>\n",
              "</thead>\n",
              "<tbody>\n",
              "\t<tr><td>Rey           </td><td> NA</td><td>NA</td><td>brown  </td><td>light  </td><td>hazel  </td><td>NA</td><td>female</td><td>feminine </td><td>NA   </td><td>Human</td><td>The Force Awakens</td><td></td><td></td></tr>\n",
              "\t<tr><td>Poe Dameron   </td><td> NA</td><td>NA</td><td>brown  </td><td>light  </td><td>brown  </td><td>NA</td><td>male  </td><td>masculine</td><td>NA   </td><td>Human</td><td>The Force Awakens</td><td></td><td>T-70 X-wing fighter</td></tr>\n",
              "\t<tr><td>BB8           </td><td> NA</td><td>NA</td><td>none   </td><td>none   </td><td>black  </td><td>NA</td><td>none  </td><td>masculine</td><td>NA   </td><td>Droid</td><td>The Force Awakens</td><td></td><td></td></tr>\n",
              "\t<tr><td>Captain Phasma</td><td> NA</td><td>NA</td><td>unknown</td><td>unknown</td><td>unknown</td><td>NA</td><td>NA    </td><td>NA       </td><td>NA   </td><td>NA   </td><td>The Force Awakens</td><td></td><td></td></tr>\n",
              "\t<tr><td>Padmé Amidala </td><td>165</td><td>45</td><td>brown  </td><td>light  </td><td>brown  </td><td>46</td><td>female</td><td>feminine </td><td>Naboo</td><td>Human</td><td>Attack of the Clones, The Phantom Menace  , Revenge of the Sith </td><td></td><td>H-type Nubian yacht, Naboo star skiff   , Naboo fighter      </td></tr>\n",
              "</tbody>\n",
              "</table>\n"
            ],
            "text/markdown": "\nA tibble: 5 × 14\n\n| name &lt;chr&gt; | height &lt;int&gt; | mass &lt;dbl&gt; | hair_color &lt;chr&gt; | skin_color &lt;chr&gt; | eye_color &lt;chr&gt; | birth_year &lt;dbl&gt; | sex &lt;chr&gt; | gender &lt;chr&gt; | homeworld &lt;chr&gt; | species &lt;chr&gt; | films &lt;list&gt; | vehicles &lt;list&gt; | starships &lt;list&gt; |\n|---|---|---|---|---|---|---|---|---|---|---|---|---|---|\n| Rey            |  NA | NA | brown   | light   | hazel   | NA | female | feminine  | NA    | Human | The Force Awakens | <!----> | <!----> |\n| Poe Dameron    |  NA | NA | brown   | light   | brown   | NA | male   | masculine | NA    | Human | The Force Awakens | <!----> | T-70 X-wing fighter |\n| BB8            |  NA | NA | none    | none    | black   | NA | none   | masculine | NA    | Droid | The Force Awakens | <!----> | <!----> |\n| Captain Phasma |  NA | NA | unknown | unknown | unknown | NA | NA     | NA        | NA    | NA    | The Force Awakens | <!----> | <!----> |\n| Padmé Amidala  | 165 | 45 | brown   | light   | brown   | 46 | female | feminine  | Naboo | Human | Attack of the Clones, The Phantom Menace  , Revenge of the Sith  | <!----> | H-type Nubian yacht, Naboo star skiff   , Naboo fighter       |\n\n",
            "text/latex": "A tibble: 5 × 14\n\\begin{tabular}{llllllllllllll}\n name & height & mass & hair\\_color & skin\\_color & eye\\_color & birth\\_year & sex & gender & homeworld & species & films & vehicles & starships\\\\\n <chr> & <int> & <dbl> & <chr> & <chr> & <chr> & <dbl> & <chr> & <chr> & <chr> & <chr> & <list> & <list> & <list>\\\\\n\\hline\n\t Rey            &  NA & NA & brown   & light   & hazel   & NA & female & feminine  & NA    & Human & The Force Awakens &  & \\\\\n\t Poe Dameron    &  NA & NA & brown   & light   & brown   & NA & male   & masculine & NA    & Human & The Force Awakens &  & T-70 X-wing fighter\\\\\n\t BB8            &  NA & NA & none    & none    & black   & NA & none   & masculine & NA    & Droid & The Force Awakens &  & \\\\\n\t Captain Phasma &  NA & NA & unknown & unknown & unknown & NA & NA     & NA        & NA    & NA    & The Force Awakens &  & \\\\\n\t Padmé Amidala  & 165 & 45 & brown   & light   & brown   & 46 & female & feminine  & Naboo & Human & Attack of the Clones, The Phantom Menace  , Revenge of the Sith  &  & H-type Nubian yacht, Naboo star skiff   , Naboo fighter      \\\\\n\\end{tabular}\n",
            "text/plain": [
              "  name           height mass hair_color skin_color eye_color birth_year sex   \n",
              "1 Rey             NA    NA   brown      light      hazel     NA         female\n",
              "2 Poe Dameron     NA    NA   brown      light      brown     NA         male  \n",
              "3 BB8             NA    NA   none       none       black     NA         none  \n",
              "4 Captain Phasma  NA    NA   unknown    unknown    unknown   NA         NA    \n",
              "5 Padmé Amidala  165    45   brown      light      brown     46         female\n",
              "  gender    homeworld species\n",
              "1 feminine  NA        Human  \n",
              "2 masculine NA        Human  \n",
              "3 masculine NA        Droid  \n",
              "4 NA        NA        NA     \n",
              "5 feminine  Naboo     Human  \n",
              "  films                                                            vehicles\n",
              "1 The Force Awakens                                                        \n",
              "2 The Force Awakens                                                        \n",
              "3 The Force Awakens                                                        \n",
              "4 The Force Awakens                                                        \n",
              "5 Attack of the Clones, The Phantom Menace  , Revenge of the Sith          \n",
              "  starships                                                    \n",
              "1                                                              \n",
              "2 T-70 X-wing fighter                                          \n",
              "3                                                              \n",
              "4                                                              \n",
              "5 H-type Nubian yacht, Naboo star skiff   , Naboo fighter      "
            ]
          },
          "metadata": {}
        }
      ]
    },
    {
      "cell_type": "code",
      "source": [
        "# First 5 Rows arranged by height\n",
        "starwars |>\n",
        "  slice_min(height, n = 5)"
      ],
      "metadata": {
        "colab": {
          "base_uri": "https://localhost:8080/",
          "height": 425
        },
        "id": "5_vCp-ZEfpEy",
        "outputId": "5aa5990f-8e27-4c39-b929-820f0488a775"
      },
      "id": "5_vCp-ZEfpEy",
      "execution_count": null,
      "outputs": [
        {
          "output_type": "display_data",
          "data": {
            "text/html": [
              "<table class=\"dataframe\">\n",
              "<caption>A tibble: 6 × 14</caption>\n",
              "<thead>\n",
              "\t<tr><th scope=col>name</th><th scope=col>height</th><th scope=col>mass</th><th scope=col>hair_color</th><th scope=col>skin_color</th><th scope=col>eye_color</th><th scope=col>birth_year</th><th scope=col>sex</th><th scope=col>gender</th><th scope=col>homeworld</th><th scope=col>species</th><th scope=col>films</th><th scope=col>vehicles</th><th scope=col>starships</th></tr>\n",
              "\t<tr><th scope=col>&lt;chr&gt;</th><th scope=col>&lt;int&gt;</th><th scope=col>&lt;dbl&gt;</th><th scope=col>&lt;chr&gt;</th><th scope=col>&lt;chr&gt;</th><th scope=col>&lt;chr&gt;</th><th scope=col>&lt;dbl&gt;</th><th scope=col>&lt;chr&gt;</th><th scope=col>&lt;chr&gt;</th><th scope=col>&lt;chr&gt;</th><th scope=col>&lt;chr&gt;</th><th scope=col>&lt;list&gt;</th><th scope=col>&lt;list&gt;</th><th scope=col>&lt;list&gt;</th></tr>\n",
              "</thead>\n",
              "<tbody>\n",
              "\t<tr><td>Yoda                 </td><td>66</td><td>17</td><td>white</td><td>green      </td><td>brown    </td><td>896</td><td>male</td><td>masculine</td><td>NA         </td><td>Yoda's species</td><td>The Empire Strikes Back, Attack of the Clones   , The Phantom Menace     , Revenge of the Sith    , Return of the Jedi     </td><td></td><td></td></tr>\n",
              "\t<tr><td>Ratts Tyerell        </td><td>79</td><td>15</td><td>none </td><td>grey, blue </td><td>unknown  </td><td> NA</td><td>male</td><td>masculine</td><td>Aleen Minor</td><td>Aleena        </td><td>The Phantom Menace</td><td></td><td></td></tr>\n",
              "\t<tr><td>Wicket Systri Warrick</td><td>88</td><td>20</td><td>brown</td><td>brown      </td><td>brown    </td><td>  8</td><td>male</td><td>masculine</td><td>Endor      </td><td>Ewok          </td><td>Return of the Jedi</td><td></td><td></td></tr>\n",
              "\t<tr><td>Dud Bolt             </td><td>94</td><td>45</td><td>none </td><td>blue, grey </td><td>yellow   </td><td> NA</td><td>male</td><td>masculine</td><td>Vulpter    </td><td>Vulptereen    </td><td>The Phantom Menace</td><td></td><td></td></tr>\n",
              "\t<tr><td>R2-D2                </td><td>96</td><td>32</td><td>NA   </td><td>white, blue</td><td>red      </td><td> 33</td><td>none</td><td>masculine</td><td>Naboo      </td><td>Droid         </td><td>The Empire Strikes Back, Attack of the Clones   , The Phantom Menace     , Revenge of the Sith    , Return of the Jedi     , A New Hope             , The Force Awakens      </td><td></td><td></td></tr>\n",
              "\t<tr><td>R4-P17               </td><td>96</td><td>NA</td><td>none </td><td>silver, red</td><td>red, blue</td><td> NA</td><td>none</td><td>feminine </td><td>NA         </td><td>Droid         </td><td>Attack of the Clones, Revenge of the Sith </td><td></td><td></td></tr>\n",
              "</tbody>\n",
              "</table>\n"
            ],
            "text/markdown": "\nA tibble: 6 × 14\n\n| name &lt;chr&gt; | height &lt;int&gt; | mass &lt;dbl&gt; | hair_color &lt;chr&gt; | skin_color &lt;chr&gt; | eye_color &lt;chr&gt; | birth_year &lt;dbl&gt; | sex &lt;chr&gt; | gender &lt;chr&gt; | homeworld &lt;chr&gt; | species &lt;chr&gt; | films &lt;list&gt; | vehicles &lt;list&gt; | starships &lt;list&gt; |\n|---|---|---|---|---|---|---|---|---|---|---|---|---|---|\n| Yoda                  | 66 | 17 | white | green       | brown     | 896 | male | masculine | NA          | Yoda's species | The Empire Strikes Back, Attack of the Clones   , The Phantom Menace     , Revenge of the Sith    , Return of the Jedi      | <!----> | <!----> |\n| Ratts Tyerell         | 79 | 15 | none  | grey, blue  | unknown   |  NA | male | masculine | Aleen Minor | Aleena         | The Phantom Menace | <!----> | <!----> |\n| Wicket Systri Warrick | 88 | 20 | brown | brown       | brown     |   8 | male | masculine | Endor       | Ewok           | Return of the Jedi | <!----> | <!----> |\n| Dud Bolt              | 94 | 45 | none  | blue, grey  | yellow    |  NA | male | masculine | Vulpter     | Vulptereen     | The Phantom Menace | <!----> | <!----> |\n| R2-D2                 | 96 | 32 | NA    | white, blue | red       |  33 | none | masculine | Naboo       | Droid          | The Empire Strikes Back, Attack of the Clones   , The Phantom Menace     , Revenge of the Sith    , Return of the Jedi     , A New Hope             , The Force Awakens       | <!----> | <!----> |\n| R4-P17                | 96 | NA | none  | silver, red | red, blue |  NA | none | feminine  | NA          | Droid          | Attack of the Clones, Revenge of the Sith  | <!----> | <!----> |\n\n",
            "text/latex": "A tibble: 6 × 14\n\\begin{tabular}{llllllllllllll}\n name & height & mass & hair\\_color & skin\\_color & eye\\_color & birth\\_year & sex & gender & homeworld & species & films & vehicles & starships\\\\\n <chr> & <int> & <dbl> & <chr> & <chr> & <chr> & <dbl> & <chr> & <chr> & <chr> & <chr> & <list> & <list> & <list>\\\\\n\\hline\n\t Yoda                  & 66 & 17 & white & green       & brown     & 896 & male & masculine & NA          & Yoda's species & The Empire Strikes Back, Attack of the Clones   , The Phantom Menace     , Revenge of the Sith    , Return of the Jedi      &  & \\\\\n\t Ratts Tyerell         & 79 & 15 & none  & grey, blue  & unknown   &  NA & male & masculine & Aleen Minor & Aleena         & The Phantom Menace &  & \\\\\n\t Wicket Systri Warrick & 88 & 20 & brown & brown       & brown     &   8 & male & masculine & Endor       & Ewok           & Return of the Jedi &  & \\\\\n\t Dud Bolt              & 94 & 45 & none  & blue, grey  & yellow    &  NA & male & masculine & Vulpter     & Vulptereen     & The Phantom Menace &  & \\\\\n\t R2-D2                 & 96 & 32 & NA    & white, blue & red       &  33 & none & masculine & Naboo       & Droid          & The Empire Strikes Back, Attack of the Clones   , The Phantom Menace     , Revenge of the Sith    , Return of the Jedi     , A New Hope             , The Force Awakens       &  & \\\\\n\t R4-P17                & 96 & NA & none  & silver, red & red, blue &  NA & none & feminine  & NA          & Droid          & Attack of the Clones, Revenge of the Sith  &  & \\\\\n\\end{tabular}\n",
            "text/plain": [
              "  name                  height mass hair_color skin_color  eye_color birth_year\n",
              "1 Yoda                  66     17   white      green       brown     896       \n",
              "2 Ratts Tyerell         79     15   none       grey, blue  unknown    NA       \n",
              "3 Wicket Systri Warrick 88     20   brown      brown       brown       8       \n",
              "4 Dud Bolt              94     45   none       blue, grey  yellow     NA       \n",
              "5 R2-D2                 96     32   NA         white, blue red        33       \n",
              "6 R4-P17                96     NA   none       silver, red red, blue  NA       \n",
              "  sex  gender    homeworld   species       \n",
              "1 male masculine NA          Yoda's species\n",
              "2 male masculine Aleen Minor Aleena        \n",
              "3 male masculine Endor       Ewok          \n",
              "4 male masculine Vulpter     Vulptereen    \n",
              "5 none masculine Naboo       Droid         \n",
              "6 none feminine  NA          Droid         \n",
              "  films                                                                                                                                                                        \n",
              "1 The Empire Strikes Back, Attack of the Clones   , The Phantom Menace     , Revenge of the Sith    , Return of the Jedi                                                       \n",
              "2 The Phantom Menace                                                                                                                                                           \n",
              "3 Return of the Jedi                                                                                                                                                           \n",
              "4 The Phantom Menace                                                                                                                                                           \n",
              "5 The Empire Strikes Back, Attack of the Clones   , The Phantom Menace     , Revenge of the Sith    , Return of the Jedi     , A New Hope             , The Force Awakens      \n",
              "6 Attack of the Clones, Revenge of the Sith                                                                                                                                    \n",
              "  vehicles starships\n",
              "1                   \n",
              "2                   \n",
              "3                   \n",
              "4                   \n",
              "5                   \n",
              "6                   "
            ]
          },
          "metadata": {}
        }
      ]
    },
    {
      "cell_type": "code",
      "source": [
        "# First 5 Rows arranged by descending height\n",
        "starwars |>\n",
        "  slice_max(height, n = 5)"
      ],
      "metadata": {
        "colab": {
          "base_uri": "https://localhost:8080/",
          "height": 307
        },
        "id": "ET3KHzG6fqdU",
        "outputId": "7060f159-6269-4119-fe08-13380efdd464"
      },
      "id": "ET3KHzG6fqdU",
      "execution_count": null,
      "outputs": [
        {
          "output_type": "display_data",
          "data": {
            "text/html": [
              "<table class=\"dataframe\">\n",
              "<caption>A tibble: 5 × 14</caption>\n",
              "<thead>\n",
              "\t<tr><th scope=col>name</th><th scope=col>height</th><th scope=col>mass</th><th scope=col>hair_color</th><th scope=col>skin_color</th><th scope=col>eye_color</th><th scope=col>birth_year</th><th scope=col>sex</th><th scope=col>gender</th><th scope=col>homeworld</th><th scope=col>species</th><th scope=col>films</th><th scope=col>vehicles</th><th scope=col>starships</th></tr>\n",
              "\t<tr><th scope=col>&lt;chr&gt;</th><th scope=col>&lt;int&gt;</th><th scope=col>&lt;dbl&gt;</th><th scope=col>&lt;chr&gt;</th><th scope=col>&lt;chr&gt;</th><th scope=col>&lt;chr&gt;</th><th scope=col>&lt;dbl&gt;</th><th scope=col>&lt;chr&gt;</th><th scope=col>&lt;chr&gt;</th><th scope=col>&lt;chr&gt;</th><th scope=col>&lt;chr&gt;</th><th scope=col>&lt;list&gt;</th><th scope=col>&lt;list&gt;</th><th scope=col>&lt;list&gt;</th></tr>\n",
              "</thead>\n",
              "<tbody>\n",
              "\t<tr><td>Yarael Poof </td><td>264</td><td> NA</td><td>none </td><td>white  </td><td>yellow</td><td> NA</td><td>male</td><td>masculine</td><td>Quermia </td><td>Quermian</td><td>The Phantom Menace</td><td></td><td></td></tr>\n",
              "\t<tr><td>Tarfful     </td><td>234</td><td>136</td><td>brown</td><td>brown  </td><td>blue  </td><td> NA</td><td>male</td><td>masculine</td><td>Kashyyyk</td><td>Wookiee </td><td>Revenge of the Sith</td><td></td><td></td></tr>\n",
              "\t<tr><td>Lama Su     </td><td>229</td><td> 88</td><td>none </td><td>grey   </td><td>black </td><td> NA</td><td>male</td><td>masculine</td><td>Kamino  </td><td>Kaminoan</td><td>Attack of the Clones</td><td></td><td></td></tr>\n",
              "\t<tr><td>Chewbacca   </td><td>228</td><td>112</td><td>brown</td><td>unknown</td><td>blue  </td><td>200</td><td>male</td><td>masculine</td><td>Kashyyyk</td><td>Wookiee </td><td>The Empire Strikes Back, Revenge of the Sith    , Return of the Jedi     , A New Hope             , The Force Awakens      </td><td>AT-ST</td><td>Millennium Falcon, Imperial shuttle </td></tr>\n",
              "\t<tr><td>Roos Tarpals</td><td>224</td><td> 82</td><td>none </td><td>grey   </td><td>orange</td><td> NA</td><td>male</td><td>masculine</td><td>Naboo   </td><td>Gungan  </td><td>The Phantom Menace</td><td></td><td></td></tr>\n",
              "</tbody>\n",
              "</table>\n"
            ],
            "text/markdown": "\nA tibble: 5 × 14\n\n| name &lt;chr&gt; | height &lt;int&gt; | mass &lt;dbl&gt; | hair_color &lt;chr&gt; | skin_color &lt;chr&gt; | eye_color &lt;chr&gt; | birth_year &lt;dbl&gt; | sex &lt;chr&gt; | gender &lt;chr&gt; | homeworld &lt;chr&gt; | species &lt;chr&gt; | films &lt;list&gt; | vehicles &lt;list&gt; | starships &lt;list&gt; |\n|---|---|---|---|---|---|---|---|---|---|---|---|---|---|\n| Yarael Poof  | 264 |  NA | none  | white   | yellow |  NA | male | masculine | Quermia  | Quermian | The Phantom Menace | <!----> | <!----> |\n| Tarfful      | 234 | 136 | brown | brown   | blue   |  NA | male | masculine | Kashyyyk | Wookiee  | Revenge of the Sith | <!----> | <!----> |\n| Lama Su      | 229 |  88 | none  | grey    | black  |  NA | male | masculine | Kamino   | Kaminoan | Attack of the Clones | <!----> | <!----> |\n| Chewbacca    | 228 | 112 | brown | unknown | blue   | 200 | male | masculine | Kashyyyk | Wookiee  | The Empire Strikes Back, Revenge of the Sith    , Return of the Jedi     , A New Hope             , The Force Awakens       | AT-ST | Millennium Falcon, Imperial shuttle  |\n| Roos Tarpals | 224 |  82 | none  | grey    | orange |  NA | male | masculine | Naboo    | Gungan   | The Phantom Menace | <!----> | <!----> |\n\n",
            "text/latex": "A tibble: 5 × 14\n\\begin{tabular}{llllllllllllll}\n name & height & mass & hair\\_color & skin\\_color & eye\\_color & birth\\_year & sex & gender & homeworld & species & films & vehicles & starships\\\\\n <chr> & <int> & <dbl> & <chr> & <chr> & <chr> & <dbl> & <chr> & <chr> & <chr> & <chr> & <list> & <list> & <list>\\\\\n\\hline\n\t Yarael Poof  & 264 &  NA & none  & white   & yellow &  NA & male & masculine & Quermia  & Quermian & The Phantom Menace &  & \\\\\n\t Tarfful      & 234 & 136 & brown & brown   & blue   &  NA & male & masculine & Kashyyyk & Wookiee  & Revenge of the Sith &  & \\\\\n\t Lama Su      & 229 &  88 & none  & grey    & black  &  NA & male & masculine & Kamino   & Kaminoan & Attack of the Clones &  & \\\\\n\t Chewbacca    & 228 & 112 & brown & unknown & blue   & 200 & male & masculine & Kashyyyk & Wookiee  & The Empire Strikes Back, Revenge of the Sith    , Return of the Jedi     , A New Hope             , The Force Awakens       & AT-ST & Millennium Falcon, Imperial shuttle \\\\\n\t Roos Tarpals & 224 &  82 & none  & grey    & orange &  NA & male & masculine & Naboo    & Gungan   & The Phantom Menace &  & \\\\\n\\end{tabular}\n",
            "text/plain": [
              "  name         height mass hair_color skin_color eye_color birth_year sex \n",
              "1 Yarael Poof  264     NA  none       white      yellow     NA        male\n",
              "2 Tarfful      234    136  brown      brown      blue       NA        male\n",
              "3 Lama Su      229     88  none       grey       black      NA        male\n",
              "4 Chewbacca    228    112  brown      unknown    blue      200        male\n",
              "5 Roos Tarpals 224     82  none       grey       orange     NA        male\n",
              "  gender    homeworld species \n",
              "1 masculine Quermia   Quermian\n",
              "2 masculine Kashyyyk  Wookiee \n",
              "3 masculine Kamino    Kaminoan\n",
              "4 masculine Kashyyyk  Wookiee \n",
              "5 masculine Naboo     Gungan  \n",
              "  films                                                                                                                      \n",
              "1 The Phantom Menace                                                                                                         \n",
              "2 Revenge of the Sith                                                                                                        \n",
              "3 Attack of the Clones                                                                                                       \n",
              "4 The Empire Strikes Back, Revenge of the Sith    , Return of the Jedi     , A New Hope             , The Force Awakens      \n",
              "5 The Phantom Menace                                                                                                         \n",
              "  vehicles starships                           \n",
              "1                                              \n",
              "2                                              \n",
              "3                                              \n",
              "4 AT-ST    Millennium Falcon, Imperial shuttle \n",
              "5                                              "
            ]
          },
          "metadata": {}
        }
      ]
    },
    {
      "cell_type": "code",
      "source": [
        "# Random 5 Rows\n",
        "starwars |>\n",
        "  slice_sample(n = 5)"
      ],
      "metadata": {
        "colab": {
          "base_uri": "https://localhost:8080/",
          "height": 342
        },
        "id": "6GWsLEGYfroJ",
        "outputId": "95c40697-80ed-41b3-8c3c-5d84eebe5394"
      },
      "id": "6GWsLEGYfroJ",
      "execution_count": null,
      "outputs": [
        {
          "output_type": "display_data",
          "data": {
            "text/html": [
              "<table class=\"dataframe\">\n",
              "<caption>A tibble: 5 × 14</caption>\n",
              "<thead>\n",
              "\t<tr><th scope=col>name</th><th scope=col>height</th><th scope=col>mass</th><th scope=col>hair_color</th><th scope=col>skin_color</th><th scope=col>eye_color</th><th scope=col>birth_year</th><th scope=col>sex</th><th scope=col>gender</th><th scope=col>homeworld</th><th scope=col>species</th><th scope=col>films</th><th scope=col>vehicles</th><th scope=col>starships</th></tr>\n",
              "\t<tr><th scope=col>&lt;chr&gt;</th><th scope=col>&lt;int&gt;</th><th scope=col>&lt;dbl&gt;</th><th scope=col>&lt;chr&gt;</th><th scope=col>&lt;chr&gt;</th><th scope=col>&lt;chr&gt;</th><th scope=col>&lt;dbl&gt;</th><th scope=col>&lt;chr&gt;</th><th scope=col>&lt;chr&gt;</th><th scope=col>&lt;chr&gt;</th><th scope=col>&lt;chr&gt;</th><th scope=col>&lt;list&gt;</th><th scope=col>&lt;list&gt;</th><th scope=col>&lt;list&gt;</th></tr>\n",
              "</thead>\n",
              "<tbody>\n",
              "\t<tr><td>Raymus Antilles </td><td>188</td><td> 79</td><td>brown</td><td>light        </td><td>brown</td><td>NA</td><td>male</td><td>masculine</td><td>Alderaan      </td><td>Human    </td><td>Revenge of the Sith, A New Hope         </td><td></td><td></td></tr>\n",
              "\t<tr><td>Jek Tono Porkins</td><td>180</td><td>110</td><td>brown</td><td>fair         </td><td>blue </td><td>NA</td><td>male</td><td>masculine</td><td>Bestine IV    </td><td>Human    </td><td>A New Hope</td><td></td><td>X-wing</td></tr>\n",
              "\t<tr><td>Nute Gunray     </td><td>191</td><td> 90</td><td>none </td><td>mottled green</td><td>red  </td><td>NA</td><td>male</td><td>masculine</td><td>Cato Neimoidia</td><td>Neimodian</td><td>Attack of the Clones, The Phantom Menace  , Revenge of the Sith </td><td></td><td></td></tr>\n",
              "\t<tr><td>Nien Nunb       </td><td>160</td><td> 68</td><td>none </td><td>grey         </td><td>black</td><td>NA</td><td>male</td><td>masculine</td><td>Sullust       </td><td>Sullustan</td><td>Return of the Jedi</td><td></td><td>Millennium Falcon</td></tr>\n",
              "\t<tr><td>Han Solo        </td><td>180</td><td> 80</td><td>brown</td><td>fair         </td><td>brown</td><td>29</td><td>male</td><td>masculine</td><td>Corellia      </td><td>Human    </td><td>The Empire Strikes Back, Return of the Jedi     , A New Hope             , The Force Awakens      </td><td></td><td>Millennium Falcon, Imperial shuttle </td></tr>\n",
              "</tbody>\n",
              "</table>\n"
            ],
            "text/markdown": "\nA tibble: 5 × 14\n\n| name &lt;chr&gt; | height &lt;int&gt; | mass &lt;dbl&gt; | hair_color &lt;chr&gt; | skin_color &lt;chr&gt; | eye_color &lt;chr&gt; | birth_year &lt;dbl&gt; | sex &lt;chr&gt; | gender &lt;chr&gt; | homeworld &lt;chr&gt; | species &lt;chr&gt; | films &lt;list&gt; | vehicles &lt;list&gt; | starships &lt;list&gt; |\n|---|---|---|---|---|---|---|---|---|---|---|---|---|---|\n| Raymus Antilles  | 188 |  79 | brown | light         | brown | NA | male | masculine | Alderaan       | Human     | Revenge of the Sith, A New Hope          | <!----> | <!----> |\n| Jek Tono Porkins | 180 | 110 | brown | fair          | blue  | NA | male | masculine | Bestine IV     | Human     | A New Hope | <!----> | X-wing |\n| Nute Gunray      | 191 |  90 | none  | mottled green | red   | NA | male | masculine | Cato Neimoidia | Neimodian | Attack of the Clones, The Phantom Menace  , Revenge of the Sith  | <!----> | <!----> |\n| Nien Nunb        | 160 |  68 | none  | grey          | black | NA | male | masculine | Sullust        | Sullustan | Return of the Jedi | <!----> | Millennium Falcon |\n| Han Solo         | 180 |  80 | brown | fair          | brown | 29 | male | masculine | Corellia       | Human     | The Empire Strikes Back, Return of the Jedi     , A New Hope             , The Force Awakens       | <!----> | Millennium Falcon, Imperial shuttle  |\n\n",
            "text/latex": "A tibble: 5 × 14\n\\begin{tabular}{llllllllllllll}\n name & height & mass & hair\\_color & skin\\_color & eye\\_color & birth\\_year & sex & gender & homeworld & species & films & vehicles & starships\\\\\n <chr> & <int> & <dbl> & <chr> & <chr> & <chr> & <dbl> & <chr> & <chr> & <chr> & <chr> & <list> & <list> & <list>\\\\\n\\hline\n\t Raymus Antilles  & 188 &  79 & brown & light         & brown & NA & male & masculine & Alderaan       & Human     & Revenge of the Sith, A New Hope          &  & \\\\\n\t Jek Tono Porkins & 180 & 110 & brown & fair          & blue  & NA & male & masculine & Bestine IV     & Human     & A New Hope &  & X-wing\\\\\n\t Nute Gunray      & 191 &  90 & none  & mottled green & red   & NA & male & masculine & Cato Neimoidia & Neimodian & Attack of the Clones, The Phantom Menace  , Revenge of the Sith  &  & \\\\\n\t Nien Nunb        & 160 &  68 & none  & grey          & black & NA & male & masculine & Sullust        & Sullustan & Return of the Jedi &  & Millennium Falcon\\\\\n\t Han Solo         & 180 &  80 & brown & fair          & brown & 29 & male & masculine & Corellia       & Human     & The Empire Strikes Back, Return of the Jedi     , A New Hope             , The Force Awakens       &  & Millennium Falcon, Imperial shuttle \\\\\n\\end{tabular}\n",
            "text/plain": [
              "  name             height mass hair_color skin_color    eye_color birth_year\n",
              "1 Raymus Antilles  188     79  brown      light         brown     NA        \n",
              "2 Jek Tono Porkins 180    110  brown      fair          blue      NA        \n",
              "3 Nute Gunray      191     90  none       mottled green red       NA        \n",
              "4 Nien Nunb        160     68  none       grey          black     NA        \n",
              "5 Han Solo         180     80  brown      fair          brown     29        \n",
              "  sex  gender    homeworld      species  \n",
              "1 male masculine Alderaan       Human    \n",
              "2 male masculine Bestine IV     Human    \n",
              "3 male masculine Cato Neimoidia Neimodian\n",
              "4 male masculine Sullust        Sullustan\n",
              "5 male masculine Corellia       Human    \n",
              "  films                                                                                             \n",
              "1 Revenge of the Sith, A New Hope                                                                   \n",
              "2 A New Hope                                                                                        \n",
              "3 Attack of the Clones, The Phantom Menace  , Revenge of the Sith                                   \n",
              "4 Return of the Jedi                                                                                \n",
              "5 The Empire Strikes Back, Return of the Jedi     , A New Hope             , The Force Awakens      \n",
              "  vehicles starships                           \n",
              "1                                              \n",
              "2          X-wing                              \n",
              "3                                              \n",
              "4          Millennium Falcon                   \n",
              "5          Millennium Falcon, Imperial shuttle "
            ]
          },
          "metadata": {}
        }
      ]
    },
    {
      "cell_type": "code",
      "source": [
        "# Random 20% Rows\n",
        "starwars |>\n",
        "  slice_sample(prop = 0.20) |>\n",
        "  head()"
      ],
      "metadata": {
        "colab": {
          "base_uri": "https://localhost:8080/",
          "height": 390
        },
        "id": "6LmxEosOftM2",
        "outputId": "28fe6f91-e8f3-4f66-c15c-3dc0c9ee7e00"
      },
      "id": "6LmxEosOftM2",
      "execution_count": null,
      "outputs": [
        {
          "output_type": "display_data",
          "data": {
            "text/html": [
              "<table class=\"dataframe\">\n",
              "<caption>A tibble: 6 × 14</caption>\n",
              "<thead>\n",
              "\t<tr><th scope=col>name</th><th scope=col>height</th><th scope=col>mass</th><th scope=col>hair_color</th><th scope=col>skin_color</th><th scope=col>eye_color</th><th scope=col>birth_year</th><th scope=col>sex</th><th scope=col>gender</th><th scope=col>homeworld</th><th scope=col>species</th><th scope=col>films</th><th scope=col>vehicles</th><th scope=col>starships</th></tr>\n",
              "\t<tr><th scope=col>&lt;chr&gt;</th><th scope=col>&lt;int&gt;</th><th scope=col>&lt;dbl&gt;</th><th scope=col>&lt;chr&gt;</th><th scope=col>&lt;chr&gt;</th><th scope=col>&lt;chr&gt;</th><th scope=col>&lt;dbl&gt;</th><th scope=col>&lt;chr&gt;</th><th scope=col>&lt;chr&gt;</th><th scope=col>&lt;chr&gt;</th><th scope=col>&lt;chr&gt;</th><th scope=col>&lt;list&gt;</th><th scope=col>&lt;list&gt;</th><th scope=col>&lt;list&gt;</th></tr>\n",
              "</thead>\n",
              "<tbody>\n",
              "\t<tr><td>R4-P17         </td><td> 96</td><td>   NA</td><td>none       </td><td>silver, red        </td><td>red, blue</td><td> NA</td><td>none  </td><td>feminine </td><td>NA      </td><td>Droid   </td><td>Attack of the Clones, Revenge of the Sith </td><td></td><td></td></tr>\n",
              "\t<tr><td>BB8            </td><td> NA</td><td>   NA</td><td>none       </td><td>none               </td><td>black    </td><td> NA</td><td>none  </td><td>masculine</td><td>NA      </td><td>Droid   </td><td>The Force Awakens</td><td></td><td></td></tr>\n",
              "\t<tr><td>Zam Wesell     </td><td>168</td><td> 55.0</td><td>blonde     </td><td>fair, green, yellow</td><td>yellow   </td><td> NA</td><td>female</td><td>feminine </td><td>Zolan   </td><td>Clawdite</td><td>Attack of the Clones</td><td>Koro-2 Exodrive airspeeder</td><td></td></tr>\n",
              "\t<tr><td>C-3PO          </td><td>167</td><td> 75.0</td><td>NA         </td><td>gold               </td><td>yellow   </td><td>112</td><td>none  </td><td>masculine</td><td>Tatooine</td><td>Droid   </td><td>The Empire Strikes Back, Attack of the Clones   , The Phantom Menace     , Revenge of the Sith    , Return of the Jedi     , A New Hope             </td><td></td><td></td></tr>\n",
              "\t<tr><td>Luminara Unduli</td><td>170</td><td> 56.2</td><td>black      </td><td>yellow             </td><td>blue     </td><td> 58</td><td>female</td><td>feminine </td><td>Mirial  </td><td>Mirialan</td><td>Attack of the Clones, Revenge of the Sith </td><td></td><td></td></tr>\n",
              "\t<tr><td>Owen Lars      </td><td>178</td><td>120.0</td><td>brown, grey</td><td>light              </td><td>blue     </td><td> 52</td><td>male  </td><td>masculine</td><td>Tatooine</td><td>Human   </td><td>Attack of the Clones, Revenge of the Sith , A New Hope          </td><td></td><td></td></tr>\n",
              "</tbody>\n",
              "</table>\n"
            ],
            "text/markdown": "\nA tibble: 6 × 14\n\n| name &lt;chr&gt; | height &lt;int&gt; | mass &lt;dbl&gt; | hair_color &lt;chr&gt; | skin_color &lt;chr&gt; | eye_color &lt;chr&gt; | birth_year &lt;dbl&gt; | sex &lt;chr&gt; | gender &lt;chr&gt; | homeworld &lt;chr&gt; | species &lt;chr&gt; | films &lt;list&gt; | vehicles &lt;list&gt; | starships &lt;list&gt; |\n|---|---|---|---|---|---|---|---|---|---|---|---|---|---|\n| R4-P17          |  96 |    NA | none        | silver, red         | red, blue |  NA | none   | feminine  | NA       | Droid    | Attack of the Clones, Revenge of the Sith  | <!----> | <!----> |\n| BB8             |  NA |    NA | none        | none                | black     |  NA | none   | masculine | NA       | Droid    | The Force Awakens | <!----> | <!----> |\n| Zam Wesell      | 168 |  55.0 | blonde      | fair, green, yellow | yellow    |  NA | female | feminine  | Zolan    | Clawdite | Attack of the Clones | Koro-2 Exodrive airspeeder | <!----> |\n| C-3PO           | 167 |  75.0 | NA          | gold                | yellow    | 112 | none   | masculine | Tatooine | Droid    | The Empire Strikes Back, Attack of the Clones   , The Phantom Menace     , Revenge of the Sith    , Return of the Jedi     , A New Hope              | <!----> | <!----> |\n| Luminara Unduli | 170 |  56.2 | black       | yellow              | blue      |  58 | female | feminine  | Mirial   | Mirialan | Attack of the Clones, Revenge of the Sith  | <!----> | <!----> |\n| Owen Lars       | 178 | 120.0 | brown, grey | light               | blue      |  52 | male   | masculine | Tatooine | Human    | Attack of the Clones, Revenge of the Sith , A New Hope           | <!----> | <!----> |\n\n",
            "text/latex": "A tibble: 6 × 14\n\\begin{tabular}{llllllllllllll}\n name & height & mass & hair\\_color & skin\\_color & eye\\_color & birth\\_year & sex & gender & homeworld & species & films & vehicles & starships\\\\\n <chr> & <int> & <dbl> & <chr> & <chr> & <chr> & <dbl> & <chr> & <chr> & <chr> & <chr> & <list> & <list> & <list>\\\\\n\\hline\n\t R4-P17          &  96 &    NA & none        & silver, red         & red, blue &  NA & none   & feminine  & NA       & Droid    & Attack of the Clones, Revenge of the Sith  &  & \\\\\n\t BB8             &  NA &    NA & none        & none                & black     &  NA & none   & masculine & NA       & Droid    & The Force Awakens &  & \\\\\n\t Zam Wesell      & 168 &  55.0 & blonde      & fair, green, yellow & yellow    &  NA & female & feminine  & Zolan    & Clawdite & Attack of the Clones & Koro-2 Exodrive airspeeder & \\\\\n\t C-3PO           & 167 &  75.0 & NA          & gold                & yellow    & 112 & none   & masculine & Tatooine & Droid    & The Empire Strikes Back, Attack of the Clones   , The Phantom Menace     , Revenge of the Sith    , Return of the Jedi     , A New Hope              &  & \\\\\n\t Luminara Unduli & 170 &  56.2 & black       & yellow              & blue      &  58 & female & feminine  & Mirial   & Mirialan & Attack of the Clones, Revenge of the Sith  &  & \\\\\n\t Owen Lars       & 178 & 120.0 & brown, grey & light               & blue      &  52 & male   & masculine & Tatooine & Human    & Attack of the Clones, Revenge of the Sith , A New Hope           &  & \\\\\n\\end{tabular}\n",
            "text/plain": [
              "  name            height mass  hair_color  skin_color          eye_color\n",
              "1 R4-P17           96       NA none        silver, red         red, blue\n",
              "2 BB8              NA       NA none        none                black    \n",
              "3 Zam Wesell      168     55.0 blonde      fair, green, yellow yellow   \n",
              "4 C-3PO           167     75.0 NA          gold                yellow   \n",
              "5 Luminara Unduli 170     56.2 black       yellow              blue     \n",
              "6 Owen Lars       178    120.0 brown, grey light               blue     \n",
              "  birth_year sex    gender    homeworld species \n",
              "1  NA        none   feminine  NA        Droid   \n",
              "2  NA        none   masculine NA        Droid   \n",
              "3  NA        female feminine  Zolan     Clawdite\n",
              "4 112        none   masculine Tatooine  Droid   \n",
              "5  58        female feminine  Mirial    Mirialan\n",
              "6  52        male   masculine Tatooine  Human   \n",
              "  films                                                                                                                                               \n",
              "1 Attack of the Clones, Revenge of the Sith                                                                                                           \n",
              "2 The Force Awakens                                                                                                                                   \n",
              "3 Attack of the Clones                                                                                                                                \n",
              "4 The Empire Strikes Back, Attack of the Clones   , The Phantom Menace     , Revenge of the Sith    , Return of the Jedi     , A New Hope             \n",
              "5 Attack of the Clones, Revenge of the Sith                                                                                                           \n",
              "6 Attack of the Clones, Revenge of the Sith , A New Hope                                                                                              \n",
              "  vehicles                   starships\n",
              "1                                     \n",
              "2                                     \n",
              "3 Koro-2 Exodrive airspeeder          \n",
              "4                                     \n",
              "5                                     \n",
              "6                                     "
            ]
          },
          "metadata": {}
        }
      ]
    },
    {
      "cell_type": "markdown",
      "id": "55defa92",
      "metadata": {
        "id": "55defa92"
      },
      "source": [
        "### Manipulating Columns"
      ]
    },
    {
      "cell_type": "markdown",
      "id": "85a89b20",
      "metadata": {
        "id": "85a89b20"
      },
      "source": [
        "#### `select`: Keep or drop columns (1 / 2)\n",
        "\n",
        "The `select` function lets you keep or drop columns in a dataset. You can use unquoted column names, ranges, and even boolean operators to define your selection."
      ]
    },
    {
      "cell_type": "code",
      "execution_count": null,
      "id": "a82f2406",
      "metadata": {
        "colab": {
          "base_uri": "https://localhost:8080/",
          "height": 286
        },
        "id": "a82f2406",
        "outputId": "6589ca2a-086a-41a3-ad2a-fdc828b33232"
      },
      "outputs": [
        {
          "output_type": "display_data",
          "data": {
            "text/html": [
              "<table class=\"dataframe\">\n",
              "<caption>A tibble: 6 × 2</caption>\n",
              "<thead>\n",
              "\t<tr><th scope=col>name</th><th scope=col>mass</th></tr>\n",
              "\t<tr><th scope=col>&lt;chr&gt;</th><th scope=col>&lt;dbl&gt;</th></tr>\n",
              "</thead>\n",
              "<tbody>\n",
              "\t<tr><td>Luke Skywalker</td><td> 77</td></tr>\n",
              "\t<tr><td>C-3PO         </td><td> 75</td></tr>\n",
              "\t<tr><td>R2-D2         </td><td> 32</td></tr>\n",
              "\t<tr><td>Darth Vader   </td><td>136</td></tr>\n",
              "\t<tr><td>Leia Organa   </td><td> 49</td></tr>\n",
              "\t<tr><td>Owen Lars     </td><td>120</td></tr>\n",
              "</tbody>\n",
              "</table>\n"
            ],
            "text/markdown": "\nA tibble: 6 × 2\n\n| name &lt;chr&gt; | mass &lt;dbl&gt; |\n|---|---|\n| Luke Skywalker |  77 |\n| C-3PO          |  75 |\n| R2-D2          |  32 |\n| Darth Vader    | 136 |\n| Leia Organa    |  49 |\n| Owen Lars      | 120 |\n\n",
            "text/latex": "A tibble: 6 × 2\n\\begin{tabular}{ll}\n name & mass\\\\\n <chr> & <dbl>\\\\\n\\hline\n\t Luke Skywalker &  77\\\\\n\t C-3PO          &  75\\\\\n\t R2-D2          &  32\\\\\n\t Darth Vader    & 136\\\\\n\t Leia Organa    &  49\\\\\n\t Owen Lars      & 120\\\\\n\\end{tabular}\n",
            "text/plain": [
              "  name           mass\n",
              "1 Luke Skywalker  77 \n",
              "2 C-3PO           75 \n",
              "3 R2-D2           32 \n",
              "4 Darth Vader    136 \n",
              "5 Leia Organa     49 \n",
              "6 Owen Lars      120 "
            ]
          },
          "metadata": {}
        }
      ],
      "source": [
        "# Keep columns name and mass\n",
        "starwars |>\n",
        "  select(name, mass) |>\n",
        "  head()"
      ]
    },
    {
      "cell_type": "code",
      "source": [
        "# Keep columns from name to skin_color, and species\n",
        "starwars |>\n",
        "  select(name:skin_color, species) |>\n",
        "  head()"
      ],
      "metadata": {
        "colab": {
          "base_uri": "https://localhost:8080/",
          "height": 286
        },
        "id": "JlNR0vqSfvuE",
        "outputId": "b6cc6b26-3ce6-485c-8f1c-8b7c57848653"
      },
      "id": "JlNR0vqSfvuE",
      "execution_count": null,
      "outputs": [
        {
          "output_type": "display_data",
          "data": {
            "text/html": [
              "<table class=\"dataframe\">\n",
              "<caption>A tibble: 6 × 6</caption>\n",
              "<thead>\n",
              "\t<tr><th scope=col>name</th><th scope=col>height</th><th scope=col>mass</th><th scope=col>hair_color</th><th scope=col>skin_color</th><th scope=col>species</th></tr>\n",
              "\t<tr><th scope=col>&lt;chr&gt;</th><th scope=col>&lt;int&gt;</th><th scope=col>&lt;dbl&gt;</th><th scope=col>&lt;chr&gt;</th><th scope=col>&lt;chr&gt;</th><th scope=col>&lt;chr&gt;</th></tr>\n",
              "</thead>\n",
              "<tbody>\n",
              "\t<tr><td>Luke Skywalker</td><td>172</td><td> 77</td><td>blond      </td><td>fair       </td><td>Human</td></tr>\n",
              "\t<tr><td>C-3PO         </td><td>167</td><td> 75</td><td>NA         </td><td>gold       </td><td>Droid</td></tr>\n",
              "\t<tr><td>R2-D2         </td><td> 96</td><td> 32</td><td>NA         </td><td>white, blue</td><td>Droid</td></tr>\n",
              "\t<tr><td>Darth Vader   </td><td>202</td><td>136</td><td>none       </td><td>white      </td><td>Human</td></tr>\n",
              "\t<tr><td>Leia Organa   </td><td>150</td><td> 49</td><td>brown      </td><td>light      </td><td>Human</td></tr>\n",
              "\t<tr><td>Owen Lars     </td><td>178</td><td>120</td><td>brown, grey</td><td>light      </td><td>Human</td></tr>\n",
              "</tbody>\n",
              "</table>\n"
            ],
            "text/markdown": "\nA tibble: 6 × 6\n\n| name &lt;chr&gt; | height &lt;int&gt; | mass &lt;dbl&gt; | hair_color &lt;chr&gt; | skin_color &lt;chr&gt; | species &lt;chr&gt; |\n|---|---|---|---|---|---|\n| Luke Skywalker | 172 |  77 | blond       | fair        | Human |\n| C-3PO          | 167 |  75 | NA          | gold        | Droid |\n| R2-D2          |  96 |  32 | NA          | white, blue | Droid |\n| Darth Vader    | 202 | 136 | none        | white       | Human |\n| Leia Organa    | 150 |  49 | brown       | light       | Human |\n| Owen Lars      | 178 | 120 | brown, grey | light       | Human |\n\n",
            "text/latex": "A tibble: 6 × 6\n\\begin{tabular}{llllll}\n name & height & mass & hair\\_color & skin\\_color & species\\\\\n <chr> & <int> & <dbl> & <chr> & <chr> & <chr>\\\\\n\\hline\n\t Luke Skywalker & 172 &  77 & blond       & fair        & Human\\\\\n\t C-3PO          & 167 &  75 & NA          & gold        & Droid\\\\\n\t R2-D2          &  96 &  32 & NA          & white, blue & Droid\\\\\n\t Darth Vader    & 202 & 136 & none        & white       & Human\\\\\n\t Leia Organa    & 150 &  49 & brown       & light       & Human\\\\\n\t Owen Lars      & 178 & 120 & brown, grey & light       & Human\\\\\n\\end{tabular}\n",
            "text/plain": [
              "  name           height mass hair_color  skin_color  species\n",
              "1 Luke Skywalker 172     77  blond       fair        Human  \n",
              "2 C-3PO          167     75  NA          gold        Droid  \n",
              "3 R2-D2           96     32  NA          white, blue Droid  \n",
              "4 Darth Vader    202    136  none        white       Human  \n",
              "5 Leia Organa    150     49  brown       light       Human  \n",
              "6 Owen Lars      178    120  brown, grey light       Human  "
            ]
          },
          "metadata": {}
        }
      ]
    },
    {
      "cell_type": "code",
      "source": [
        "# Drop columns mass and height\n",
        "starwars |>\n",
        "  select(-mass, -height) |>\n",
        "  head()"
      ],
      "metadata": {
        "colab": {
          "base_uri": "https://localhost:8080/",
          "height": 442
        },
        "id": "W3VGr08ZfxCM",
        "outputId": "b059a342-b925-4f92-9958-0d0d399e9043"
      },
      "id": "W3VGr08ZfxCM",
      "execution_count": null,
      "outputs": [
        {
          "output_type": "display_data",
          "data": {
            "text/html": [
              "<table class=\"dataframe\">\n",
              "<caption>A tibble: 6 × 12</caption>\n",
              "<thead>\n",
              "\t<tr><th scope=col>name</th><th scope=col>hair_color</th><th scope=col>skin_color</th><th scope=col>eye_color</th><th scope=col>birth_year</th><th scope=col>sex</th><th scope=col>gender</th><th scope=col>homeworld</th><th scope=col>species</th><th scope=col>films</th><th scope=col>vehicles</th><th scope=col>starships</th></tr>\n",
              "\t<tr><th scope=col>&lt;chr&gt;</th><th scope=col>&lt;chr&gt;</th><th scope=col>&lt;chr&gt;</th><th scope=col>&lt;chr&gt;</th><th scope=col>&lt;dbl&gt;</th><th scope=col>&lt;chr&gt;</th><th scope=col>&lt;chr&gt;</th><th scope=col>&lt;chr&gt;</th><th scope=col>&lt;chr&gt;</th><th scope=col>&lt;list&gt;</th><th scope=col>&lt;list&gt;</th><th scope=col>&lt;list&gt;</th></tr>\n",
              "</thead>\n",
              "<tbody>\n",
              "\t<tr><td>Luke Skywalker</td><td>blond      </td><td>fair       </td><td>blue  </td><td> 19.0</td><td>male  </td><td>masculine</td><td>Tatooine</td><td>Human</td><td>The Empire Strikes Back, Revenge of the Sith    , Return of the Jedi     , A New Hope             , The Force Awakens      </td><td>Snowspeeder          , Imperial Speeder Bike</td><td>X-wing          , Imperial shuttle</td></tr>\n",
              "\t<tr><td>C-3PO         </td><td>NA         </td><td>gold       </td><td>yellow</td><td>112.0</td><td>none  </td><td>masculine</td><td>Tatooine</td><td>Droid</td><td>The Empire Strikes Back, Attack of the Clones   , The Phantom Menace     , Revenge of the Sith    , Return of the Jedi     , A New Hope             </td><td></td><td></td></tr>\n",
              "\t<tr><td>R2-D2         </td><td>NA         </td><td>white, blue</td><td>red   </td><td> 33.0</td><td>none  </td><td>masculine</td><td>Naboo   </td><td>Droid</td><td>The Empire Strikes Back, Attack of the Clones   , The Phantom Menace     , Revenge of the Sith    , Return of the Jedi     , A New Hope             , The Force Awakens      </td><td></td><td></td></tr>\n",
              "\t<tr><td>Darth Vader   </td><td>none       </td><td>white      </td><td>yellow</td><td> 41.9</td><td>male  </td><td>masculine</td><td>Tatooine</td><td>Human</td><td>The Empire Strikes Back, Revenge of the Sith    , Return of the Jedi     , A New Hope             </td><td></td><td>TIE Advanced x1</td></tr>\n",
              "\t<tr><td>Leia Organa   </td><td>brown      </td><td>light      </td><td>brown </td><td> 19.0</td><td>female</td><td>feminine </td><td>Alderaan</td><td>Human</td><td>The Empire Strikes Back, Revenge of the Sith    , Return of the Jedi     , A New Hope             , The Force Awakens      </td><td>Imperial Speeder Bike</td><td></td></tr>\n",
              "\t<tr><td>Owen Lars     </td><td>brown, grey</td><td>light      </td><td>blue  </td><td> 52.0</td><td>male  </td><td>masculine</td><td>Tatooine</td><td>Human</td><td>Attack of the Clones, Revenge of the Sith , A New Hope          </td><td></td><td></td></tr>\n",
              "</tbody>\n",
              "</table>\n"
            ],
            "text/markdown": "\nA tibble: 6 × 12\n\n| name &lt;chr&gt; | hair_color &lt;chr&gt; | skin_color &lt;chr&gt; | eye_color &lt;chr&gt; | birth_year &lt;dbl&gt; | sex &lt;chr&gt; | gender &lt;chr&gt; | homeworld &lt;chr&gt; | species &lt;chr&gt; | films &lt;list&gt; | vehicles &lt;list&gt; | starships &lt;list&gt; |\n|---|---|---|---|---|---|---|---|---|---|---|---|\n| Luke Skywalker | blond       | fair        | blue   |  19.0 | male   | masculine | Tatooine | Human | The Empire Strikes Back, Revenge of the Sith    , Return of the Jedi     , A New Hope             , The Force Awakens       | Snowspeeder          , Imperial Speeder Bike | X-wing          , Imperial shuttle |\n| C-3PO          | NA          | gold        | yellow | 112.0 | none   | masculine | Tatooine | Droid | The Empire Strikes Back, Attack of the Clones   , The Phantom Menace     , Revenge of the Sith    , Return of the Jedi     , A New Hope              | <!----> | <!----> |\n| R2-D2          | NA          | white, blue | red    |  33.0 | none   | masculine | Naboo    | Droid | The Empire Strikes Back, Attack of the Clones   , The Phantom Menace     , Revenge of the Sith    , Return of the Jedi     , A New Hope             , The Force Awakens       | <!----> | <!----> |\n| Darth Vader    | none        | white       | yellow |  41.9 | male   | masculine | Tatooine | Human | The Empire Strikes Back, Revenge of the Sith    , Return of the Jedi     , A New Hope              | <!----> | TIE Advanced x1 |\n| Leia Organa    | brown       | light       | brown  |  19.0 | female | feminine  | Alderaan | Human | The Empire Strikes Back, Revenge of the Sith    , Return of the Jedi     , A New Hope             , The Force Awakens       | Imperial Speeder Bike | <!----> |\n| Owen Lars      | brown, grey | light       | blue   |  52.0 | male   | masculine | Tatooine | Human | Attack of the Clones, Revenge of the Sith , A New Hope           | <!----> | <!----> |\n\n",
            "text/latex": "A tibble: 6 × 12\n\\begin{tabular}{llllllllllll}\n name & hair\\_color & skin\\_color & eye\\_color & birth\\_year & sex & gender & homeworld & species & films & vehicles & starships\\\\\n <chr> & <chr> & <chr> & <chr> & <dbl> & <chr> & <chr> & <chr> & <chr> & <list> & <list> & <list>\\\\\n\\hline\n\t Luke Skywalker & blond       & fair        & blue   &  19.0 & male   & masculine & Tatooine & Human & The Empire Strikes Back, Revenge of the Sith    , Return of the Jedi     , A New Hope             , The Force Awakens       & Snowspeeder          , Imperial Speeder Bike & X-wing          , Imperial shuttle\\\\\n\t C-3PO          & NA          & gold        & yellow & 112.0 & none   & masculine & Tatooine & Droid & The Empire Strikes Back, Attack of the Clones   , The Phantom Menace     , Revenge of the Sith    , Return of the Jedi     , A New Hope              &  & \\\\\n\t R2-D2          & NA          & white, blue & red    &  33.0 & none   & masculine & Naboo    & Droid & The Empire Strikes Back, Attack of the Clones   , The Phantom Menace     , Revenge of the Sith    , Return of the Jedi     , A New Hope             , The Force Awakens       &  & \\\\\n\t Darth Vader    & none        & white       & yellow &  41.9 & male   & masculine & Tatooine & Human & The Empire Strikes Back, Revenge of the Sith    , Return of the Jedi     , A New Hope              &  & TIE Advanced x1\\\\\n\t Leia Organa    & brown       & light       & brown  &  19.0 & female & feminine  & Alderaan & Human & The Empire Strikes Back, Revenge of the Sith    , Return of the Jedi     , A New Hope             , The Force Awakens       & Imperial Speeder Bike & \\\\\n\t Owen Lars      & brown, grey & light       & blue   &  52.0 & male   & masculine & Tatooine & Human & Attack of the Clones, Revenge of the Sith , A New Hope           &  & \\\\\n\\end{tabular}\n",
            "text/plain": [
              "  name           hair_color  skin_color  eye_color birth_year sex    gender   \n",
              "1 Luke Skywalker blond       fair        blue       19.0      male   masculine\n",
              "2 C-3PO          NA          gold        yellow    112.0      none   masculine\n",
              "3 R2-D2          NA          white, blue red        33.0      none   masculine\n",
              "4 Darth Vader    none        white       yellow     41.9      male   masculine\n",
              "5 Leia Organa    brown       light       brown      19.0      female feminine \n",
              "6 Owen Lars      brown, grey light       blue       52.0      male   masculine\n",
              "  homeworld species\n",
              "1 Tatooine  Human  \n",
              "2 Tatooine  Droid  \n",
              "3 Naboo     Droid  \n",
              "4 Tatooine  Human  \n",
              "5 Alderaan  Human  \n",
              "6 Tatooine  Human  \n",
              "  films                                                                                                                                                                        \n",
              "1 The Empire Strikes Back, Revenge of the Sith    , Return of the Jedi     , A New Hope             , The Force Awakens                                                        \n",
              "2 The Empire Strikes Back, Attack of the Clones   , The Phantom Menace     , Revenge of the Sith    , Return of the Jedi     , A New Hope                                      \n",
              "3 The Empire Strikes Back, Attack of the Clones   , The Phantom Menace     , Revenge of the Sith    , Return of the Jedi     , A New Hope             , The Force Awakens      \n",
              "4 The Empire Strikes Back, Revenge of the Sith    , Return of the Jedi     , A New Hope                                                                                        \n",
              "5 The Empire Strikes Back, Revenge of the Sith    , Return of the Jedi     , A New Hope             , The Force Awakens                                                        \n",
              "6 Attack of the Clones, Revenge of the Sith , A New Hope                                                                                                                       \n",
              "  vehicles                                    \n",
              "1 Snowspeeder          , Imperial Speeder Bike\n",
              "2                                             \n",
              "3                                             \n",
              "4                                             \n",
              "5 Imperial Speeder Bike                       \n",
              "6                                             \n",
              "  starships                         \n",
              "1 X-wing          , Imperial shuttle\n",
              "2                                   \n",
              "3                                   \n",
              "4 TIE Advanced x1                   \n",
              "5                                   \n",
              "6                                   "
            ]
          },
          "metadata": {}
        }
      ]
    },
    {
      "cell_type": "code",
      "source": [
        "# Drop columns from mass to skin_color\n",
        "starwars |>\n",
        "  select(!(mass:skin_color)) |>\n",
        "  head()"
      ],
      "metadata": {
        "colab": {
          "base_uri": "https://localhost:8080/",
          "height": 390
        },
        "id": "z0SbznfmfzbO",
        "outputId": "38b5b319-f5d1-4ccd-9c4f-9c137ef2a6d9"
      },
      "id": "z0SbznfmfzbO",
      "execution_count": null,
      "outputs": [
        {
          "output_type": "display_data",
          "data": {
            "text/html": [
              "<table class=\"dataframe\">\n",
              "<caption>A tibble: 6 × 11</caption>\n",
              "<thead>\n",
              "\t<tr><th scope=col>name</th><th scope=col>height</th><th scope=col>eye_color</th><th scope=col>birth_year</th><th scope=col>sex</th><th scope=col>gender</th><th scope=col>homeworld</th><th scope=col>species</th><th scope=col>films</th><th scope=col>vehicles</th><th scope=col>starships</th></tr>\n",
              "\t<tr><th scope=col>&lt;chr&gt;</th><th scope=col>&lt;int&gt;</th><th scope=col>&lt;chr&gt;</th><th scope=col>&lt;dbl&gt;</th><th scope=col>&lt;chr&gt;</th><th scope=col>&lt;chr&gt;</th><th scope=col>&lt;chr&gt;</th><th scope=col>&lt;chr&gt;</th><th scope=col>&lt;list&gt;</th><th scope=col>&lt;list&gt;</th><th scope=col>&lt;list&gt;</th></tr>\n",
              "</thead>\n",
              "<tbody>\n",
              "\t<tr><td>Luke Skywalker</td><td>172</td><td>blue  </td><td> 19.0</td><td>male  </td><td>masculine</td><td>Tatooine</td><td>Human</td><td>The Empire Strikes Back, Revenge of the Sith    , Return of the Jedi     , A New Hope             , The Force Awakens      </td><td>Snowspeeder          , Imperial Speeder Bike</td><td>X-wing          , Imperial shuttle</td></tr>\n",
              "\t<tr><td>C-3PO         </td><td>167</td><td>yellow</td><td>112.0</td><td>none  </td><td>masculine</td><td>Tatooine</td><td>Droid</td><td>The Empire Strikes Back, Attack of the Clones   , The Phantom Menace     , Revenge of the Sith    , Return of the Jedi     , A New Hope             </td><td></td><td></td></tr>\n",
              "\t<tr><td>R2-D2         </td><td> 96</td><td>red   </td><td> 33.0</td><td>none  </td><td>masculine</td><td>Naboo   </td><td>Droid</td><td>The Empire Strikes Back, Attack of the Clones   , The Phantom Menace     , Revenge of the Sith    , Return of the Jedi     , A New Hope             , The Force Awakens      </td><td></td><td></td></tr>\n",
              "\t<tr><td>Darth Vader   </td><td>202</td><td>yellow</td><td> 41.9</td><td>male  </td><td>masculine</td><td>Tatooine</td><td>Human</td><td>The Empire Strikes Back, Revenge of the Sith    , Return of the Jedi     , A New Hope             </td><td></td><td>TIE Advanced x1</td></tr>\n",
              "\t<tr><td>Leia Organa   </td><td>150</td><td>brown </td><td> 19.0</td><td>female</td><td>feminine </td><td>Alderaan</td><td>Human</td><td>The Empire Strikes Back, Revenge of the Sith    , Return of the Jedi     , A New Hope             , The Force Awakens      </td><td>Imperial Speeder Bike</td><td></td></tr>\n",
              "\t<tr><td>Owen Lars     </td><td>178</td><td>blue  </td><td> 52.0</td><td>male  </td><td>masculine</td><td>Tatooine</td><td>Human</td><td>Attack of the Clones, Revenge of the Sith , A New Hope          </td><td></td><td></td></tr>\n",
              "</tbody>\n",
              "</table>\n"
            ],
            "text/markdown": "\nA tibble: 6 × 11\n\n| name &lt;chr&gt; | height &lt;int&gt; | eye_color &lt;chr&gt; | birth_year &lt;dbl&gt; | sex &lt;chr&gt; | gender &lt;chr&gt; | homeworld &lt;chr&gt; | species &lt;chr&gt; | films &lt;list&gt; | vehicles &lt;list&gt; | starships &lt;list&gt; |\n|---|---|---|---|---|---|---|---|---|---|---|\n| Luke Skywalker | 172 | blue   |  19.0 | male   | masculine | Tatooine | Human | The Empire Strikes Back, Revenge of the Sith    , Return of the Jedi     , A New Hope             , The Force Awakens       | Snowspeeder          , Imperial Speeder Bike | X-wing          , Imperial shuttle |\n| C-3PO          | 167 | yellow | 112.0 | none   | masculine | Tatooine | Droid | The Empire Strikes Back, Attack of the Clones   , The Phantom Menace     , Revenge of the Sith    , Return of the Jedi     , A New Hope              | <!----> | <!----> |\n| R2-D2          |  96 | red    |  33.0 | none   | masculine | Naboo    | Droid | The Empire Strikes Back, Attack of the Clones   , The Phantom Menace     , Revenge of the Sith    , Return of the Jedi     , A New Hope             , The Force Awakens       | <!----> | <!----> |\n| Darth Vader    | 202 | yellow |  41.9 | male   | masculine | Tatooine | Human | The Empire Strikes Back, Revenge of the Sith    , Return of the Jedi     , A New Hope              | <!----> | TIE Advanced x1 |\n| Leia Organa    | 150 | brown  |  19.0 | female | feminine  | Alderaan | Human | The Empire Strikes Back, Revenge of the Sith    , Return of the Jedi     , A New Hope             , The Force Awakens       | Imperial Speeder Bike | <!----> |\n| Owen Lars      | 178 | blue   |  52.0 | male   | masculine | Tatooine | Human | Attack of the Clones, Revenge of the Sith , A New Hope           | <!----> | <!----> |\n\n",
            "text/latex": "A tibble: 6 × 11\n\\begin{tabular}{lllllllllll}\n name & height & eye\\_color & birth\\_year & sex & gender & homeworld & species & films & vehicles & starships\\\\\n <chr> & <int> & <chr> & <dbl> & <chr> & <chr> & <chr> & <chr> & <list> & <list> & <list>\\\\\n\\hline\n\t Luke Skywalker & 172 & blue   &  19.0 & male   & masculine & Tatooine & Human & The Empire Strikes Back, Revenge of the Sith    , Return of the Jedi     , A New Hope             , The Force Awakens       & Snowspeeder          , Imperial Speeder Bike & X-wing          , Imperial shuttle\\\\\n\t C-3PO          & 167 & yellow & 112.0 & none   & masculine & Tatooine & Droid & The Empire Strikes Back, Attack of the Clones   , The Phantom Menace     , Revenge of the Sith    , Return of the Jedi     , A New Hope              &  & \\\\\n\t R2-D2          &  96 & red    &  33.0 & none   & masculine & Naboo    & Droid & The Empire Strikes Back, Attack of the Clones   , The Phantom Menace     , Revenge of the Sith    , Return of the Jedi     , A New Hope             , The Force Awakens       &  & \\\\\n\t Darth Vader    & 202 & yellow &  41.9 & male   & masculine & Tatooine & Human & The Empire Strikes Back, Revenge of the Sith    , Return of the Jedi     , A New Hope              &  & TIE Advanced x1\\\\\n\t Leia Organa    & 150 & brown  &  19.0 & female & feminine  & Alderaan & Human & The Empire Strikes Back, Revenge of the Sith    , Return of the Jedi     , A New Hope             , The Force Awakens       & Imperial Speeder Bike & \\\\\n\t Owen Lars      & 178 & blue   &  52.0 & male   & masculine & Tatooine & Human & Attack of the Clones, Revenge of the Sith , A New Hope           &  & \\\\\n\\end{tabular}\n",
            "text/plain": [
              "  name           height eye_color birth_year sex    gender    homeworld species\n",
              "1 Luke Skywalker 172    blue       19.0      male   masculine Tatooine  Human  \n",
              "2 C-3PO          167    yellow    112.0      none   masculine Tatooine  Droid  \n",
              "3 R2-D2           96    red        33.0      none   masculine Naboo     Droid  \n",
              "4 Darth Vader    202    yellow     41.9      male   masculine Tatooine  Human  \n",
              "5 Leia Organa    150    brown      19.0      female feminine  Alderaan  Human  \n",
              "6 Owen Lars      178    blue       52.0      male   masculine Tatooine  Human  \n",
              "  films                                                                                                                                                                        \n",
              "1 The Empire Strikes Back, Revenge of the Sith    , Return of the Jedi     , A New Hope             , The Force Awakens                                                        \n",
              "2 The Empire Strikes Back, Attack of the Clones   , The Phantom Menace     , Revenge of the Sith    , Return of the Jedi     , A New Hope                                      \n",
              "3 The Empire Strikes Back, Attack of the Clones   , The Phantom Menace     , Revenge of the Sith    , Return of the Jedi     , A New Hope             , The Force Awakens      \n",
              "4 The Empire Strikes Back, Revenge of the Sith    , Return of the Jedi     , A New Hope                                                                                        \n",
              "5 The Empire Strikes Back, Revenge of the Sith    , Return of the Jedi     , A New Hope             , The Force Awakens                                                        \n",
              "6 Attack of the Clones, Revenge of the Sith , A New Hope                                                                                                                       \n",
              "  vehicles                                    \n",
              "1 Snowspeeder          , Imperial Speeder Bike\n",
              "2                                             \n",
              "3                                             \n",
              "4                                             \n",
              "5 Imperial Speeder Bike                       \n",
              "6                                             \n",
              "  starships                         \n",
              "1 X-wing          , Imperial shuttle\n",
              "2                                   \n",
              "3                                   \n",
              "4 TIE Advanced x1                   \n",
              "5                                   \n",
              "6                                   "
            ]
          },
          "metadata": {}
        }
      ]
    },
    {
      "cell_type": "markdown",
      "id": "ac6e9110",
      "metadata": {
        "id": "ac6e9110"
      },
      "source": [
        "#### `select`: Keep or drop columns (2 / 2)\n",
        "\n",
        "The `dplyr` package also provides a handy set of selectors (`contains`, `ends_with`, `where` etc) that let you select columns based on a pattern. This is very handy especially when you want to pick multiple columns, but don't want to type each column name separately.\n",
        "\n",
        "To get the most out of this, please run each example separately. Also, look up the examples in the package by typing `? dplyr::select` in your R console. These functions are the basic building blocks of data manipulation and provide you with a very wide toolkit. The more you are able to hold these in your muscle memory, the more adept you will become with data manipulation."
      ]
    },
    {
      "cell_type": "code",
      "execution_count": null,
      "id": "de603675",
      "metadata": {
        "colab": {
          "base_uri": "https://localhost:8080/",
          "height": 286
        },
        "id": "de603675",
        "outputId": "d1b34b5a-19bf-4697-e3ce-c43bf24a753a"
      },
      "outputs": [
        {
          "output_type": "display_data",
          "data": {
            "text/html": [
              "<table class=\"dataframe\">\n",
              "<caption>A tibble: 6 × 3</caption>\n",
              "<thead>\n",
              "\t<tr><th scope=col>hair_color</th><th scope=col>skin_color</th><th scope=col>eye_color</th></tr>\n",
              "\t<tr><th scope=col>&lt;chr&gt;</th><th scope=col>&lt;chr&gt;</th><th scope=col>&lt;chr&gt;</th></tr>\n",
              "</thead>\n",
              "<tbody>\n",
              "\t<tr><td>blond      </td><td>fair       </td><td>blue  </td></tr>\n",
              "\t<tr><td>NA         </td><td>gold       </td><td>yellow</td></tr>\n",
              "\t<tr><td>NA         </td><td>white, blue</td><td>red   </td></tr>\n",
              "\t<tr><td>none       </td><td>white      </td><td>yellow</td></tr>\n",
              "\t<tr><td>brown      </td><td>light      </td><td>brown </td></tr>\n",
              "\t<tr><td>brown, grey</td><td>light      </td><td>blue  </td></tr>\n",
              "</tbody>\n",
              "</table>\n"
            ],
            "text/markdown": "\nA tibble: 6 × 3\n\n| hair_color &lt;chr&gt; | skin_color &lt;chr&gt; | eye_color &lt;chr&gt; |\n|---|---|---|\n| blond       | fair        | blue   |\n| NA          | gold        | yellow |\n| NA          | white, blue | red    |\n| none        | white       | yellow |\n| brown       | light       | brown  |\n| brown, grey | light       | blue   |\n\n",
            "text/latex": "A tibble: 6 × 3\n\\begin{tabular}{lll}\n hair\\_color & skin\\_color & eye\\_color\\\\\n <chr> & <chr> & <chr>\\\\\n\\hline\n\t blond       & fair        & blue  \\\\\n\t NA          & gold        & yellow\\\\\n\t NA          & white, blue & red   \\\\\n\t none        & white       & yellow\\\\\n\t brown       & light       & brown \\\\\n\t brown, grey & light       & blue  \\\\\n\\end{tabular}\n",
            "text/plain": [
              "  hair_color  skin_color  eye_color\n",
              "1 blond       fair        blue     \n",
              "2 NA          gold        yellow   \n",
              "3 NA          white, blue red      \n",
              "4 none        white       yellow   \n",
              "5 brown       light       brown    \n",
              "6 brown, grey light       blue     "
            ]
          },
          "metadata": {}
        }
      ],
      "source": [
        "# Keep columns containing the word \"color\"\n",
        "starwars |>\n",
        "  select(contains(\"color\")) |>\n",
        "  head()"
      ]
    },
    {
      "cell_type": "code",
      "source": [
        "# Keep columns ending with the word \"color\"\n",
        "starwars |>\n",
        "  select(ends_with(\"color\")) |>\n",
        "  head()"
      ],
      "metadata": {
        "colab": {
          "base_uri": "https://localhost:8080/",
          "height": 286
        },
        "id": "8ecR_rzzf1N7",
        "outputId": "b0cfd024-9837-4cee-b380-bb054fc7a6e8"
      },
      "id": "8ecR_rzzf1N7",
      "execution_count": null,
      "outputs": [
        {
          "output_type": "display_data",
          "data": {
            "text/html": [
              "<table class=\"dataframe\">\n",
              "<caption>A tibble: 6 × 3</caption>\n",
              "<thead>\n",
              "\t<tr><th scope=col>hair_color</th><th scope=col>skin_color</th><th scope=col>eye_color</th></tr>\n",
              "\t<tr><th scope=col>&lt;chr&gt;</th><th scope=col>&lt;chr&gt;</th><th scope=col>&lt;chr&gt;</th></tr>\n",
              "</thead>\n",
              "<tbody>\n",
              "\t<tr><td>blond      </td><td>fair       </td><td>blue  </td></tr>\n",
              "\t<tr><td>NA         </td><td>gold       </td><td>yellow</td></tr>\n",
              "\t<tr><td>NA         </td><td>white, blue</td><td>red   </td></tr>\n",
              "\t<tr><td>none       </td><td>white      </td><td>yellow</td></tr>\n",
              "\t<tr><td>brown      </td><td>light      </td><td>brown </td></tr>\n",
              "\t<tr><td>brown, grey</td><td>light      </td><td>blue  </td></tr>\n",
              "</tbody>\n",
              "</table>\n"
            ],
            "text/markdown": "\nA tibble: 6 × 3\n\n| hair_color &lt;chr&gt; | skin_color &lt;chr&gt; | eye_color &lt;chr&gt; |\n|---|---|---|\n| blond       | fair        | blue   |\n| NA          | gold        | yellow |\n| NA          | white, blue | red    |\n| none        | white       | yellow |\n| brown       | light       | brown  |\n| brown, grey | light       | blue   |\n\n",
            "text/latex": "A tibble: 6 × 3\n\\begin{tabular}{lll}\n hair\\_color & skin\\_color & eye\\_color\\\\\n <chr> & <chr> & <chr>\\\\\n\\hline\n\t blond       & fair        & blue  \\\\\n\t NA          & gold        & yellow\\\\\n\t NA          & white, blue & red   \\\\\n\t none        & white       & yellow\\\\\n\t brown       & light       & brown \\\\\n\t brown, grey & light       & blue  \\\\\n\\end{tabular}\n",
            "text/plain": [
              "  hair_color  skin_color  eye_color\n",
              "1 blond       fair        blue     \n",
              "2 NA          gold        yellow   \n",
              "3 NA          white, blue red      \n",
              "4 none        white       yellow   \n",
              "5 brown       light       brown    \n",
              "6 brown, grey light       blue     "
            ]
          },
          "metadata": {}
        }
      ]
    },
    {
      "cell_type": "code",
      "source": [
        "# Keep columns which are numeric\n",
        "starwars |>\n",
        "  select(where(is.numeric)) |>\n",
        "  head()"
      ],
      "metadata": {
        "colab": {
          "base_uri": "https://localhost:8080/",
          "height": 286
        },
        "id": "qIptGbPQf21M",
        "outputId": "960c2381-fc74-4462-85aa-821611a51a8c"
      },
      "id": "qIptGbPQf21M",
      "execution_count": null,
      "outputs": [
        {
          "output_type": "display_data",
          "data": {
            "text/html": [
              "<table class=\"dataframe\">\n",
              "<caption>A tibble: 6 × 3</caption>\n",
              "<thead>\n",
              "\t<tr><th scope=col>height</th><th scope=col>mass</th><th scope=col>birth_year</th></tr>\n",
              "\t<tr><th scope=col>&lt;int&gt;</th><th scope=col>&lt;dbl&gt;</th><th scope=col>&lt;dbl&gt;</th></tr>\n",
              "</thead>\n",
              "<tbody>\n",
              "\t<tr><td>172</td><td> 77</td><td> 19.0</td></tr>\n",
              "\t<tr><td>167</td><td> 75</td><td>112.0</td></tr>\n",
              "\t<tr><td> 96</td><td> 32</td><td> 33.0</td></tr>\n",
              "\t<tr><td>202</td><td>136</td><td> 41.9</td></tr>\n",
              "\t<tr><td>150</td><td> 49</td><td> 19.0</td></tr>\n",
              "\t<tr><td>178</td><td>120</td><td> 52.0</td></tr>\n",
              "</tbody>\n",
              "</table>\n"
            ],
            "text/markdown": "\nA tibble: 6 × 3\n\n| height &lt;int&gt; | mass &lt;dbl&gt; | birth_year &lt;dbl&gt; |\n|---|---|---|\n| 172 |  77 |  19.0 |\n| 167 |  75 | 112.0 |\n|  96 |  32 |  33.0 |\n| 202 | 136 |  41.9 |\n| 150 |  49 |  19.0 |\n| 178 | 120 |  52.0 |\n\n",
            "text/latex": "A tibble: 6 × 3\n\\begin{tabular}{lll}\n height & mass & birth\\_year\\\\\n <int> & <dbl> & <dbl>\\\\\n\\hline\n\t 172 &  77 &  19.0\\\\\n\t 167 &  75 & 112.0\\\\\n\t  96 &  32 &  33.0\\\\\n\t 202 & 136 &  41.9\\\\\n\t 150 &  49 &  19.0\\\\\n\t 178 & 120 &  52.0\\\\\n\\end{tabular}\n",
            "text/plain": [
              "  height mass birth_year\n",
              "1 172     77   19.0     \n",
              "2 167     75  112.0     \n",
              "3  96     32   33.0     \n",
              "4 202    136   41.9     \n",
              "5 150     49   19.0     \n",
              "6 178    120   52.0     "
            ]
          },
          "metadata": {}
        }
      ]
    },
    {
      "cell_type": "code",
      "source": [
        "# Keep columns which are lists\n",
        "starwars |>\n",
        "  select(where(is.list)) |>\n",
        "  head()"
      ],
      "metadata": {
        "colab": {
          "base_uri": "https://localhost:8080/",
          "height": 286
        },
        "id": "kBBXUU8zf8s2",
        "outputId": "324c63b9-6b16-462d-a484-dea9bb8f8d5a"
      },
      "id": "kBBXUU8zf8s2",
      "execution_count": null,
      "outputs": [
        {
          "output_type": "display_data",
          "data": {
            "text/html": [
              "<table class=\"dataframe\">\n",
              "<caption>A tibble: 6 × 3</caption>\n",
              "<thead>\n",
              "\t<tr><th scope=col>films</th><th scope=col>vehicles</th><th scope=col>starships</th></tr>\n",
              "\t<tr><th scope=col>&lt;list&gt;</th><th scope=col>&lt;list&gt;</th><th scope=col>&lt;list&gt;</th></tr>\n",
              "</thead>\n",
              "<tbody>\n",
              "\t<tr><td>The Empire Strikes Back, Revenge of the Sith    , Return of the Jedi     , A New Hope             , The Force Awakens      </td><td>Snowspeeder          , Imperial Speeder Bike</td><td>X-wing          , Imperial shuttle</td></tr>\n",
              "\t<tr><td>The Empire Strikes Back, Attack of the Clones   , The Phantom Menace     , Revenge of the Sith    , Return of the Jedi     , A New Hope             </td><td></td><td></td></tr>\n",
              "\t<tr><td>The Empire Strikes Back, Attack of the Clones   , The Phantom Menace     , Revenge of the Sith    , Return of the Jedi     , A New Hope             , The Force Awakens      </td><td></td><td></td></tr>\n",
              "\t<tr><td>The Empire Strikes Back, Revenge of the Sith    , Return of the Jedi     , A New Hope             </td><td></td><td>TIE Advanced x1</td></tr>\n",
              "\t<tr><td>The Empire Strikes Back, Revenge of the Sith    , Return of the Jedi     , A New Hope             , The Force Awakens      </td><td>Imperial Speeder Bike</td><td></td></tr>\n",
              "\t<tr><td>Attack of the Clones, Revenge of the Sith , A New Hope          </td><td></td><td></td></tr>\n",
              "</tbody>\n",
              "</table>\n"
            ],
            "text/markdown": "\nA tibble: 6 × 3\n\n| films &lt;list&gt; | vehicles &lt;list&gt; | starships &lt;list&gt; |\n|---|---|---|\n| The Empire Strikes Back, Revenge of the Sith    , Return of the Jedi     , A New Hope             , The Force Awakens       | Snowspeeder          , Imperial Speeder Bike | X-wing          , Imperial shuttle |\n| The Empire Strikes Back, Attack of the Clones   , The Phantom Menace     , Revenge of the Sith    , Return of the Jedi     , A New Hope              | <!----> | <!----> |\n| The Empire Strikes Back, Attack of the Clones   , The Phantom Menace     , Revenge of the Sith    , Return of the Jedi     , A New Hope             , The Force Awakens       | <!----> | <!----> |\n| The Empire Strikes Back, Revenge of the Sith    , Return of the Jedi     , A New Hope              | <!----> | TIE Advanced x1 |\n| The Empire Strikes Back, Revenge of the Sith    , Return of the Jedi     , A New Hope             , The Force Awakens       | Imperial Speeder Bike | <!----> |\n| Attack of the Clones, Revenge of the Sith , A New Hope           | <!----> | <!----> |\n\n",
            "text/latex": "A tibble: 6 × 3\n\\begin{tabular}{lll}\n films & vehicles & starships\\\\\n <list> & <list> & <list>\\\\\n\\hline\n\t The Empire Strikes Back, Revenge of the Sith    , Return of the Jedi     , A New Hope             , The Force Awakens       & Snowspeeder          , Imperial Speeder Bike & X-wing          , Imperial shuttle\\\\\n\t The Empire Strikes Back, Attack of the Clones   , The Phantom Menace     , Revenge of the Sith    , Return of the Jedi     , A New Hope              &  & \\\\\n\t The Empire Strikes Back, Attack of the Clones   , The Phantom Menace     , Revenge of the Sith    , Return of the Jedi     , A New Hope             , The Force Awakens       &  & \\\\\n\t The Empire Strikes Back, Revenge of the Sith    , Return of the Jedi     , A New Hope              &  & TIE Advanced x1\\\\\n\t The Empire Strikes Back, Revenge of the Sith    , Return of the Jedi     , A New Hope             , The Force Awakens       & Imperial Speeder Bike & \\\\\n\t Attack of the Clones, Revenge of the Sith , A New Hope           &  & \\\\\n\\end{tabular}\n",
            "text/plain": [
              "  films                                                                                                                                                                        \n",
              "1 The Empire Strikes Back, Revenge of the Sith    , Return of the Jedi     , A New Hope             , The Force Awakens                                                        \n",
              "2 The Empire Strikes Back, Attack of the Clones   , The Phantom Menace     , Revenge of the Sith    , Return of the Jedi     , A New Hope                                      \n",
              "3 The Empire Strikes Back, Attack of the Clones   , The Phantom Menace     , Revenge of the Sith    , Return of the Jedi     , A New Hope             , The Force Awakens      \n",
              "4 The Empire Strikes Back, Revenge of the Sith    , Return of the Jedi     , A New Hope                                                                                        \n",
              "5 The Empire Strikes Back, Revenge of the Sith    , Return of the Jedi     , A New Hope             , The Force Awakens                                                        \n",
              "6 Attack of the Clones, Revenge of the Sith , A New Hope                                                                                                                       \n",
              "  vehicles                                    \n",
              "1 Snowspeeder          , Imperial Speeder Bike\n",
              "2                                             \n",
              "3                                             \n",
              "4                                             \n",
              "5 Imperial Speeder Bike                       \n",
              "6                                             \n",
              "  starships                         \n",
              "1 X-wing          , Imperial shuttle\n",
              "2                                   \n",
              "3                                   \n",
              "4 TIE Advanced x1                   \n",
              "5                                   \n",
              "6                                   "
            ]
          },
          "metadata": {}
        }
      ]
    },
    {
      "cell_type": "markdown",
      "id": "9ac23ee5",
      "metadata": {
        "id": "9ac23ee5"
      },
      "source": [
        "#### `mutate`: Create, modify, and delete columns\n",
        "\n",
        "The `mutate()` function can be used to create, modify, or remove columns."
      ]
    },
    {
      "cell_type": "code",
      "execution_count": null,
      "id": "cb8bebd1",
      "metadata": {
        "colab": {
          "base_uri": "https://localhost:8080/",
          "height": 616
        },
        "id": "cb8bebd1",
        "outputId": "60acc5db-9c07-495b-81ef-8834b255785f"
      },
      "outputs": [
        {
          "output_type": "display_data",
          "data": {
            "text/html": [
              "<table class=\"dataframe\">\n",
              "<caption>A tibble: 6 × 15</caption>\n",
              "<thead>\n",
              "\t<tr><th scope=col>name</th><th scope=col>height</th><th scope=col>mass</th><th scope=col>hair_color</th><th scope=col>skin_color</th><th scope=col>eye_color</th><th scope=col>birth_year</th><th scope=col>sex</th><th scope=col>gender</th><th scope=col>homeworld</th><th scope=col>species</th><th scope=col>films</th><th scope=col>vehicles</th><th scope=col>starships</th><th scope=col>mass_lbs</th></tr>\n",
              "\t<tr><th scope=col>&lt;chr&gt;</th><th scope=col>&lt;int&gt;</th><th scope=col>&lt;dbl&gt;</th><th scope=col>&lt;chr&gt;</th><th scope=col>&lt;chr&gt;</th><th scope=col>&lt;chr&gt;</th><th scope=col>&lt;dbl&gt;</th><th scope=col>&lt;chr&gt;</th><th scope=col>&lt;chr&gt;</th><th scope=col>&lt;chr&gt;</th><th scope=col>&lt;chr&gt;</th><th scope=col>&lt;list&gt;</th><th scope=col>&lt;list&gt;</th><th scope=col>&lt;list&gt;</th><th scope=col>&lt;dbl&gt;</th></tr>\n",
              "</thead>\n",
              "<tbody>\n",
              "\t<tr><td>Luke Skywalker</td><td>172</td><td> 77</td><td>blond      </td><td>fair       </td><td>blue  </td><td> 19.0</td><td>male  </td><td>masculine</td><td>Tatooine</td><td>Human</td><td>The Empire Strikes Back, Revenge of the Sith    , Return of the Jedi     , A New Hope             , The Force Awakens      </td><td>Snowspeeder          , Imperial Speeder Bike</td><td>X-wing          , Imperial shuttle</td><td>169.4</td></tr>\n",
              "\t<tr><td>C-3PO         </td><td>167</td><td> 75</td><td>NA         </td><td>gold       </td><td>yellow</td><td>112.0</td><td>none  </td><td>masculine</td><td>Tatooine</td><td>Droid</td><td>The Empire Strikes Back, Attack of the Clones   , The Phantom Menace     , Revenge of the Sith    , Return of the Jedi     , A New Hope             </td><td></td><td></td><td>165.0</td></tr>\n",
              "\t<tr><td>R2-D2         </td><td> 96</td><td> 32</td><td>NA         </td><td>white, blue</td><td>red   </td><td> 33.0</td><td>none  </td><td>masculine</td><td>Naboo   </td><td>Droid</td><td>The Empire Strikes Back, Attack of the Clones   , The Phantom Menace     , Revenge of the Sith    , Return of the Jedi     , A New Hope             , The Force Awakens      </td><td></td><td></td><td> 70.4</td></tr>\n",
              "\t<tr><td>Darth Vader   </td><td>202</td><td>136</td><td>none       </td><td>white      </td><td>yellow</td><td> 41.9</td><td>male  </td><td>masculine</td><td>Tatooine</td><td>Human</td><td>The Empire Strikes Back, Revenge of the Sith    , Return of the Jedi     , A New Hope             </td><td></td><td>TIE Advanced x1</td><td>299.2</td></tr>\n",
              "\t<tr><td>Leia Organa   </td><td>150</td><td> 49</td><td>brown      </td><td>light      </td><td>brown </td><td> 19.0</td><td>female</td><td>feminine </td><td>Alderaan</td><td>Human</td><td>The Empire Strikes Back, Revenge of the Sith    , Return of the Jedi     , A New Hope             , The Force Awakens      </td><td>Imperial Speeder Bike</td><td></td><td>107.8</td></tr>\n",
              "\t<tr><td>Owen Lars     </td><td>178</td><td>120</td><td>brown, grey</td><td>light      </td><td>blue  </td><td> 52.0</td><td>male  </td><td>masculine</td><td>Tatooine</td><td>Human</td><td>Attack of the Clones, Revenge of the Sith , A New Hope          </td><td></td><td></td><td>264.0</td></tr>\n",
              "</tbody>\n",
              "</table>\n"
            ],
            "text/markdown": "\nA tibble: 6 × 15\n\n| name &lt;chr&gt; | height &lt;int&gt; | mass &lt;dbl&gt; | hair_color &lt;chr&gt; | skin_color &lt;chr&gt; | eye_color &lt;chr&gt; | birth_year &lt;dbl&gt; | sex &lt;chr&gt; | gender &lt;chr&gt; | homeworld &lt;chr&gt; | species &lt;chr&gt; | films &lt;list&gt; | vehicles &lt;list&gt; | starships &lt;list&gt; | mass_lbs &lt;dbl&gt; |\n|---|---|---|---|---|---|---|---|---|---|---|---|---|---|---|\n| Luke Skywalker | 172 |  77 | blond       | fair        | blue   |  19.0 | male   | masculine | Tatooine | Human | The Empire Strikes Back, Revenge of the Sith    , Return of the Jedi     , A New Hope             , The Force Awakens       | Snowspeeder          , Imperial Speeder Bike | X-wing          , Imperial shuttle | 169.4 |\n| C-3PO          | 167 |  75 | NA          | gold        | yellow | 112.0 | none   | masculine | Tatooine | Droid | The Empire Strikes Back, Attack of the Clones   , The Phantom Menace     , Revenge of the Sith    , Return of the Jedi     , A New Hope              | <!----> | <!----> | 165.0 |\n| R2-D2          |  96 |  32 | NA          | white, blue | red    |  33.0 | none   | masculine | Naboo    | Droid | The Empire Strikes Back, Attack of the Clones   , The Phantom Menace     , Revenge of the Sith    , Return of the Jedi     , A New Hope             , The Force Awakens       | <!----> | <!----> |  70.4 |\n| Darth Vader    | 202 | 136 | none        | white       | yellow |  41.9 | male   | masculine | Tatooine | Human | The Empire Strikes Back, Revenge of the Sith    , Return of the Jedi     , A New Hope              | <!----> | TIE Advanced x1 | 299.2 |\n| Leia Organa    | 150 |  49 | brown       | light       | brown  |  19.0 | female | feminine  | Alderaan | Human | The Empire Strikes Back, Revenge of the Sith    , Return of the Jedi     , A New Hope             , The Force Awakens       | Imperial Speeder Bike | <!----> | 107.8 |\n| Owen Lars      | 178 | 120 | brown, grey | light       | blue   |  52.0 | male   | masculine | Tatooine | Human | Attack of the Clones, Revenge of the Sith , A New Hope           | <!----> | <!----> | 264.0 |\n\n",
            "text/latex": "A tibble: 6 × 15\n\\begin{tabular}{lllllllllllllll}\n name & height & mass & hair\\_color & skin\\_color & eye\\_color & birth\\_year & sex & gender & homeworld & species & films & vehicles & starships & mass\\_lbs\\\\\n <chr> & <int> & <dbl> & <chr> & <chr> & <chr> & <dbl> & <chr> & <chr> & <chr> & <chr> & <list> & <list> & <list> & <dbl>\\\\\n\\hline\n\t Luke Skywalker & 172 &  77 & blond       & fair        & blue   &  19.0 & male   & masculine & Tatooine & Human & The Empire Strikes Back, Revenge of the Sith    , Return of the Jedi     , A New Hope             , The Force Awakens       & Snowspeeder          , Imperial Speeder Bike & X-wing          , Imperial shuttle & 169.4\\\\\n\t C-3PO          & 167 &  75 & NA          & gold        & yellow & 112.0 & none   & masculine & Tatooine & Droid & The Empire Strikes Back, Attack of the Clones   , The Phantom Menace     , Revenge of the Sith    , Return of the Jedi     , A New Hope              &  &  & 165.0\\\\\n\t R2-D2          &  96 &  32 & NA          & white, blue & red    &  33.0 & none   & masculine & Naboo    & Droid & The Empire Strikes Back, Attack of the Clones   , The Phantom Menace     , Revenge of the Sith    , Return of the Jedi     , A New Hope             , The Force Awakens       &  &  &  70.4\\\\\n\t Darth Vader    & 202 & 136 & none        & white       & yellow &  41.9 & male   & masculine & Tatooine & Human & The Empire Strikes Back, Revenge of the Sith    , Return of the Jedi     , A New Hope              &  & TIE Advanced x1 & 299.2\\\\\n\t Leia Organa    & 150 &  49 & brown       & light       & brown  &  19.0 & female & feminine  & Alderaan & Human & The Empire Strikes Back, Revenge of the Sith    , Return of the Jedi     , A New Hope             , The Force Awakens       & Imperial Speeder Bike &  & 107.8\\\\\n\t Owen Lars      & 178 & 120 & brown, grey & light       & blue   &  52.0 & male   & masculine & Tatooine & Human & Attack of the Clones, Revenge of the Sith , A New Hope           &  &  & 264.0\\\\\n\\end{tabular}\n",
            "text/plain": [
              "  name           height mass hair_color  skin_color  eye_color birth_year\n",
              "1 Luke Skywalker 172     77  blond       fair        blue       19.0     \n",
              "2 C-3PO          167     75  NA          gold        yellow    112.0     \n",
              "3 R2-D2           96     32  NA          white, blue red        33.0     \n",
              "4 Darth Vader    202    136  none        white       yellow     41.9     \n",
              "5 Leia Organa    150     49  brown       light       brown      19.0     \n",
              "6 Owen Lars      178    120  brown, grey light       blue       52.0     \n",
              "  sex    gender    homeworld species\n",
              "1 male   masculine Tatooine  Human  \n",
              "2 none   masculine Tatooine  Droid  \n",
              "3 none   masculine Naboo     Droid  \n",
              "4 male   masculine Tatooine  Human  \n",
              "5 female feminine  Alderaan  Human  \n",
              "6 male   masculine Tatooine  Human  \n",
              "  films                                                                                                                                                                        \n",
              "1 The Empire Strikes Back, Revenge of the Sith    , Return of the Jedi     , A New Hope             , The Force Awakens                                                        \n",
              "2 The Empire Strikes Back, Attack of the Clones   , The Phantom Menace     , Revenge of the Sith    , Return of the Jedi     , A New Hope                                      \n",
              "3 The Empire Strikes Back, Attack of the Clones   , The Phantom Menace     , Revenge of the Sith    , Return of the Jedi     , A New Hope             , The Force Awakens      \n",
              "4 The Empire Strikes Back, Revenge of the Sith    , Return of the Jedi     , A New Hope                                                                                        \n",
              "5 The Empire Strikes Back, Revenge of the Sith    , Return of the Jedi     , A New Hope             , The Force Awakens                                                        \n",
              "6 Attack of the Clones, Revenge of the Sith , A New Hope                                                                                                                       \n",
              "  vehicles                                    \n",
              "1 Snowspeeder          , Imperial Speeder Bike\n",
              "2                                             \n",
              "3                                             \n",
              "4                                             \n",
              "5 Imperial Speeder Bike                       \n",
              "6                                             \n",
              "  starships                          mass_lbs\n",
              "1 X-wing          , Imperial shuttle 169.4   \n",
              "2                                    165.0   \n",
              "3                                     70.4   \n",
              "4 TIE Advanced x1                    299.2   \n",
              "5                                    107.8   \n",
              "6                                    264.0   "
            ]
          },
          "metadata": {}
        }
      ],
      "source": [
        "# Create column mass_lbs\n",
        "starwars |>\n",
        "  mutate(mass_lbs = mass * 2.2) |>\n",
        "  head()"
      ]
    },
    {
      "cell_type": "code",
      "source": [
        "# Modify column height\n",
        "starwars |>\n",
        "  mutate(height = height * 0.0328084) |>\n",
        "  head()"
      ],
      "metadata": {
        "colab": {
          "base_uri": "https://localhost:8080/",
          "height": 529
        },
        "id": "k4rPY10Bf-g_",
        "outputId": "dd741ea1-2576-45a4-82bb-1ea1b9553610"
      },
      "id": "k4rPY10Bf-g_",
      "execution_count": null,
      "outputs": [
        {
          "output_type": "display_data",
          "data": {
            "text/html": [
              "<table class=\"dataframe\">\n",
              "<caption>A tibble: 6 × 14</caption>\n",
              "<thead>\n",
              "\t<tr><th scope=col>name</th><th scope=col>height</th><th scope=col>mass</th><th scope=col>hair_color</th><th scope=col>skin_color</th><th scope=col>eye_color</th><th scope=col>birth_year</th><th scope=col>sex</th><th scope=col>gender</th><th scope=col>homeworld</th><th scope=col>species</th><th scope=col>films</th><th scope=col>vehicles</th><th scope=col>starships</th></tr>\n",
              "\t<tr><th scope=col>&lt;chr&gt;</th><th scope=col>&lt;dbl&gt;</th><th scope=col>&lt;dbl&gt;</th><th scope=col>&lt;chr&gt;</th><th scope=col>&lt;chr&gt;</th><th scope=col>&lt;chr&gt;</th><th scope=col>&lt;dbl&gt;</th><th scope=col>&lt;chr&gt;</th><th scope=col>&lt;chr&gt;</th><th scope=col>&lt;chr&gt;</th><th scope=col>&lt;chr&gt;</th><th scope=col>&lt;list&gt;</th><th scope=col>&lt;list&gt;</th><th scope=col>&lt;list&gt;</th></tr>\n",
              "</thead>\n",
              "<tbody>\n",
              "\t<tr><td>Luke Skywalker</td><td>5.643045</td><td> 77</td><td>blond      </td><td>fair       </td><td>blue  </td><td> 19.0</td><td>male  </td><td>masculine</td><td>Tatooine</td><td>Human</td><td>The Empire Strikes Back, Revenge of the Sith    , Return of the Jedi     , A New Hope             , The Force Awakens      </td><td>Snowspeeder          , Imperial Speeder Bike</td><td>X-wing          , Imperial shuttle</td></tr>\n",
              "\t<tr><td>C-3PO         </td><td>5.479003</td><td> 75</td><td>NA         </td><td>gold       </td><td>yellow</td><td>112.0</td><td>none  </td><td>masculine</td><td>Tatooine</td><td>Droid</td><td>The Empire Strikes Back, Attack of the Clones   , The Phantom Menace     , Revenge of the Sith    , Return of the Jedi     , A New Hope             </td><td></td><td></td></tr>\n",
              "\t<tr><td>R2-D2         </td><td>3.149606</td><td> 32</td><td>NA         </td><td>white, blue</td><td>red   </td><td> 33.0</td><td>none  </td><td>masculine</td><td>Naboo   </td><td>Droid</td><td>The Empire Strikes Back, Attack of the Clones   , The Phantom Menace     , Revenge of the Sith    , Return of the Jedi     , A New Hope             , The Force Awakens      </td><td></td><td></td></tr>\n",
              "\t<tr><td>Darth Vader   </td><td>6.627297</td><td>136</td><td>none       </td><td>white      </td><td>yellow</td><td> 41.9</td><td>male  </td><td>masculine</td><td>Tatooine</td><td>Human</td><td>The Empire Strikes Back, Revenge of the Sith    , Return of the Jedi     , A New Hope             </td><td></td><td>TIE Advanced x1</td></tr>\n",
              "\t<tr><td>Leia Organa   </td><td>4.921260</td><td> 49</td><td>brown      </td><td>light      </td><td>brown </td><td> 19.0</td><td>female</td><td>feminine </td><td>Alderaan</td><td>Human</td><td>The Empire Strikes Back, Revenge of the Sith    , Return of the Jedi     , A New Hope             , The Force Awakens      </td><td>Imperial Speeder Bike</td><td></td></tr>\n",
              "\t<tr><td>Owen Lars     </td><td>5.839895</td><td>120</td><td>brown, grey</td><td>light      </td><td>blue  </td><td> 52.0</td><td>male  </td><td>masculine</td><td>Tatooine</td><td>Human</td><td>Attack of the Clones, Revenge of the Sith , A New Hope          </td><td></td><td></td></tr>\n",
              "</tbody>\n",
              "</table>\n"
            ],
            "text/markdown": "\nA tibble: 6 × 14\n\n| name &lt;chr&gt; | height &lt;dbl&gt; | mass &lt;dbl&gt; | hair_color &lt;chr&gt; | skin_color &lt;chr&gt; | eye_color &lt;chr&gt; | birth_year &lt;dbl&gt; | sex &lt;chr&gt; | gender &lt;chr&gt; | homeworld &lt;chr&gt; | species &lt;chr&gt; | films &lt;list&gt; | vehicles &lt;list&gt; | starships &lt;list&gt; |\n|---|---|---|---|---|---|---|---|---|---|---|---|---|---|\n| Luke Skywalker | 5.643045 |  77 | blond       | fair        | blue   |  19.0 | male   | masculine | Tatooine | Human | The Empire Strikes Back, Revenge of the Sith    , Return of the Jedi     , A New Hope             , The Force Awakens       | Snowspeeder          , Imperial Speeder Bike | X-wing          , Imperial shuttle |\n| C-3PO          | 5.479003 |  75 | NA          | gold        | yellow | 112.0 | none   | masculine | Tatooine | Droid | The Empire Strikes Back, Attack of the Clones   , The Phantom Menace     , Revenge of the Sith    , Return of the Jedi     , A New Hope              | <!----> | <!----> |\n| R2-D2          | 3.149606 |  32 | NA          | white, blue | red    |  33.0 | none   | masculine | Naboo    | Droid | The Empire Strikes Back, Attack of the Clones   , The Phantom Menace     , Revenge of the Sith    , Return of the Jedi     , A New Hope             , The Force Awakens       | <!----> | <!----> |\n| Darth Vader    | 6.627297 | 136 | none        | white       | yellow |  41.9 | male   | masculine | Tatooine | Human | The Empire Strikes Back, Revenge of the Sith    , Return of the Jedi     , A New Hope              | <!----> | TIE Advanced x1 |\n| Leia Organa    | 4.921260 |  49 | brown       | light       | brown  |  19.0 | female | feminine  | Alderaan | Human | The Empire Strikes Back, Revenge of the Sith    , Return of the Jedi     , A New Hope             , The Force Awakens       | Imperial Speeder Bike | <!----> |\n| Owen Lars      | 5.839895 | 120 | brown, grey | light       | blue   |  52.0 | male   | masculine | Tatooine | Human | Attack of the Clones, Revenge of the Sith , A New Hope           | <!----> | <!----> |\n\n",
            "text/latex": "A tibble: 6 × 14\n\\begin{tabular}{llllllllllllll}\n name & height & mass & hair\\_color & skin\\_color & eye\\_color & birth\\_year & sex & gender & homeworld & species & films & vehicles & starships\\\\\n <chr> & <dbl> & <dbl> & <chr> & <chr> & <chr> & <dbl> & <chr> & <chr> & <chr> & <chr> & <list> & <list> & <list>\\\\\n\\hline\n\t Luke Skywalker & 5.643045 &  77 & blond       & fair        & blue   &  19.0 & male   & masculine & Tatooine & Human & The Empire Strikes Back, Revenge of the Sith    , Return of the Jedi     , A New Hope             , The Force Awakens       & Snowspeeder          , Imperial Speeder Bike & X-wing          , Imperial shuttle\\\\\n\t C-3PO          & 5.479003 &  75 & NA          & gold        & yellow & 112.0 & none   & masculine & Tatooine & Droid & The Empire Strikes Back, Attack of the Clones   , The Phantom Menace     , Revenge of the Sith    , Return of the Jedi     , A New Hope              &  & \\\\\n\t R2-D2          & 3.149606 &  32 & NA          & white, blue & red    &  33.0 & none   & masculine & Naboo    & Droid & The Empire Strikes Back, Attack of the Clones   , The Phantom Menace     , Revenge of the Sith    , Return of the Jedi     , A New Hope             , The Force Awakens       &  & \\\\\n\t Darth Vader    & 6.627297 & 136 & none        & white       & yellow &  41.9 & male   & masculine & Tatooine & Human & The Empire Strikes Back, Revenge of the Sith    , Return of the Jedi     , A New Hope              &  & TIE Advanced x1\\\\\n\t Leia Organa    & 4.921260 &  49 & brown       & light       & brown  &  19.0 & female & feminine  & Alderaan & Human & The Empire Strikes Back, Revenge of the Sith    , Return of the Jedi     , A New Hope             , The Force Awakens       & Imperial Speeder Bike & \\\\\n\t Owen Lars      & 5.839895 & 120 & brown, grey & light       & blue   &  52.0 & male   & masculine & Tatooine & Human & Attack of the Clones, Revenge of the Sith , A New Hope           &  & \\\\\n\\end{tabular}\n",
            "text/plain": [
              "  name           height   mass hair_color  skin_color  eye_color birth_year\n",
              "1 Luke Skywalker 5.643045  77  blond       fair        blue       19.0     \n",
              "2 C-3PO          5.479003  75  NA          gold        yellow    112.0     \n",
              "3 R2-D2          3.149606  32  NA          white, blue red        33.0     \n",
              "4 Darth Vader    6.627297 136  none        white       yellow     41.9     \n",
              "5 Leia Organa    4.921260  49  brown       light       brown      19.0     \n",
              "6 Owen Lars      5.839895 120  brown, grey light       blue       52.0     \n",
              "  sex    gender    homeworld species\n",
              "1 male   masculine Tatooine  Human  \n",
              "2 none   masculine Tatooine  Droid  \n",
              "3 none   masculine Naboo     Droid  \n",
              "4 male   masculine Tatooine  Human  \n",
              "5 female feminine  Alderaan  Human  \n",
              "6 male   masculine Tatooine  Human  \n",
              "  films                                                                                                                                                                        \n",
              "1 The Empire Strikes Back, Revenge of the Sith    , Return of the Jedi     , A New Hope             , The Force Awakens                                                        \n",
              "2 The Empire Strikes Back, Attack of the Clones   , The Phantom Menace     , Revenge of the Sith    , Return of the Jedi     , A New Hope                                      \n",
              "3 The Empire Strikes Back, Attack of the Clones   , The Phantom Menace     , Revenge of the Sith    , Return of the Jedi     , A New Hope             , The Force Awakens      \n",
              "4 The Empire Strikes Back, Revenge of the Sith    , Return of the Jedi     , A New Hope                                                                                        \n",
              "5 The Empire Strikes Back, Revenge of the Sith    , Return of the Jedi     , A New Hope             , The Force Awakens                                                        \n",
              "6 Attack of the Clones, Revenge of the Sith , A New Hope                                                                                                                       \n",
              "  vehicles                                    \n",
              "1 Snowspeeder          , Imperial Speeder Bike\n",
              "2                                             \n",
              "3                                             \n",
              "4                                             \n",
              "5 Imperial Speeder Bike                       \n",
              "6                                             \n",
              "  starships                         \n",
              "1 X-wing          , Imperial shuttle\n",
              "2                                   \n",
              "3                                   \n",
              "4 TIE Advanced x1                   \n",
              "5                                   \n",
              "6                                   "
            ]
          },
          "metadata": {}
        }
      ]
    },
    {
      "cell_type": "code",
      "source": [
        "# Remove column:\n",
        "starwars |>\n",
        "  mutate(mass = NULL) |>\n",
        "  head()"
      ],
      "metadata": {
        "colab": {
          "base_uri": "https://localhost:8080/",
          "height": 477
        },
        "id": "nkUU_SKAgAOh",
        "outputId": "58591fca-e986-4b22-a06a-d9277f042f54"
      },
      "id": "nkUU_SKAgAOh",
      "execution_count": null,
      "outputs": [
        {
          "output_type": "display_data",
          "data": {
            "text/html": [
              "<table class=\"dataframe\">\n",
              "<caption>A tibble: 6 × 13</caption>\n",
              "<thead>\n",
              "\t<tr><th scope=col>name</th><th scope=col>height</th><th scope=col>hair_color</th><th scope=col>skin_color</th><th scope=col>eye_color</th><th scope=col>birth_year</th><th scope=col>sex</th><th scope=col>gender</th><th scope=col>homeworld</th><th scope=col>species</th><th scope=col>films</th><th scope=col>vehicles</th><th scope=col>starships</th></tr>\n",
              "\t<tr><th scope=col>&lt;chr&gt;</th><th scope=col>&lt;int&gt;</th><th scope=col>&lt;chr&gt;</th><th scope=col>&lt;chr&gt;</th><th scope=col>&lt;chr&gt;</th><th scope=col>&lt;dbl&gt;</th><th scope=col>&lt;chr&gt;</th><th scope=col>&lt;chr&gt;</th><th scope=col>&lt;chr&gt;</th><th scope=col>&lt;chr&gt;</th><th scope=col>&lt;list&gt;</th><th scope=col>&lt;list&gt;</th><th scope=col>&lt;list&gt;</th></tr>\n",
              "</thead>\n",
              "<tbody>\n",
              "\t<tr><td>Luke Skywalker</td><td>172</td><td>blond      </td><td>fair       </td><td>blue  </td><td> 19.0</td><td>male  </td><td>masculine</td><td>Tatooine</td><td>Human</td><td>The Empire Strikes Back, Revenge of the Sith    , Return of the Jedi     , A New Hope             , The Force Awakens      </td><td>Snowspeeder          , Imperial Speeder Bike</td><td>X-wing          , Imperial shuttle</td></tr>\n",
              "\t<tr><td>C-3PO         </td><td>167</td><td>NA         </td><td>gold       </td><td>yellow</td><td>112.0</td><td>none  </td><td>masculine</td><td>Tatooine</td><td>Droid</td><td>The Empire Strikes Back, Attack of the Clones   , The Phantom Menace     , Revenge of the Sith    , Return of the Jedi     , A New Hope             </td><td></td><td></td></tr>\n",
              "\t<tr><td>R2-D2         </td><td> 96</td><td>NA         </td><td>white, blue</td><td>red   </td><td> 33.0</td><td>none  </td><td>masculine</td><td>Naboo   </td><td>Droid</td><td>The Empire Strikes Back, Attack of the Clones   , The Phantom Menace     , Revenge of the Sith    , Return of the Jedi     , A New Hope             , The Force Awakens      </td><td></td><td></td></tr>\n",
              "\t<tr><td>Darth Vader   </td><td>202</td><td>none       </td><td>white      </td><td>yellow</td><td> 41.9</td><td>male  </td><td>masculine</td><td>Tatooine</td><td>Human</td><td>The Empire Strikes Back, Revenge of the Sith    , Return of the Jedi     , A New Hope             </td><td></td><td>TIE Advanced x1</td></tr>\n",
              "\t<tr><td>Leia Organa   </td><td>150</td><td>brown      </td><td>light      </td><td>brown </td><td> 19.0</td><td>female</td><td>feminine </td><td>Alderaan</td><td>Human</td><td>The Empire Strikes Back, Revenge of the Sith    , Return of the Jedi     , A New Hope             , The Force Awakens      </td><td>Imperial Speeder Bike</td><td></td></tr>\n",
              "\t<tr><td>Owen Lars     </td><td>178</td><td>brown, grey</td><td>light      </td><td>blue  </td><td> 52.0</td><td>male  </td><td>masculine</td><td>Tatooine</td><td>Human</td><td>Attack of the Clones, Revenge of the Sith , A New Hope          </td><td></td><td></td></tr>\n",
              "</tbody>\n",
              "</table>\n"
            ],
            "text/markdown": "\nA tibble: 6 × 13\n\n| name &lt;chr&gt; | height &lt;int&gt; | hair_color &lt;chr&gt; | skin_color &lt;chr&gt; | eye_color &lt;chr&gt; | birth_year &lt;dbl&gt; | sex &lt;chr&gt; | gender &lt;chr&gt; | homeworld &lt;chr&gt; | species &lt;chr&gt; | films &lt;list&gt; | vehicles &lt;list&gt; | starships &lt;list&gt; |\n|---|---|---|---|---|---|---|---|---|---|---|---|---|\n| Luke Skywalker | 172 | blond       | fair        | blue   |  19.0 | male   | masculine | Tatooine | Human | The Empire Strikes Back, Revenge of the Sith    , Return of the Jedi     , A New Hope             , The Force Awakens       | Snowspeeder          , Imperial Speeder Bike | X-wing          , Imperial shuttle |\n| C-3PO          | 167 | NA          | gold        | yellow | 112.0 | none   | masculine | Tatooine | Droid | The Empire Strikes Back, Attack of the Clones   , The Phantom Menace     , Revenge of the Sith    , Return of the Jedi     , A New Hope              | <!----> | <!----> |\n| R2-D2          |  96 | NA          | white, blue | red    |  33.0 | none   | masculine | Naboo    | Droid | The Empire Strikes Back, Attack of the Clones   , The Phantom Menace     , Revenge of the Sith    , Return of the Jedi     , A New Hope             , The Force Awakens       | <!----> | <!----> |\n| Darth Vader    | 202 | none        | white       | yellow |  41.9 | male   | masculine | Tatooine | Human | The Empire Strikes Back, Revenge of the Sith    , Return of the Jedi     , A New Hope              | <!----> | TIE Advanced x1 |\n| Leia Organa    | 150 | brown       | light       | brown  |  19.0 | female | feminine  | Alderaan | Human | The Empire Strikes Back, Revenge of the Sith    , Return of the Jedi     , A New Hope             , The Force Awakens       | Imperial Speeder Bike | <!----> |\n| Owen Lars      | 178 | brown, grey | light       | blue   |  52.0 | male   | masculine | Tatooine | Human | Attack of the Clones, Revenge of the Sith , A New Hope           | <!----> | <!----> |\n\n",
            "text/latex": "A tibble: 6 × 13\n\\begin{tabular}{lllllllllllll}\n name & height & hair\\_color & skin\\_color & eye\\_color & birth\\_year & sex & gender & homeworld & species & films & vehicles & starships\\\\\n <chr> & <int> & <chr> & <chr> & <chr> & <dbl> & <chr> & <chr> & <chr> & <chr> & <list> & <list> & <list>\\\\\n\\hline\n\t Luke Skywalker & 172 & blond       & fair        & blue   &  19.0 & male   & masculine & Tatooine & Human & The Empire Strikes Back, Revenge of the Sith    , Return of the Jedi     , A New Hope             , The Force Awakens       & Snowspeeder          , Imperial Speeder Bike & X-wing          , Imperial shuttle\\\\\n\t C-3PO          & 167 & NA          & gold        & yellow & 112.0 & none   & masculine & Tatooine & Droid & The Empire Strikes Back, Attack of the Clones   , The Phantom Menace     , Revenge of the Sith    , Return of the Jedi     , A New Hope              &  & \\\\\n\t R2-D2          &  96 & NA          & white, blue & red    &  33.0 & none   & masculine & Naboo    & Droid & The Empire Strikes Back, Attack of the Clones   , The Phantom Menace     , Revenge of the Sith    , Return of the Jedi     , A New Hope             , The Force Awakens       &  & \\\\\n\t Darth Vader    & 202 & none        & white       & yellow &  41.9 & male   & masculine & Tatooine & Human & The Empire Strikes Back, Revenge of the Sith    , Return of the Jedi     , A New Hope              &  & TIE Advanced x1\\\\\n\t Leia Organa    & 150 & brown       & light       & brown  &  19.0 & female & feminine  & Alderaan & Human & The Empire Strikes Back, Revenge of the Sith    , Return of the Jedi     , A New Hope             , The Force Awakens       & Imperial Speeder Bike & \\\\\n\t Owen Lars      & 178 & brown, grey & light       & blue   &  52.0 & male   & masculine & Tatooine & Human & Attack of the Clones, Revenge of the Sith , A New Hope           &  & \\\\\n\\end{tabular}\n",
            "text/plain": [
              "  name           height hair_color  skin_color  eye_color birth_year sex   \n",
              "1 Luke Skywalker 172    blond       fair        blue       19.0      male  \n",
              "2 C-3PO          167    NA          gold        yellow    112.0      none  \n",
              "3 R2-D2           96    NA          white, blue red        33.0      none  \n",
              "4 Darth Vader    202    none        white       yellow     41.9      male  \n",
              "5 Leia Organa    150    brown       light       brown      19.0      female\n",
              "6 Owen Lars      178    brown, grey light       blue       52.0      male  \n",
              "  gender    homeworld species\n",
              "1 masculine Tatooine  Human  \n",
              "2 masculine Tatooine  Droid  \n",
              "3 masculine Naboo     Droid  \n",
              "4 masculine Tatooine  Human  \n",
              "5 feminine  Alderaan  Human  \n",
              "6 masculine Tatooine  Human  \n",
              "  films                                                                                                                                                                        \n",
              "1 The Empire Strikes Back, Revenge of the Sith    , Return of the Jedi     , A New Hope             , The Force Awakens                                                        \n",
              "2 The Empire Strikes Back, Attack of the Clones   , The Phantom Menace     , Revenge of the Sith    , Return of the Jedi     , A New Hope                                      \n",
              "3 The Empire Strikes Back, Attack of the Clones   , The Phantom Menace     , Revenge of the Sith    , Return of the Jedi     , A New Hope             , The Force Awakens      \n",
              "4 The Empire Strikes Back, Revenge of the Sith    , Return of the Jedi     , A New Hope                                                                                        \n",
              "5 The Empire Strikes Back, Revenge of the Sith    , Return of the Jedi     , A New Hope             , The Force Awakens                                                        \n",
              "6 Attack of the Clones, Revenge of the Sith , A New Hope                                                                                                                       \n",
              "  vehicles                                    \n",
              "1 Snowspeeder          , Imperial Speeder Bike\n",
              "2                                             \n",
              "3                                             \n",
              "4                                             \n",
              "5 Imperial Speeder Bike                       \n",
              "6                                             \n",
              "  starships                         \n",
              "1 X-wing          , Imperial shuttle\n",
              "2                                   \n",
              "3                                   \n",
              "4 TIE Advanced x1                   \n",
              "5                                   \n",
              "6                                   "
            ]
          },
          "metadata": {}
        }
      ]
    },
    {
      "cell_type": "code",
      "source": [
        "# Do it all at once\n",
        "starwars |>\n",
        " mutate(mass_lbs = mass * 2.2, mass = NULL) |>\n",
        " head()"
      ],
      "metadata": {
        "colab": {
          "base_uri": "https://localhost:8080/",
          "height": 529
        },
        "id": "rBOvByczgBdE",
        "outputId": "1719692f-2f00-4474-c41c-63b1eb2798fb"
      },
      "id": "rBOvByczgBdE",
      "execution_count": null,
      "outputs": [
        {
          "output_type": "display_data",
          "data": {
            "text/html": [
              "<table class=\"dataframe\">\n",
              "<caption>A tibble: 6 × 14</caption>\n",
              "<thead>\n",
              "\t<tr><th scope=col>name</th><th scope=col>height</th><th scope=col>hair_color</th><th scope=col>skin_color</th><th scope=col>eye_color</th><th scope=col>birth_year</th><th scope=col>sex</th><th scope=col>gender</th><th scope=col>homeworld</th><th scope=col>species</th><th scope=col>films</th><th scope=col>vehicles</th><th scope=col>starships</th><th scope=col>mass_lbs</th></tr>\n",
              "\t<tr><th scope=col>&lt;chr&gt;</th><th scope=col>&lt;int&gt;</th><th scope=col>&lt;chr&gt;</th><th scope=col>&lt;chr&gt;</th><th scope=col>&lt;chr&gt;</th><th scope=col>&lt;dbl&gt;</th><th scope=col>&lt;chr&gt;</th><th scope=col>&lt;chr&gt;</th><th scope=col>&lt;chr&gt;</th><th scope=col>&lt;chr&gt;</th><th scope=col>&lt;list&gt;</th><th scope=col>&lt;list&gt;</th><th scope=col>&lt;list&gt;</th><th scope=col>&lt;dbl&gt;</th></tr>\n",
              "</thead>\n",
              "<tbody>\n",
              "\t<tr><td>Luke Skywalker</td><td>172</td><td>blond      </td><td>fair       </td><td>blue  </td><td> 19.0</td><td>male  </td><td>masculine</td><td>Tatooine</td><td>Human</td><td>The Empire Strikes Back, Revenge of the Sith    , Return of the Jedi     , A New Hope             , The Force Awakens      </td><td>Snowspeeder          , Imperial Speeder Bike</td><td>X-wing          , Imperial shuttle</td><td>169.4</td></tr>\n",
              "\t<tr><td>C-3PO         </td><td>167</td><td>NA         </td><td>gold       </td><td>yellow</td><td>112.0</td><td>none  </td><td>masculine</td><td>Tatooine</td><td>Droid</td><td>The Empire Strikes Back, Attack of the Clones   , The Phantom Menace     , Revenge of the Sith    , Return of the Jedi     , A New Hope             </td><td></td><td></td><td>165.0</td></tr>\n",
              "\t<tr><td>R2-D2         </td><td> 96</td><td>NA         </td><td>white, blue</td><td>red   </td><td> 33.0</td><td>none  </td><td>masculine</td><td>Naboo   </td><td>Droid</td><td>The Empire Strikes Back, Attack of the Clones   , The Phantom Menace     , Revenge of the Sith    , Return of the Jedi     , A New Hope             , The Force Awakens      </td><td></td><td></td><td> 70.4</td></tr>\n",
              "\t<tr><td>Darth Vader   </td><td>202</td><td>none       </td><td>white      </td><td>yellow</td><td> 41.9</td><td>male  </td><td>masculine</td><td>Tatooine</td><td>Human</td><td>The Empire Strikes Back, Revenge of the Sith    , Return of the Jedi     , A New Hope             </td><td></td><td>TIE Advanced x1</td><td>299.2</td></tr>\n",
              "\t<tr><td>Leia Organa   </td><td>150</td><td>brown      </td><td>light      </td><td>brown </td><td> 19.0</td><td>female</td><td>feminine </td><td>Alderaan</td><td>Human</td><td>The Empire Strikes Back, Revenge of the Sith    , Return of the Jedi     , A New Hope             , The Force Awakens      </td><td>Imperial Speeder Bike</td><td></td><td>107.8</td></tr>\n",
              "\t<tr><td>Owen Lars     </td><td>178</td><td>brown, grey</td><td>light      </td><td>blue  </td><td> 52.0</td><td>male  </td><td>masculine</td><td>Tatooine</td><td>Human</td><td>Attack of the Clones, Revenge of the Sith , A New Hope          </td><td></td><td></td><td>264.0</td></tr>\n",
              "</tbody>\n",
              "</table>\n"
            ],
            "text/markdown": "\nA tibble: 6 × 14\n\n| name &lt;chr&gt; | height &lt;int&gt; | hair_color &lt;chr&gt; | skin_color &lt;chr&gt; | eye_color &lt;chr&gt; | birth_year &lt;dbl&gt; | sex &lt;chr&gt; | gender &lt;chr&gt; | homeworld &lt;chr&gt; | species &lt;chr&gt; | films &lt;list&gt; | vehicles &lt;list&gt; | starships &lt;list&gt; | mass_lbs &lt;dbl&gt; |\n|---|---|---|---|---|---|---|---|---|---|---|---|---|---|\n| Luke Skywalker | 172 | blond       | fair        | blue   |  19.0 | male   | masculine | Tatooine | Human | The Empire Strikes Back, Revenge of the Sith    , Return of the Jedi     , A New Hope             , The Force Awakens       | Snowspeeder          , Imperial Speeder Bike | X-wing          , Imperial shuttle | 169.4 |\n| C-3PO          | 167 | NA          | gold        | yellow | 112.0 | none   | masculine | Tatooine | Droid | The Empire Strikes Back, Attack of the Clones   , The Phantom Menace     , Revenge of the Sith    , Return of the Jedi     , A New Hope              | <!----> | <!----> | 165.0 |\n| R2-D2          |  96 | NA          | white, blue | red    |  33.0 | none   | masculine | Naboo    | Droid | The Empire Strikes Back, Attack of the Clones   , The Phantom Menace     , Revenge of the Sith    , Return of the Jedi     , A New Hope             , The Force Awakens       | <!----> | <!----> |  70.4 |\n| Darth Vader    | 202 | none        | white       | yellow |  41.9 | male   | masculine | Tatooine | Human | The Empire Strikes Back, Revenge of the Sith    , Return of the Jedi     , A New Hope              | <!----> | TIE Advanced x1 | 299.2 |\n| Leia Organa    | 150 | brown       | light       | brown  |  19.0 | female | feminine  | Alderaan | Human | The Empire Strikes Back, Revenge of the Sith    , Return of the Jedi     , A New Hope             , The Force Awakens       | Imperial Speeder Bike | <!----> | 107.8 |\n| Owen Lars      | 178 | brown, grey | light       | blue   |  52.0 | male   | masculine | Tatooine | Human | Attack of the Clones, Revenge of the Sith , A New Hope           | <!----> | <!----> | 264.0 |\n\n",
            "text/latex": "A tibble: 6 × 14\n\\begin{tabular}{llllllllllllll}\n name & height & hair\\_color & skin\\_color & eye\\_color & birth\\_year & sex & gender & homeworld & species & films & vehicles & starships & mass\\_lbs\\\\\n <chr> & <int> & <chr> & <chr> & <chr> & <dbl> & <chr> & <chr> & <chr> & <chr> & <list> & <list> & <list> & <dbl>\\\\\n\\hline\n\t Luke Skywalker & 172 & blond       & fair        & blue   &  19.0 & male   & masculine & Tatooine & Human & The Empire Strikes Back, Revenge of the Sith    , Return of the Jedi     , A New Hope             , The Force Awakens       & Snowspeeder          , Imperial Speeder Bike & X-wing          , Imperial shuttle & 169.4\\\\\n\t C-3PO          & 167 & NA          & gold        & yellow & 112.0 & none   & masculine & Tatooine & Droid & The Empire Strikes Back, Attack of the Clones   , The Phantom Menace     , Revenge of the Sith    , Return of the Jedi     , A New Hope              &  &  & 165.0\\\\\n\t R2-D2          &  96 & NA          & white, blue & red    &  33.0 & none   & masculine & Naboo    & Droid & The Empire Strikes Back, Attack of the Clones   , The Phantom Menace     , Revenge of the Sith    , Return of the Jedi     , A New Hope             , The Force Awakens       &  &  &  70.4\\\\\n\t Darth Vader    & 202 & none        & white       & yellow &  41.9 & male   & masculine & Tatooine & Human & The Empire Strikes Back, Revenge of the Sith    , Return of the Jedi     , A New Hope              &  & TIE Advanced x1 & 299.2\\\\\n\t Leia Organa    & 150 & brown       & light       & brown  &  19.0 & female & feminine  & Alderaan & Human & The Empire Strikes Back, Revenge of the Sith    , Return of the Jedi     , A New Hope             , The Force Awakens       & Imperial Speeder Bike &  & 107.8\\\\\n\t Owen Lars      & 178 & brown, grey & light       & blue   &  52.0 & male   & masculine & Tatooine & Human & Attack of the Clones, Revenge of the Sith , A New Hope           &  &  & 264.0\\\\\n\\end{tabular}\n",
            "text/plain": [
              "  name           height hair_color  skin_color  eye_color birth_year sex   \n",
              "1 Luke Skywalker 172    blond       fair        blue       19.0      male  \n",
              "2 C-3PO          167    NA          gold        yellow    112.0      none  \n",
              "3 R2-D2           96    NA          white, blue red        33.0      none  \n",
              "4 Darth Vader    202    none        white       yellow     41.9      male  \n",
              "5 Leia Organa    150    brown       light       brown      19.0      female\n",
              "6 Owen Lars      178    brown, grey light       blue       52.0      male  \n",
              "  gender    homeworld species\n",
              "1 masculine Tatooine  Human  \n",
              "2 masculine Tatooine  Droid  \n",
              "3 masculine Naboo     Droid  \n",
              "4 masculine Tatooine  Human  \n",
              "5 feminine  Alderaan  Human  \n",
              "6 masculine Tatooine  Human  \n",
              "  films                                                                                                                                                                        \n",
              "1 The Empire Strikes Back, Revenge of the Sith    , Return of the Jedi     , A New Hope             , The Force Awakens                                                        \n",
              "2 The Empire Strikes Back, Attack of the Clones   , The Phantom Menace     , Revenge of the Sith    , Return of the Jedi     , A New Hope                                      \n",
              "3 The Empire Strikes Back, Attack of the Clones   , The Phantom Menace     , Revenge of the Sith    , Return of the Jedi     , A New Hope             , The Force Awakens      \n",
              "4 The Empire Strikes Back, Revenge of the Sith    , Return of the Jedi     , A New Hope                                                                                        \n",
              "5 The Empire Strikes Back, Revenge of the Sith    , Return of the Jedi     , A New Hope             , The Force Awakens                                                        \n",
              "6 Attack of the Clones, Revenge of the Sith , A New Hope                                                                                                                       \n",
              "  vehicles                                    \n",
              "1 Snowspeeder          , Imperial Speeder Bike\n",
              "2                                             \n",
              "3                                             \n",
              "4                                             \n",
              "5 Imperial Speeder Bike                       \n",
              "6                                             \n",
              "  starships                          mass_lbs\n",
              "1 X-wing          , Imperial shuttle 169.4   \n",
              "2                                    165.0   \n",
              "3                                     70.4   \n",
              "4 TIE Advanced x1                    299.2   \n",
              "5                                    107.8   \n",
              "6                                    264.0   "
            ]
          },
          "metadata": {}
        }
      ]
    },
    {
      "cell_type": "markdown",
      "id": "e9a9ea34",
      "metadata": {
        "id": "e9a9ea34"
      },
      "source": [
        "#### `rename`: Rename columns\n",
        "\n",
        "The `rename()` function can be used to rename one or more columns. It can be combined with the selector functions like `ends_with()` to operate on multiple columns based on patterns."
      ]
    },
    {
      "cell_type": "code",
      "execution_count": null,
      "id": "2ae7a922",
      "metadata": {
        "colab": {
          "base_uri": "https://localhost:8080/",
          "height": 529
        },
        "id": "2ae7a922",
        "outputId": "6b3a1881-669c-4f8c-c6f1-bdf80effe4b3"
      },
      "outputs": [
        {
          "output_type": "display_data",
          "data": {
            "text/html": [
              "<table class=\"dataframe\">\n",
              "<caption>A tibble: 6 × 14</caption>\n",
              "<thead>\n",
              "\t<tr><th scope=col>name</th><th scope=col>height</th><th scope=col>mass_kgs</th><th scope=col>hair_color</th><th scope=col>skin_color</th><th scope=col>eye_color</th><th scope=col>birth_year</th><th scope=col>sex</th><th scope=col>gender</th><th scope=col>homeworld</th><th scope=col>species</th><th scope=col>films</th><th scope=col>vehicles</th><th scope=col>starships</th></tr>\n",
              "\t<tr><th scope=col>&lt;chr&gt;</th><th scope=col>&lt;int&gt;</th><th scope=col>&lt;dbl&gt;</th><th scope=col>&lt;chr&gt;</th><th scope=col>&lt;chr&gt;</th><th scope=col>&lt;chr&gt;</th><th scope=col>&lt;dbl&gt;</th><th scope=col>&lt;chr&gt;</th><th scope=col>&lt;chr&gt;</th><th scope=col>&lt;chr&gt;</th><th scope=col>&lt;chr&gt;</th><th scope=col>&lt;list&gt;</th><th scope=col>&lt;list&gt;</th><th scope=col>&lt;list&gt;</th></tr>\n",
              "</thead>\n",
              "<tbody>\n",
              "\t<tr><td>Luke Skywalker</td><td>172</td><td> 77</td><td>blond      </td><td>fair       </td><td>blue  </td><td> 19.0</td><td>male  </td><td>masculine</td><td>Tatooine</td><td>Human</td><td>The Empire Strikes Back, Revenge of the Sith    , Return of the Jedi     , A New Hope             , The Force Awakens      </td><td>Snowspeeder          , Imperial Speeder Bike</td><td>X-wing          , Imperial shuttle</td></tr>\n",
              "\t<tr><td>C-3PO         </td><td>167</td><td> 75</td><td>NA         </td><td>gold       </td><td>yellow</td><td>112.0</td><td>none  </td><td>masculine</td><td>Tatooine</td><td>Droid</td><td>The Empire Strikes Back, Attack of the Clones   , The Phantom Menace     , Revenge of the Sith    , Return of the Jedi     , A New Hope             </td><td></td><td></td></tr>\n",
              "\t<tr><td>R2-D2         </td><td> 96</td><td> 32</td><td>NA         </td><td>white, blue</td><td>red   </td><td> 33.0</td><td>none  </td><td>masculine</td><td>Naboo   </td><td>Droid</td><td>The Empire Strikes Back, Attack of the Clones   , The Phantom Menace     , Revenge of the Sith    , Return of the Jedi     , A New Hope             , The Force Awakens      </td><td></td><td></td></tr>\n",
              "\t<tr><td>Darth Vader   </td><td>202</td><td>136</td><td>none       </td><td>white      </td><td>yellow</td><td> 41.9</td><td>male  </td><td>masculine</td><td>Tatooine</td><td>Human</td><td>The Empire Strikes Back, Revenge of the Sith    , Return of the Jedi     , A New Hope             </td><td></td><td>TIE Advanced x1</td></tr>\n",
              "\t<tr><td>Leia Organa   </td><td>150</td><td> 49</td><td>brown      </td><td>light      </td><td>brown </td><td> 19.0</td><td>female</td><td>feminine </td><td>Alderaan</td><td>Human</td><td>The Empire Strikes Back, Revenge of the Sith    , Return of the Jedi     , A New Hope             , The Force Awakens      </td><td>Imperial Speeder Bike</td><td></td></tr>\n",
              "\t<tr><td>Owen Lars     </td><td>178</td><td>120</td><td>brown, grey</td><td>light      </td><td>blue  </td><td> 52.0</td><td>male  </td><td>masculine</td><td>Tatooine</td><td>Human</td><td>Attack of the Clones, Revenge of the Sith , A New Hope          </td><td></td><td></td></tr>\n",
              "</tbody>\n",
              "</table>\n"
            ],
            "text/markdown": "\nA tibble: 6 × 14\n\n| name &lt;chr&gt; | height &lt;int&gt; | mass_kgs &lt;dbl&gt; | hair_color &lt;chr&gt; | skin_color &lt;chr&gt; | eye_color &lt;chr&gt; | birth_year &lt;dbl&gt; | sex &lt;chr&gt; | gender &lt;chr&gt; | homeworld &lt;chr&gt; | species &lt;chr&gt; | films &lt;list&gt; | vehicles &lt;list&gt; | starships &lt;list&gt; |\n|---|---|---|---|---|---|---|---|---|---|---|---|---|---|\n| Luke Skywalker | 172 |  77 | blond       | fair        | blue   |  19.0 | male   | masculine | Tatooine | Human | The Empire Strikes Back, Revenge of the Sith    , Return of the Jedi     , A New Hope             , The Force Awakens       | Snowspeeder          , Imperial Speeder Bike | X-wing          , Imperial shuttle |\n| C-3PO          | 167 |  75 | NA          | gold        | yellow | 112.0 | none   | masculine | Tatooine | Droid | The Empire Strikes Back, Attack of the Clones   , The Phantom Menace     , Revenge of the Sith    , Return of the Jedi     , A New Hope              | <!----> | <!----> |\n| R2-D2          |  96 |  32 | NA          | white, blue | red    |  33.0 | none   | masculine | Naboo    | Droid | The Empire Strikes Back, Attack of the Clones   , The Phantom Menace     , Revenge of the Sith    , Return of the Jedi     , A New Hope             , The Force Awakens       | <!----> | <!----> |\n| Darth Vader    | 202 | 136 | none        | white       | yellow |  41.9 | male   | masculine | Tatooine | Human | The Empire Strikes Back, Revenge of the Sith    , Return of the Jedi     , A New Hope              | <!----> | TIE Advanced x1 |\n| Leia Organa    | 150 |  49 | brown       | light       | brown  |  19.0 | female | feminine  | Alderaan | Human | The Empire Strikes Back, Revenge of the Sith    , Return of the Jedi     , A New Hope             , The Force Awakens       | Imperial Speeder Bike | <!----> |\n| Owen Lars      | 178 | 120 | brown, grey | light       | blue   |  52.0 | male   | masculine | Tatooine | Human | Attack of the Clones, Revenge of the Sith , A New Hope           | <!----> | <!----> |\n\n",
            "text/latex": "A tibble: 6 × 14\n\\begin{tabular}{llllllllllllll}\n name & height & mass\\_kgs & hair\\_color & skin\\_color & eye\\_color & birth\\_year & sex & gender & homeworld & species & films & vehicles & starships\\\\\n <chr> & <int> & <dbl> & <chr> & <chr> & <chr> & <dbl> & <chr> & <chr> & <chr> & <chr> & <list> & <list> & <list>\\\\\n\\hline\n\t Luke Skywalker & 172 &  77 & blond       & fair        & blue   &  19.0 & male   & masculine & Tatooine & Human & The Empire Strikes Back, Revenge of the Sith    , Return of the Jedi     , A New Hope             , The Force Awakens       & Snowspeeder          , Imperial Speeder Bike & X-wing          , Imperial shuttle\\\\\n\t C-3PO          & 167 &  75 & NA          & gold        & yellow & 112.0 & none   & masculine & Tatooine & Droid & The Empire Strikes Back, Attack of the Clones   , The Phantom Menace     , Revenge of the Sith    , Return of the Jedi     , A New Hope              &  & \\\\\n\t R2-D2          &  96 &  32 & NA          & white, blue & red    &  33.0 & none   & masculine & Naboo    & Droid & The Empire Strikes Back, Attack of the Clones   , The Phantom Menace     , Revenge of the Sith    , Return of the Jedi     , A New Hope             , The Force Awakens       &  & \\\\\n\t Darth Vader    & 202 & 136 & none        & white       & yellow &  41.9 & male   & masculine & Tatooine & Human & The Empire Strikes Back, Revenge of the Sith    , Return of the Jedi     , A New Hope              &  & TIE Advanced x1\\\\\n\t Leia Organa    & 150 &  49 & brown       & light       & brown  &  19.0 & female & feminine  & Alderaan & Human & The Empire Strikes Back, Revenge of the Sith    , Return of the Jedi     , A New Hope             , The Force Awakens       & Imperial Speeder Bike & \\\\\n\t Owen Lars      & 178 & 120 & brown, grey & light       & blue   &  52.0 & male   & masculine & Tatooine & Human & Attack of the Clones, Revenge of the Sith , A New Hope           &  & \\\\\n\\end{tabular}\n",
            "text/plain": [
              "  name           height mass_kgs hair_color  skin_color  eye_color birth_year\n",
              "1 Luke Skywalker 172     77      blond       fair        blue       19.0     \n",
              "2 C-3PO          167     75      NA          gold        yellow    112.0     \n",
              "3 R2-D2           96     32      NA          white, blue red        33.0     \n",
              "4 Darth Vader    202    136      none        white       yellow     41.9     \n",
              "5 Leia Organa    150     49      brown       light       brown      19.0     \n",
              "6 Owen Lars      178    120      brown, grey light       blue       52.0     \n",
              "  sex    gender    homeworld species\n",
              "1 male   masculine Tatooine  Human  \n",
              "2 none   masculine Tatooine  Droid  \n",
              "3 none   masculine Naboo     Droid  \n",
              "4 male   masculine Tatooine  Human  \n",
              "5 female feminine  Alderaan  Human  \n",
              "6 male   masculine Tatooine  Human  \n",
              "  films                                                                                                                                                                        \n",
              "1 The Empire Strikes Back, Revenge of the Sith    , Return of the Jedi     , A New Hope             , The Force Awakens                                                        \n",
              "2 The Empire Strikes Back, Attack of the Clones   , The Phantom Menace     , Revenge of the Sith    , Return of the Jedi     , A New Hope                                      \n",
              "3 The Empire Strikes Back, Attack of the Clones   , The Phantom Menace     , Revenge of the Sith    , Return of the Jedi     , A New Hope             , The Force Awakens      \n",
              "4 The Empire Strikes Back, Revenge of the Sith    , Return of the Jedi     , A New Hope                                                                                        \n",
              "5 The Empire Strikes Back, Revenge of the Sith    , Return of the Jedi     , A New Hope             , The Force Awakens                                                        \n",
              "6 Attack of the Clones, Revenge of the Sith , A New Hope                                                                                                                       \n",
              "  vehicles                                    \n",
              "1 Snowspeeder          , Imperial Speeder Bike\n",
              "2                                             \n",
              "3                                             \n",
              "4                                             \n",
              "5 Imperial Speeder Bike                       \n",
              "6                                             \n",
              "  starships                         \n",
              "1 X-wing          , Imperial shuttle\n",
              "2                                   \n",
              "3                                   \n",
              "4 TIE Advanced x1                   \n",
              "5                                   \n",
              "6                                   "
            ]
          },
          "metadata": {}
        }
      ],
      "source": [
        "# Rename\n",
        "starwars |>\n",
        "  rename(mass_kgs = mass) |>\n",
        "  head()"
      ]
    },
    {
      "cell_type": "code",
      "source": [
        "# Rename ALL columns to uppercase\n",
        "starwars |>\n",
        "  rename_with(toupper) |>\n",
        "  head()"
      ],
      "metadata": {
        "colab": {
          "base_uri": "https://localhost:8080/",
          "height": 512
        },
        "id": "P6bAWSZWgC1Z",
        "outputId": "b12b25f0-571a-435c-de37-2b99833e51b3"
      },
      "id": "P6bAWSZWgC1Z",
      "execution_count": null,
      "outputs": [
        {
          "output_type": "display_data",
          "data": {
            "text/html": [
              "<table class=\"dataframe\">\n",
              "<caption>A tibble: 6 × 14</caption>\n",
              "<thead>\n",
              "\t<tr><th scope=col>NAME</th><th scope=col>HEIGHT</th><th scope=col>MASS</th><th scope=col>HAIR_COLOR</th><th scope=col>SKIN_COLOR</th><th scope=col>EYE_COLOR</th><th scope=col>BIRTH_YEAR</th><th scope=col>SEX</th><th scope=col>GENDER</th><th scope=col>HOMEWORLD</th><th scope=col>SPECIES</th><th scope=col>FILMS</th><th scope=col>VEHICLES</th><th scope=col>STARSHIPS</th></tr>\n",
              "\t<tr><th scope=col>&lt;chr&gt;</th><th scope=col>&lt;int&gt;</th><th scope=col>&lt;dbl&gt;</th><th scope=col>&lt;chr&gt;</th><th scope=col>&lt;chr&gt;</th><th scope=col>&lt;chr&gt;</th><th scope=col>&lt;dbl&gt;</th><th scope=col>&lt;chr&gt;</th><th scope=col>&lt;chr&gt;</th><th scope=col>&lt;chr&gt;</th><th scope=col>&lt;chr&gt;</th><th scope=col>&lt;list&gt;</th><th scope=col>&lt;list&gt;</th><th scope=col>&lt;list&gt;</th></tr>\n",
              "</thead>\n",
              "<tbody>\n",
              "\t<tr><td>Luke Skywalker</td><td>172</td><td> 77</td><td>blond      </td><td>fair       </td><td>blue  </td><td> 19.0</td><td>male  </td><td>masculine</td><td>Tatooine</td><td>Human</td><td>The Empire Strikes Back, Revenge of the Sith    , Return of the Jedi     , A New Hope             , The Force Awakens      </td><td>Snowspeeder          , Imperial Speeder Bike</td><td>X-wing          , Imperial shuttle</td></tr>\n",
              "\t<tr><td>C-3PO         </td><td>167</td><td> 75</td><td>NA         </td><td>gold       </td><td>yellow</td><td>112.0</td><td>none  </td><td>masculine</td><td>Tatooine</td><td>Droid</td><td>The Empire Strikes Back, Attack of the Clones   , The Phantom Menace     , Revenge of the Sith    , Return of the Jedi     , A New Hope             </td><td></td><td></td></tr>\n",
              "\t<tr><td>R2-D2         </td><td> 96</td><td> 32</td><td>NA         </td><td>white, blue</td><td>red   </td><td> 33.0</td><td>none  </td><td>masculine</td><td>Naboo   </td><td>Droid</td><td>The Empire Strikes Back, Attack of the Clones   , The Phantom Menace     , Revenge of the Sith    , Return of the Jedi     , A New Hope             , The Force Awakens      </td><td></td><td></td></tr>\n",
              "\t<tr><td>Darth Vader   </td><td>202</td><td>136</td><td>none       </td><td>white      </td><td>yellow</td><td> 41.9</td><td>male  </td><td>masculine</td><td>Tatooine</td><td>Human</td><td>The Empire Strikes Back, Revenge of the Sith    , Return of the Jedi     , A New Hope             </td><td></td><td>TIE Advanced x1</td></tr>\n",
              "\t<tr><td>Leia Organa   </td><td>150</td><td> 49</td><td>brown      </td><td>light      </td><td>brown </td><td> 19.0</td><td>female</td><td>feminine </td><td>Alderaan</td><td>Human</td><td>The Empire Strikes Back, Revenge of the Sith    , Return of the Jedi     , A New Hope             , The Force Awakens      </td><td>Imperial Speeder Bike</td><td></td></tr>\n",
              "\t<tr><td>Owen Lars     </td><td>178</td><td>120</td><td>brown, grey</td><td>light      </td><td>blue  </td><td> 52.0</td><td>male  </td><td>masculine</td><td>Tatooine</td><td>Human</td><td>Attack of the Clones, Revenge of the Sith , A New Hope          </td><td></td><td></td></tr>\n",
              "</tbody>\n",
              "</table>\n"
            ],
            "text/markdown": "\nA tibble: 6 × 14\n\n| NAME &lt;chr&gt; | HEIGHT &lt;int&gt; | MASS &lt;dbl&gt; | HAIR_COLOR &lt;chr&gt; | SKIN_COLOR &lt;chr&gt; | EYE_COLOR &lt;chr&gt; | BIRTH_YEAR &lt;dbl&gt; | SEX &lt;chr&gt; | GENDER &lt;chr&gt; | HOMEWORLD &lt;chr&gt; | SPECIES &lt;chr&gt; | FILMS &lt;list&gt; | VEHICLES &lt;list&gt; | STARSHIPS &lt;list&gt; |\n|---|---|---|---|---|---|---|---|---|---|---|---|---|---|\n| Luke Skywalker | 172 |  77 | blond       | fair        | blue   |  19.0 | male   | masculine | Tatooine | Human | The Empire Strikes Back, Revenge of the Sith    , Return of the Jedi     , A New Hope             , The Force Awakens       | Snowspeeder          , Imperial Speeder Bike | X-wing          , Imperial shuttle |\n| C-3PO          | 167 |  75 | NA          | gold        | yellow | 112.0 | none   | masculine | Tatooine | Droid | The Empire Strikes Back, Attack of the Clones   , The Phantom Menace     , Revenge of the Sith    , Return of the Jedi     , A New Hope              | <!----> | <!----> |\n| R2-D2          |  96 |  32 | NA          | white, blue | red    |  33.0 | none   | masculine | Naboo    | Droid | The Empire Strikes Back, Attack of the Clones   , The Phantom Menace     , Revenge of the Sith    , Return of the Jedi     , A New Hope             , The Force Awakens       | <!----> | <!----> |\n| Darth Vader    | 202 | 136 | none        | white       | yellow |  41.9 | male   | masculine | Tatooine | Human | The Empire Strikes Back, Revenge of the Sith    , Return of the Jedi     , A New Hope              | <!----> | TIE Advanced x1 |\n| Leia Organa    | 150 |  49 | brown       | light       | brown  |  19.0 | female | feminine  | Alderaan | Human | The Empire Strikes Back, Revenge of the Sith    , Return of the Jedi     , A New Hope             , The Force Awakens       | Imperial Speeder Bike | <!----> |\n| Owen Lars      | 178 | 120 | brown, grey | light       | blue   |  52.0 | male   | masculine | Tatooine | Human | Attack of the Clones, Revenge of the Sith , A New Hope           | <!----> | <!----> |\n\n",
            "text/latex": "A tibble: 6 × 14\n\\begin{tabular}{llllllllllllll}\n NAME & HEIGHT & MASS & HAIR\\_COLOR & SKIN\\_COLOR & EYE\\_COLOR & BIRTH\\_YEAR & SEX & GENDER & HOMEWORLD & SPECIES & FILMS & VEHICLES & STARSHIPS\\\\\n <chr> & <int> & <dbl> & <chr> & <chr> & <chr> & <dbl> & <chr> & <chr> & <chr> & <chr> & <list> & <list> & <list>\\\\\n\\hline\n\t Luke Skywalker & 172 &  77 & blond       & fair        & blue   &  19.0 & male   & masculine & Tatooine & Human & The Empire Strikes Back, Revenge of the Sith    , Return of the Jedi     , A New Hope             , The Force Awakens       & Snowspeeder          , Imperial Speeder Bike & X-wing          , Imperial shuttle\\\\\n\t C-3PO          & 167 &  75 & NA          & gold        & yellow & 112.0 & none   & masculine & Tatooine & Droid & The Empire Strikes Back, Attack of the Clones   , The Phantom Menace     , Revenge of the Sith    , Return of the Jedi     , A New Hope              &  & \\\\\n\t R2-D2          &  96 &  32 & NA          & white, blue & red    &  33.0 & none   & masculine & Naboo    & Droid & The Empire Strikes Back, Attack of the Clones   , The Phantom Menace     , Revenge of the Sith    , Return of the Jedi     , A New Hope             , The Force Awakens       &  & \\\\\n\t Darth Vader    & 202 & 136 & none        & white       & yellow &  41.9 & male   & masculine & Tatooine & Human & The Empire Strikes Back, Revenge of the Sith    , Return of the Jedi     , A New Hope              &  & TIE Advanced x1\\\\\n\t Leia Organa    & 150 &  49 & brown       & light       & brown  &  19.0 & female & feminine  & Alderaan & Human & The Empire Strikes Back, Revenge of the Sith    , Return of the Jedi     , A New Hope             , The Force Awakens       & Imperial Speeder Bike & \\\\\n\t Owen Lars      & 178 & 120 & brown, grey & light       & blue   &  52.0 & male   & masculine & Tatooine & Human & Attack of the Clones, Revenge of the Sith , A New Hope           &  & \\\\\n\\end{tabular}\n",
            "text/plain": [
              "  NAME           HEIGHT MASS HAIR_COLOR  SKIN_COLOR  EYE_COLOR BIRTH_YEAR\n",
              "1 Luke Skywalker 172     77  blond       fair        blue       19.0     \n",
              "2 C-3PO          167     75  NA          gold        yellow    112.0     \n",
              "3 R2-D2           96     32  NA          white, blue red        33.0     \n",
              "4 Darth Vader    202    136  none        white       yellow     41.9     \n",
              "5 Leia Organa    150     49  brown       light       brown      19.0     \n",
              "6 Owen Lars      178    120  brown, grey light       blue       52.0     \n",
              "  SEX    GENDER    HOMEWORLD SPECIES\n",
              "1 male   masculine Tatooine  Human  \n",
              "2 none   masculine Tatooine  Droid  \n",
              "3 none   masculine Naboo     Droid  \n",
              "4 male   masculine Tatooine  Human  \n",
              "5 female feminine  Alderaan  Human  \n",
              "6 male   masculine Tatooine  Human  \n",
              "  FILMS                                                                                                                                                                        \n",
              "1 The Empire Strikes Back, Revenge of the Sith    , Return of the Jedi     , A New Hope             , The Force Awakens                                                        \n",
              "2 The Empire Strikes Back, Attack of the Clones   , The Phantom Menace     , Revenge of the Sith    , Return of the Jedi     , A New Hope                                      \n",
              "3 The Empire Strikes Back, Attack of the Clones   , The Phantom Menace     , Revenge of the Sith    , Return of the Jedi     , A New Hope             , The Force Awakens      \n",
              "4 The Empire Strikes Back, Revenge of the Sith    , Return of the Jedi     , A New Hope                                                                                        \n",
              "5 The Empire Strikes Back, Revenge of the Sith    , Return of the Jedi     , A New Hope             , The Force Awakens                                                        \n",
              "6 Attack of the Clones, Revenge of the Sith , A New Hope                                                                                                                       \n",
              "  VEHICLES                                    \n",
              "1 Snowspeeder          , Imperial Speeder Bike\n",
              "2                                             \n",
              "3                                             \n",
              "4                                             \n",
              "5 Imperial Speeder Bike                       \n",
              "6                                             \n",
              "  STARSHIPS                         \n",
              "1 X-wing          , Imperial shuttle\n",
              "2                                   \n",
              "3                                   \n",
              "4 TIE Advanced x1                   \n",
              "5                                   \n",
              "6                                   "
            ]
          },
          "metadata": {}
        }
      ]
    },
    {
      "cell_type": "code",
      "source": [
        "# Rename “color” columns to uppercase\n",
        "starwars |>\n",
        "  rename_with(toupper, ends_with(\"color\")) |>\n",
        "  head()"
      ],
      "metadata": {
        "colab": {
          "base_uri": "https://localhost:8080/",
          "height": 512
        },
        "id": "rRnTjYa2gD-p",
        "outputId": "2741b228-5687-49dc-e552-9477f9d36aaf"
      },
      "id": "rRnTjYa2gD-p",
      "execution_count": null,
      "outputs": [
        {
          "output_type": "display_data",
          "data": {
            "text/html": [
              "<table class=\"dataframe\">\n",
              "<caption>A tibble: 6 × 14</caption>\n",
              "<thead>\n",
              "\t<tr><th scope=col>name</th><th scope=col>height</th><th scope=col>mass</th><th scope=col>HAIR_COLOR</th><th scope=col>SKIN_COLOR</th><th scope=col>EYE_COLOR</th><th scope=col>birth_year</th><th scope=col>sex</th><th scope=col>gender</th><th scope=col>homeworld</th><th scope=col>species</th><th scope=col>films</th><th scope=col>vehicles</th><th scope=col>starships</th></tr>\n",
              "\t<tr><th scope=col>&lt;chr&gt;</th><th scope=col>&lt;int&gt;</th><th scope=col>&lt;dbl&gt;</th><th scope=col>&lt;chr&gt;</th><th scope=col>&lt;chr&gt;</th><th scope=col>&lt;chr&gt;</th><th scope=col>&lt;dbl&gt;</th><th scope=col>&lt;chr&gt;</th><th scope=col>&lt;chr&gt;</th><th scope=col>&lt;chr&gt;</th><th scope=col>&lt;chr&gt;</th><th scope=col>&lt;list&gt;</th><th scope=col>&lt;list&gt;</th><th scope=col>&lt;list&gt;</th></tr>\n",
              "</thead>\n",
              "<tbody>\n",
              "\t<tr><td>Luke Skywalker</td><td>172</td><td> 77</td><td>blond      </td><td>fair       </td><td>blue  </td><td> 19.0</td><td>male  </td><td>masculine</td><td>Tatooine</td><td>Human</td><td>The Empire Strikes Back, Revenge of the Sith    , Return of the Jedi     , A New Hope             , The Force Awakens      </td><td>Snowspeeder          , Imperial Speeder Bike</td><td>X-wing          , Imperial shuttle</td></tr>\n",
              "\t<tr><td>C-3PO         </td><td>167</td><td> 75</td><td>NA         </td><td>gold       </td><td>yellow</td><td>112.0</td><td>none  </td><td>masculine</td><td>Tatooine</td><td>Droid</td><td>The Empire Strikes Back, Attack of the Clones   , The Phantom Menace     , Revenge of the Sith    , Return of the Jedi     , A New Hope             </td><td></td><td></td></tr>\n",
              "\t<tr><td>R2-D2         </td><td> 96</td><td> 32</td><td>NA         </td><td>white, blue</td><td>red   </td><td> 33.0</td><td>none  </td><td>masculine</td><td>Naboo   </td><td>Droid</td><td>The Empire Strikes Back, Attack of the Clones   , The Phantom Menace     , Revenge of the Sith    , Return of the Jedi     , A New Hope             , The Force Awakens      </td><td></td><td></td></tr>\n",
              "\t<tr><td>Darth Vader   </td><td>202</td><td>136</td><td>none       </td><td>white      </td><td>yellow</td><td> 41.9</td><td>male  </td><td>masculine</td><td>Tatooine</td><td>Human</td><td>The Empire Strikes Back, Revenge of the Sith    , Return of the Jedi     , A New Hope             </td><td></td><td>TIE Advanced x1</td></tr>\n",
              "\t<tr><td>Leia Organa   </td><td>150</td><td> 49</td><td>brown      </td><td>light      </td><td>brown </td><td> 19.0</td><td>female</td><td>feminine </td><td>Alderaan</td><td>Human</td><td>The Empire Strikes Back, Revenge of the Sith    , Return of the Jedi     , A New Hope             , The Force Awakens      </td><td>Imperial Speeder Bike</td><td></td></tr>\n",
              "\t<tr><td>Owen Lars     </td><td>178</td><td>120</td><td>brown, grey</td><td>light      </td><td>blue  </td><td> 52.0</td><td>male  </td><td>masculine</td><td>Tatooine</td><td>Human</td><td>Attack of the Clones, Revenge of the Sith , A New Hope          </td><td></td><td></td></tr>\n",
              "</tbody>\n",
              "</table>\n"
            ],
            "text/markdown": "\nA tibble: 6 × 14\n\n| name &lt;chr&gt; | height &lt;int&gt; | mass &lt;dbl&gt; | HAIR_COLOR &lt;chr&gt; | SKIN_COLOR &lt;chr&gt; | EYE_COLOR &lt;chr&gt; | birth_year &lt;dbl&gt; | sex &lt;chr&gt; | gender &lt;chr&gt; | homeworld &lt;chr&gt; | species &lt;chr&gt; | films &lt;list&gt; | vehicles &lt;list&gt; | starships &lt;list&gt; |\n|---|---|---|---|---|---|---|---|---|---|---|---|---|---|\n| Luke Skywalker | 172 |  77 | blond       | fair        | blue   |  19.0 | male   | masculine | Tatooine | Human | The Empire Strikes Back, Revenge of the Sith    , Return of the Jedi     , A New Hope             , The Force Awakens       | Snowspeeder          , Imperial Speeder Bike | X-wing          , Imperial shuttle |\n| C-3PO          | 167 |  75 | NA          | gold        | yellow | 112.0 | none   | masculine | Tatooine | Droid | The Empire Strikes Back, Attack of the Clones   , The Phantom Menace     , Revenge of the Sith    , Return of the Jedi     , A New Hope              | <!----> | <!----> |\n| R2-D2          |  96 |  32 | NA          | white, blue | red    |  33.0 | none   | masculine | Naboo    | Droid | The Empire Strikes Back, Attack of the Clones   , The Phantom Menace     , Revenge of the Sith    , Return of the Jedi     , A New Hope             , The Force Awakens       | <!----> | <!----> |\n| Darth Vader    | 202 | 136 | none        | white       | yellow |  41.9 | male   | masculine | Tatooine | Human | The Empire Strikes Back, Revenge of the Sith    , Return of the Jedi     , A New Hope              | <!----> | TIE Advanced x1 |\n| Leia Organa    | 150 |  49 | brown       | light       | brown  |  19.0 | female | feminine  | Alderaan | Human | The Empire Strikes Back, Revenge of the Sith    , Return of the Jedi     , A New Hope             , The Force Awakens       | Imperial Speeder Bike | <!----> |\n| Owen Lars      | 178 | 120 | brown, grey | light       | blue   |  52.0 | male   | masculine | Tatooine | Human | Attack of the Clones, Revenge of the Sith , A New Hope           | <!----> | <!----> |\n\n",
            "text/latex": "A tibble: 6 × 14\n\\begin{tabular}{llllllllllllll}\n name & height & mass & HAIR\\_COLOR & SKIN\\_COLOR & EYE\\_COLOR & birth\\_year & sex & gender & homeworld & species & films & vehicles & starships\\\\\n <chr> & <int> & <dbl> & <chr> & <chr> & <chr> & <dbl> & <chr> & <chr> & <chr> & <chr> & <list> & <list> & <list>\\\\\n\\hline\n\t Luke Skywalker & 172 &  77 & blond       & fair        & blue   &  19.0 & male   & masculine & Tatooine & Human & The Empire Strikes Back, Revenge of the Sith    , Return of the Jedi     , A New Hope             , The Force Awakens       & Snowspeeder          , Imperial Speeder Bike & X-wing          , Imperial shuttle\\\\\n\t C-3PO          & 167 &  75 & NA          & gold        & yellow & 112.0 & none   & masculine & Tatooine & Droid & The Empire Strikes Back, Attack of the Clones   , The Phantom Menace     , Revenge of the Sith    , Return of the Jedi     , A New Hope              &  & \\\\\n\t R2-D2          &  96 &  32 & NA          & white, blue & red    &  33.0 & none   & masculine & Naboo    & Droid & The Empire Strikes Back, Attack of the Clones   , The Phantom Menace     , Revenge of the Sith    , Return of the Jedi     , A New Hope             , The Force Awakens       &  & \\\\\n\t Darth Vader    & 202 & 136 & none        & white       & yellow &  41.9 & male   & masculine & Tatooine & Human & The Empire Strikes Back, Revenge of the Sith    , Return of the Jedi     , A New Hope              &  & TIE Advanced x1\\\\\n\t Leia Organa    & 150 &  49 & brown       & light       & brown  &  19.0 & female & feminine  & Alderaan & Human & The Empire Strikes Back, Revenge of the Sith    , Return of the Jedi     , A New Hope             , The Force Awakens       & Imperial Speeder Bike & \\\\\n\t Owen Lars      & 178 & 120 & brown, grey & light       & blue   &  52.0 & male   & masculine & Tatooine & Human & Attack of the Clones, Revenge of the Sith , A New Hope           &  & \\\\\n\\end{tabular}\n",
            "text/plain": [
              "  name           height mass HAIR_COLOR  SKIN_COLOR  EYE_COLOR birth_year\n",
              "1 Luke Skywalker 172     77  blond       fair        blue       19.0     \n",
              "2 C-3PO          167     75  NA          gold        yellow    112.0     \n",
              "3 R2-D2           96     32  NA          white, blue red        33.0     \n",
              "4 Darth Vader    202    136  none        white       yellow     41.9     \n",
              "5 Leia Organa    150     49  brown       light       brown      19.0     \n",
              "6 Owen Lars      178    120  brown, grey light       blue       52.0     \n",
              "  sex    gender    homeworld species\n",
              "1 male   masculine Tatooine  Human  \n",
              "2 none   masculine Tatooine  Droid  \n",
              "3 none   masculine Naboo     Droid  \n",
              "4 male   masculine Tatooine  Human  \n",
              "5 female feminine  Alderaan  Human  \n",
              "6 male   masculine Tatooine  Human  \n",
              "  films                                                                                                                                                                        \n",
              "1 The Empire Strikes Back, Revenge of the Sith    , Return of the Jedi     , A New Hope             , The Force Awakens                                                        \n",
              "2 The Empire Strikes Back, Attack of the Clones   , The Phantom Menace     , Revenge of the Sith    , Return of the Jedi     , A New Hope                                      \n",
              "3 The Empire Strikes Back, Attack of the Clones   , The Phantom Menace     , Revenge of the Sith    , Return of the Jedi     , A New Hope             , The Force Awakens      \n",
              "4 The Empire Strikes Back, Revenge of the Sith    , Return of the Jedi     , A New Hope                                                                                        \n",
              "5 The Empire Strikes Back, Revenge of the Sith    , Return of the Jedi     , A New Hope             , The Force Awakens                                                        \n",
              "6 Attack of the Clones, Revenge of the Sith , A New Hope                                                                                                                       \n",
              "  vehicles                                    \n",
              "1 Snowspeeder          , Imperial Speeder Bike\n",
              "2                                             \n",
              "3                                             \n",
              "4                                             \n",
              "5 Imperial Speeder Bike                       \n",
              "6                                             \n",
              "  starships                         \n",
              "1 X-wing          , Imperial shuttle\n",
              "2                                   \n",
              "3                                   \n",
              "4 TIE Advanced x1                   \n",
              "5                                   \n",
              "6                                   "
            ]
          },
          "metadata": {}
        }
      ]
    },
    {
      "cell_type": "markdown",
      "id": "006f92a8",
      "metadata": {
        "id": "006f92a8"
      },
      "source": [
        "#### `relocate`: Relocate columns\n",
        "\n",
        "The `relocate()` function can be used to relocate a column before or after another column in the table."
      ]
    },
    {
      "cell_type": "code",
      "execution_count": null,
      "id": "bd3aa7d7",
      "metadata": {
        "colab": {
          "base_uri": "https://localhost:8080/",
          "height": 512
        },
        "id": "bd3aa7d7",
        "outputId": "fc9b39f9-d9f6-40e8-822a-2c849dc4e570"
      },
      "outputs": [
        {
          "output_type": "display_data",
          "data": {
            "text/html": [
              "<table class=\"dataframe\">\n",
              "<caption>A tibble: 6 × 14</caption>\n",
              "<thead>\n",
              "\t<tr><th scope=col>name</th><th scope=col>sex</th><th scope=col>height</th><th scope=col>mass</th><th scope=col>hair_color</th><th scope=col>skin_color</th><th scope=col>eye_color</th><th scope=col>birth_year</th><th scope=col>gender</th><th scope=col>homeworld</th><th scope=col>species</th><th scope=col>films</th><th scope=col>vehicles</th><th scope=col>starships</th></tr>\n",
              "\t<tr><th scope=col>&lt;chr&gt;</th><th scope=col>&lt;chr&gt;</th><th scope=col>&lt;int&gt;</th><th scope=col>&lt;dbl&gt;</th><th scope=col>&lt;chr&gt;</th><th scope=col>&lt;chr&gt;</th><th scope=col>&lt;chr&gt;</th><th scope=col>&lt;dbl&gt;</th><th scope=col>&lt;chr&gt;</th><th scope=col>&lt;chr&gt;</th><th scope=col>&lt;chr&gt;</th><th scope=col>&lt;list&gt;</th><th scope=col>&lt;list&gt;</th><th scope=col>&lt;list&gt;</th></tr>\n",
              "</thead>\n",
              "<tbody>\n",
              "\t<tr><td>Luke Skywalker</td><td>male  </td><td>172</td><td> 77</td><td>blond      </td><td>fair       </td><td>blue  </td><td> 19.0</td><td>masculine</td><td>Tatooine</td><td>Human</td><td>The Empire Strikes Back, Revenge of the Sith    , Return of the Jedi     , A New Hope             , The Force Awakens      </td><td>Snowspeeder          , Imperial Speeder Bike</td><td>X-wing          , Imperial shuttle</td></tr>\n",
              "\t<tr><td>C-3PO         </td><td>none  </td><td>167</td><td> 75</td><td>NA         </td><td>gold       </td><td>yellow</td><td>112.0</td><td>masculine</td><td>Tatooine</td><td>Droid</td><td>The Empire Strikes Back, Attack of the Clones   , The Phantom Menace     , Revenge of the Sith    , Return of the Jedi     , A New Hope             </td><td></td><td></td></tr>\n",
              "\t<tr><td>R2-D2         </td><td>none  </td><td> 96</td><td> 32</td><td>NA         </td><td>white, blue</td><td>red   </td><td> 33.0</td><td>masculine</td><td>Naboo   </td><td>Droid</td><td>The Empire Strikes Back, Attack of the Clones   , The Phantom Menace     , Revenge of the Sith    , Return of the Jedi     , A New Hope             , The Force Awakens      </td><td></td><td></td></tr>\n",
              "\t<tr><td>Darth Vader   </td><td>male  </td><td>202</td><td>136</td><td>none       </td><td>white      </td><td>yellow</td><td> 41.9</td><td>masculine</td><td>Tatooine</td><td>Human</td><td>The Empire Strikes Back, Revenge of the Sith    , Return of the Jedi     , A New Hope             </td><td></td><td>TIE Advanced x1</td></tr>\n",
              "\t<tr><td>Leia Organa   </td><td>female</td><td>150</td><td> 49</td><td>brown      </td><td>light      </td><td>brown </td><td> 19.0</td><td>feminine </td><td>Alderaan</td><td>Human</td><td>The Empire Strikes Back, Revenge of the Sith    , Return of the Jedi     , A New Hope             , The Force Awakens      </td><td>Imperial Speeder Bike</td><td></td></tr>\n",
              "\t<tr><td>Owen Lars     </td><td>male  </td><td>178</td><td>120</td><td>brown, grey</td><td>light      </td><td>blue  </td><td> 52.0</td><td>masculine</td><td>Tatooine</td><td>Human</td><td>Attack of the Clones, Revenge of the Sith , A New Hope          </td><td></td><td></td></tr>\n",
              "</tbody>\n",
              "</table>\n"
            ],
            "text/markdown": "\nA tibble: 6 × 14\n\n| name &lt;chr&gt; | sex &lt;chr&gt; | height &lt;int&gt; | mass &lt;dbl&gt; | hair_color &lt;chr&gt; | skin_color &lt;chr&gt; | eye_color &lt;chr&gt; | birth_year &lt;dbl&gt; | gender &lt;chr&gt; | homeworld &lt;chr&gt; | species &lt;chr&gt; | films &lt;list&gt; | vehicles &lt;list&gt; | starships &lt;list&gt; |\n|---|---|---|---|---|---|---|---|---|---|---|---|---|---|\n| Luke Skywalker | male   | 172 |  77 | blond       | fair        | blue   |  19.0 | masculine | Tatooine | Human | The Empire Strikes Back, Revenge of the Sith    , Return of the Jedi     , A New Hope             , The Force Awakens       | Snowspeeder          , Imperial Speeder Bike | X-wing          , Imperial shuttle |\n| C-3PO          | none   | 167 |  75 | NA          | gold        | yellow | 112.0 | masculine | Tatooine | Droid | The Empire Strikes Back, Attack of the Clones   , The Phantom Menace     , Revenge of the Sith    , Return of the Jedi     , A New Hope              | <!----> | <!----> |\n| R2-D2          | none   |  96 |  32 | NA          | white, blue | red    |  33.0 | masculine | Naboo    | Droid | The Empire Strikes Back, Attack of the Clones   , The Phantom Menace     , Revenge of the Sith    , Return of the Jedi     , A New Hope             , The Force Awakens       | <!----> | <!----> |\n| Darth Vader    | male   | 202 | 136 | none        | white       | yellow |  41.9 | masculine | Tatooine | Human | The Empire Strikes Back, Revenge of the Sith    , Return of the Jedi     , A New Hope              | <!----> | TIE Advanced x1 |\n| Leia Organa    | female | 150 |  49 | brown       | light       | brown  |  19.0 | feminine  | Alderaan | Human | The Empire Strikes Back, Revenge of the Sith    , Return of the Jedi     , A New Hope             , The Force Awakens       | Imperial Speeder Bike | <!----> |\n| Owen Lars      | male   | 178 | 120 | brown, grey | light       | blue   |  52.0 | masculine | Tatooine | Human | Attack of the Clones, Revenge of the Sith , A New Hope           | <!----> | <!----> |\n\n",
            "text/latex": "A tibble: 6 × 14\n\\begin{tabular}{llllllllllllll}\n name & sex & height & mass & hair\\_color & skin\\_color & eye\\_color & birth\\_year & gender & homeworld & species & films & vehicles & starships\\\\\n <chr> & <chr> & <int> & <dbl> & <chr> & <chr> & <chr> & <dbl> & <chr> & <chr> & <chr> & <list> & <list> & <list>\\\\\n\\hline\n\t Luke Skywalker & male   & 172 &  77 & blond       & fair        & blue   &  19.0 & masculine & Tatooine & Human & The Empire Strikes Back, Revenge of the Sith    , Return of the Jedi     , A New Hope             , The Force Awakens       & Snowspeeder          , Imperial Speeder Bike & X-wing          , Imperial shuttle\\\\\n\t C-3PO          & none   & 167 &  75 & NA          & gold        & yellow & 112.0 & masculine & Tatooine & Droid & The Empire Strikes Back, Attack of the Clones   , The Phantom Menace     , Revenge of the Sith    , Return of the Jedi     , A New Hope              &  & \\\\\n\t R2-D2          & none   &  96 &  32 & NA          & white, blue & red    &  33.0 & masculine & Naboo    & Droid & The Empire Strikes Back, Attack of the Clones   , The Phantom Menace     , Revenge of the Sith    , Return of the Jedi     , A New Hope             , The Force Awakens       &  & \\\\\n\t Darth Vader    & male   & 202 & 136 & none        & white       & yellow &  41.9 & masculine & Tatooine & Human & The Empire Strikes Back, Revenge of the Sith    , Return of the Jedi     , A New Hope              &  & TIE Advanced x1\\\\\n\t Leia Organa    & female & 150 &  49 & brown       & light       & brown  &  19.0 & feminine  & Alderaan & Human & The Empire Strikes Back, Revenge of the Sith    , Return of the Jedi     , A New Hope             , The Force Awakens       & Imperial Speeder Bike & \\\\\n\t Owen Lars      & male   & 178 & 120 & brown, grey & light       & blue   &  52.0 & masculine & Tatooine & Human & Attack of the Clones, Revenge of the Sith , A New Hope           &  & \\\\\n\\end{tabular}\n",
            "text/plain": [
              "  name           sex    height mass hair_color  skin_color  eye_color\n",
              "1 Luke Skywalker male   172     77  blond       fair        blue     \n",
              "2 C-3PO          none   167     75  NA          gold        yellow   \n",
              "3 R2-D2          none    96     32  NA          white, blue red      \n",
              "4 Darth Vader    male   202    136  none        white       yellow   \n",
              "5 Leia Organa    female 150     49  brown       light       brown    \n",
              "6 Owen Lars      male   178    120  brown, grey light       blue     \n",
              "  birth_year gender    homeworld species\n",
              "1  19.0      masculine Tatooine  Human  \n",
              "2 112.0      masculine Tatooine  Droid  \n",
              "3  33.0      masculine Naboo     Droid  \n",
              "4  41.9      masculine Tatooine  Human  \n",
              "5  19.0      feminine  Alderaan  Human  \n",
              "6  52.0      masculine Tatooine  Human  \n",
              "  films                                                                                                                                                                        \n",
              "1 The Empire Strikes Back, Revenge of the Sith    , Return of the Jedi     , A New Hope             , The Force Awakens                                                        \n",
              "2 The Empire Strikes Back, Attack of the Clones   , The Phantom Menace     , Revenge of the Sith    , Return of the Jedi     , A New Hope                                      \n",
              "3 The Empire Strikes Back, Attack of the Clones   , The Phantom Menace     , Revenge of the Sith    , Return of the Jedi     , A New Hope             , The Force Awakens      \n",
              "4 The Empire Strikes Back, Revenge of the Sith    , Return of the Jedi     , A New Hope                                                                                        \n",
              "5 The Empire Strikes Back, Revenge of the Sith    , Return of the Jedi     , A New Hope             , The Force Awakens                                                        \n",
              "6 Attack of the Clones, Revenge of the Sith , A New Hope                                                                                                                       \n",
              "  vehicles                                    \n",
              "1 Snowspeeder          , Imperial Speeder Bike\n",
              "2                                             \n",
              "3                                             \n",
              "4                                             \n",
              "5 Imperial Speeder Bike                       \n",
              "6                                             \n",
              "  starships                         \n",
              "1 X-wing          , Imperial shuttle\n",
              "2                                   \n",
              "3                                   \n",
              "4 TIE Advanced x1                   \n",
              "5                                   \n",
              "6                                   "
            ]
          },
          "metadata": {}
        }
      ],
      "source": [
        "# Relocate column AFTER a column\n",
        "starwars |>\n",
        "  relocate(sex, .after = name) |>\n",
        "  head()"
      ]
    },
    {
      "cell_type": "code",
      "source": [
        "# Relocate a column BEFORE a column\n",
        "starwars |>\n",
        "  relocate(sex, .before = mass) |>\n",
        "  head()"
      ],
      "metadata": {
        "colab": {
          "base_uri": "https://localhost:8080/",
          "height": 512
        },
        "id": "86kKmlDmgF7y",
        "outputId": "92f6814a-ee96-4f80-9a44-26407e31b4c3"
      },
      "id": "86kKmlDmgF7y",
      "execution_count": null,
      "outputs": [
        {
          "output_type": "display_data",
          "data": {
            "text/html": [
              "<table class=\"dataframe\">\n",
              "<caption>A tibble: 6 × 14</caption>\n",
              "<thead>\n",
              "\t<tr><th scope=col>name</th><th scope=col>height</th><th scope=col>sex</th><th scope=col>mass</th><th scope=col>hair_color</th><th scope=col>skin_color</th><th scope=col>eye_color</th><th scope=col>birth_year</th><th scope=col>gender</th><th scope=col>homeworld</th><th scope=col>species</th><th scope=col>films</th><th scope=col>vehicles</th><th scope=col>starships</th></tr>\n",
              "\t<tr><th scope=col>&lt;chr&gt;</th><th scope=col>&lt;int&gt;</th><th scope=col>&lt;chr&gt;</th><th scope=col>&lt;dbl&gt;</th><th scope=col>&lt;chr&gt;</th><th scope=col>&lt;chr&gt;</th><th scope=col>&lt;chr&gt;</th><th scope=col>&lt;dbl&gt;</th><th scope=col>&lt;chr&gt;</th><th scope=col>&lt;chr&gt;</th><th scope=col>&lt;chr&gt;</th><th scope=col>&lt;list&gt;</th><th scope=col>&lt;list&gt;</th><th scope=col>&lt;list&gt;</th></tr>\n",
              "</thead>\n",
              "<tbody>\n",
              "\t<tr><td>Luke Skywalker</td><td>172</td><td>male  </td><td> 77</td><td>blond      </td><td>fair       </td><td>blue  </td><td> 19.0</td><td>masculine</td><td>Tatooine</td><td>Human</td><td>The Empire Strikes Back, Revenge of the Sith    , Return of the Jedi     , A New Hope             , The Force Awakens      </td><td>Snowspeeder          , Imperial Speeder Bike</td><td>X-wing          , Imperial shuttle</td></tr>\n",
              "\t<tr><td>C-3PO         </td><td>167</td><td>none  </td><td> 75</td><td>NA         </td><td>gold       </td><td>yellow</td><td>112.0</td><td>masculine</td><td>Tatooine</td><td>Droid</td><td>The Empire Strikes Back, Attack of the Clones   , The Phantom Menace     , Revenge of the Sith    , Return of the Jedi     , A New Hope             </td><td></td><td></td></tr>\n",
              "\t<tr><td>R2-D2         </td><td> 96</td><td>none  </td><td> 32</td><td>NA         </td><td>white, blue</td><td>red   </td><td> 33.0</td><td>masculine</td><td>Naboo   </td><td>Droid</td><td>The Empire Strikes Back, Attack of the Clones   , The Phantom Menace     , Revenge of the Sith    , Return of the Jedi     , A New Hope             , The Force Awakens      </td><td></td><td></td></tr>\n",
              "\t<tr><td>Darth Vader   </td><td>202</td><td>male  </td><td>136</td><td>none       </td><td>white      </td><td>yellow</td><td> 41.9</td><td>masculine</td><td>Tatooine</td><td>Human</td><td>The Empire Strikes Back, Revenge of the Sith    , Return of the Jedi     , A New Hope             </td><td></td><td>TIE Advanced x1</td></tr>\n",
              "\t<tr><td>Leia Organa   </td><td>150</td><td>female</td><td> 49</td><td>brown      </td><td>light      </td><td>brown </td><td> 19.0</td><td>feminine </td><td>Alderaan</td><td>Human</td><td>The Empire Strikes Back, Revenge of the Sith    , Return of the Jedi     , A New Hope             , The Force Awakens      </td><td>Imperial Speeder Bike</td><td></td></tr>\n",
              "\t<tr><td>Owen Lars     </td><td>178</td><td>male  </td><td>120</td><td>brown, grey</td><td>light      </td><td>blue  </td><td> 52.0</td><td>masculine</td><td>Tatooine</td><td>Human</td><td>Attack of the Clones, Revenge of the Sith , A New Hope          </td><td></td><td></td></tr>\n",
              "</tbody>\n",
              "</table>\n"
            ],
            "text/markdown": "\nA tibble: 6 × 14\n\n| name &lt;chr&gt; | height &lt;int&gt; | sex &lt;chr&gt; | mass &lt;dbl&gt; | hair_color &lt;chr&gt; | skin_color &lt;chr&gt; | eye_color &lt;chr&gt; | birth_year &lt;dbl&gt; | gender &lt;chr&gt; | homeworld &lt;chr&gt; | species &lt;chr&gt; | films &lt;list&gt; | vehicles &lt;list&gt; | starships &lt;list&gt; |\n|---|---|---|---|---|---|---|---|---|---|---|---|---|---|\n| Luke Skywalker | 172 | male   |  77 | blond       | fair        | blue   |  19.0 | masculine | Tatooine | Human | The Empire Strikes Back, Revenge of the Sith    , Return of the Jedi     , A New Hope             , The Force Awakens       | Snowspeeder          , Imperial Speeder Bike | X-wing          , Imperial shuttle |\n| C-3PO          | 167 | none   |  75 | NA          | gold        | yellow | 112.0 | masculine | Tatooine | Droid | The Empire Strikes Back, Attack of the Clones   , The Phantom Menace     , Revenge of the Sith    , Return of the Jedi     , A New Hope              | <!----> | <!----> |\n| R2-D2          |  96 | none   |  32 | NA          | white, blue | red    |  33.0 | masculine | Naboo    | Droid | The Empire Strikes Back, Attack of the Clones   , The Phantom Menace     , Revenge of the Sith    , Return of the Jedi     , A New Hope             , The Force Awakens       | <!----> | <!----> |\n| Darth Vader    | 202 | male   | 136 | none        | white       | yellow |  41.9 | masculine | Tatooine | Human | The Empire Strikes Back, Revenge of the Sith    , Return of the Jedi     , A New Hope              | <!----> | TIE Advanced x1 |\n| Leia Organa    | 150 | female |  49 | brown       | light       | brown  |  19.0 | feminine  | Alderaan | Human | The Empire Strikes Back, Revenge of the Sith    , Return of the Jedi     , A New Hope             , The Force Awakens       | Imperial Speeder Bike | <!----> |\n| Owen Lars      | 178 | male   | 120 | brown, grey | light       | blue   |  52.0 | masculine | Tatooine | Human | Attack of the Clones, Revenge of the Sith , A New Hope           | <!----> | <!----> |\n\n",
            "text/latex": "A tibble: 6 × 14\n\\begin{tabular}{llllllllllllll}\n name & height & sex & mass & hair\\_color & skin\\_color & eye\\_color & birth\\_year & gender & homeworld & species & films & vehicles & starships\\\\\n <chr> & <int> & <chr> & <dbl> & <chr> & <chr> & <chr> & <dbl> & <chr> & <chr> & <chr> & <list> & <list> & <list>\\\\\n\\hline\n\t Luke Skywalker & 172 & male   &  77 & blond       & fair        & blue   &  19.0 & masculine & Tatooine & Human & The Empire Strikes Back, Revenge of the Sith    , Return of the Jedi     , A New Hope             , The Force Awakens       & Snowspeeder          , Imperial Speeder Bike & X-wing          , Imperial shuttle\\\\\n\t C-3PO          & 167 & none   &  75 & NA          & gold        & yellow & 112.0 & masculine & Tatooine & Droid & The Empire Strikes Back, Attack of the Clones   , The Phantom Menace     , Revenge of the Sith    , Return of the Jedi     , A New Hope              &  & \\\\\n\t R2-D2          &  96 & none   &  32 & NA          & white, blue & red    &  33.0 & masculine & Naboo    & Droid & The Empire Strikes Back, Attack of the Clones   , The Phantom Menace     , Revenge of the Sith    , Return of the Jedi     , A New Hope             , The Force Awakens       &  & \\\\\n\t Darth Vader    & 202 & male   & 136 & none        & white       & yellow &  41.9 & masculine & Tatooine & Human & The Empire Strikes Back, Revenge of the Sith    , Return of the Jedi     , A New Hope              &  & TIE Advanced x1\\\\\n\t Leia Organa    & 150 & female &  49 & brown       & light       & brown  &  19.0 & feminine  & Alderaan & Human & The Empire Strikes Back, Revenge of the Sith    , Return of the Jedi     , A New Hope             , The Force Awakens       & Imperial Speeder Bike & \\\\\n\t Owen Lars      & 178 & male   & 120 & brown, grey & light       & blue   &  52.0 & masculine & Tatooine & Human & Attack of the Clones, Revenge of the Sith , A New Hope           &  & \\\\\n\\end{tabular}\n",
            "text/plain": [
              "  name           height sex    mass hair_color  skin_color  eye_color\n",
              "1 Luke Skywalker 172    male    77  blond       fair        blue     \n",
              "2 C-3PO          167    none    75  NA          gold        yellow   \n",
              "3 R2-D2           96    none    32  NA          white, blue red      \n",
              "4 Darth Vader    202    male   136  none        white       yellow   \n",
              "5 Leia Organa    150    female  49  brown       light       brown    \n",
              "6 Owen Lars      178    male   120  brown, grey light       blue     \n",
              "  birth_year gender    homeworld species\n",
              "1  19.0      masculine Tatooine  Human  \n",
              "2 112.0      masculine Tatooine  Droid  \n",
              "3  33.0      masculine Naboo     Droid  \n",
              "4  41.9      masculine Tatooine  Human  \n",
              "5  19.0      feminine  Alderaan  Human  \n",
              "6  52.0      masculine Tatooine  Human  \n",
              "  films                                                                                                                                                                        \n",
              "1 The Empire Strikes Back, Revenge of the Sith    , Return of the Jedi     , A New Hope             , The Force Awakens                                                        \n",
              "2 The Empire Strikes Back, Attack of the Clones   , The Phantom Menace     , Revenge of the Sith    , Return of the Jedi     , A New Hope                                      \n",
              "3 The Empire Strikes Back, Attack of the Clones   , The Phantom Menace     , Revenge of the Sith    , Return of the Jedi     , A New Hope             , The Force Awakens      \n",
              "4 The Empire Strikes Back, Revenge of the Sith    , Return of the Jedi     , A New Hope                                                                                        \n",
              "5 The Empire Strikes Back, Revenge of the Sith    , Return of the Jedi     , A New Hope             , The Force Awakens                                                        \n",
              "6 Attack of the Clones, Revenge of the Sith , A New Hope                                                                                                                       \n",
              "  vehicles                                    \n",
              "1 Snowspeeder          , Imperial Speeder Bike\n",
              "2                                             \n",
              "3                                             \n",
              "4                                             \n",
              "5 Imperial Speeder Bike                       \n",
              "6                                             \n",
              "  starships                         \n",
              "1 X-wing          , Imperial shuttle\n",
              "2                                   \n",
              "3                                   \n",
              "4 TIE Advanced x1                   \n",
              "5                                   \n",
              "6                                   "
            ]
          },
          "metadata": {}
        }
      ]
    },
    {
      "cell_type": "code",
      "source": [
        "# Relocate ALL character columns to the front\n",
        "starwars |>\n",
        "  relocate(where(is.character)) |>\n",
        "  head()"
      ],
      "metadata": {
        "colab": {
          "base_uri": "https://localhost:8080/",
          "height": 512
        },
        "id": "reU_wZ8bgHkB",
        "outputId": "c4951d71-7e5a-47e5-e319-c9f919ad0df0"
      },
      "id": "reU_wZ8bgHkB",
      "execution_count": null,
      "outputs": [
        {
          "output_type": "display_data",
          "data": {
            "text/html": [
              "<table class=\"dataframe\">\n",
              "<caption>A tibble: 6 × 14</caption>\n",
              "<thead>\n",
              "\t<tr><th scope=col>name</th><th scope=col>hair_color</th><th scope=col>skin_color</th><th scope=col>eye_color</th><th scope=col>sex</th><th scope=col>gender</th><th scope=col>homeworld</th><th scope=col>species</th><th scope=col>height</th><th scope=col>mass</th><th scope=col>birth_year</th><th scope=col>films</th><th scope=col>vehicles</th><th scope=col>starships</th></tr>\n",
              "\t<tr><th scope=col>&lt;chr&gt;</th><th scope=col>&lt;chr&gt;</th><th scope=col>&lt;chr&gt;</th><th scope=col>&lt;chr&gt;</th><th scope=col>&lt;chr&gt;</th><th scope=col>&lt;chr&gt;</th><th scope=col>&lt;chr&gt;</th><th scope=col>&lt;chr&gt;</th><th scope=col>&lt;int&gt;</th><th scope=col>&lt;dbl&gt;</th><th scope=col>&lt;dbl&gt;</th><th scope=col>&lt;list&gt;</th><th scope=col>&lt;list&gt;</th><th scope=col>&lt;list&gt;</th></tr>\n",
              "</thead>\n",
              "<tbody>\n",
              "\t<tr><td>Luke Skywalker</td><td>blond      </td><td>fair       </td><td>blue  </td><td>male  </td><td>masculine</td><td>Tatooine</td><td>Human</td><td>172</td><td> 77</td><td> 19.0</td><td>The Empire Strikes Back, Revenge of the Sith    , Return of the Jedi     , A New Hope             , The Force Awakens      </td><td>Snowspeeder          , Imperial Speeder Bike</td><td>X-wing          , Imperial shuttle</td></tr>\n",
              "\t<tr><td>C-3PO         </td><td>NA         </td><td>gold       </td><td>yellow</td><td>none  </td><td>masculine</td><td>Tatooine</td><td>Droid</td><td>167</td><td> 75</td><td>112.0</td><td>The Empire Strikes Back, Attack of the Clones   , The Phantom Menace     , Revenge of the Sith    , Return of the Jedi     , A New Hope             </td><td></td><td></td></tr>\n",
              "\t<tr><td>R2-D2         </td><td>NA         </td><td>white, blue</td><td>red   </td><td>none  </td><td>masculine</td><td>Naboo   </td><td>Droid</td><td> 96</td><td> 32</td><td> 33.0</td><td>The Empire Strikes Back, Attack of the Clones   , The Phantom Menace     , Revenge of the Sith    , Return of the Jedi     , A New Hope             , The Force Awakens      </td><td></td><td></td></tr>\n",
              "\t<tr><td>Darth Vader   </td><td>none       </td><td>white      </td><td>yellow</td><td>male  </td><td>masculine</td><td>Tatooine</td><td>Human</td><td>202</td><td>136</td><td> 41.9</td><td>The Empire Strikes Back, Revenge of the Sith    , Return of the Jedi     , A New Hope             </td><td></td><td>TIE Advanced x1</td></tr>\n",
              "\t<tr><td>Leia Organa   </td><td>brown      </td><td>light      </td><td>brown </td><td>female</td><td>feminine </td><td>Alderaan</td><td>Human</td><td>150</td><td> 49</td><td> 19.0</td><td>The Empire Strikes Back, Revenge of the Sith    , Return of the Jedi     , A New Hope             , The Force Awakens      </td><td>Imperial Speeder Bike</td><td></td></tr>\n",
              "\t<tr><td>Owen Lars     </td><td>brown, grey</td><td>light      </td><td>blue  </td><td>male  </td><td>masculine</td><td>Tatooine</td><td>Human</td><td>178</td><td>120</td><td> 52.0</td><td>Attack of the Clones, Revenge of the Sith , A New Hope          </td><td></td><td></td></tr>\n",
              "</tbody>\n",
              "</table>\n"
            ],
            "text/markdown": "\nA tibble: 6 × 14\n\n| name &lt;chr&gt; | hair_color &lt;chr&gt; | skin_color &lt;chr&gt; | eye_color &lt;chr&gt; | sex &lt;chr&gt; | gender &lt;chr&gt; | homeworld &lt;chr&gt; | species &lt;chr&gt; | height &lt;int&gt; | mass &lt;dbl&gt; | birth_year &lt;dbl&gt; | films &lt;list&gt; | vehicles &lt;list&gt; | starships &lt;list&gt; |\n|---|---|---|---|---|---|---|---|---|---|---|---|---|---|\n| Luke Skywalker | blond       | fair        | blue   | male   | masculine | Tatooine | Human | 172 |  77 |  19.0 | The Empire Strikes Back, Revenge of the Sith    , Return of the Jedi     , A New Hope             , The Force Awakens       | Snowspeeder          , Imperial Speeder Bike | X-wing          , Imperial shuttle |\n| C-3PO          | NA          | gold        | yellow | none   | masculine | Tatooine | Droid | 167 |  75 | 112.0 | The Empire Strikes Back, Attack of the Clones   , The Phantom Menace     , Revenge of the Sith    , Return of the Jedi     , A New Hope              | <!----> | <!----> |\n| R2-D2          | NA          | white, blue | red    | none   | masculine | Naboo    | Droid |  96 |  32 |  33.0 | The Empire Strikes Back, Attack of the Clones   , The Phantom Menace     , Revenge of the Sith    , Return of the Jedi     , A New Hope             , The Force Awakens       | <!----> | <!----> |\n| Darth Vader    | none        | white       | yellow | male   | masculine | Tatooine | Human | 202 | 136 |  41.9 | The Empire Strikes Back, Revenge of the Sith    , Return of the Jedi     , A New Hope              | <!----> | TIE Advanced x1 |\n| Leia Organa    | brown       | light       | brown  | female | feminine  | Alderaan | Human | 150 |  49 |  19.0 | The Empire Strikes Back, Revenge of the Sith    , Return of the Jedi     , A New Hope             , The Force Awakens       | Imperial Speeder Bike | <!----> |\n| Owen Lars      | brown, grey | light       | blue   | male   | masculine | Tatooine | Human | 178 | 120 |  52.0 | Attack of the Clones, Revenge of the Sith , A New Hope           | <!----> | <!----> |\n\n",
            "text/latex": "A tibble: 6 × 14\n\\begin{tabular}{llllllllllllll}\n name & hair\\_color & skin\\_color & eye\\_color & sex & gender & homeworld & species & height & mass & birth\\_year & films & vehicles & starships\\\\\n <chr> & <chr> & <chr> & <chr> & <chr> & <chr> & <chr> & <chr> & <int> & <dbl> & <dbl> & <list> & <list> & <list>\\\\\n\\hline\n\t Luke Skywalker & blond       & fair        & blue   & male   & masculine & Tatooine & Human & 172 &  77 &  19.0 & The Empire Strikes Back, Revenge of the Sith    , Return of the Jedi     , A New Hope             , The Force Awakens       & Snowspeeder          , Imperial Speeder Bike & X-wing          , Imperial shuttle\\\\\n\t C-3PO          & NA          & gold        & yellow & none   & masculine & Tatooine & Droid & 167 &  75 & 112.0 & The Empire Strikes Back, Attack of the Clones   , The Phantom Menace     , Revenge of the Sith    , Return of the Jedi     , A New Hope              &  & \\\\\n\t R2-D2          & NA          & white, blue & red    & none   & masculine & Naboo    & Droid &  96 &  32 &  33.0 & The Empire Strikes Back, Attack of the Clones   , The Phantom Menace     , Revenge of the Sith    , Return of the Jedi     , A New Hope             , The Force Awakens       &  & \\\\\n\t Darth Vader    & none        & white       & yellow & male   & masculine & Tatooine & Human & 202 & 136 &  41.9 & The Empire Strikes Back, Revenge of the Sith    , Return of the Jedi     , A New Hope              &  & TIE Advanced x1\\\\\n\t Leia Organa    & brown       & light       & brown  & female & feminine  & Alderaan & Human & 150 &  49 &  19.0 & The Empire Strikes Back, Revenge of the Sith    , Return of the Jedi     , A New Hope             , The Force Awakens       & Imperial Speeder Bike & \\\\\n\t Owen Lars      & brown, grey & light       & blue   & male   & masculine & Tatooine & Human & 178 & 120 &  52.0 & Attack of the Clones, Revenge of the Sith , A New Hope           &  & \\\\\n\\end{tabular}\n",
            "text/plain": [
              "  name           hair_color  skin_color  eye_color sex    gender    homeworld\n",
              "1 Luke Skywalker blond       fair        blue      male   masculine Tatooine \n",
              "2 C-3PO          NA          gold        yellow    none   masculine Tatooine \n",
              "3 R2-D2          NA          white, blue red       none   masculine Naboo    \n",
              "4 Darth Vader    none        white       yellow    male   masculine Tatooine \n",
              "5 Leia Organa    brown       light       brown     female feminine  Alderaan \n",
              "6 Owen Lars      brown, grey light       blue      male   masculine Tatooine \n",
              "  species height mass birth_year\n",
              "1 Human   172     77   19.0     \n",
              "2 Droid   167     75  112.0     \n",
              "3 Droid    96     32   33.0     \n",
              "4 Human   202    136   41.9     \n",
              "5 Human   150     49   19.0     \n",
              "6 Human   178    120   52.0     \n",
              "  films                                                                                                                                                                        \n",
              "1 The Empire Strikes Back, Revenge of the Sith    , Return of the Jedi     , A New Hope             , The Force Awakens                                                        \n",
              "2 The Empire Strikes Back, Attack of the Clones   , The Phantom Menace     , Revenge of the Sith    , Return of the Jedi     , A New Hope                                      \n",
              "3 The Empire Strikes Back, Attack of the Clones   , The Phantom Menace     , Revenge of the Sith    , Return of the Jedi     , A New Hope             , The Force Awakens      \n",
              "4 The Empire Strikes Back, Revenge of the Sith    , Return of the Jedi     , A New Hope                                                                                        \n",
              "5 The Empire Strikes Back, Revenge of the Sith    , Return of the Jedi     , A New Hope             , The Force Awakens                                                        \n",
              "6 Attack of the Clones, Revenge of the Sith , A New Hope                                                                                                                       \n",
              "  vehicles                                    \n",
              "1 Snowspeeder          , Imperial Speeder Bike\n",
              "2                                             \n",
              "3                                             \n",
              "4                                             \n",
              "5 Imperial Speeder Bike                       \n",
              "6                                             \n",
              "  starships                         \n",
              "1 X-wing          , Imperial shuttle\n",
              "2                                   \n",
              "3                                   \n",
              "4 TIE Advanced x1                   \n",
              "5                                   \n",
              "6                                   "
            ]
          },
          "metadata": {}
        }
      ]
    },
    {
      "cell_type": "code",
      "source": [
        "# Relocate all NUMERIC columns AFTER all CHARACTER columns\n",
        "starwars |>\n",
        "  relocate(where(is.numeric), .after = where(is.character)) |>\n",
        "  head()"
      ],
      "metadata": {
        "colab": {
          "base_uri": "https://localhost:8080/",
          "height": 512
        },
        "id": "51Gw_mKjgI7-",
        "outputId": "9496b6ac-59d6-468b-9243-bc4cffd67cc0"
      },
      "id": "51Gw_mKjgI7-",
      "execution_count": null,
      "outputs": [
        {
          "output_type": "display_data",
          "data": {
            "text/html": [
              "<table class=\"dataframe\">\n",
              "<caption>A tibble: 6 × 14</caption>\n",
              "<thead>\n",
              "\t<tr><th scope=col>name</th><th scope=col>hair_color</th><th scope=col>skin_color</th><th scope=col>eye_color</th><th scope=col>sex</th><th scope=col>gender</th><th scope=col>homeworld</th><th scope=col>species</th><th scope=col>height</th><th scope=col>mass</th><th scope=col>birth_year</th><th scope=col>films</th><th scope=col>vehicles</th><th scope=col>starships</th></tr>\n",
              "\t<tr><th scope=col>&lt;chr&gt;</th><th scope=col>&lt;chr&gt;</th><th scope=col>&lt;chr&gt;</th><th scope=col>&lt;chr&gt;</th><th scope=col>&lt;chr&gt;</th><th scope=col>&lt;chr&gt;</th><th scope=col>&lt;chr&gt;</th><th scope=col>&lt;chr&gt;</th><th scope=col>&lt;int&gt;</th><th scope=col>&lt;dbl&gt;</th><th scope=col>&lt;dbl&gt;</th><th scope=col>&lt;list&gt;</th><th scope=col>&lt;list&gt;</th><th scope=col>&lt;list&gt;</th></tr>\n",
              "</thead>\n",
              "<tbody>\n",
              "\t<tr><td>Luke Skywalker</td><td>blond      </td><td>fair       </td><td>blue  </td><td>male  </td><td>masculine</td><td>Tatooine</td><td>Human</td><td>172</td><td> 77</td><td> 19.0</td><td>The Empire Strikes Back, Revenge of the Sith    , Return of the Jedi     , A New Hope             , The Force Awakens      </td><td>Snowspeeder          , Imperial Speeder Bike</td><td>X-wing          , Imperial shuttle</td></tr>\n",
              "\t<tr><td>C-3PO         </td><td>NA         </td><td>gold       </td><td>yellow</td><td>none  </td><td>masculine</td><td>Tatooine</td><td>Droid</td><td>167</td><td> 75</td><td>112.0</td><td>The Empire Strikes Back, Attack of the Clones   , The Phantom Menace     , Revenge of the Sith    , Return of the Jedi     , A New Hope             </td><td></td><td></td></tr>\n",
              "\t<tr><td>R2-D2         </td><td>NA         </td><td>white, blue</td><td>red   </td><td>none  </td><td>masculine</td><td>Naboo   </td><td>Droid</td><td> 96</td><td> 32</td><td> 33.0</td><td>The Empire Strikes Back, Attack of the Clones   , The Phantom Menace     , Revenge of the Sith    , Return of the Jedi     , A New Hope             , The Force Awakens      </td><td></td><td></td></tr>\n",
              "\t<tr><td>Darth Vader   </td><td>none       </td><td>white      </td><td>yellow</td><td>male  </td><td>masculine</td><td>Tatooine</td><td>Human</td><td>202</td><td>136</td><td> 41.9</td><td>The Empire Strikes Back, Revenge of the Sith    , Return of the Jedi     , A New Hope             </td><td></td><td>TIE Advanced x1</td></tr>\n",
              "\t<tr><td>Leia Organa   </td><td>brown      </td><td>light      </td><td>brown </td><td>female</td><td>feminine </td><td>Alderaan</td><td>Human</td><td>150</td><td> 49</td><td> 19.0</td><td>The Empire Strikes Back, Revenge of the Sith    , Return of the Jedi     , A New Hope             , The Force Awakens      </td><td>Imperial Speeder Bike</td><td></td></tr>\n",
              "\t<tr><td>Owen Lars     </td><td>brown, grey</td><td>light      </td><td>blue  </td><td>male  </td><td>masculine</td><td>Tatooine</td><td>Human</td><td>178</td><td>120</td><td> 52.0</td><td>Attack of the Clones, Revenge of the Sith , A New Hope          </td><td></td><td></td></tr>\n",
              "</tbody>\n",
              "</table>\n"
            ],
            "text/markdown": "\nA tibble: 6 × 14\n\n| name &lt;chr&gt; | hair_color &lt;chr&gt; | skin_color &lt;chr&gt; | eye_color &lt;chr&gt; | sex &lt;chr&gt; | gender &lt;chr&gt; | homeworld &lt;chr&gt; | species &lt;chr&gt; | height &lt;int&gt; | mass &lt;dbl&gt; | birth_year &lt;dbl&gt; | films &lt;list&gt; | vehicles &lt;list&gt; | starships &lt;list&gt; |\n|---|---|---|---|---|---|---|---|---|---|---|---|---|---|\n| Luke Skywalker | blond       | fair        | blue   | male   | masculine | Tatooine | Human | 172 |  77 |  19.0 | The Empire Strikes Back, Revenge of the Sith    , Return of the Jedi     , A New Hope             , The Force Awakens       | Snowspeeder          , Imperial Speeder Bike | X-wing          , Imperial shuttle |\n| C-3PO          | NA          | gold        | yellow | none   | masculine | Tatooine | Droid | 167 |  75 | 112.0 | The Empire Strikes Back, Attack of the Clones   , The Phantom Menace     , Revenge of the Sith    , Return of the Jedi     , A New Hope              | <!----> | <!----> |\n| R2-D2          | NA          | white, blue | red    | none   | masculine | Naboo    | Droid |  96 |  32 |  33.0 | The Empire Strikes Back, Attack of the Clones   , The Phantom Menace     , Revenge of the Sith    , Return of the Jedi     , A New Hope             , The Force Awakens       | <!----> | <!----> |\n| Darth Vader    | none        | white       | yellow | male   | masculine | Tatooine | Human | 202 | 136 |  41.9 | The Empire Strikes Back, Revenge of the Sith    , Return of the Jedi     , A New Hope              | <!----> | TIE Advanced x1 |\n| Leia Organa    | brown       | light       | brown  | female | feminine  | Alderaan | Human | 150 |  49 |  19.0 | The Empire Strikes Back, Revenge of the Sith    , Return of the Jedi     , A New Hope             , The Force Awakens       | Imperial Speeder Bike | <!----> |\n| Owen Lars      | brown, grey | light       | blue   | male   | masculine | Tatooine | Human | 178 | 120 |  52.0 | Attack of the Clones, Revenge of the Sith , A New Hope           | <!----> | <!----> |\n\n",
            "text/latex": "A tibble: 6 × 14\n\\begin{tabular}{llllllllllllll}\n name & hair\\_color & skin\\_color & eye\\_color & sex & gender & homeworld & species & height & mass & birth\\_year & films & vehicles & starships\\\\\n <chr> & <chr> & <chr> & <chr> & <chr> & <chr> & <chr> & <chr> & <int> & <dbl> & <dbl> & <list> & <list> & <list>\\\\\n\\hline\n\t Luke Skywalker & blond       & fair        & blue   & male   & masculine & Tatooine & Human & 172 &  77 &  19.0 & The Empire Strikes Back, Revenge of the Sith    , Return of the Jedi     , A New Hope             , The Force Awakens       & Snowspeeder          , Imperial Speeder Bike & X-wing          , Imperial shuttle\\\\\n\t C-3PO          & NA          & gold        & yellow & none   & masculine & Tatooine & Droid & 167 &  75 & 112.0 & The Empire Strikes Back, Attack of the Clones   , The Phantom Menace     , Revenge of the Sith    , Return of the Jedi     , A New Hope              &  & \\\\\n\t R2-D2          & NA          & white, blue & red    & none   & masculine & Naboo    & Droid &  96 &  32 &  33.0 & The Empire Strikes Back, Attack of the Clones   , The Phantom Menace     , Revenge of the Sith    , Return of the Jedi     , A New Hope             , The Force Awakens       &  & \\\\\n\t Darth Vader    & none        & white       & yellow & male   & masculine & Tatooine & Human & 202 & 136 &  41.9 & The Empire Strikes Back, Revenge of the Sith    , Return of the Jedi     , A New Hope              &  & TIE Advanced x1\\\\\n\t Leia Organa    & brown       & light       & brown  & female & feminine  & Alderaan & Human & 150 &  49 &  19.0 & The Empire Strikes Back, Revenge of the Sith    , Return of the Jedi     , A New Hope             , The Force Awakens       & Imperial Speeder Bike & \\\\\n\t Owen Lars      & brown, grey & light       & blue   & male   & masculine & Tatooine & Human & 178 & 120 &  52.0 & Attack of the Clones, Revenge of the Sith , A New Hope           &  & \\\\\n\\end{tabular}\n",
            "text/plain": [
              "  name           hair_color  skin_color  eye_color sex    gender    homeworld\n",
              "1 Luke Skywalker blond       fair        blue      male   masculine Tatooine \n",
              "2 C-3PO          NA          gold        yellow    none   masculine Tatooine \n",
              "3 R2-D2          NA          white, blue red       none   masculine Naboo    \n",
              "4 Darth Vader    none        white       yellow    male   masculine Tatooine \n",
              "5 Leia Organa    brown       light       brown     female feminine  Alderaan \n",
              "6 Owen Lars      brown, grey light       blue      male   masculine Tatooine \n",
              "  species height mass birth_year\n",
              "1 Human   172     77   19.0     \n",
              "2 Droid   167     75  112.0     \n",
              "3 Droid    96     32   33.0     \n",
              "4 Human   202    136   41.9     \n",
              "5 Human   150     49   19.0     \n",
              "6 Human   178    120   52.0     \n",
              "  films                                                                                                                                                                        \n",
              "1 The Empire Strikes Back, Revenge of the Sith    , Return of the Jedi     , A New Hope             , The Force Awakens                                                        \n",
              "2 The Empire Strikes Back, Attack of the Clones   , The Phantom Menace     , Revenge of the Sith    , Return of the Jedi     , A New Hope                                      \n",
              "3 The Empire Strikes Back, Attack of the Clones   , The Phantom Menace     , Revenge of the Sith    , Return of the Jedi     , A New Hope             , The Force Awakens      \n",
              "4 The Empire Strikes Back, Revenge of the Sith    , Return of the Jedi     , A New Hope                                                                                        \n",
              "5 The Empire Strikes Back, Revenge of the Sith    , Return of the Jedi     , A New Hope             , The Force Awakens                                                        \n",
              "6 Attack of the Clones, Revenge of the Sith , A New Hope                                                                                                                       \n",
              "  vehicles                                    \n",
              "1 Snowspeeder          , Imperial Speeder Bike\n",
              "2                                             \n",
              "3                                             \n",
              "4                                             \n",
              "5 Imperial Speeder Bike                       \n",
              "6                                             \n",
              "  starships                         \n",
              "1 X-wing          , Imperial shuttle\n",
              "2                                   \n",
              "3                                   \n",
              "4 TIE Advanced x1                   \n",
              "5                                   \n",
              "6                                   "
            ]
          },
          "metadata": {}
        }
      ]
    },
    {
      "cell_type": "markdown",
      "id": "01d49e43",
      "metadata": {
        "id": "01d49e43"
      },
      "source": [
        "#### `unite`: Unite multiple columns into one\n",
        "\n",
        "The `unite()` function can be used to combine multiple columns into a single column. For example, we can combine the `mass` and `height` columns into a single new column."
      ]
    },
    {
      "cell_type": "code",
      "execution_count": null,
      "id": "ec7eaa3a",
      "metadata": {
        "colab": {
          "base_uri": "https://localhost:8080/",
          "height": 495
        },
        "id": "ec7eaa3a",
        "outputId": "73c3d70c-bbc9-4d82-d5de-40689aefcf26"
      },
      "outputs": [
        {
          "output_type": "display_data",
          "data": {
            "text/html": [
              "<table class=\"dataframe\">\n",
              "<caption>A tibble: 6 × 13</caption>\n",
              "<thead>\n",
              "\t<tr><th scope=col>name</th><th scope=col>height_mass</th><th scope=col>hair_color</th><th scope=col>skin_color</th><th scope=col>eye_color</th><th scope=col>birth_year</th><th scope=col>sex</th><th scope=col>gender</th><th scope=col>homeworld</th><th scope=col>species</th><th scope=col>films</th><th scope=col>vehicles</th><th scope=col>starships</th></tr>\n",
              "\t<tr><th scope=col>&lt;chr&gt;</th><th scope=col>&lt;chr&gt;</th><th scope=col>&lt;chr&gt;</th><th scope=col>&lt;chr&gt;</th><th scope=col>&lt;chr&gt;</th><th scope=col>&lt;dbl&gt;</th><th scope=col>&lt;chr&gt;</th><th scope=col>&lt;chr&gt;</th><th scope=col>&lt;chr&gt;</th><th scope=col>&lt;chr&gt;</th><th scope=col>&lt;list&gt;</th><th scope=col>&lt;list&gt;</th><th scope=col>&lt;list&gt;</th></tr>\n",
              "</thead>\n",
              "<tbody>\n",
              "\t<tr><td>Luke Skywalker</td><td>172_|_77 </td><td>blond      </td><td>fair       </td><td>blue  </td><td> 19.0</td><td>male  </td><td>masculine</td><td>Tatooine</td><td>Human</td><td>The Empire Strikes Back, Revenge of the Sith    , Return of the Jedi     , A New Hope             , The Force Awakens      </td><td>Snowspeeder          , Imperial Speeder Bike</td><td>X-wing          , Imperial shuttle</td></tr>\n",
              "\t<tr><td>C-3PO         </td><td>167_|_75 </td><td>NA         </td><td>gold       </td><td>yellow</td><td>112.0</td><td>none  </td><td>masculine</td><td>Tatooine</td><td>Droid</td><td>The Empire Strikes Back, Attack of the Clones   , The Phantom Menace     , Revenge of the Sith    , Return of the Jedi     , A New Hope             </td><td></td><td></td></tr>\n",
              "\t<tr><td>R2-D2         </td><td>96_|_32  </td><td>NA         </td><td>white, blue</td><td>red   </td><td> 33.0</td><td>none  </td><td>masculine</td><td>Naboo   </td><td>Droid</td><td>The Empire Strikes Back, Attack of the Clones   , The Phantom Menace     , Revenge of the Sith    , Return of the Jedi     , A New Hope             , The Force Awakens      </td><td></td><td></td></tr>\n",
              "\t<tr><td>Darth Vader   </td><td>202_|_136</td><td>none       </td><td>white      </td><td>yellow</td><td> 41.9</td><td>male  </td><td>masculine</td><td>Tatooine</td><td>Human</td><td>The Empire Strikes Back, Revenge of the Sith    , Return of the Jedi     , A New Hope             </td><td></td><td>TIE Advanced x1</td></tr>\n",
              "\t<tr><td>Leia Organa   </td><td>150_|_49 </td><td>brown      </td><td>light      </td><td>brown </td><td> 19.0</td><td>female</td><td>feminine </td><td>Alderaan</td><td>Human</td><td>The Empire Strikes Back, Revenge of the Sith    , Return of the Jedi     , A New Hope             , The Force Awakens      </td><td>Imperial Speeder Bike</td><td></td></tr>\n",
              "\t<tr><td>Owen Lars     </td><td>178_|_120</td><td>brown, grey</td><td>light      </td><td>blue  </td><td> 52.0</td><td>male  </td><td>masculine</td><td>Tatooine</td><td>Human</td><td>Attack of the Clones, Revenge of the Sith , A New Hope          </td><td></td><td></td></tr>\n",
              "</tbody>\n",
              "</table>\n"
            ],
            "text/markdown": "\nA tibble: 6 × 13\n\n| name &lt;chr&gt; | height_mass &lt;chr&gt; | hair_color &lt;chr&gt; | skin_color &lt;chr&gt; | eye_color &lt;chr&gt; | birth_year &lt;dbl&gt; | sex &lt;chr&gt; | gender &lt;chr&gt; | homeworld &lt;chr&gt; | species &lt;chr&gt; | films &lt;list&gt; | vehicles &lt;list&gt; | starships &lt;list&gt; |\n|---|---|---|---|---|---|---|---|---|---|---|---|---|\n| Luke Skywalker | 172_|_77  | blond       | fair        | blue   |  19.0 | male   | masculine | Tatooine | Human | The Empire Strikes Back, Revenge of the Sith    , Return of the Jedi     , A New Hope             , The Force Awakens       | Snowspeeder          , Imperial Speeder Bike | X-wing          , Imperial shuttle |\n| C-3PO          | 167_|_75  | NA          | gold        | yellow | 112.0 | none   | masculine | Tatooine | Droid | The Empire Strikes Back, Attack of the Clones   , The Phantom Menace     , Revenge of the Sith    , Return of the Jedi     , A New Hope              | <!----> | <!----> |\n| R2-D2          | 96_|_32   | NA          | white, blue | red    |  33.0 | none   | masculine | Naboo    | Droid | The Empire Strikes Back, Attack of the Clones   , The Phantom Menace     , Revenge of the Sith    , Return of the Jedi     , A New Hope             , The Force Awakens       | <!----> | <!----> |\n| Darth Vader    | 202_|_136 | none        | white       | yellow |  41.9 | male   | masculine | Tatooine | Human | The Empire Strikes Back, Revenge of the Sith    , Return of the Jedi     , A New Hope              | <!----> | TIE Advanced x1 |\n| Leia Organa    | 150_|_49  | brown       | light       | brown  |  19.0 | female | feminine  | Alderaan | Human | The Empire Strikes Back, Revenge of the Sith    , Return of the Jedi     , A New Hope             , The Force Awakens       | Imperial Speeder Bike | <!----> |\n| Owen Lars      | 178_|_120 | brown, grey | light       | blue   |  52.0 | male   | masculine | Tatooine | Human | Attack of the Clones, Revenge of the Sith , A New Hope           | <!----> | <!----> |\n\n",
            "text/latex": "A tibble: 6 × 13\n\\begin{tabular}{lllllllllllll}\n name & height\\_mass & hair\\_color & skin\\_color & eye\\_color & birth\\_year & sex & gender & homeworld & species & films & vehicles & starships\\\\\n <chr> & <chr> & <chr> & <chr> & <chr> & <dbl> & <chr> & <chr> & <chr> & <chr> & <list> & <list> & <list>\\\\\n\\hline\n\t Luke Skywalker & 172\\_\\textbar{}\\_77  & blond       & fair        & blue   &  19.0 & male   & masculine & Tatooine & Human & The Empire Strikes Back, Revenge of the Sith    , Return of the Jedi     , A New Hope             , The Force Awakens       & Snowspeeder          , Imperial Speeder Bike & X-wing          , Imperial shuttle\\\\\n\t C-3PO          & 167\\_\\textbar{}\\_75  & NA          & gold        & yellow & 112.0 & none   & masculine & Tatooine & Droid & The Empire Strikes Back, Attack of the Clones   , The Phantom Menace     , Revenge of the Sith    , Return of the Jedi     , A New Hope              &  & \\\\\n\t R2-D2          & 96\\_\\textbar{}\\_32   & NA          & white, blue & red    &  33.0 & none   & masculine & Naboo    & Droid & The Empire Strikes Back, Attack of the Clones   , The Phantom Menace     , Revenge of the Sith    , Return of the Jedi     , A New Hope             , The Force Awakens       &  & \\\\\n\t Darth Vader    & 202\\_\\textbar{}\\_136 & none        & white       & yellow &  41.9 & male   & masculine & Tatooine & Human & The Empire Strikes Back, Revenge of the Sith    , Return of the Jedi     , A New Hope              &  & TIE Advanced x1\\\\\n\t Leia Organa    & 150\\_\\textbar{}\\_49  & brown       & light       & brown  &  19.0 & female & feminine  & Alderaan & Human & The Empire Strikes Back, Revenge of the Sith    , Return of the Jedi     , A New Hope             , The Force Awakens       & Imperial Speeder Bike & \\\\\n\t Owen Lars      & 178\\_\\textbar{}\\_120 & brown, grey & light       & blue   &  52.0 & male   & masculine & Tatooine & Human & Attack of the Clones, Revenge of the Sith , A New Hope           &  & \\\\\n\\end{tabular}\n",
            "text/plain": [
              "  name           height_mass hair_color  skin_color  eye_color birth_year\n",
              "1 Luke Skywalker 172_|_77    blond       fair        blue       19.0     \n",
              "2 C-3PO          167_|_75    NA          gold        yellow    112.0     \n",
              "3 R2-D2          96_|_32     NA          white, blue red        33.0     \n",
              "4 Darth Vader    202_|_136   none        white       yellow     41.9     \n",
              "5 Leia Organa    150_|_49    brown       light       brown      19.0     \n",
              "6 Owen Lars      178_|_120   brown, grey light       blue       52.0     \n",
              "  sex    gender    homeworld species\n",
              "1 male   masculine Tatooine  Human  \n",
              "2 none   masculine Tatooine  Droid  \n",
              "3 none   masculine Naboo     Droid  \n",
              "4 male   masculine Tatooine  Human  \n",
              "5 female feminine  Alderaan  Human  \n",
              "6 male   masculine Tatooine  Human  \n",
              "  films                                                                                                                                                                        \n",
              "1 The Empire Strikes Back, Revenge of the Sith    , Return of the Jedi     , A New Hope             , The Force Awakens                                                        \n",
              "2 The Empire Strikes Back, Attack of the Clones   , The Phantom Menace     , Revenge of the Sith    , Return of the Jedi     , A New Hope                                      \n",
              "3 The Empire Strikes Back, Attack of the Clones   , The Phantom Menace     , Revenge of the Sith    , Return of the Jedi     , A New Hope             , The Force Awakens      \n",
              "4 The Empire Strikes Back, Revenge of the Sith    , Return of the Jedi     , A New Hope                                                                                        \n",
              "5 The Empire Strikes Back, Revenge of the Sith    , Return of the Jedi     , A New Hope             , The Force Awakens                                                        \n",
              "6 Attack of the Clones, Revenge of the Sith , A New Hope                                                                                                                       \n",
              "  vehicles                                    \n",
              "1 Snowspeeder          , Imperial Speeder Bike\n",
              "2                                             \n",
              "3                                             \n",
              "4                                             \n",
              "5 Imperial Speeder Bike                       \n",
              "6                                             \n",
              "  starships                         \n",
              "1 X-wing          , Imperial shuttle\n",
              "2                                   \n",
              "3                                   \n",
              "4 TIE Advanced x1                   \n",
              "5                                   \n",
              "6                                   "
            ]
          },
          "metadata": {}
        }
      ],
      "source": [
        "starwars |>\n",
        "  unite(height_mass, height, mass, sep = \"_|_\") |>\n",
        "  head()"
      ]
    },
    {
      "cell_type": "markdown",
      "id": "d45e0eaa",
      "metadata": {
        "id": "d45e0eaa"
      },
      "source": [
        "#### `separate`: Separate one column into multiple columns\n",
        "\n",
        "The `separate()` function does the exact opposite of the `unite()` function and separates a single column into multiple columns based on a separator. Look at the help documents by typing `? separate` to get a comprehensive look at the various argumetns and use cases it supports."
      ]
    },
    {
      "cell_type": "code",
      "execution_count": null,
      "id": "a80e01c1",
      "metadata": {
        "colab": {
          "base_uri": "https://localhost:8080/",
          "height": 810
        },
        "id": "a80e01c1",
        "outputId": "eece5195-0b75-4670-f464-e9e85a4ffae7"
      },
      "outputs": [
        {
          "output_type": "stream",
          "name": "stderr",
          "text": [
            "Warning message:\n",
            "“\u001b[1m\u001b[22mExpected 2 pieces. Additional pieces discarded in 7 rows [7, 16, 18, 29, 34,\n",
            "60, 65].”\n",
            "Warning message:\n",
            "“\u001b[1m\u001b[22mExpected 2 pieces. Missing pieces filled with `NA` in 24 rows [2, 3, 8, 13, 15,\n",
            "19, 20, 22, 23, 25, 26, 38, 39, 46, 49, 58, 63, 64, 73, 77, ...].”\n"
          ]
        },
        {
          "output_type": "display_data",
          "data": {
            "text/html": [
              "<table class=\"dataframe\">\n",
              "<caption>A tibble: 6 × 15</caption>\n",
              "<thead>\n",
              "\t<tr><th scope=col>first_name</th><th scope=col>last_name</th><th scope=col>height</th><th scope=col>mass</th><th scope=col>hair_color</th><th scope=col>skin_color</th><th scope=col>eye_color</th><th scope=col>birth_year</th><th scope=col>sex</th><th scope=col>gender</th><th scope=col>homeworld</th><th scope=col>species</th><th scope=col>films</th><th scope=col>vehicles</th><th scope=col>starships</th></tr>\n",
              "\t<tr><th scope=col>&lt;chr&gt;</th><th scope=col>&lt;chr&gt;</th><th scope=col>&lt;int&gt;</th><th scope=col>&lt;dbl&gt;</th><th scope=col>&lt;chr&gt;</th><th scope=col>&lt;chr&gt;</th><th scope=col>&lt;chr&gt;</th><th scope=col>&lt;dbl&gt;</th><th scope=col>&lt;chr&gt;</th><th scope=col>&lt;chr&gt;</th><th scope=col>&lt;chr&gt;</th><th scope=col>&lt;chr&gt;</th><th scope=col>&lt;list&gt;</th><th scope=col>&lt;list&gt;</th><th scope=col>&lt;list&gt;</th></tr>\n",
              "</thead>\n",
              "<tbody>\n",
              "\t<tr><td>Luke </td><td>Skywalker</td><td>172</td><td> 77</td><td>blond      </td><td>fair       </td><td>blue  </td><td> 19.0</td><td>male  </td><td>masculine</td><td>Tatooine</td><td>Human</td><td>The Empire Strikes Back, Revenge of the Sith    , Return of the Jedi     , A New Hope             , The Force Awakens      </td><td>Snowspeeder          , Imperial Speeder Bike</td><td>X-wing          , Imperial shuttle</td></tr>\n",
              "\t<tr><td>C-3PO</td><td>NA       </td><td>167</td><td> 75</td><td>NA         </td><td>gold       </td><td>yellow</td><td>112.0</td><td>none  </td><td>masculine</td><td>Tatooine</td><td>Droid</td><td>The Empire Strikes Back, Attack of the Clones   , The Phantom Menace     , Revenge of the Sith    , Return of the Jedi     , A New Hope             </td><td></td><td></td></tr>\n",
              "\t<tr><td>R2-D2</td><td>NA       </td><td> 96</td><td> 32</td><td>NA         </td><td>white, blue</td><td>red   </td><td> 33.0</td><td>none  </td><td>masculine</td><td>Naboo   </td><td>Droid</td><td>The Empire Strikes Back, Attack of the Clones   , The Phantom Menace     , Revenge of the Sith    , Return of the Jedi     , A New Hope             , The Force Awakens      </td><td></td><td></td></tr>\n",
              "\t<tr><td>Darth</td><td>Vader    </td><td>202</td><td>136</td><td>none       </td><td>white      </td><td>yellow</td><td> 41.9</td><td>male  </td><td>masculine</td><td>Tatooine</td><td>Human</td><td>The Empire Strikes Back, Revenge of the Sith    , Return of the Jedi     , A New Hope             </td><td></td><td>TIE Advanced x1</td></tr>\n",
              "\t<tr><td>Leia </td><td>Organa   </td><td>150</td><td> 49</td><td>brown      </td><td>light      </td><td>brown </td><td> 19.0</td><td>female</td><td>feminine </td><td>Alderaan</td><td>Human</td><td>The Empire Strikes Back, Revenge of the Sith    , Return of the Jedi     , A New Hope             , The Force Awakens      </td><td>Imperial Speeder Bike</td><td></td></tr>\n",
              "\t<tr><td>Owen </td><td>Lars     </td><td>178</td><td>120</td><td>brown, grey</td><td>light      </td><td>blue  </td><td> 52.0</td><td>male  </td><td>masculine</td><td>Tatooine</td><td>Human</td><td>Attack of the Clones, Revenge of the Sith , A New Hope          </td><td></td><td></td></tr>\n",
              "</tbody>\n",
              "</table>\n"
            ],
            "text/markdown": "\nA tibble: 6 × 15\n\n| first_name &lt;chr&gt; | last_name &lt;chr&gt; | height &lt;int&gt; | mass &lt;dbl&gt; | hair_color &lt;chr&gt; | skin_color &lt;chr&gt; | eye_color &lt;chr&gt; | birth_year &lt;dbl&gt; | sex &lt;chr&gt; | gender &lt;chr&gt; | homeworld &lt;chr&gt; | species &lt;chr&gt; | films &lt;list&gt; | vehicles &lt;list&gt; | starships &lt;list&gt; |\n|---|---|---|---|---|---|---|---|---|---|---|---|---|---|---|\n| Luke  | Skywalker | 172 |  77 | blond       | fair        | blue   |  19.0 | male   | masculine | Tatooine | Human | The Empire Strikes Back, Revenge of the Sith    , Return of the Jedi     , A New Hope             , The Force Awakens       | Snowspeeder          , Imperial Speeder Bike | X-wing          , Imperial shuttle |\n| C-3PO | NA        | 167 |  75 | NA          | gold        | yellow | 112.0 | none   | masculine | Tatooine | Droid | The Empire Strikes Back, Attack of the Clones   , The Phantom Menace     , Revenge of the Sith    , Return of the Jedi     , A New Hope              | <!----> | <!----> |\n| R2-D2 | NA        |  96 |  32 | NA          | white, blue | red    |  33.0 | none   | masculine | Naboo    | Droid | The Empire Strikes Back, Attack of the Clones   , The Phantom Menace     , Revenge of the Sith    , Return of the Jedi     , A New Hope             , The Force Awakens       | <!----> | <!----> |\n| Darth | Vader     | 202 | 136 | none        | white       | yellow |  41.9 | male   | masculine | Tatooine | Human | The Empire Strikes Back, Revenge of the Sith    , Return of the Jedi     , A New Hope              | <!----> | TIE Advanced x1 |\n| Leia  | Organa    | 150 |  49 | brown       | light       | brown  |  19.0 | female | feminine  | Alderaan | Human | The Empire Strikes Back, Revenge of the Sith    , Return of the Jedi     , A New Hope             , The Force Awakens       | Imperial Speeder Bike | <!----> |\n| Owen  | Lars      | 178 | 120 | brown, grey | light       | blue   |  52.0 | male   | masculine | Tatooine | Human | Attack of the Clones, Revenge of the Sith , A New Hope           | <!----> | <!----> |\n\n",
            "text/latex": "A tibble: 6 × 15\n\\begin{tabular}{lllllllllllllll}\n first\\_name & last\\_name & height & mass & hair\\_color & skin\\_color & eye\\_color & birth\\_year & sex & gender & homeworld & species & films & vehicles & starships\\\\\n <chr> & <chr> & <int> & <dbl> & <chr> & <chr> & <chr> & <dbl> & <chr> & <chr> & <chr> & <chr> & <list> & <list> & <list>\\\\\n\\hline\n\t Luke  & Skywalker & 172 &  77 & blond       & fair        & blue   &  19.0 & male   & masculine & Tatooine & Human & The Empire Strikes Back, Revenge of the Sith    , Return of the Jedi     , A New Hope             , The Force Awakens       & Snowspeeder          , Imperial Speeder Bike & X-wing          , Imperial shuttle\\\\\n\t C-3PO & NA        & 167 &  75 & NA          & gold        & yellow & 112.0 & none   & masculine & Tatooine & Droid & The Empire Strikes Back, Attack of the Clones   , The Phantom Menace     , Revenge of the Sith    , Return of the Jedi     , A New Hope              &  & \\\\\n\t R2-D2 & NA        &  96 &  32 & NA          & white, blue & red    &  33.0 & none   & masculine & Naboo    & Droid & The Empire Strikes Back, Attack of the Clones   , The Phantom Menace     , Revenge of the Sith    , Return of the Jedi     , A New Hope             , The Force Awakens       &  & \\\\\n\t Darth & Vader     & 202 & 136 & none        & white       & yellow &  41.9 & male   & masculine & Tatooine & Human & The Empire Strikes Back, Revenge of the Sith    , Return of the Jedi     , A New Hope              &  & TIE Advanced x1\\\\\n\t Leia  & Organa    & 150 &  49 & brown       & light       & brown  &  19.0 & female & feminine  & Alderaan & Human & The Empire Strikes Back, Revenge of the Sith    , Return of the Jedi     , A New Hope             , The Force Awakens       & Imperial Speeder Bike & \\\\\n\t Owen  & Lars      & 178 & 120 & brown, grey & light       & blue   &  52.0 & male   & masculine & Tatooine & Human & Attack of the Clones, Revenge of the Sith , A New Hope           &  & \\\\\n\\end{tabular}\n",
            "text/plain": [
              "  first_name last_name height mass hair_color  skin_color  eye_color birth_year\n",
              "1 Luke       Skywalker 172     77  blond       fair        blue       19.0     \n",
              "2 C-3PO      NA        167     75  NA          gold        yellow    112.0     \n",
              "3 R2-D2      NA         96     32  NA          white, blue red        33.0     \n",
              "4 Darth      Vader     202    136  none        white       yellow     41.9     \n",
              "5 Leia       Organa    150     49  brown       light       brown      19.0     \n",
              "6 Owen       Lars      178    120  brown, grey light       blue       52.0     \n",
              "  sex    gender    homeworld species\n",
              "1 male   masculine Tatooine  Human  \n",
              "2 none   masculine Tatooine  Droid  \n",
              "3 none   masculine Naboo     Droid  \n",
              "4 male   masculine Tatooine  Human  \n",
              "5 female feminine  Alderaan  Human  \n",
              "6 male   masculine Tatooine  Human  \n",
              "  films                                                                                                                                                                        \n",
              "1 The Empire Strikes Back, Revenge of the Sith    , Return of the Jedi     , A New Hope             , The Force Awakens                                                        \n",
              "2 The Empire Strikes Back, Attack of the Clones   , The Phantom Menace     , Revenge of the Sith    , Return of the Jedi     , A New Hope                                      \n",
              "3 The Empire Strikes Back, Attack of the Clones   , The Phantom Menace     , Revenge of the Sith    , Return of the Jedi     , A New Hope             , The Force Awakens      \n",
              "4 The Empire Strikes Back, Revenge of the Sith    , Return of the Jedi     , A New Hope                                                                                        \n",
              "5 The Empire Strikes Back, Revenge of the Sith    , Return of the Jedi     , A New Hope             , The Force Awakens                                                        \n",
              "6 Attack of the Clones, Revenge of the Sith , A New Hope                                                                                                                       \n",
              "  vehicles                                    \n",
              "1 Snowspeeder          , Imperial Speeder Bike\n",
              "2                                             \n",
              "3                                             \n",
              "4                                             \n",
              "5 Imperial Speeder Bike                       \n",
              "6                                             \n",
              "  starships                         \n",
              "1 X-wing          , Imperial shuttle\n",
              "2                                   \n",
              "3                                   \n",
              "4 TIE Advanced x1                   \n",
              "5                                   \n",
              "6                                   "
            ]
          },
          "metadata": {}
        }
      ],
      "source": [
        "starwars |>\n",
        "  separate(name, c('first_name', 'last_name'), sep = \"\\\\s\") |>\n",
        "  head()"
      ]
    },
    {
      "cell_type": "markdown",
      "id": "02cf5271",
      "metadata": {
        "id": "02cf5271"
      },
      "source": [
        "In this lesson, you learnt the most fundamental verbs of data manipulation that let you operate on the rows and columns of a table, while keeping the underlying unit of observation the same. The full power of the `tidyverse` stems from the fact that you can combine these verbs together into a pipeline to achieve even the most complex data transformations."
      ]
    }
  ],
  "metadata": {
    "jupytext": {
      "cell_metadata_filter": "message,tags,out.width,name,-all",
      "split_at_heading": true
    },
    "kernelspec": {
      "display_name": "R",
      "language": "R",
      "name": "ir"
    },
    "colab": {
      "provenance": []
    }
  },
  "nbformat": 4,
  "nbformat_minor": 5
}