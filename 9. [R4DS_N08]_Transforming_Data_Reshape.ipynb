{
  "cells": [
    {
      "cell_type": "markdown",
      "id": "ac06f44f",
      "metadata": {
        "id": "ac06f44f"
      },
      "source": [
        "<a href=https://uplimit.com/course/r-for-data-science>\n",
        "  <img src=https://imgur.com/6Vkc11w.png />\n",
        "</a>\n",
        "\n",
        "|        |                                   |                                   |                                 |                                |\n",
        "| -------| ----------------------------------| -------------------------------- -| --------------------------------| ------------------------------------------|\n",
        "| Week 1 | [[01] Doing Data Science](https://colab.research.google.com/drive/1aWpmzS36qVc8hNIaSSSHexlodwwyMJCB)           | [[02] Data Science in Action](https://colab.research.google.com/drive/1aWpmzS36qVc8hNIaSSSHexlodwwyMJCB)       | [[03] Importing Data](https://colab.research.google.com/drive/13kHBX3H1F2yx5yXWJ5iFZh48qjEtpLjU)             | [[04] Visualizing Data: Overview](https://colab.research.google.com/drive/1JSeDt-Gneegd5B2KwWTJF_igYPb-xsIv)          |\n",
        "|        | [[05] Transforming Data: Overview](https://colab.research.google.com/drive/1IMZJFE8WmwjgdYCddvaO386PljKq_PjC)  | [[06] Transforming Data: Manipulate](https://colab.research.google.com/drive/19ClnAH7d30I9PkD9KuZndPmy5hxk3gdi) |                                 |                                           |\n",
        "| Week 2 | [[07] Transforming Data: Aggregate](https://colab.research.google.com/drive/1zigvePewKpzKQHx2pjABXU6Ms8QzQXj7) | [[08] Transforming Data: Reshape](https://colab.research.google.com/drive/1Ma9VrM9SrkNEeXTSul0Ca8a7GHAeNLzC)   | [[09] Transforming Data: Combine](https://colab.research.google.com/drive/1JUGm1h4YPmCkre-rVUj5Ql7lBS66_xIs) | [[10] Visualizing Data: Grammar of Graphics](https://colab.research.google.com/drive/1YLE3NPp-TO2KUTohtidjzKMeqJVWxYoT) |\n",
        "|        | [[11] Data Science in Action Again](https://colab.research.google.com/drive/1eWjVK4oEiXdwdP4sT0nOJlmkCMBkfLpz) |                                   |                                 |                                           |\n",
        "Books | [Hands on Programming with R](https://rstudio-education.github.io/hopr/index.html) | [R for Data Science](https://r4ds.hadley.nz/) | [Elegant Graphics for Data Analysis](https://ggplot2-book.org/)\n",
        "\n"
      ]
    },
    {
      "cell_type": "markdown",
      "id": "7fb71b81",
      "metadata": {
        "id": "7fb71b81"
      },
      "source": [
        "> 📕 __BEFORE YOU GET STARTED:__\n",
        "> 1. Click on **Copy to Drive** to copy notebook to your drive.\n",
        "> 2. Click on **Share** on the top-right corner (of your copied notebook).\n",
        "> 3. Update sharing settings to **Anyone with link**\n",
        "> 4. Delete this cell.\n"
      ]
    },
    {
      "cell_type": "markdown",
      "id": "fe9c45e1",
      "metadata": {
        "id": "fe9c45e1"
      },
      "source": [
        "## Reshaping Data\n",
        "\n",
        "__Reshaping__ data is a fundamental task in data analysis, and the `tidyverse` ecosystem provides several powerful tools for this purpose. The `tidyr` package, which is part of the `tidyverse`, offers a wide range of functions for transforming data between different shapes. In this lesson, we will explore different reshaping operations.\n",
        "\n",
        "<img src=\"https://i.imgur.com/gjk7geY.png\" />"
      ]
    },
    {
      "cell_type": "code",
      "execution_count": null,
      "id": "4c160db3",
      "metadata": {
        "message": false,
        "name": "setup",
        "colab": {
          "base_uri": "https://localhost:8080/"
        },
        "id": "4c160db3",
        "outputId": "acf0fd11-0dea-44a1-8cc9-afe313f22b68"
      },
      "outputs": [
        {
          "output_type": "stream",
          "name": "stderr",
          "text": [
            "── \u001b[1mAttaching core tidyverse packages\u001b[22m ──────────────────────── tidyverse 2.0.0 ──\n",
            "\u001b[32m✔\u001b[39m \u001b[34mdplyr    \u001b[39m 1.1.3     \u001b[32m✔\u001b[39m \u001b[34mreadr    \u001b[39m 2.1.4\n",
            "\u001b[32m✔\u001b[39m \u001b[34mforcats  \u001b[39m 1.0.0     \u001b[32m✔\u001b[39m \u001b[34mstringr  \u001b[39m 1.5.0\n",
            "\u001b[32m✔\u001b[39m \u001b[34mggplot2  \u001b[39m 3.4.4     \u001b[32m✔\u001b[39m \u001b[34mtibble   \u001b[39m 3.2.1\n",
            "\u001b[32m✔\u001b[39m \u001b[34mlubridate\u001b[39m 1.9.3     \u001b[32m✔\u001b[39m \u001b[34mtidyr    \u001b[39m 1.3.0\n",
            "\u001b[32m✔\u001b[39m \u001b[34mpurrr    \u001b[39m 1.0.2     \n",
            "── \u001b[1mConflicts\u001b[22m ────────────────────────────────────────── tidyverse_conflicts() ──\n",
            "\u001b[31m✖\u001b[39m \u001b[34mdplyr\u001b[39m::\u001b[32mfilter()\u001b[39m masks \u001b[34mstats\u001b[39m::filter()\n",
            "\u001b[31m✖\u001b[39m \u001b[34mdplyr\u001b[39m::\u001b[32mlag()\u001b[39m    masks \u001b[34mstats\u001b[39m::lag()\n",
            "\u001b[36mℹ\u001b[39m Use the conflicted package (\u001b[3m\u001b[34m<http://conflicted.r-lib.org/>\u001b[39m\u001b[23m) to force all conflicts to become errors\n",
            "Installing package into ‘/usr/local/lib/R/site-library’\n",
            "(as ‘lib’ is unspecified)\n",
            "\n",
            "Tracing function \"install.packages\" in package \"utils\"\n",
            "\n",
            "Tracing function \"update.packages\" in package \"utils\"\n",
            "\n",
            "Installing packages into ‘/usr/local/lib/R/site-library’\n",
            "(as ‘lib’ is unspecified)\n",
            "\n",
            "Inspecting installed packages...\n",
            "\n"
          ]
        }
      ],
      "source": [
        "# Load packages and common utility functions\n",
        "library(tidyverse)\n",
        "url = \"https://gist.githubusercontent.com/ramnathv/e71d3ffe88961fc4ef95642053012384/raw/9dda53562d06009912841ab3538d4aeb90e5ee09/_common.R\"\n",
        "download.file(url, basename(url))\n",
        "source(\"_common.R\")"
      ]
    },
    {
      "cell_type": "markdown",
      "id": "1b05ddc4",
      "metadata": {
        "id": "1b05ddc4"
      },
      "source": [
        "### Pivot\n",
        "\n",
        "Pivoting data is a common task in data analysis where data is transformed from one shape to another to facilitate analysis. In general, this involves changing the layout of the data from a __long__ format, where each observation is represented in a separate row, to a __wide__ format, where each observation is represented in a separate column. Alternatively, it may involve changing from a wide format to a long format.\n",
        "\n",
        "The `tidyr` package in the `tidyverse` provides several functions for pivoting data, including `pivot_wider()` and `pivot_longer()`, which can be used to transform data between wide and long formats.\n",
        "\n",
        "We will use the `billboard` data that ships with `tidyr` to explore these functions. This dataset is in the __wide__ format and provides the weekly rankings of the top 100 tracks."
      ]
    },
    {
      "cell_type": "code",
      "execution_count": null,
      "id": "f8815001",
      "metadata": {
        "name": "pivot-data-billboard",
        "colab": {
          "base_uri": "https://localhost:8080/",
          "height": 286
        },
        "id": "f8815001",
        "outputId": "c1bb33a5-fc1b-4bab-d163-28f1692f68b9"
      },
      "outputs": [
        {
          "output_type": "display_data",
          "data": {
            "text/html": [
              "<table class=\"dataframe\">\n",
              "<caption>A tibble: 6 × 79</caption>\n",
              "<thead>\n",
              "\t<tr><th scope=col>artist</th><th scope=col>track</th><th scope=col>date.entered</th><th scope=col>wk1</th><th scope=col>wk2</th><th scope=col>wk3</th><th scope=col>wk4</th><th scope=col>wk5</th><th scope=col>wk6</th><th scope=col>wk7</th><th scope=col>⋯</th><th scope=col>wk67</th><th scope=col>wk68</th><th scope=col>wk69</th><th scope=col>wk70</th><th scope=col>wk71</th><th scope=col>wk72</th><th scope=col>wk73</th><th scope=col>wk74</th><th scope=col>wk75</th><th scope=col>wk76</th></tr>\n",
              "\t<tr><th scope=col>&lt;chr&gt;</th><th scope=col>&lt;chr&gt;</th><th scope=col>&lt;date&gt;</th><th scope=col>&lt;dbl&gt;</th><th scope=col>&lt;dbl&gt;</th><th scope=col>&lt;dbl&gt;</th><th scope=col>&lt;dbl&gt;</th><th scope=col>&lt;dbl&gt;</th><th scope=col>&lt;dbl&gt;</th><th scope=col>&lt;dbl&gt;</th><th scope=col>⋯</th><th scope=col>&lt;lgl&gt;</th><th scope=col>&lt;lgl&gt;</th><th scope=col>&lt;lgl&gt;</th><th scope=col>&lt;lgl&gt;</th><th scope=col>&lt;lgl&gt;</th><th scope=col>&lt;lgl&gt;</th><th scope=col>&lt;lgl&gt;</th><th scope=col>&lt;lgl&gt;</th><th scope=col>&lt;lgl&gt;</th><th scope=col>&lt;lgl&gt;</th></tr>\n",
              "</thead>\n",
              "<tbody>\n",
              "\t<tr><td>2 Pac       </td><td>Baby Don't Cry (Keep...</td><td>2000-02-26</td><td>87</td><td>82</td><td>72</td><td>77</td><td>87</td><td>94</td><td>99</td><td>⋯</td><td>NA</td><td>NA</td><td>NA</td><td>NA</td><td>NA</td><td>NA</td><td>NA</td><td>NA</td><td>NA</td><td>NA</td></tr>\n",
              "\t<tr><td>2Ge+her     </td><td>The Hardest Part Of ...</td><td>2000-09-02</td><td>91</td><td>87</td><td>92</td><td>NA</td><td>NA</td><td>NA</td><td>NA</td><td>⋯</td><td>NA</td><td>NA</td><td>NA</td><td>NA</td><td>NA</td><td>NA</td><td>NA</td><td>NA</td><td>NA</td><td>NA</td></tr>\n",
              "\t<tr><td>3 Doors Down</td><td>Kryptonite             </td><td>2000-04-08</td><td>81</td><td>70</td><td>68</td><td>67</td><td>66</td><td>57</td><td>54</td><td>⋯</td><td>NA</td><td>NA</td><td>NA</td><td>NA</td><td>NA</td><td>NA</td><td>NA</td><td>NA</td><td>NA</td><td>NA</td></tr>\n",
              "\t<tr><td>3 Doors Down</td><td>Loser                  </td><td>2000-10-21</td><td>76</td><td>76</td><td>72</td><td>69</td><td>67</td><td>65</td><td>55</td><td>⋯</td><td>NA</td><td>NA</td><td>NA</td><td>NA</td><td>NA</td><td>NA</td><td>NA</td><td>NA</td><td>NA</td><td>NA</td></tr>\n",
              "\t<tr><td>504 Boyz    </td><td>Wobble Wobble          </td><td>2000-04-15</td><td>57</td><td>34</td><td>25</td><td>17</td><td>17</td><td>31</td><td>36</td><td>⋯</td><td>NA</td><td>NA</td><td>NA</td><td>NA</td><td>NA</td><td>NA</td><td>NA</td><td>NA</td><td>NA</td><td>NA</td></tr>\n",
              "\t<tr><td>98^0        </td><td>Give Me Just One Nig...</td><td>2000-08-19</td><td>51</td><td>39</td><td>34</td><td>26</td><td>26</td><td>19</td><td> 2</td><td>⋯</td><td>NA</td><td>NA</td><td>NA</td><td>NA</td><td>NA</td><td>NA</td><td>NA</td><td>NA</td><td>NA</td><td>NA</td></tr>\n",
              "</tbody>\n",
              "</table>\n"
            ],
            "text/markdown": "\nA tibble: 6 × 79\n\n| artist &lt;chr&gt; | track &lt;chr&gt; | date.entered &lt;date&gt; | wk1 &lt;dbl&gt; | wk2 &lt;dbl&gt; | wk3 &lt;dbl&gt; | wk4 &lt;dbl&gt; | wk5 &lt;dbl&gt; | wk6 &lt;dbl&gt; | wk7 &lt;dbl&gt; | ⋯ ⋯ | wk67 &lt;lgl&gt; | wk68 &lt;lgl&gt; | wk69 &lt;lgl&gt; | wk70 &lt;lgl&gt; | wk71 &lt;lgl&gt; | wk72 &lt;lgl&gt; | wk73 &lt;lgl&gt; | wk74 &lt;lgl&gt; | wk75 &lt;lgl&gt; | wk76 &lt;lgl&gt; |\n|---|---|---|---|---|---|---|---|---|---|---|---|---|---|---|---|---|---|---|---|---|\n| 2 Pac        | Baby Don't Cry (Keep... | 2000-02-26 | 87 | 82 | 72 | 77 | 87 | 94 | 99 | ⋯ | NA | NA | NA | NA | NA | NA | NA | NA | NA | NA |\n| 2Ge+her      | The Hardest Part Of ... | 2000-09-02 | 91 | 87 | 92 | NA | NA | NA | NA | ⋯ | NA | NA | NA | NA | NA | NA | NA | NA | NA | NA |\n| 3 Doors Down | Kryptonite              | 2000-04-08 | 81 | 70 | 68 | 67 | 66 | 57 | 54 | ⋯ | NA | NA | NA | NA | NA | NA | NA | NA | NA | NA |\n| 3 Doors Down | Loser                   | 2000-10-21 | 76 | 76 | 72 | 69 | 67 | 65 | 55 | ⋯ | NA | NA | NA | NA | NA | NA | NA | NA | NA | NA |\n| 504 Boyz     | Wobble Wobble           | 2000-04-15 | 57 | 34 | 25 | 17 | 17 | 31 | 36 | ⋯ | NA | NA | NA | NA | NA | NA | NA | NA | NA | NA |\n| 98^0         | Give Me Just One Nig... | 2000-08-19 | 51 | 39 | 34 | 26 | 26 | 19 |  2 | ⋯ | NA | NA | NA | NA | NA | NA | NA | NA | NA | NA |\n\n",
            "text/latex": "A tibble: 6 × 79\n\\begin{tabular}{lllllllllllllllllllll}\n artist & track & date.entered & wk1 & wk2 & wk3 & wk4 & wk5 & wk6 & wk7 & ⋯ & wk67 & wk68 & wk69 & wk70 & wk71 & wk72 & wk73 & wk74 & wk75 & wk76\\\\\n <chr> & <chr> & <date> & <dbl> & <dbl> & <dbl> & <dbl> & <dbl> & <dbl> & <dbl> & ⋯ & <lgl> & <lgl> & <lgl> & <lgl> & <lgl> & <lgl> & <lgl> & <lgl> & <lgl> & <lgl>\\\\\n\\hline\n\t 2 Pac        & Baby Don't Cry (Keep... & 2000-02-26 & 87 & 82 & 72 & 77 & 87 & 94 & 99 & ⋯ & NA & NA & NA & NA & NA & NA & NA & NA & NA & NA\\\\\n\t 2Ge+her      & The Hardest Part Of ... & 2000-09-02 & 91 & 87 & 92 & NA & NA & NA & NA & ⋯ & NA & NA & NA & NA & NA & NA & NA & NA & NA & NA\\\\\n\t 3 Doors Down & Kryptonite              & 2000-04-08 & 81 & 70 & 68 & 67 & 66 & 57 & 54 & ⋯ & NA & NA & NA & NA & NA & NA & NA & NA & NA & NA\\\\\n\t 3 Doors Down & Loser                   & 2000-10-21 & 76 & 76 & 72 & 69 & 67 & 65 & 55 & ⋯ & NA & NA & NA & NA & NA & NA & NA & NA & NA & NA\\\\\n\t 504 Boyz     & Wobble Wobble           & 2000-04-15 & 57 & 34 & 25 & 17 & 17 & 31 & 36 & ⋯ & NA & NA & NA & NA & NA & NA & NA & NA & NA & NA\\\\\n\t 98\\textasciicircum{}0         & Give Me Just One Nig... & 2000-08-19 & 51 & 39 & 34 & 26 & 26 & 19 &  2 & ⋯ & NA & NA & NA & NA & NA & NA & NA & NA & NA & NA\\\\\n\\end{tabular}\n",
            "text/plain": [
              "  artist       track                   date.entered wk1 wk2 wk3 wk4 wk5 wk6 wk7\n",
              "1 2 Pac        Baby Don't Cry (Keep... 2000-02-26   87  82  72  77  87  94  99 \n",
              "2 2Ge+her      The Hardest Part Of ... 2000-09-02   91  87  92  NA  NA  NA  NA \n",
              "3 3 Doors Down Kryptonite              2000-04-08   81  70  68  67  66  57  54 \n",
              "4 3 Doors Down Loser                   2000-10-21   76  76  72  69  67  65  55 \n",
              "5 504 Boyz     Wobble Wobble           2000-04-15   57  34  25  17  17  31  36 \n",
              "6 98^0         Give Me Just One Nig... 2000-08-19   51  39  34  26  26  19   2 \n",
              "  ⋯ wk67 wk68 wk69 wk70 wk71 wk72 wk73 wk74 wk75 wk76\n",
              "1 ⋯ NA   NA   NA   NA   NA   NA   NA   NA   NA   NA  \n",
              "2 ⋯ NA   NA   NA   NA   NA   NA   NA   NA   NA   NA  \n",
              "3 ⋯ NA   NA   NA   NA   NA   NA   NA   NA   NA   NA  \n",
              "4 ⋯ NA   NA   NA   NA   NA   NA   NA   NA   NA   NA  \n",
              "5 ⋯ NA   NA   NA   NA   NA   NA   NA   NA   NA   NA  \n",
              "6 ⋯ NA   NA   NA   NA   NA   NA   NA   NA   NA   NA  "
            ]
          },
          "metadata": {}
        }
      ],
      "source": [
        "head(billboard)"
      ]
    },
    {
      "cell_type": "markdown",
      "id": "70bdda5e",
      "metadata": {
        "id": "70bdda5e"
      },
      "source": [
        "#### `pivot_longer()`: Pivot data from wide to long\n",
        "\n",
        "Let us start by reshaping this data to the long form. Note that the long form is usually a lot easier to analyze and visualize and is preferred by most data scientists using the `tidyverse`."
      ]
    },
    {
      "cell_type": "code",
      "execution_count": null,
      "id": "65dec947",
      "metadata": {
        "name": "pivot-longer",
        "colab": {
          "base_uri": "https://localhost:8080/",
          "height": 286
        },
        "id": "65dec947",
        "outputId": "228280cb-f737-4f41-b070-01ad39b8029a"
      },
      "outputs": [
        {
          "output_type": "display_data",
          "data": {
            "text/html": [
              "<table class=\"dataframe\">\n",
              "<caption>A tibble: 6 × 5</caption>\n",
              "<thead>\n",
              "\t<tr><th scope=col>artist</th><th scope=col>track</th><th scope=col>date.entered</th><th scope=col>week</th><th scope=col>rank</th></tr>\n",
              "\t<tr><th scope=col>&lt;chr&gt;</th><th scope=col>&lt;chr&gt;</th><th scope=col>&lt;date&gt;</th><th scope=col>&lt;chr&gt;</th><th scope=col>&lt;dbl&gt;</th></tr>\n",
              "</thead>\n",
              "<tbody>\n",
              "\t<tr><td>2 Pac</td><td>Baby Don't Cry (Keep...</td><td>2000-02-26</td><td>wk1</td><td>87</td></tr>\n",
              "\t<tr><td>2 Pac</td><td>Baby Don't Cry (Keep...</td><td>2000-02-26</td><td>wk2</td><td>82</td></tr>\n",
              "\t<tr><td>2 Pac</td><td>Baby Don't Cry (Keep...</td><td>2000-02-26</td><td>wk3</td><td>72</td></tr>\n",
              "\t<tr><td>2 Pac</td><td>Baby Don't Cry (Keep...</td><td>2000-02-26</td><td>wk4</td><td>77</td></tr>\n",
              "\t<tr><td>2 Pac</td><td>Baby Don't Cry (Keep...</td><td>2000-02-26</td><td>wk5</td><td>87</td></tr>\n",
              "\t<tr><td>2 Pac</td><td>Baby Don't Cry (Keep...</td><td>2000-02-26</td><td>wk6</td><td>94</td></tr>\n",
              "</tbody>\n",
              "</table>\n"
            ],
            "text/markdown": "\nA tibble: 6 × 5\n\n| artist &lt;chr&gt; | track &lt;chr&gt; | date.entered &lt;date&gt; | week &lt;chr&gt; | rank &lt;dbl&gt; |\n|---|---|---|---|---|\n| 2 Pac | Baby Don't Cry (Keep... | 2000-02-26 | wk1 | 87 |\n| 2 Pac | Baby Don't Cry (Keep... | 2000-02-26 | wk2 | 82 |\n| 2 Pac | Baby Don't Cry (Keep... | 2000-02-26 | wk3 | 72 |\n| 2 Pac | Baby Don't Cry (Keep... | 2000-02-26 | wk4 | 77 |\n| 2 Pac | Baby Don't Cry (Keep... | 2000-02-26 | wk5 | 87 |\n| 2 Pac | Baby Don't Cry (Keep... | 2000-02-26 | wk6 | 94 |\n\n",
            "text/latex": "A tibble: 6 × 5\n\\begin{tabular}{lllll}\n artist & track & date.entered & week & rank\\\\\n <chr> & <chr> & <date> & <chr> & <dbl>\\\\\n\\hline\n\t 2 Pac & Baby Don't Cry (Keep... & 2000-02-26 & wk1 & 87\\\\\n\t 2 Pac & Baby Don't Cry (Keep... & 2000-02-26 & wk2 & 82\\\\\n\t 2 Pac & Baby Don't Cry (Keep... & 2000-02-26 & wk3 & 72\\\\\n\t 2 Pac & Baby Don't Cry (Keep... & 2000-02-26 & wk4 & 77\\\\\n\t 2 Pac & Baby Don't Cry (Keep... & 2000-02-26 & wk5 & 87\\\\\n\t 2 Pac & Baby Don't Cry (Keep... & 2000-02-26 & wk6 & 94\\\\\n\\end{tabular}\n",
            "text/plain": [
              "  artist track                   date.entered week rank\n",
              "1 2 Pac  Baby Don't Cry (Keep... 2000-02-26   wk1  87  \n",
              "2 2 Pac  Baby Don't Cry (Keep... 2000-02-26   wk2  82  \n",
              "3 2 Pac  Baby Don't Cry (Keep... 2000-02-26   wk3  72  \n",
              "4 2 Pac  Baby Don't Cry (Keep... 2000-02-26   wk4  77  \n",
              "5 2 Pac  Baby Don't Cry (Keep... 2000-02-26   wk5  87  \n",
              "6 2 Pac  Baby Don't Cry (Keep... 2000-02-26   wk6  94  "
            ]
          },
          "metadata": {}
        }
      ],
      "source": [
        "billboard_long <- billboard |>\n",
        "  pivot_longer(\n",
        "    cols = starts_with('wk'),\n",
        "    names_to = 'week',\n",
        "    values_to = 'rank'\n",
        "  )\n",
        "\n",
        "head(billboard_long)"
      ]
    },
    {
      "cell_type": "markdown",
      "id": "02a70f6b",
      "metadata": {
        "id": "02a70f6b"
      },
      "source": [
        "`pivot_longer()` takes as input a dataset and a set of arguments that specify the columns to pivot and the new column names to create. In this case, the `cols` argument is set to `starts_with('wk')`, which specifies that any columns that start with the string \"wk\" should be pivoted. These columns correspond to the weekly ranking of songs on the Billboard charts.\n",
        "\n",
        "The `names_to` argument specifies the name of the new column that will contain the column names that were pivoted. In this case, it is set to `'week'`, which will create a new column called \"week\" that contains the week number for each observation.\n",
        "\n",
        "The `values_to` argument specifies the name of the new column that will contain the values that were pivoted. In this case, it is set to `'rank'`, which will create a new column called \"rank\" that contains the ranking of each song for each week.\n"
      ]
    },
    {
      "cell_type": "markdown",
      "id": "0cb38988",
      "metadata": {
        "id": "0cb38988"
      },
      "source": [
        "#### `pivot_wider()`: Pivot data from long to wide\n",
        "\n",
        "Let us reshape `billboard_long` back to the wide format using the `pivot_wider()` function."
      ]
    },
    {
      "cell_type": "code",
      "execution_count": null,
      "id": "f0e36193",
      "metadata": {
        "name": "pivot-wider",
        "colab": {
          "base_uri": "https://localhost:8080/",
          "height": 286
        },
        "id": "f0e36193",
        "outputId": "d4ae78dd-5b50-4c1a-c86c-223cc4542bc6"
      },
      "outputs": [
        {
          "output_type": "display_data",
          "data": {
            "text/html": [
              "<table class=\"dataframe\">\n",
              "<caption>A tibble: 6 × 79</caption>\n",
              "<thead>\n",
              "\t<tr><th scope=col>artist</th><th scope=col>track</th><th scope=col>date.entered</th><th scope=col>wk1</th><th scope=col>wk2</th><th scope=col>wk3</th><th scope=col>wk4</th><th scope=col>wk5</th><th scope=col>wk6</th><th scope=col>wk7</th><th scope=col>⋯</th><th scope=col>wk67</th><th scope=col>wk68</th><th scope=col>wk69</th><th scope=col>wk70</th><th scope=col>wk71</th><th scope=col>wk72</th><th scope=col>wk73</th><th scope=col>wk74</th><th scope=col>wk75</th><th scope=col>wk76</th></tr>\n",
              "\t<tr><th scope=col>&lt;chr&gt;</th><th scope=col>&lt;chr&gt;</th><th scope=col>&lt;date&gt;</th><th scope=col>&lt;dbl&gt;</th><th scope=col>&lt;dbl&gt;</th><th scope=col>&lt;dbl&gt;</th><th scope=col>&lt;dbl&gt;</th><th scope=col>&lt;dbl&gt;</th><th scope=col>&lt;dbl&gt;</th><th scope=col>&lt;dbl&gt;</th><th scope=col>⋯</th><th scope=col>&lt;dbl&gt;</th><th scope=col>&lt;dbl&gt;</th><th scope=col>&lt;dbl&gt;</th><th scope=col>&lt;dbl&gt;</th><th scope=col>&lt;dbl&gt;</th><th scope=col>&lt;dbl&gt;</th><th scope=col>&lt;dbl&gt;</th><th scope=col>&lt;dbl&gt;</th><th scope=col>&lt;dbl&gt;</th><th scope=col>&lt;dbl&gt;</th></tr>\n",
              "</thead>\n",
              "<tbody>\n",
              "\t<tr><td>2 Pac       </td><td>Baby Don't Cry (Keep...</td><td>2000-02-26</td><td>87</td><td>82</td><td>72</td><td>77</td><td>87</td><td>94</td><td>99</td><td>⋯</td><td>NA</td><td>NA</td><td>NA</td><td>NA</td><td>NA</td><td>NA</td><td>NA</td><td>NA</td><td>NA</td><td>NA</td></tr>\n",
              "\t<tr><td>2Ge+her     </td><td>The Hardest Part Of ...</td><td>2000-09-02</td><td>91</td><td>87</td><td>92</td><td>NA</td><td>NA</td><td>NA</td><td>NA</td><td>⋯</td><td>NA</td><td>NA</td><td>NA</td><td>NA</td><td>NA</td><td>NA</td><td>NA</td><td>NA</td><td>NA</td><td>NA</td></tr>\n",
              "\t<tr><td>3 Doors Down</td><td>Kryptonite             </td><td>2000-04-08</td><td>81</td><td>70</td><td>68</td><td>67</td><td>66</td><td>57</td><td>54</td><td>⋯</td><td>NA</td><td>NA</td><td>NA</td><td>NA</td><td>NA</td><td>NA</td><td>NA</td><td>NA</td><td>NA</td><td>NA</td></tr>\n",
              "\t<tr><td>3 Doors Down</td><td>Loser                  </td><td>2000-10-21</td><td>76</td><td>76</td><td>72</td><td>69</td><td>67</td><td>65</td><td>55</td><td>⋯</td><td>NA</td><td>NA</td><td>NA</td><td>NA</td><td>NA</td><td>NA</td><td>NA</td><td>NA</td><td>NA</td><td>NA</td></tr>\n",
              "\t<tr><td>504 Boyz    </td><td>Wobble Wobble          </td><td>2000-04-15</td><td>57</td><td>34</td><td>25</td><td>17</td><td>17</td><td>31</td><td>36</td><td>⋯</td><td>NA</td><td>NA</td><td>NA</td><td>NA</td><td>NA</td><td>NA</td><td>NA</td><td>NA</td><td>NA</td><td>NA</td></tr>\n",
              "\t<tr><td>98^0        </td><td>Give Me Just One Nig...</td><td>2000-08-19</td><td>51</td><td>39</td><td>34</td><td>26</td><td>26</td><td>19</td><td> 2</td><td>⋯</td><td>NA</td><td>NA</td><td>NA</td><td>NA</td><td>NA</td><td>NA</td><td>NA</td><td>NA</td><td>NA</td><td>NA</td></tr>\n",
              "</tbody>\n",
              "</table>\n"
            ],
            "text/markdown": "\nA tibble: 6 × 79\n\n| artist &lt;chr&gt; | track &lt;chr&gt; | date.entered &lt;date&gt; | wk1 &lt;dbl&gt; | wk2 &lt;dbl&gt; | wk3 &lt;dbl&gt; | wk4 &lt;dbl&gt; | wk5 &lt;dbl&gt; | wk6 &lt;dbl&gt; | wk7 &lt;dbl&gt; | ⋯ ⋯ | wk67 &lt;dbl&gt; | wk68 &lt;dbl&gt; | wk69 &lt;dbl&gt; | wk70 &lt;dbl&gt; | wk71 &lt;dbl&gt; | wk72 &lt;dbl&gt; | wk73 &lt;dbl&gt; | wk74 &lt;dbl&gt; | wk75 &lt;dbl&gt; | wk76 &lt;dbl&gt; |\n|---|---|---|---|---|---|---|---|---|---|---|---|---|---|---|---|---|---|---|---|---|\n| 2 Pac        | Baby Don't Cry (Keep... | 2000-02-26 | 87 | 82 | 72 | 77 | 87 | 94 | 99 | ⋯ | NA | NA | NA | NA | NA | NA | NA | NA | NA | NA |\n| 2Ge+her      | The Hardest Part Of ... | 2000-09-02 | 91 | 87 | 92 | NA | NA | NA | NA | ⋯ | NA | NA | NA | NA | NA | NA | NA | NA | NA | NA |\n| 3 Doors Down | Kryptonite              | 2000-04-08 | 81 | 70 | 68 | 67 | 66 | 57 | 54 | ⋯ | NA | NA | NA | NA | NA | NA | NA | NA | NA | NA |\n| 3 Doors Down | Loser                   | 2000-10-21 | 76 | 76 | 72 | 69 | 67 | 65 | 55 | ⋯ | NA | NA | NA | NA | NA | NA | NA | NA | NA | NA |\n| 504 Boyz     | Wobble Wobble           | 2000-04-15 | 57 | 34 | 25 | 17 | 17 | 31 | 36 | ⋯ | NA | NA | NA | NA | NA | NA | NA | NA | NA | NA |\n| 98^0         | Give Me Just One Nig... | 2000-08-19 | 51 | 39 | 34 | 26 | 26 | 19 |  2 | ⋯ | NA | NA | NA | NA | NA | NA | NA | NA | NA | NA |\n\n",
            "text/latex": "A tibble: 6 × 79\n\\begin{tabular}{lllllllllllllllllllll}\n artist & track & date.entered & wk1 & wk2 & wk3 & wk4 & wk5 & wk6 & wk7 & ⋯ & wk67 & wk68 & wk69 & wk70 & wk71 & wk72 & wk73 & wk74 & wk75 & wk76\\\\\n <chr> & <chr> & <date> & <dbl> & <dbl> & <dbl> & <dbl> & <dbl> & <dbl> & <dbl> & ⋯ & <dbl> & <dbl> & <dbl> & <dbl> & <dbl> & <dbl> & <dbl> & <dbl> & <dbl> & <dbl>\\\\\n\\hline\n\t 2 Pac        & Baby Don't Cry (Keep... & 2000-02-26 & 87 & 82 & 72 & 77 & 87 & 94 & 99 & ⋯ & NA & NA & NA & NA & NA & NA & NA & NA & NA & NA\\\\\n\t 2Ge+her      & The Hardest Part Of ... & 2000-09-02 & 91 & 87 & 92 & NA & NA & NA & NA & ⋯ & NA & NA & NA & NA & NA & NA & NA & NA & NA & NA\\\\\n\t 3 Doors Down & Kryptonite              & 2000-04-08 & 81 & 70 & 68 & 67 & 66 & 57 & 54 & ⋯ & NA & NA & NA & NA & NA & NA & NA & NA & NA & NA\\\\\n\t 3 Doors Down & Loser                   & 2000-10-21 & 76 & 76 & 72 & 69 & 67 & 65 & 55 & ⋯ & NA & NA & NA & NA & NA & NA & NA & NA & NA & NA\\\\\n\t 504 Boyz     & Wobble Wobble           & 2000-04-15 & 57 & 34 & 25 & 17 & 17 & 31 & 36 & ⋯ & NA & NA & NA & NA & NA & NA & NA & NA & NA & NA\\\\\n\t 98\\textasciicircum{}0         & Give Me Just One Nig... & 2000-08-19 & 51 & 39 & 34 & 26 & 26 & 19 &  2 & ⋯ & NA & NA & NA & NA & NA & NA & NA & NA & NA & NA\\\\\n\\end{tabular}\n",
            "text/plain": [
              "  artist       track                   date.entered wk1 wk2 wk3 wk4 wk5 wk6 wk7\n",
              "1 2 Pac        Baby Don't Cry (Keep... 2000-02-26   87  82  72  77  87  94  99 \n",
              "2 2Ge+her      The Hardest Part Of ... 2000-09-02   91  87  92  NA  NA  NA  NA \n",
              "3 3 Doors Down Kryptonite              2000-04-08   81  70  68  67  66  57  54 \n",
              "4 3 Doors Down Loser                   2000-10-21   76  76  72  69  67  65  55 \n",
              "5 504 Boyz     Wobble Wobble           2000-04-15   57  34  25  17  17  31  36 \n",
              "6 98^0         Give Me Just One Nig... 2000-08-19   51  39  34  26  26  19   2 \n",
              "  ⋯ wk67 wk68 wk69 wk70 wk71 wk72 wk73 wk74 wk75 wk76\n",
              "1 ⋯ NA   NA   NA   NA   NA   NA   NA   NA   NA   NA  \n",
              "2 ⋯ NA   NA   NA   NA   NA   NA   NA   NA   NA   NA  \n",
              "3 ⋯ NA   NA   NA   NA   NA   NA   NA   NA   NA   NA  \n",
              "4 ⋯ NA   NA   NA   NA   NA   NA   NA   NA   NA   NA  \n",
              "5 ⋯ NA   NA   NA   NA   NA   NA   NA   NA   NA   NA  \n",
              "6 ⋯ NA   NA   NA   NA   NA   NA   NA   NA   NA   NA  "
            ]
          },
          "metadata": {}
        }
      ],
      "source": [
        "billboard_long |>\n",
        "  pivot_wider(\n",
        "    names_from = week,\n",
        "    values_from = rank\n",
        "  ) |>\n",
        "  head()"
      ]
    },
    {
      "cell_type": "markdown",
      "id": "b7666624",
      "metadata": {
        "id": "b7666624"
      },
      "source": [
        "The `pivot_wider()` function takes as input a dataset and a set of arguments that specify the columns to pivot and the new column names to create. In this case, the `names_from` argument is set to `week`, which specifies that the new column names should be based on the values in the \"week\" column of the `billboard_long` dataset. The `values_from` argument is set to `rank`, which specifies that the values in the \"rank\" column of the `billboard_long` dataset should be used as the values in the new columns."
      ]
    },
    {
      "cell_type": "markdown",
      "id": "bba39901",
      "metadata": {
        "id": "bba39901"
      },
      "source": [
        "__Nesting__ and __Unnesting__ are two useful data transformation techniques that allow us to group and ungroup data in various ways and are supported by the `tidyr` package of the tidyverse. We will use the baby names dataset to illustrate these operations."
      ]
    },
    {
      "cell_type": "code",
      "execution_count": null,
      "id": "a81e8c0d",
      "metadata": {
        "name": "read-tbl-names",
        "id": "a81e8c0d"
      },
      "outputs": [],
      "source": [
        "# Read tbl_names from `data/names.csv.gz`\n",
        "tbl_names <- readr::read_csv(\n",
        "  file = \"https://raw.githubusercontent.com/ramnathv/corise-r-for-ds/main/data/names.csv.gz\",\n",
        "  show_col_types = FALSE\n",
        ")"
      ]
    },
    {
      "cell_type": "markdown",
      "id": "dfceff59",
      "metadata": {
        "id": "dfceff59"
      },
      "source": [
        "### Nest"
      ]
    },
    {
      "cell_type": "markdown",
      "id": "20442936",
      "metadata": {
        "id": "20442936"
      },
      "source": [
        "#### `nest()`: Nest rows into a list-column of data frames\n",
        "\n",
        " __Nesting__ involves taking a set of variables and collapsing them into a single column that contains a nested data structure, such as a list or a data frame. This can be useful when we want to perform operations on subsets of our data, or when we have data with a hierarchical structure that we want to preserve."
      ]
    },
    {
      "cell_type": "code",
      "execution_count": null,
      "id": "760e5295",
      "metadata": {
        "name": "nest",
        "colab": {
          "base_uri": "https://localhost:8080/",
          "height": 456
        },
        "id": "760e5295",
        "outputId": "f1fcc32f-d053-4358-b201-84d63053d6a1"
      },
      "outputs": [
        {
          "output_type": "display_data",
          "data": {
            "text/html": [
              "<table class=\"dataframe\">\n",
              "<caption>A grouped_df: 2 × 3</caption>\n",
              "<thead>\n",
              "\t<tr><th scope=col>name</th><th scope=col>sex</th><th scope=col>nb_births_by_year</th></tr>\n",
              "\t<tr><th scope=col>&lt;chr&gt;</th><th scope=col>&lt;chr&gt;</th><th scope=col>&lt;list&gt;</th></tr>\n",
              "</thead>\n",
              "<tbody>\n",
              "\t<tr><td>Mary</td><td>F</td><td>1880, 1881, 1882, 1883, 1884, 1885, 1886, 1887, 1888, 1889, 1890, 1891, 1892, 1893, 1894, 1895, 1896, 1897, 1898, 1899, 1900, 1901, 1902, 1903, 1904, 1905, 1906, 1907, 1908, 1909, 1910, 1911, 1912, 1913, 1914, 1915, 1916, 1917, 1918, 1919, 1920, 1921, 1922, 1923, 1924, 1925, 1926, 1927, 1928, 1929, 1930, 1931, 1932, 1933, 1934, 1935, 1936, 1937, 1938, 1939, 1940, 1941, 1942, 1943, 1944, 1945, 1946, 1947, 1948, 1949, 1950, 1951, 1952, 1953, 1954, 1955, 1956, 1957, 1958, 1959, 1960, 1961, 1962, 1963, 1964, 1965, 1966, 1967, 1968, 1969, 1970, 1971, 1972, 1973, 1974, 1975, 1976, 1977, 1978, 1979, 1980, 1981, 1982, 1983, 1984, 1985, 1986, 1987, 1988, 1989, 1990, 1991, 1992, 1993, 1994, 1995, 1996, 1997, 1998, 1999, 2000, 2001, 2002, 2003, 2004, 2005, 2006, 2007, 2008, 2009, 2010, 2011, 2012, 2013, 2014, 2015, 2016, 2017, 2018, 2019, 2020, 2021, 7065, 6919, 8148, 8012, 9217, 9128, 9889, 9888, 11754, 11648, 12078, 11703, 13172, 12784, 13151, 13447, 13811, 13413, 14406, 13172, 16705, 13136, 14486, 14275, 14961, 16067, 16370, 17580, 18665, 19259, 22848, 24390, 32304, 36642, 45345, 58187, 61438, 64280, 67366, 65837, 70982, 73985, 72177, 71635, 73535, 70587, 67835, 70639, 66873, 63512, 64151, 60295, 59883, 55517, 56934, 55071, 54373, 55643, 56214, 54905, 56212, 58043, 63254, 66178, 62469, 59282, 67471, 71684, 68601, 66868, 65479, 65724, 65624, 64389, 68018, 63175, 61747, 61104, 55852, 54485, 51476, 47682, 43489, 41551, 40984, 34271, 28887, 25316, 21719, 19855, 19202, 16700, 13758, 12312, 11742, 10967, 10319, 10656, 10043, 10563, 11474, 11045, 10854, 9896, 9292, 9242, 8508, 8395, 8511, 8645, 8669, 8761, 8461, 8122, 7752, 7457, 6964, 6649, 6468, 6386, 6212, 5747, 5472, 5026, 4819, 4467, 4097, 3688, 3501, 3167, 2876, 2710, 2581, 2661, 2635, 2635, 2522, 2416, 2355, 2226, 2210, 2080</td></tr>\n",
              "\t<tr><td>Anna</td><td>F</td><td>1880, 1881, 1882, 1883, 1884, 1885, 1886, 1887, 1888, 1889, 1890, 1891, 1892, 1893, 1894, 1895, 1896, 1897, 1898, 1899, 1900, 1901, 1902, 1903, 1904, 1905, 1906, 1907, 1908, 1909, 1910, 1911, 1912, 1913, 1914, 1915, 1916, 1917, 1918, 1919, 1920, 1921, 1922, 1923, 1924, 1925, 1926, 1927, 1928, 1929, 1930, 1931, 1932, 1933, 1934, 1935, 1936, 1937, 1938, 1939, 1940, 1941, 1942, 1943, 1944, 1945, 1946, 1947, 1948, 1949, 1950, 1951, 1952, 1953, 1954, 1955, 1956, 1957, 1958, 1959, 1960, 1961, 1962, 1963, 1964, 1965, 1966, 1967, 1968, 1969, 1970, 1971, 1972, 1973, 1974, 1975, 1976, 1977, 1978, 1979, 1980, 1981, 1982, 1983, 1984, 1985, 1986, 1987, 1988, 1989, 1990, 1991, 1992, 1993, 1994, 1995, 1996, 1997, 1998, 1999, 2000, 2001, 2002, 2003, 2004, 2005, 2006, 2007, 2008, 2009, 2010, 2011, 2012, 2013, 2014, 2015, 2016, 2017, 2018, 2019, 2020, 2021, 2604, 2698, 3143, 3306, 3860, 3994, 4283, 4227, 4982, 5062, 5233, 5099, 5542, 5695, 5565, 5950, 5860, 5429, 5773, 5115, 6114, 4923, 5288, 5098, 5330, 5424, 5502, 5575, 5860, 5804, 6436, 6753, 8586, 9687, 11865, 15119, 15228, 15160, 15666, 14498, 14581, 14477, 13408, 12865, 13076, 12251, 11697, 11216, 10575, 9750, 9080, 8429, 7924, 7072, 6681, 6162, 5724, 5449, 5143, 4929, 4718, 4432, 4487, 4232, 3634, 3607, 3999, 4239, 4037, 3897, 3816, 3869, 3713, 3836, 4000, 4090, 4391, 4447, 4660, 4880, 4658, 4672, 4437, 4249, 4292, 3922, 3676, 3727, 3567, 3717, 3798, 3577, 3450, 3503, 3618, 3577, 3589, 3852, 4172, 4669, 5036, 5192, 5270, 5219, 5305, 5883, 5910, 6168, 6441, 6900, 7291, 7119, 6849, 6812, 7526, 8567, 8572, 8341, 8383, 9113, 10603, 10584, 10389, 9452, 9519, 9105, 8603, 7897, 7272, 6811, 6334, 5666, 5622, 5386, 5697, 5139, 4795, 4558, 4182, 3834, 3496, 3044</td></tr>\n",
              "</tbody>\n",
              "</table>\n"
            ],
            "text/markdown": "\nA grouped_df: 2 × 3\n\n| name &lt;chr&gt; | sex &lt;chr&gt; | nb_births_by_year &lt;list&gt; |\n|---|---|---|\n| Mary | F | 1880, 1881, 1882, 1883, 1884, 1885, 1886, 1887, 1888, 1889, 1890, 1891, 1892, 1893, 1894, 1895, 1896, 1897, 1898, 1899, 1900, 1901, 1902, 1903, 1904, 1905, 1906, 1907, 1908, 1909, 1910, 1911, 1912, 1913, 1914, 1915, 1916, 1917, 1918, 1919, 1920, 1921, 1922, 1923, 1924, 1925, 1926, 1927, 1928, 1929, 1930, 1931, 1932, 1933, 1934, 1935, 1936, 1937, 1938, 1939, 1940, 1941, 1942, 1943, 1944, 1945, 1946, 1947, 1948, 1949, 1950, 1951, 1952, 1953, 1954, 1955, 1956, 1957, 1958, 1959, 1960, 1961, 1962, 1963, 1964, 1965, 1966, 1967, 1968, 1969, 1970, 1971, 1972, 1973, 1974, 1975, 1976, 1977, 1978, 1979, 1980, 1981, 1982, 1983, 1984, 1985, 1986, 1987, 1988, 1989, 1990, 1991, 1992, 1993, 1994, 1995, 1996, 1997, 1998, 1999, 2000, 2001, 2002, 2003, 2004, 2005, 2006, 2007, 2008, 2009, 2010, 2011, 2012, 2013, 2014, 2015, 2016, 2017, 2018, 2019, 2020, 2021, 7065, 6919, 8148, 8012, 9217, 9128, 9889, 9888, 11754, 11648, 12078, 11703, 13172, 12784, 13151, 13447, 13811, 13413, 14406, 13172, 16705, 13136, 14486, 14275, 14961, 16067, 16370, 17580, 18665, 19259, 22848, 24390, 32304, 36642, 45345, 58187, 61438, 64280, 67366, 65837, 70982, 73985, 72177, 71635, 73535, 70587, 67835, 70639, 66873, 63512, 64151, 60295, 59883, 55517, 56934, 55071, 54373, 55643, 56214, 54905, 56212, 58043, 63254, 66178, 62469, 59282, 67471, 71684, 68601, 66868, 65479, 65724, 65624, 64389, 68018, 63175, 61747, 61104, 55852, 54485, 51476, 47682, 43489, 41551, 40984, 34271, 28887, 25316, 21719, 19855, 19202, 16700, 13758, 12312, 11742, 10967, 10319, 10656, 10043, 10563, 11474, 11045, 10854, 9896, 9292, 9242, 8508, 8395, 8511, 8645, 8669, 8761, 8461, 8122, 7752, 7457, 6964, 6649, 6468, 6386, 6212, 5747, 5472, 5026, 4819, 4467, 4097, 3688, 3501, 3167, 2876, 2710, 2581, 2661, 2635, 2635, 2522, 2416, 2355, 2226, 2210, 2080 |\n| Anna | F | 1880, 1881, 1882, 1883, 1884, 1885, 1886, 1887, 1888, 1889, 1890, 1891, 1892, 1893, 1894, 1895, 1896, 1897, 1898, 1899, 1900, 1901, 1902, 1903, 1904, 1905, 1906, 1907, 1908, 1909, 1910, 1911, 1912, 1913, 1914, 1915, 1916, 1917, 1918, 1919, 1920, 1921, 1922, 1923, 1924, 1925, 1926, 1927, 1928, 1929, 1930, 1931, 1932, 1933, 1934, 1935, 1936, 1937, 1938, 1939, 1940, 1941, 1942, 1943, 1944, 1945, 1946, 1947, 1948, 1949, 1950, 1951, 1952, 1953, 1954, 1955, 1956, 1957, 1958, 1959, 1960, 1961, 1962, 1963, 1964, 1965, 1966, 1967, 1968, 1969, 1970, 1971, 1972, 1973, 1974, 1975, 1976, 1977, 1978, 1979, 1980, 1981, 1982, 1983, 1984, 1985, 1986, 1987, 1988, 1989, 1990, 1991, 1992, 1993, 1994, 1995, 1996, 1997, 1998, 1999, 2000, 2001, 2002, 2003, 2004, 2005, 2006, 2007, 2008, 2009, 2010, 2011, 2012, 2013, 2014, 2015, 2016, 2017, 2018, 2019, 2020, 2021, 2604, 2698, 3143, 3306, 3860, 3994, 4283, 4227, 4982, 5062, 5233, 5099, 5542, 5695, 5565, 5950, 5860, 5429, 5773, 5115, 6114, 4923, 5288, 5098, 5330, 5424, 5502, 5575, 5860, 5804, 6436, 6753, 8586, 9687, 11865, 15119, 15228, 15160, 15666, 14498, 14581, 14477, 13408, 12865, 13076, 12251, 11697, 11216, 10575, 9750, 9080, 8429, 7924, 7072, 6681, 6162, 5724, 5449, 5143, 4929, 4718, 4432, 4487, 4232, 3634, 3607, 3999, 4239, 4037, 3897, 3816, 3869, 3713, 3836, 4000, 4090, 4391, 4447, 4660, 4880, 4658, 4672, 4437, 4249, 4292, 3922, 3676, 3727, 3567, 3717, 3798, 3577, 3450, 3503, 3618, 3577, 3589, 3852, 4172, 4669, 5036, 5192, 5270, 5219, 5305, 5883, 5910, 6168, 6441, 6900, 7291, 7119, 6849, 6812, 7526, 8567, 8572, 8341, 8383, 9113, 10603, 10584, 10389, 9452, 9519, 9105, 8603, 7897, 7272, 6811, 6334, 5666, 5622, 5386, 5697, 5139, 4795, 4558, 4182, 3834, 3496, 3044 |\n\n",
            "text/latex": "A grouped\\_df: 2 × 3\n\\begin{tabular}{lll}\n name & sex & nb\\_births\\_by\\_year\\\\\n <chr> & <chr> & <list>\\\\\n\\hline\n\t Mary & F & 1880, 1881, 1882, 1883, 1884, 1885, 1886, 1887, 1888, 1889, 1890, 1891, 1892, 1893, 1894, 1895, 1896, 1897, 1898, 1899, 1900, 1901, 1902, 1903, 1904, 1905, 1906, 1907, 1908, 1909, 1910, 1911, 1912, 1913, 1914, 1915, 1916, 1917, 1918, 1919, 1920, 1921, 1922, 1923, 1924, 1925, 1926, 1927, 1928, 1929, 1930, 1931, 1932, 1933, 1934, 1935, 1936, 1937, 1938, 1939, 1940, 1941, 1942, 1943, 1944, 1945, 1946, 1947, 1948, 1949, 1950, 1951, 1952, 1953, 1954, 1955, 1956, 1957, 1958, 1959, 1960, 1961, 1962, 1963, 1964, 1965, 1966, 1967, 1968, 1969, 1970, 1971, 1972, 1973, 1974, 1975, 1976, 1977, 1978, 1979, 1980, 1981, 1982, 1983, 1984, 1985, 1986, 1987, 1988, 1989, 1990, 1991, 1992, 1993, 1994, 1995, 1996, 1997, 1998, 1999, 2000, 2001, 2002, 2003, 2004, 2005, 2006, 2007, 2008, 2009, 2010, 2011, 2012, 2013, 2014, 2015, 2016, 2017, 2018, 2019, 2020, 2021, 7065, 6919, 8148, 8012, 9217, 9128, 9889, 9888, 11754, 11648, 12078, 11703, 13172, 12784, 13151, 13447, 13811, 13413, 14406, 13172, 16705, 13136, 14486, 14275, 14961, 16067, 16370, 17580, 18665, 19259, 22848, 24390, 32304, 36642, 45345, 58187, 61438, 64280, 67366, 65837, 70982, 73985, 72177, 71635, 73535, 70587, 67835, 70639, 66873, 63512, 64151, 60295, 59883, 55517, 56934, 55071, 54373, 55643, 56214, 54905, 56212, 58043, 63254, 66178, 62469, 59282, 67471, 71684, 68601, 66868, 65479, 65724, 65624, 64389, 68018, 63175, 61747, 61104, 55852, 54485, 51476, 47682, 43489, 41551, 40984, 34271, 28887, 25316, 21719, 19855, 19202, 16700, 13758, 12312, 11742, 10967, 10319, 10656, 10043, 10563, 11474, 11045, 10854, 9896, 9292, 9242, 8508, 8395, 8511, 8645, 8669, 8761, 8461, 8122, 7752, 7457, 6964, 6649, 6468, 6386, 6212, 5747, 5472, 5026, 4819, 4467, 4097, 3688, 3501, 3167, 2876, 2710, 2581, 2661, 2635, 2635, 2522, 2416, 2355, 2226, 2210, 2080\\\\\n\t Anna & F & 1880, 1881, 1882, 1883, 1884, 1885, 1886, 1887, 1888, 1889, 1890, 1891, 1892, 1893, 1894, 1895, 1896, 1897, 1898, 1899, 1900, 1901, 1902, 1903, 1904, 1905, 1906, 1907, 1908, 1909, 1910, 1911, 1912, 1913, 1914, 1915, 1916, 1917, 1918, 1919, 1920, 1921, 1922, 1923, 1924, 1925, 1926, 1927, 1928, 1929, 1930, 1931, 1932, 1933, 1934, 1935, 1936, 1937, 1938, 1939, 1940, 1941, 1942, 1943, 1944, 1945, 1946, 1947, 1948, 1949, 1950, 1951, 1952, 1953, 1954, 1955, 1956, 1957, 1958, 1959, 1960, 1961, 1962, 1963, 1964, 1965, 1966, 1967, 1968, 1969, 1970, 1971, 1972, 1973, 1974, 1975, 1976, 1977, 1978, 1979, 1980, 1981, 1982, 1983, 1984, 1985, 1986, 1987, 1988, 1989, 1990, 1991, 1992, 1993, 1994, 1995, 1996, 1997, 1998, 1999, 2000, 2001, 2002, 2003, 2004, 2005, 2006, 2007, 2008, 2009, 2010, 2011, 2012, 2013, 2014, 2015, 2016, 2017, 2018, 2019, 2020, 2021, 2604, 2698, 3143, 3306, 3860, 3994, 4283, 4227, 4982, 5062, 5233, 5099, 5542, 5695, 5565, 5950, 5860, 5429, 5773, 5115, 6114, 4923, 5288, 5098, 5330, 5424, 5502, 5575, 5860, 5804, 6436, 6753, 8586, 9687, 11865, 15119, 15228, 15160, 15666, 14498, 14581, 14477, 13408, 12865, 13076, 12251, 11697, 11216, 10575, 9750, 9080, 8429, 7924, 7072, 6681, 6162, 5724, 5449, 5143, 4929, 4718, 4432, 4487, 4232, 3634, 3607, 3999, 4239, 4037, 3897, 3816, 3869, 3713, 3836, 4000, 4090, 4391, 4447, 4660, 4880, 4658, 4672, 4437, 4249, 4292, 3922, 3676, 3727, 3567, 3717, 3798, 3577, 3450, 3503, 3618, 3577, 3589, 3852, 4172, 4669, 5036, 5192, 5270, 5219, 5305, 5883, 5910, 6168, 6441, 6900, 7291, 7119, 6849, 6812, 7526, 8567, 8572, 8341, 8383, 9113, 10603, 10584, 10389, 9452, 9519, 9105, 8603, 7897, 7272, 6811, 6334, 5666, 5622, 5386, 5697, 5139, 4795, 4558, 4182, 3834, 3496, 3044\\\\\n\\end{tabular}\n",
            "text/plain": [
              "  name sex\n",
              "1 Mary F  \n",
              "2 Anna F  \n",
              "  nb_births_by_year                                                                                                                                                                                                                                                                                                                                                                                                                                                                                                                                                                                                                                                                                                                                                                                                                                                                                                                                                                                                                                                                                                                                                                                                                                                                                                                                                                                                                                                                                                                                                                                                                                                                                                                                                                                                                                                    \n",
              "1 1880, 1881, 1882, 1883, 1884, 1885, 1886, 1887, 1888, 1889, 1890, 1891, 1892, 1893, 1894, 1895, 1896, 1897, 1898, 1899, 1900, 1901, 1902, 1903, 1904, 1905, 1906, 1907, 1908, 1909, 1910, 1911, 1912, 1913, 1914, 1915, 1916, 1917, 1918, 1919, 1920, 1921, 1922, 1923, 1924, 1925, 1926, 1927, 1928, 1929, 1930, 1931, 1932, 1933, 1934, 1935, 1936, 1937, 1938, 1939, 1940, 1941, 1942, 1943, 1944, 1945, 1946, 1947, 1948, 1949, 1950, 1951, 1952, 1953, 1954, 1955, 1956, 1957, 1958, 1959, 1960, 1961, 1962, 1963, 1964, 1965, 1966, 1967, 1968, 1969, 1970, 1971, 1972, 1973, 1974, 1975, 1976, 1977, 1978, 1979, 1980, 1981, 1982, 1983, 1984, 1985, 1986, 1987, 1988, 1989, 1990, 1991, 1992, 1993, 1994, 1995, 1996, 1997, 1998, 1999, 2000, 2001, 2002, 2003, 2004, 2005, 2006, 2007, 2008, 2009, 2010, 2011, 2012, 2013, 2014, 2015, 2016, 2017, 2018, 2019, 2020, 2021, 7065, 6919, 8148, 8012, 9217, 9128, 9889, 9888, 11754, 11648, 12078, 11703, 13172, 12784, 13151, 13447, 13811, 13413, 14406, 13172, 16705, 13136, 14486, 14275, 14961, 16067, 16370, 17580, 18665, 19259, 22848, 24390, 32304, 36642, 45345, 58187, 61438, 64280, 67366, 65837, 70982, 73985, 72177, 71635, 73535, 70587, 67835, 70639, 66873, 63512, 64151, 60295, 59883, 55517, 56934, 55071, 54373, 55643, 56214, 54905, 56212, 58043, 63254, 66178, 62469, 59282, 67471, 71684, 68601, 66868, 65479, 65724, 65624, 64389, 68018, 63175, 61747, 61104, 55852, 54485, 51476, 47682, 43489, 41551, 40984, 34271, 28887, 25316, 21719, 19855, 19202, 16700, 13758, 12312, 11742, 10967, 10319, 10656, 10043, 10563, 11474, 11045, 10854, 9896, 9292, 9242, 8508, 8395, 8511, 8645, 8669, 8761, 8461, 8122, 7752, 7457, 6964, 6649, 6468, 6386, 6212, 5747, 5472, 5026, 4819, 4467, 4097, 3688, 3501, 3167, 2876, 2710, 2581, 2661, 2635, 2635, 2522, 2416, 2355, 2226, 2210, 2080\n",
              "2 1880, 1881, 1882, 1883, 1884, 1885, 1886, 1887, 1888, 1889, 1890, 1891, 1892, 1893, 1894, 1895, 1896, 1897, 1898, 1899, 1900, 1901, 1902, 1903, 1904, 1905, 1906, 1907, 1908, 1909, 1910, 1911, 1912, 1913, 1914, 1915, 1916, 1917, 1918, 1919, 1920, 1921, 1922, 1923, 1924, 1925, 1926, 1927, 1928, 1929, 1930, 1931, 1932, 1933, 1934, 1935, 1936, 1937, 1938, 1939, 1940, 1941, 1942, 1943, 1944, 1945, 1946, 1947, 1948, 1949, 1950, 1951, 1952, 1953, 1954, 1955, 1956, 1957, 1958, 1959, 1960, 1961, 1962, 1963, 1964, 1965, 1966, 1967, 1968, 1969, 1970, 1971, 1972, 1973, 1974, 1975, 1976, 1977, 1978, 1979, 1980, 1981, 1982, 1983, 1984, 1985, 1986, 1987, 1988, 1989, 1990, 1991, 1992, 1993, 1994, 1995, 1996, 1997, 1998, 1999, 2000, 2001, 2002, 2003, 2004, 2005, 2006, 2007, 2008, 2009, 2010, 2011, 2012, 2013, 2014, 2015, 2016, 2017, 2018, 2019, 2020, 2021, 2604, 2698, 3143, 3306, 3860, 3994, 4283, 4227, 4982, 5062, 5233, 5099, 5542, 5695, 5565, 5950, 5860, 5429, 5773, 5115, 6114, 4923, 5288, 5098, 5330, 5424, 5502, 5575, 5860, 5804, 6436, 6753, 8586, 9687, 11865, 15119, 15228, 15160, 15666, 14498, 14581, 14477, 13408, 12865, 13076, 12251, 11697, 11216, 10575, 9750, 9080, 8429, 7924, 7072, 6681, 6162, 5724, 5449, 5143, 4929, 4718, 4432, 4487, 4232, 3634, 3607, 3999, 4239, 4037, 3897, 3816, 3869, 3713, 3836, 4000, 4090, 4391, 4447, 4660, 4880, 4658, 4672, 4437, 4249, 4292, 3922, 3676, 3727, 3567, 3717, 3798, 3577, 3450, 3503, 3618, 3577, 3589, 3852, 4172, 4669, 5036, 5192, 5270, 5219, 5305, 5883, 5910, 6168, 6441, 6900, 7291, 7119, 6849, 6812, 7526, 8567, 8572, 8341, 8383, 9113, 10603, 10584, 10389, 9452, 9519, 9105, 8603, 7897, 7272, 6811, 6334, 5666, 5622, 5386, 5697, 5139, 4795, 4558, 4182, 3834, 3496, 3044                                                                             "
            ]
          },
          "metadata": {}
        }
      ],
      "source": [
        "# Nest the year and nb_births columns into a list-column named nb_births_by_year\n",
        "tbl_names_nested <- tbl_names |>\n",
        "  group_by(sex, name) |>\n",
        "  nest(nb_births_by_year = c(year, nb_births))\n",
        "\n",
        "head(tbl_names_nested, 2)"
      ]
    },
    {
      "cell_type": "markdown",
      "id": "1b343462",
      "metadata": {
        "id": "1b343462"
      },
      "source": [
        "The column `nb_births_by_year` is a list column, where each element of the list is a data frame with columns `nb_births` and `year`. We can print the first six rows of `nb_births_by_year` for the first row of this nested data frame."
      ]
    },
    {
      "cell_type": "code",
      "execution_count": null,
      "id": "4334e6f7",
      "metadata": {
        "colab": {
          "base_uri": "https://localhost:8080/",
          "height": 286
        },
        "id": "4334e6f7",
        "outputId": "ebc3a545-a7e2-464d-c7d8-0faa23006a04"
      },
      "outputs": [
        {
          "output_type": "display_data",
          "data": {
            "text/html": [
              "<table class=\"dataframe\">\n",
              "<caption>A tibble: 6 × 2</caption>\n",
              "<thead>\n",
              "\t<tr><th scope=col>year</th><th scope=col>nb_births</th></tr>\n",
              "\t<tr><th scope=col>&lt;dbl&gt;</th><th scope=col>&lt;dbl&gt;</th></tr>\n",
              "</thead>\n",
              "<tbody>\n",
              "\t<tr><td>1880</td><td>7065</td></tr>\n",
              "\t<tr><td>1881</td><td>6919</td></tr>\n",
              "\t<tr><td>1882</td><td>8148</td></tr>\n",
              "\t<tr><td>1883</td><td>8012</td></tr>\n",
              "\t<tr><td>1884</td><td>9217</td></tr>\n",
              "\t<tr><td>1885</td><td>9128</td></tr>\n",
              "</tbody>\n",
              "</table>\n"
            ],
            "text/markdown": "\nA tibble: 6 × 2\n\n| year &lt;dbl&gt; | nb_births &lt;dbl&gt; |\n|---|---|\n| 1880 | 7065 |\n| 1881 | 6919 |\n| 1882 | 8148 |\n| 1883 | 8012 |\n| 1884 | 9217 |\n| 1885 | 9128 |\n\n",
            "text/latex": "A tibble: 6 × 2\n\\begin{tabular}{ll}\n year & nb\\_births\\\\\n <dbl> & <dbl>\\\\\n\\hline\n\t 1880 & 7065\\\\\n\t 1881 & 6919\\\\\n\t 1882 & 8148\\\\\n\t 1883 & 8012\\\\\n\t 1884 & 9217\\\\\n\t 1885 & 9128\\\\\n\\end{tabular}\n",
            "text/plain": [
              "  year nb_births\n",
              "1 1880 7065     \n",
              "2 1881 6919     \n",
              "3 1882 8148     \n",
              "4 1883 8012     \n",
              "5 1884 9217     \n",
              "6 1885 9128     "
            ]
          },
          "metadata": {}
        }
      ],
      "source": [
        "head(tbl_names_nested$nb_births_by_year[[1]])"
      ]
    },
    {
      "cell_type": "markdown",
      "id": "babe3518",
      "metadata": {
        "id": "babe3518"
      },
      "source": [
        "#### `unnest()`: Unnest a list-column of data frames\n",
        "\n",
        "__Unnesting__, on the other hand, involves taking data that is nested in a column and spreading it out into separate columns. This can be useful when we want to perform analyses on individual components of our data that are currently grouped together."
      ]
    },
    {
      "cell_type": "code",
      "execution_count": null,
      "id": "0fa6ee7e",
      "metadata": {
        "name": "unnest",
        "colab": {
          "base_uri": "https://localhost:8080/",
          "height": 286
        },
        "id": "0fa6ee7e",
        "outputId": "66bb442f-460e-4188-bc72-bd8884045380"
      },
      "outputs": [
        {
          "output_type": "display_data",
          "data": {
            "text/html": [
              "<table class=\"dataframe\">\n",
              "<caption>A grouped_df: 6 × 4</caption>\n",
              "<thead>\n",
              "\t<tr><th scope=col>name</th><th scope=col>sex</th><th scope=col>year</th><th scope=col>nb_births</th></tr>\n",
              "\t<tr><th scope=col>&lt;chr&gt;</th><th scope=col>&lt;chr&gt;</th><th scope=col>&lt;dbl&gt;</th><th scope=col>&lt;dbl&gt;</th></tr>\n",
              "</thead>\n",
              "<tbody>\n",
              "\t<tr><td>Mary</td><td>F</td><td>1880</td><td>7065</td></tr>\n",
              "\t<tr><td>Mary</td><td>F</td><td>1881</td><td>6919</td></tr>\n",
              "\t<tr><td>Mary</td><td>F</td><td>1882</td><td>8148</td></tr>\n",
              "\t<tr><td>Mary</td><td>F</td><td>1883</td><td>8012</td></tr>\n",
              "\t<tr><td>Mary</td><td>F</td><td>1884</td><td>9217</td></tr>\n",
              "\t<tr><td>Mary</td><td>F</td><td>1885</td><td>9128</td></tr>\n",
              "</tbody>\n",
              "</table>\n"
            ],
            "text/markdown": "\nA grouped_df: 6 × 4\n\n| name &lt;chr&gt; | sex &lt;chr&gt; | year &lt;dbl&gt; | nb_births &lt;dbl&gt; |\n|---|---|---|---|\n| Mary | F | 1880 | 7065 |\n| Mary | F | 1881 | 6919 |\n| Mary | F | 1882 | 8148 |\n| Mary | F | 1883 | 8012 |\n| Mary | F | 1884 | 9217 |\n| Mary | F | 1885 | 9128 |\n\n",
            "text/latex": "A grouped\\_df: 6 × 4\n\\begin{tabular}{llll}\n name & sex & year & nb\\_births\\\\\n <chr> & <chr> & <dbl> & <dbl>\\\\\n\\hline\n\t Mary & F & 1880 & 7065\\\\\n\t Mary & F & 1881 & 6919\\\\\n\t Mary & F & 1882 & 8148\\\\\n\t Mary & F & 1883 & 8012\\\\\n\t Mary & F & 1884 & 9217\\\\\n\t Mary & F & 1885 & 9128\\\\\n\\end{tabular}\n",
            "text/plain": [
              "  name sex year nb_births\n",
              "1 Mary F   1880 7065     \n",
              "2 Mary F   1881 6919     \n",
              "3 Mary F   1882 8148     \n",
              "4 Mary F   1883 8012     \n",
              "5 Mary F   1884 9217     \n",
              "6 Mary F   1885 9128     "
            ]
          },
          "metadata": {}
        }
      ],
      "source": [
        "tbl_names_nested |>\n",
        "  unnest(nb_births_by_year) |>\n",
        "  head()"
      ]
    },
    {
      "cell_type": "markdown",
      "id": "35277bfd",
      "metadata": {
        "id": "35277bfd"
      },
      "source": [
        "#### `unnest_longer()`: Unnest a list-column into rows\n",
        "\n",
        "There are three other `unnesting` functions supported by the `tidyr` package. To illustrate their usage, let us take the `starwars` data and focus on the `name` and `films` columns."
      ]
    },
    {
      "cell_type": "code",
      "execution_count": null,
      "id": "7ef18e00",
      "metadata": {
        "lines_to_next_cell": 0,
        "name": "data-starwars",
        "colab": {
          "base_uri": "https://localhost:8080/",
          "height": 286
        },
        "id": "7ef18e00",
        "outputId": "f84f0169-9925-46d4-b3e8-3b4931bd58e0"
      },
      "outputs": [
        {
          "output_type": "display_data",
          "data": {
            "text/html": [
              "<table class=\"dataframe\">\n",
              "<caption>A tibble: 6 × 2</caption>\n",
              "<thead>\n",
              "\t<tr><th scope=col>name</th><th scope=col>films</th></tr>\n",
              "\t<tr><th scope=col>&lt;chr&gt;</th><th scope=col>&lt;list&gt;</th></tr>\n",
              "</thead>\n",
              "<tbody>\n",
              "\t<tr><td>Luke Skywalker</td><td>The Empire Strikes Back, Revenge of the Sith    , Return of the Jedi     , A New Hope             , The Force Awakens      </td></tr>\n",
              "\t<tr><td>C-3PO         </td><td>The Empire Strikes Back, Attack of the Clones   , The Phantom Menace     , Revenge of the Sith    , Return of the Jedi     , A New Hope             </td></tr>\n",
              "\t<tr><td>R2-D2         </td><td>The Empire Strikes Back, Attack of the Clones   , The Phantom Menace     , Revenge of the Sith    , Return of the Jedi     , A New Hope             , The Force Awakens      </td></tr>\n",
              "\t<tr><td>Darth Vader   </td><td>The Empire Strikes Back, Revenge of the Sith    , Return of the Jedi     , A New Hope             </td></tr>\n",
              "\t<tr><td>Leia Organa   </td><td>The Empire Strikes Back, Revenge of the Sith    , Return of the Jedi     , A New Hope             , The Force Awakens      </td></tr>\n",
              "\t<tr><td>Owen Lars     </td><td>Attack of the Clones, Revenge of the Sith , A New Hope          </td></tr>\n",
              "</tbody>\n",
              "</table>\n"
            ],
            "text/markdown": "\nA tibble: 6 × 2\n\n| name &lt;chr&gt; | films &lt;list&gt; |\n|---|---|\n| Luke Skywalker | The Empire Strikes Back, Revenge of the Sith    , Return of the Jedi     , A New Hope             , The Force Awakens       |\n| C-3PO          | The Empire Strikes Back, Attack of the Clones   , The Phantom Menace     , Revenge of the Sith    , Return of the Jedi     , A New Hope              |\n| R2-D2          | The Empire Strikes Back, Attack of the Clones   , The Phantom Menace     , Revenge of the Sith    , Return of the Jedi     , A New Hope             , The Force Awakens       |\n| Darth Vader    | The Empire Strikes Back, Revenge of the Sith    , Return of the Jedi     , A New Hope              |\n| Leia Organa    | The Empire Strikes Back, Revenge of the Sith    , Return of the Jedi     , A New Hope             , The Force Awakens       |\n| Owen Lars      | Attack of the Clones, Revenge of the Sith , A New Hope           |\n\n",
            "text/latex": "A tibble: 6 × 2\n\\begin{tabular}{ll}\n name & films\\\\\n <chr> & <list>\\\\\n\\hline\n\t Luke Skywalker & The Empire Strikes Back, Revenge of the Sith    , Return of the Jedi     , A New Hope             , The Force Awakens      \\\\\n\t C-3PO          & The Empire Strikes Back, Attack of the Clones   , The Phantom Menace     , Revenge of the Sith    , Return of the Jedi     , A New Hope             \\\\\n\t R2-D2          & The Empire Strikes Back, Attack of the Clones   , The Phantom Menace     , Revenge of the Sith    , Return of the Jedi     , A New Hope             , The Force Awakens      \\\\\n\t Darth Vader    & The Empire Strikes Back, Revenge of the Sith    , Return of the Jedi     , A New Hope             \\\\\n\t Leia Organa    & The Empire Strikes Back, Revenge of the Sith    , Return of the Jedi     , A New Hope             , The Force Awakens      \\\\\n\t Owen Lars      & Attack of the Clones, Revenge of the Sith , A New Hope          \\\\\n\\end{tabular}\n",
            "text/plain": [
              "  name          \n",
              "1 Luke Skywalker\n",
              "2 C-3PO         \n",
              "3 R2-D2         \n",
              "4 Darth Vader   \n",
              "5 Leia Organa   \n",
              "6 Owen Lars     \n",
              "  films                                                                                                                                                                        \n",
              "1 The Empire Strikes Back, Revenge of the Sith    , Return of the Jedi     , A New Hope             , The Force Awakens                                                        \n",
              "2 The Empire Strikes Back, Attack of the Clones   , The Phantom Menace     , Revenge of the Sith    , Return of the Jedi     , A New Hope                                      \n",
              "3 The Empire Strikes Back, Attack of the Clones   , The Phantom Menace     , Revenge of the Sith    , Return of the Jedi     , A New Hope             , The Force Awakens      \n",
              "4 The Empire Strikes Back, Revenge of the Sith    , Return of the Jedi     , A New Hope                                                                                        \n",
              "5 The Empire Strikes Back, Revenge of the Sith    , Return of the Jedi     , A New Hope             , The Force Awakens                                                        \n",
              "6 Attack of the Clones, Revenge of the Sith , A New Hope                                                                                                                       "
            ]
          },
          "metadata": {}
        }
      ],
      "source": [
        "starwars_name_films <- starwars |>\n",
        "  select(name, films)\n",
        "\n",
        "head(starwars_name_films)"
      ]
    },
    {
      "cell_type": "markdown",
      "id": "d6bd842b",
      "metadata": {
        "id": "d6bd842b"
      },
      "source": [
        "Note how the `films` column is a list of vectors, where each item is a vector of films that included the character."
      ]
    },
    {
      "cell_type": "code",
      "execution_count": null,
      "id": "cce47dd9",
      "metadata": {
        "colab": {
          "base_uri": "https://localhost:8080/",
          "height": 34
        },
        "id": "cce47dd9",
        "outputId": "d1e14a44-2093-4617-c6e9-5c1406624ef7"
      },
      "outputs": [
        {
          "output_type": "display_data",
          "data": {
            "text/html": [
              "<style>\n",
              ".list-inline {list-style: none; margin:0; padding: 0}\n",
              ".list-inline>li {display: inline-block}\n",
              ".list-inline>li:not(:last-child)::after {content: \"\\00b7\"; padding: 0 .5ex}\n",
              "</style>\n",
              "<ol class=list-inline><li>'The Empire Strikes Back'</li><li>'Revenge of the Sith'</li><li>'Return of the Jedi'</li><li>'A New Hope'</li><li>'The Force Awakens'</li></ol>\n"
            ],
            "text/markdown": "1. 'The Empire Strikes Back'\n2. 'Revenge of the Sith'\n3. 'Return of the Jedi'\n4. 'A New Hope'\n5. 'The Force Awakens'\n\n\n",
            "text/latex": "\\begin{enumerate*}\n\\item 'The Empire Strikes Back'\n\\item 'Revenge of the Sith'\n\\item 'Return of the Jedi'\n\\item 'A New Hope'\n\\item 'The Force Awakens'\n\\end{enumerate*}\n",
            "text/plain": [
              "[1] \"The Empire Strikes Back\" \"Revenge of the Sith\"    \n",
              "[3] \"Return of the Jedi\"      \"A New Hope\"             \n",
              "[5] \"The Force Awakens\"      "
            ]
          },
          "metadata": {}
        }
      ],
      "source": [
        "starwars_name_films$films[[1]]"
      ]
    },
    {
      "cell_type": "markdown",
      "id": "fe9ffd23",
      "metadata": {
        "id": "fe9ffd23"
      },
      "source": [
        "We can use `unnest_longer()` to unnest this column along the length of the data frame such that every film gets its own row."
      ]
    },
    {
      "cell_type": "code",
      "execution_count": null,
      "id": "31172d60",
      "metadata": {
        "lines_to_next_cell": 0,
        "name": "unnest-longer",
        "colab": {
          "base_uri": "https://localhost:8080/",
          "height": 286
        },
        "id": "31172d60",
        "outputId": "921ae721-292e-47c8-fff2-05e7a533c309"
      },
      "outputs": [
        {
          "output_type": "display_data",
          "data": {
            "text/html": [
              "<table class=\"dataframe\">\n",
              "<caption>A tibble: 6 × 2</caption>\n",
              "<thead>\n",
              "\t<tr><th scope=col>name</th><th scope=col>films</th></tr>\n",
              "\t<tr><th scope=col>&lt;chr&gt;</th><th scope=col>&lt;chr&gt;</th></tr>\n",
              "</thead>\n",
              "<tbody>\n",
              "\t<tr><td>Luke Skywalker</td><td>The Empire Strikes Back</td></tr>\n",
              "\t<tr><td>Luke Skywalker</td><td>Revenge of the Sith    </td></tr>\n",
              "\t<tr><td>Luke Skywalker</td><td>Return of the Jedi     </td></tr>\n",
              "\t<tr><td>Luke Skywalker</td><td>A New Hope             </td></tr>\n",
              "\t<tr><td>Luke Skywalker</td><td>The Force Awakens      </td></tr>\n",
              "\t<tr><td>C-3PO         </td><td>The Empire Strikes Back</td></tr>\n",
              "</tbody>\n",
              "</table>\n"
            ],
            "text/markdown": "\nA tibble: 6 × 2\n\n| name &lt;chr&gt; | films &lt;chr&gt; |\n|---|---|\n| Luke Skywalker | The Empire Strikes Back |\n| Luke Skywalker | Revenge of the Sith     |\n| Luke Skywalker | Return of the Jedi      |\n| Luke Skywalker | A New Hope              |\n| Luke Skywalker | The Force Awakens       |\n| C-3PO          | The Empire Strikes Back |\n\n",
            "text/latex": "A tibble: 6 × 2\n\\begin{tabular}{ll}\n name & films\\\\\n <chr> & <chr>\\\\\n\\hline\n\t Luke Skywalker & The Empire Strikes Back\\\\\n\t Luke Skywalker & Revenge of the Sith    \\\\\n\t Luke Skywalker & Return of the Jedi     \\\\\n\t Luke Skywalker & A New Hope             \\\\\n\t Luke Skywalker & The Force Awakens      \\\\\n\t C-3PO          & The Empire Strikes Back\\\\\n\\end{tabular}\n",
            "text/plain": [
              "  name           films                  \n",
              "1 Luke Skywalker The Empire Strikes Back\n",
              "2 Luke Skywalker Revenge of the Sith    \n",
              "3 Luke Skywalker Return of the Jedi     \n",
              "4 Luke Skywalker A New Hope             \n",
              "5 Luke Skywalker The Force Awakens      \n",
              "6 C-3PO          The Empire Strikes Back"
            ]
          },
          "metadata": {}
        }
      ],
      "source": [
        "starwars |>\n",
        "  select(name, films) |>\n",
        "  unnest_longer(films) |>\n",
        "  head()"
      ]
    },
    {
      "cell_type": "markdown",
      "id": "941ca7a0",
      "metadata": {
        "id": "941ca7a0"
      },
      "source": [
        "#### `unnest_wider()`: Unnest a list-column into columns\n",
        "\n",
        "Alternately, we could also unnest it wider so that each `name` still has only one `row`, but each film gets its own column."
      ]
    },
    {
      "cell_type": "code",
      "execution_count": null,
      "id": "06a56488",
      "metadata": {
        "name": "unnest-wider",
        "colab": {
          "base_uri": "https://localhost:8080/",
          "height": 286
        },
        "id": "06a56488",
        "outputId": "f43c3312-c264-4b9a-dfc2-c8cfacf9de11"
      },
      "outputs": [
        {
          "output_type": "display_data",
          "data": {
            "text/html": [
              "<table class=\"dataframe\">\n",
              "<caption>A tibble: 6 × 8</caption>\n",
              "<thead>\n",
              "\t<tr><th scope=col>name</th><th scope=col>films_1</th><th scope=col>films_2</th><th scope=col>films_3</th><th scope=col>films_4</th><th scope=col>films_5</th><th scope=col>films_6</th><th scope=col>films_7</th></tr>\n",
              "\t<tr><th scope=col>&lt;chr&gt;</th><th scope=col>&lt;chr&gt;</th><th scope=col>&lt;chr&gt;</th><th scope=col>&lt;chr&gt;</th><th scope=col>&lt;chr&gt;</th><th scope=col>&lt;chr&gt;</th><th scope=col>&lt;chr&gt;</th><th scope=col>&lt;chr&gt;</th></tr>\n",
              "</thead>\n",
              "<tbody>\n",
              "\t<tr><td>Luke Skywalker</td><td>The Empire Strikes Back</td><td>Revenge of the Sith </td><td>Return of the Jedi</td><td>A New Hope         </td><td>The Force Awakens </td><td>NA        </td><td>NA               </td></tr>\n",
              "\t<tr><td>C-3PO         </td><td>The Empire Strikes Back</td><td>Attack of the Clones</td><td>The Phantom Menace</td><td>Revenge of the Sith</td><td>Return of the Jedi</td><td>A New Hope</td><td>NA               </td></tr>\n",
              "\t<tr><td>R2-D2         </td><td>The Empire Strikes Back</td><td>Attack of the Clones</td><td>The Phantom Menace</td><td>Revenge of the Sith</td><td>Return of the Jedi</td><td>A New Hope</td><td>The Force Awakens</td></tr>\n",
              "\t<tr><td>Darth Vader   </td><td>The Empire Strikes Back</td><td>Revenge of the Sith </td><td>Return of the Jedi</td><td>A New Hope         </td><td>NA                </td><td>NA        </td><td>NA               </td></tr>\n",
              "\t<tr><td>Leia Organa   </td><td>The Empire Strikes Back</td><td>Revenge of the Sith </td><td>Return of the Jedi</td><td>A New Hope         </td><td>The Force Awakens </td><td>NA        </td><td>NA               </td></tr>\n",
              "\t<tr><td>Owen Lars     </td><td>Attack of the Clones   </td><td>Revenge of the Sith </td><td>A New Hope        </td><td>NA                 </td><td>NA                </td><td>NA        </td><td>NA               </td></tr>\n",
              "</tbody>\n",
              "</table>\n"
            ],
            "text/markdown": "\nA tibble: 6 × 8\n\n| name &lt;chr&gt; | films_1 &lt;chr&gt; | films_2 &lt;chr&gt; | films_3 &lt;chr&gt; | films_4 &lt;chr&gt; | films_5 &lt;chr&gt; | films_6 &lt;chr&gt; | films_7 &lt;chr&gt; |\n|---|---|---|---|---|---|---|---|\n| Luke Skywalker | The Empire Strikes Back | Revenge of the Sith  | Return of the Jedi | A New Hope          | The Force Awakens  | NA         | NA                |\n| C-3PO          | The Empire Strikes Back | Attack of the Clones | The Phantom Menace | Revenge of the Sith | Return of the Jedi | A New Hope | NA                |\n| R2-D2          | The Empire Strikes Back | Attack of the Clones | The Phantom Menace | Revenge of the Sith | Return of the Jedi | A New Hope | The Force Awakens |\n| Darth Vader    | The Empire Strikes Back | Revenge of the Sith  | Return of the Jedi | A New Hope          | NA                 | NA         | NA                |\n| Leia Organa    | The Empire Strikes Back | Revenge of the Sith  | Return of the Jedi | A New Hope          | The Force Awakens  | NA         | NA                |\n| Owen Lars      | Attack of the Clones    | Revenge of the Sith  | A New Hope         | NA                  | NA                 | NA         | NA                |\n\n",
            "text/latex": "A tibble: 6 × 8\n\\begin{tabular}{llllllll}\n name & films\\_1 & films\\_2 & films\\_3 & films\\_4 & films\\_5 & films\\_6 & films\\_7\\\\\n <chr> & <chr> & <chr> & <chr> & <chr> & <chr> & <chr> & <chr>\\\\\n\\hline\n\t Luke Skywalker & The Empire Strikes Back & Revenge of the Sith  & Return of the Jedi & A New Hope          & The Force Awakens  & NA         & NA               \\\\\n\t C-3PO          & The Empire Strikes Back & Attack of the Clones & The Phantom Menace & Revenge of the Sith & Return of the Jedi & A New Hope & NA               \\\\\n\t R2-D2          & The Empire Strikes Back & Attack of the Clones & The Phantom Menace & Revenge of the Sith & Return of the Jedi & A New Hope & The Force Awakens\\\\\n\t Darth Vader    & The Empire Strikes Back & Revenge of the Sith  & Return of the Jedi & A New Hope          & NA                 & NA         & NA               \\\\\n\t Leia Organa    & The Empire Strikes Back & Revenge of the Sith  & Return of the Jedi & A New Hope          & The Force Awakens  & NA         & NA               \\\\\n\t Owen Lars      & Attack of the Clones    & Revenge of the Sith  & A New Hope         & NA                  & NA                 & NA         & NA               \\\\\n\\end{tabular}\n",
            "text/plain": [
              "  name           films_1                 films_2             \n",
              "1 Luke Skywalker The Empire Strikes Back Revenge of the Sith \n",
              "2 C-3PO          The Empire Strikes Back Attack of the Clones\n",
              "3 R2-D2          The Empire Strikes Back Attack of the Clones\n",
              "4 Darth Vader    The Empire Strikes Back Revenge of the Sith \n",
              "5 Leia Organa    The Empire Strikes Back Revenge of the Sith \n",
              "6 Owen Lars      Attack of the Clones    Revenge of the Sith \n",
              "  films_3            films_4             films_5            films_6   \n",
              "1 Return of the Jedi A New Hope          The Force Awakens  NA        \n",
              "2 The Phantom Menace Revenge of the Sith Return of the Jedi A New Hope\n",
              "3 The Phantom Menace Revenge of the Sith Return of the Jedi A New Hope\n",
              "4 Return of the Jedi A New Hope          NA                 NA        \n",
              "5 Return of the Jedi A New Hope          The Force Awakens  NA        \n",
              "6 A New Hope         NA                  NA                 NA        \n",
              "  films_7          \n",
              "1 NA               \n",
              "2 NA               \n",
              "3 The Force Awakens\n",
              "4 NA               \n",
              "5 NA               \n",
              "6 NA               "
            ]
          },
          "metadata": {}
        }
      ],
      "source": [
        "starwars |>\n",
        "  select(name, films) |>\n",
        "  unnest_wider(films, names_sep = \"_\") |>\n",
        "  head()"
      ]
    },
    {
      "cell_type": "markdown",
      "id": "6a544cea",
      "metadata": {
        "id": "6a544cea"
      },
      "source": [
        "Note that the length of `films` for each `name` is not equal and so there are NAs in the data."
      ]
    },
    {
      "cell_type": "markdown",
      "id": "a1877f3b",
      "metadata": {
        "id": "a1877f3b"
      },
      "source": [
        "#### `unnest_auto()`: Unnest a list-column automatically\n",
        "\n",
        "Finally, we have the `unnest_auto()` function which automatically uses `unnest_longer()` or `unnest_wider()` based on which one is more appropriate. It displays a message on which function it chose and some reasoning behind it."
      ]
    },
    {
      "cell_type": "code",
      "execution_count": null,
      "id": "cb5a3338",
      "metadata": {
        "name": "unnest-auto",
        "colab": {
          "base_uri": "https://localhost:8080/",
          "height": 322
        },
        "id": "cb5a3338",
        "outputId": "fd8c3ddc-b92c-4f3f-ae1c-0521d1dd09fe"
      },
      "outputs": [
        {
          "output_type": "stream",
          "name": "stderr",
          "text": [
            "Using `unnest_longer(films, indices_include = FALSE)`; no element has names\n",
            "\n"
          ]
        },
        {
          "output_type": "display_data",
          "data": {
            "text/html": [
              "<table class=\"dataframe\">\n",
              "<caption>A tibble: 6 × 2</caption>\n",
              "<thead>\n",
              "\t<tr><th scope=col>name</th><th scope=col>films</th></tr>\n",
              "\t<tr><th scope=col>&lt;chr&gt;</th><th scope=col>&lt;chr&gt;</th></tr>\n",
              "</thead>\n",
              "<tbody>\n",
              "\t<tr><td>Luke Skywalker</td><td>The Empire Strikes Back</td></tr>\n",
              "\t<tr><td>Luke Skywalker</td><td>Revenge of the Sith    </td></tr>\n",
              "\t<tr><td>Luke Skywalker</td><td>Return of the Jedi     </td></tr>\n",
              "\t<tr><td>Luke Skywalker</td><td>A New Hope             </td></tr>\n",
              "\t<tr><td>Luke Skywalker</td><td>The Force Awakens      </td></tr>\n",
              "\t<tr><td>C-3PO         </td><td>The Empire Strikes Back</td></tr>\n",
              "</tbody>\n",
              "</table>\n"
            ],
            "text/markdown": "\nA tibble: 6 × 2\n\n| name &lt;chr&gt; | films &lt;chr&gt; |\n|---|---|\n| Luke Skywalker | The Empire Strikes Back |\n| Luke Skywalker | Revenge of the Sith     |\n| Luke Skywalker | Return of the Jedi      |\n| Luke Skywalker | A New Hope              |\n| Luke Skywalker | The Force Awakens       |\n| C-3PO          | The Empire Strikes Back |\n\n",
            "text/latex": "A tibble: 6 × 2\n\\begin{tabular}{ll}\n name & films\\\\\n <chr> & <chr>\\\\\n\\hline\n\t Luke Skywalker & The Empire Strikes Back\\\\\n\t Luke Skywalker & Revenge of the Sith    \\\\\n\t Luke Skywalker & Return of the Jedi     \\\\\n\t Luke Skywalker & A New Hope             \\\\\n\t Luke Skywalker & The Force Awakens      \\\\\n\t C-3PO          & The Empire Strikes Back\\\\\n\\end{tabular}\n",
            "text/plain": [
              "  name           films                  \n",
              "1 Luke Skywalker The Empire Strikes Back\n",
              "2 Luke Skywalker Revenge of the Sith    \n",
              "3 Luke Skywalker Return of the Jedi     \n",
              "4 Luke Skywalker A New Hope             \n",
              "5 Luke Skywalker The Force Awakens      \n",
              "6 C-3PO          The Empire Strikes Back"
            ]
          },
          "metadata": {}
        }
      ],
      "source": [
        "starwars |>\n",
        "  select(name, films) |>\n",
        "  unnest_auto(films) |>\n",
        "  head()"
      ]
    },
    {
      "cell_type": "markdown",
      "id": "b2a3f84f",
      "metadata": {
        "id": "b2a3f84f"
      },
      "source": [
        "### Expand"
      ]
    },
    {
      "cell_type": "markdown",
      "id": "62999b52",
      "metadata": {
        "id": "62999b52"
      },
      "source": [
        "#### `expand()`: Expand to include all combinations of values\n",
        "\n",
        "The `expand()` function can be used to generate all combinations of variables in a data frame. For example, take this data frame of fruits."
      ]
    },
    {
      "cell_type": "code",
      "execution_count": null,
      "id": "0551a6a8",
      "metadata": {
        "colab": {
          "base_uri": "https://localhost:8080/",
          "height": 286
        },
        "id": "0551a6a8",
        "outputId": "5989be9d-a79b-4b22-d384-6ec817f0cd8e"
      },
      "outputs": [
        {
          "output_type": "display_data",
          "data": {
            "text/html": [
              "<table class=\"dataframe\">\n",
              "<caption>A tibble: 6 × 4</caption>\n",
              "<thead>\n",
              "\t<tr><th scope=col>type</th><th scope=col>year</th><th scope=col>size</th><th scope=col>weights</th></tr>\n",
              "\t<tr><th scope=col>&lt;chr&gt;</th><th scope=col>&lt;dbl&gt;</th><th scope=col>&lt;fct&gt;</th><th scope=col>&lt;dbl&gt;</th></tr>\n",
              "</thead>\n",
              "<tbody>\n",
              "\t<tr><td>apple </td><td>2010</td><td>XS</td><td>2.178094</td></tr>\n",
              "\t<tr><td>orange</td><td>2010</td><td>S </td><td>2.986670</td></tr>\n",
              "\t<tr><td>apple </td><td>2012</td><td>M </td><td>5.570606</td></tr>\n",
              "\t<tr><td>orange</td><td>2010</td><td>S </td><td>3.996734</td></tr>\n",
              "\t<tr><td>orange</td><td>2011</td><td>S </td><td>4.091600</td></tr>\n",
              "\t<tr><td>orange</td><td>2012</td><td>M </td><td>5.376069</td></tr>\n",
              "</tbody>\n",
              "</table>\n"
            ],
            "text/markdown": "\nA tibble: 6 × 4\n\n| type &lt;chr&gt; | year &lt;dbl&gt; | size &lt;fct&gt; | weights &lt;dbl&gt; |\n|---|---|---|---|\n| apple  | 2010 | XS | 2.178094 |\n| orange | 2010 | S  | 2.986670 |\n| apple  | 2012 | M  | 5.570606 |\n| orange | 2010 | S  | 3.996734 |\n| orange | 2011 | S  | 4.091600 |\n| orange | 2012 | M  | 5.376069 |\n\n",
            "text/latex": "A tibble: 6 × 4\n\\begin{tabular}{llll}\n type & year & size & weights\\\\\n <chr> & <dbl> & <fct> & <dbl>\\\\\n\\hline\n\t apple  & 2010 & XS & 2.178094\\\\\n\t orange & 2010 & S  & 2.986670\\\\\n\t apple  & 2012 & M  & 5.570606\\\\\n\t orange & 2010 & S  & 3.996734\\\\\n\t orange & 2011 & S  & 4.091600\\\\\n\t orange & 2012 & M  & 5.376069\\\\\n\\end{tabular}\n",
            "text/plain": [
              "  type   year size weights \n",
              "1 apple  2010 XS   2.178094\n",
              "2 orange 2010 S    2.986670\n",
              "3 apple  2012 M    5.570606\n",
              "4 orange 2010 S    3.996734\n",
              "5 orange 2011 S    4.091600\n",
              "6 orange 2012 M    5.376069"
            ]
          },
          "metadata": {}
        }
      ],
      "source": [
        "fruits <- tibble(\n",
        "  type = c(\"apple\", \"orange\", \"apple\", \"orange\", \"orange\", \"orange\"),\n",
        "  year = c(2010, 2010, 2012, 2010, 2011, 2012),\n",
        "  size = factor(\n",
        "    c(\"XS\", \"S\", \"M\", \"S\", \"S\", \"M\"),\n",
        "    levels = c(\"XS\", \"S\", \"M\", \"L\")\n",
        "  ),\n",
        "  weights = rnorm(6, as.numeric(size) + 2)\n",
        ")\n",
        "fruits"
      ]
    },
    {
      "cell_type": "markdown",
      "id": "e1afa993",
      "metadata": {
        "id": "e1afa993"
      },
      "source": [
        "We can use `expand()` to generate all combinations of `type` and `size`."
      ]
    },
    {
      "cell_type": "code",
      "execution_count": null,
      "id": "c6a70213",
      "metadata": {
        "lines_to_next_cell": 0,
        "name": "expand-data",
        "colab": {
          "base_uri": "https://localhost:8080/",
          "height": 349
        },
        "id": "c6a70213",
        "outputId": "a1a54d2b-3d72-4ac2-f1fe-0d1fff3cdeba"
      },
      "outputs": [
        {
          "output_type": "display_data",
          "data": {
            "text/html": [
              "<table class=\"dataframe\">\n",
              "<caption>A tibble: 8 × 2</caption>\n",
              "<thead>\n",
              "\t<tr><th scope=col>type</th><th scope=col>size</th></tr>\n",
              "\t<tr><th scope=col>&lt;chr&gt;</th><th scope=col>&lt;fct&gt;</th></tr>\n",
              "</thead>\n",
              "<tbody>\n",
              "\t<tr><td>apple </td><td>XS</td></tr>\n",
              "\t<tr><td>apple </td><td>S </td></tr>\n",
              "\t<tr><td>apple </td><td>M </td></tr>\n",
              "\t<tr><td>apple </td><td>L </td></tr>\n",
              "\t<tr><td>orange</td><td>XS</td></tr>\n",
              "\t<tr><td>orange</td><td>S </td></tr>\n",
              "\t<tr><td>orange</td><td>M </td></tr>\n",
              "\t<tr><td>orange</td><td>L </td></tr>\n",
              "</tbody>\n",
              "</table>\n"
            ],
            "text/markdown": "\nA tibble: 8 × 2\n\n| type &lt;chr&gt; | size &lt;fct&gt; |\n|---|---|\n| apple  | XS |\n| apple  | S  |\n| apple  | M  |\n| apple  | L  |\n| orange | XS |\n| orange | S  |\n| orange | M  |\n| orange | L  |\n\n",
            "text/latex": "A tibble: 8 × 2\n\\begin{tabular}{ll}\n type & size\\\\\n <chr> & <fct>\\\\\n\\hline\n\t apple  & XS\\\\\n\t apple  & S \\\\\n\t apple  & M \\\\\n\t apple  & L \\\\\n\t orange & XS\\\\\n\t orange & S \\\\\n\t orange & M \\\\\n\t orange & L \\\\\n\\end{tabular}\n",
            "text/plain": [
              "  type   size\n",
              "1 apple  XS  \n",
              "2 apple  S   \n",
              "3 apple  M   \n",
              "4 apple  L   \n",
              "5 orange XS  \n",
              "6 orange S   \n",
              "7 orange M   \n",
              "8 orange L   "
            ]
          },
          "metadata": {}
        }
      ],
      "source": [
        "fruits |>\n",
        "  expand(type, size)"
      ]
    },
    {
      "cell_type": "markdown",
      "id": "a3f1f589",
      "metadata": {
        "id": "a3f1f589"
      },
      "source": [
        "#### `complete()`: Complete with missing combinations\n",
        "\n",
        "The `complete()` function extends what the `expand()` function does and also adds the remaining columns of the data, and fills them with NAs where the values are missing."
      ]
    },
    {
      "cell_type": "code",
      "execution_count": null,
      "id": "c0e5070d",
      "metadata": {
        "name": "complete-data",
        "colab": {
          "base_uri": "https://localhost:8080/",
          "height": 412
        },
        "id": "c0e5070d",
        "outputId": "312e84d4-a4ad-4551-ab83-f32907f16d7d"
      },
      "outputs": [
        {
          "output_type": "display_data",
          "data": {
            "text/html": [
              "<table class=\"dataframe\">\n",
              "<caption>A tibble: 10 × 4</caption>\n",
              "<thead>\n",
              "\t<tr><th scope=col>type</th><th scope=col>size</th><th scope=col>year</th><th scope=col>weights</th></tr>\n",
              "\t<tr><th scope=col>&lt;chr&gt;</th><th scope=col>&lt;fct&gt;</th><th scope=col>&lt;dbl&gt;</th><th scope=col>&lt;dbl&gt;</th></tr>\n",
              "</thead>\n",
              "<tbody>\n",
              "\t<tr><td>apple </td><td>XS</td><td>2010</td><td>2.178094</td></tr>\n",
              "\t<tr><td>apple </td><td>S </td><td>  NA</td><td>      NA</td></tr>\n",
              "\t<tr><td>apple </td><td>M </td><td>2012</td><td>5.570606</td></tr>\n",
              "\t<tr><td>apple </td><td>L </td><td>  NA</td><td>      NA</td></tr>\n",
              "\t<tr><td>orange</td><td>XS</td><td>  NA</td><td>      NA</td></tr>\n",
              "\t<tr><td>orange</td><td>S </td><td>2010</td><td>2.986670</td></tr>\n",
              "\t<tr><td>orange</td><td>S </td><td>2010</td><td>3.996734</td></tr>\n",
              "\t<tr><td>orange</td><td>S </td><td>2011</td><td>4.091600</td></tr>\n",
              "\t<tr><td>orange</td><td>M </td><td>2012</td><td>5.376069</td></tr>\n",
              "\t<tr><td>orange</td><td>L </td><td>  NA</td><td>      NA</td></tr>\n",
              "</tbody>\n",
              "</table>\n"
            ],
            "text/markdown": "\nA tibble: 10 × 4\n\n| type &lt;chr&gt; | size &lt;fct&gt; | year &lt;dbl&gt; | weights &lt;dbl&gt; |\n|---|---|---|---|\n| apple  | XS | 2010 | 2.178094 |\n| apple  | S  |   NA |       NA |\n| apple  | M  | 2012 | 5.570606 |\n| apple  | L  |   NA |       NA |\n| orange | XS |   NA |       NA |\n| orange | S  | 2010 | 2.986670 |\n| orange | S  | 2010 | 3.996734 |\n| orange | S  | 2011 | 4.091600 |\n| orange | M  | 2012 | 5.376069 |\n| orange | L  |   NA |       NA |\n\n",
            "text/latex": "A tibble: 10 × 4\n\\begin{tabular}{llll}\n type & size & year & weights\\\\\n <chr> & <fct> & <dbl> & <dbl>\\\\\n\\hline\n\t apple  & XS & 2010 & 2.178094\\\\\n\t apple  & S  &   NA &       NA\\\\\n\t apple  & M  & 2012 & 5.570606\\\\\n\t apple  & L  &   NA &       NA\\\\\n\t orange & XS &   NA &       NA\\\\\n\t orange & S  & 2010 & 2.986670\\\\\n\t orange & S  & 2010 & 3.996734\\\\\n\t orange & S  & 2011 & 4.091600\\\\\n\t orange & M  & 2012 & 5.376069\\\\\n\t orange & L  &   NA &       NA\\\\\n\\end{tabular}\n",
            "text/plain": [
              "   type   size year weights \n",
              "1  apple  XS   2010 2.178094\n",
              "2  apple  S      NA       NA\n",
              "3  apple  M    2012 5.570606\n",
              "4  apple  L      NA       NA\n",
              "5  orange XS     NA       NA\n",
              "6  orange S    2010 2.986670\n",
              "7  orange S    2010 3.996734\n",
              "8  orange S    2011 4.091600\n",
              "9  orange M    2012 5.376069\n",
              "10 orange L      NA       NA"
            ]
          },
          "metadata": {}
        }
      ],
      "source": [
        "fruits |>\n",
        "  complete(type, size)"
      ]
    },
    {
      "cell_type": "markdown",
      "id": "410ed3b3",
      "metadata": {
        "id": "410ed3b3"
      },
      "source": [
        "#### `separate_rows()`: Separate a collapsed column into multiple rows\n",
        "\n",
        "Let us go back to the `starwars` data and look at the `skin_color` column. Note values like `white, blue` which are essentially the result of collapsing the vector `c(\"white\", \"blue\")` into a single comma separated string."
      ]
    },
    {
      "cell_type": "code",
      "execution_count": null,
      "id": "23aeabe3",
      "metadata": {
        "name": "separate_rows",
        "colab": {
          "base_uri": "https://localhost:8080/",
          "height": 537
        },
        "id": "23aeabe3",
        "outputId": "868a062d-2294-48be-b69e-d6a3c9c257b7"
      },
      "outputs": [
        {
          "output_type": "display_data",
          "data": {
            "text/html": [
              "<table class=\"dataframe\">\n",
              "<caption>A tibble: 14 × 2</caption>\n",
              "<thead>\n",
              "\t<tr><th scope=col>name</th><th scope=col>skin_color</th></tr>\n",
              "\t<tr><th scope=col>&lt;chr&gt;</th><th scope=col>&lt;chr&gt;</th></tr>\n",
              "</thead>\n",
              "<tbody>\n",
              "\t<tr><td>R2-D2                </td><td>white, blue        </td></tr>\n",
              "\t<tr><td>R5-D4                </td><td>white, red         </td></tr>\n",
              "\t<tr><td>Jabba Desilijic Tiure</td><td>green-tan, brown   </td></tr>\n",
              "\t<tr><td>Watto                </td><td>blue, grey         </td></tr>\n",
              "\t<tr><td>Sebulba              </td><td>grey, red          </td></tr>\n",
              "\t<tr><td>Dud Bolt             </td><td>blue, grey         </td></tr>\n",
              "\t<tr><td>Gasgano              </td><td>white, blue        </td></tr>\n",
              "\t<tr><td>Ben Quadinaros       </td><td>grey, green, yellow</td></tr>\n",
              "\t<tr><td>Zam Wesell           </td><td>fair, green, yellow</td></tr>\n",
              "\t<tr><td>Ratts Tyerell        </td><td>grey, blue         </td></tr>\n",
              "\t<tr><td>R4-P17               </td><td>silver, red        </td></tr>\n",
              "\t<tr><td>Wat Tambor           </td><td>green, grey        </td></tr>\n",
              "\t<tr><td>Shaak Ti             </td><td>red, blue, white   </td></tr>\n",
              "\t<tr><td>Grievous             </td><td>brown, white       </td></tr>\n",
              "</tbody>\n",
              "</table>\n"
            ],
            "text/markdown": "\nA tibble: 14 × 2\n\n| name &lt;chr&gt; | skin_color &lt;chr&gt; |\n|---|---|\n| R2-D2                 | white, blue         |\n| R5-D4                 | white, red          |\n| Jabba Desilijic Tiure | green-tan, brown    |\n| Watto                 | blue, grey          |\n| Sebulba               | grey, red           |\n| Dud Bolt              | blue, grey          |\n| Gasgano               | white, blue         |\n| Ben Quadinaros        | grey, green, yellow |\n| Zam Wesell            | fair, green, yellow |\n| Ratts Tyerell         | grey, blue          |\n| R4-P17                | silver, red         |\n| Wat Tambor            | green, grey         |\n| Shaak Ti              | red, blue, white    |\n| Grievous              | brown, white        |\n\n",
            "text/latex": "A tibble: 14 × 2\n\\begin{tabular}{ll}\n name & skin\\_color\\\\\n <chr> & <chr>\\\\\n\\hline\n\t R2-D2                 & white, blue        \\\\\n\t R5-D4                 & white, red         \\\\\n\t Jabba Desilijic Tiure & green-tan, brown   \\\\\n\t Watto                 & blue, grey         \\\\\n\t Sebulba               & grey, red          \\\\\n\t Dud Bolt              & blue, grey         \\\\\n\t Gasgano               & white, blue        \\\\\n\t Ben Quadinaros        & grey, green, yellow\\\\\n\t Zam Wesell            & fair, green, yellow\\\\\n\t Ratts Tyerell         & grey, blue         \\\\\n\t R4-P17                & silver, red        \\\\\n\t Wat Tambor            & green, grey        \\\\\n\t Shaak Ti              & red, blue, white   \\\\\n\t Grievous              & brown, white       \\\\\n\\end{tabular}\n",
            "text/plain": [
              "   name                  skin_color         \n",
              "1  R2-D2                 white, blue        \n",
              "2  R5-D4                 white, red         \n",
              "3  Jabba Desilijic Tiure green-tan, brown   \n",
              "4  Watto                 blue, grey         \n",
              "5  Sebulba               grey, red          \n",
              "6  Dud Bolt              blue, grey         \n",
              "7  Gasgano               white, blue        \n",
              "8  Ben Quadinaros        grey, green, yellow\n",
              "9  Zam Wesell            fair, green, yellow\n",
              "10 Ratts Tyerell         grey, blue         \n",
              "11 R4-P17                silver, red        \n",
              "12 Wat Tambor            green, grey        \n",
              "13 Shaak Ti              red, blue, white   \n",
              "14 Grievous              brown, white       "
            ]
          },
          "metadata": {}
        }
      ],
      "source": [
        "starwars |>\n",
        "  filter(str_detect(skin_color, \",\")) |>\n",
        "  select(name, skin_color)"
      ]
    },
    {
      "cell_type": "markdown",
      "id": "5dff34b5",
      "metadata": {
        "id": "5dff34b5"
      },
      "source": [
        "We can use the `separate_rows()` function to separate this collapsed column into multiple rows."
      ]
    },
    {
      "cell_type": "code",
      "execution_count": null,
      "id": "1b6f0623",
      "metadata": {
        "lines_to_next_cell": 0,
        "name": "separate-rows",
        "colab": {
          "base_uri": "https://localhost:8080/",
          "height": 286
        },
        "id": "1b6f0623",
        "outputId": "f8478854-3212-4b9a-de5d-b3c210a0cafe"
      },
      "outputs": [
        {
          "output_type": "display_data",
          "data": {
            "text/html": [
              "<table class=\"dataframe\">\n",
              "<caption>A tibble: 6 × 2</caption>\n",
              "<thead>\n",
              "\t<tr><th scope=col>name</th><th scope=col>skin_color</th></tr>\n",
              "\t<tr><th scope=col>&lt;chr&gt;</th><th scope=col>&lt;chr&gt;</th></tr>\n",
              "</thead>\n",
              "<tbody>\n",
              "\t<tr><td>Luke Skywalker</td><td>fair </td></tr>\n",
              "\t<tr><td>C-3PO         </td><td>gold </td></tr>\n",
              "\t<tr><td>R2-D2         </td><td>white</td></tr>\n",
              "\t<tr><td>R2-D2         </td><td>blue </td></tr>\n",
              "\t<tr><td>Darth Vader   </td><td>white</td></tr>\n",
              "\t<tr><td>Leia Organa   </td><td>light</td></tr>\n",
              "</tbody>\n",
              "</table>\n"
            ],
            "text/markdown": "\nA tibble: 6 × 2\n\n| name &lt;chr&gt; | skin_color &lt;chr&gt; |\n|---|---|\n| Luke Skywalker | fair  |\n| C-3PO          | gold  |\n| R2-D2          | white |\n| R2-D2          | blue  |\n| Darth Vader    | white |\n| Leia Organa    | light |\n\n",
            "text/latex": "A tibble: 6 × 2\n\\begin{tabular}{ll}\n name & skin\\_color\\\\\n <chr> & <chr>\\\\\n\\hline\n\t Luke Skywalker & fair \\\\\n\t C-3PO          & gold \\\\\n\t R2-D2          & white\\\\\n\t R2-D2          & blue \\\\\n\t Darth Vader    & white\\\\\n\t Leia Organa    & light\\\\\n\\end{tabular}\n",
            "text/plain": [
              "  name           skin_color\n",
              "1 Luke Skywalker fair      \n",
              "2 C-3PO          gold      \n",
              "3 R2-D2          white     \n",
              "4 R2-D2          blue      \n",
              "5 Darth Vader    white     \n",
              "6 Leia Organa    light     "
            ]
          },
          "metadata": {}
        }
      ],
      "source": [
        "starwars |>\n",
        "  select(name, skin_color) |>\n",
        "  separate_rows(skin_color) |>\n",
        "  head()"
      ]
    }
  ],
  "metadata": {
    "jupytext": {
      "cell_metadata_filter": "out.width,message,name,tags,-all",
      "split_at_heading": true
    },
    "kernelspec": {
      "display_name": "R",
      "language": "R",
      "name": "ir"
    },
    "colab": {
      "provenance": []
    }
  },
  "nbformat": 4,
  "nbformat_minor": 5
}