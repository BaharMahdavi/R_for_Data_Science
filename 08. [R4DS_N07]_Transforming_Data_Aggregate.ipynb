{
  "cells": [
    {
      "cell_type": "markdown",
      "id": "72519a28",
      "metadata": {
        "id": "72519a28"
      },
      "source": [
        "<a href=https://uplimit.com/course/r-for-data-science>\n",
        "  <img src=https://imgur.com/6Vkc11w.png />\n",
        "</a>\n",
        "\n",
        "|        |                                   |                                   |                                 |                                |\n",
        "| -------| ----------------------------------| -------------------------------- -| --------------------------------| ------------------------------------------|\n",
        "| Week 1 | [[01] Doing Data Science](https://colab.research.google.com/drive/1aWpmzS36qVc8hNIaSSSHexlodwwyMJCB)           | [[02] Data Science in Action](https://colab.research.google.com/drive/1aWpmzS36qVc8hNIaSSSHexlodwwyMJCB)       | [[03] Importing Data](https://colab.research.google.com/drive/13kHBX3H1F2yx5yXWJ5iFZh48qjEtpLjU)             | [[04] Visualizing Data: Overview](https://colab.research.google.com/drive/1JSeDt-Gneegd5B2KwWTJF_igYPb-xsIv)          |\n",
        "|        | [[05] Transforming Data: Overview](https://colab.research.google.com/drive/1IMZJFE8WmwjgdYCddvaO386PljKq_PjC)  | [[06] Transforming Data: Manipulate](https://colab.research.google.com/drive/19ClnAH7d30I9PkD9KuZndPmy5hxk3gdi) |                                 |                                           |\n",
        "| Week 2 | [[07] Transforming Data: Aggregate](https://colab.research.google.com/drive/1zigvePewKpzKQHx2pjABXU6Ms8QzQXj7) | [[08] Transforming Data: Reshape](https://colab.research.google.com/drive/1Ma9VrM9SrkNEeXTSul0Ca8a7GHAeNLzC)   | [[09] Transforming Data: Combine](https://colab.research.google.com/drive/1JUGm1h4YPmCkre-rVUj5Ql7lBS66_xIs) | [[10] Visualizing Data: Grammar of Graphics](https://colab.research.google.com/drive/1YLE3NPp-TO2KUTohtidjzKMeqJVWxYoT) |\n",
        "|        | [[11] Data Science in Action Again](https://colab.research.google.com/drive/1eWjVK4oEiXdwdP4sT0nOJlmkCMBkfLpz) |                                   |                                 |                                           |\n",
        "Books | [Hands on Programming with R](https://rstudio-education.github.io/hopr/index.html) | [R for Data Science](https://r4ds.hadley.nz/) | [Elegant Graphics for Data Analysis](https://ggplot2-book.org/)\n",
        "\n"
      ]
    },
    {
      "cell_type": "markdown",
      "id": "778f30f6",
      "metadata": {
        "id": "778f30f6"
      },
      "source": [
        "> 📕 __BEFORE YOU GET STARTED:__\n",
        "> 1. Click on **Copy to Drive** to copy notebook to your drive.\n",
        "> 2. Click on **Share** on the top-right corner (of your copied notebook).\n",
        "> 3. Update sharing settings to **Anyone with link**\n",
        "> 4. Delete this cell.\n"
      ]
    },
    {
      "cell_type": "code",
      "source": [
        "library(tidyverse)\n",
        "diamonds <- diamonds |>\n",
        "  filter(carat < 3) |>\n",
        "  slice_sample(n = 500)\n",
        "\n",
        "head(diamonds)"
      ],
      "metadata": {
        "colab": {
          "base_uri": "https://localhost:8080/",
          "height": 286
        },
        "id": "z8u-ka7P1ZdP",
        "outputId": "b6424d26-40d1-4b37-f707-8dad9149f5be"
      },
      "id": "z8u-ka7P1ZdP",
      "execution_count": null,
      "outputs": [
        {
          "output_type": "display_data",
          "data": {
            "text/html": [
              "<table class=\"dataframe\">\n",
              "<caption>A tibble: 6 × 10</caption>\n",
              "<thead>\n",
              "\t<tr><th scope=col>carat</th><th scope=col>cut</th><th scope=col>color</th><th scope=col>clarity</th><th scope=col>depth</th><th scope=col>table</th><th scope=col>price</th><th scope=col>x</th><th scope=col>y</th><th scope=col>z</th></tr>\n",
              "\t<tr><th scope=col>&lt;dbl&gt;</th><th scope=col>&lt;ord&gt;</th><th scope=col>&lt;ord&gt;</th><th scope=col>&lt;ord&gt;</th><th scope=col>&lt;dbl&gt;</th><th scope=col>&lt;dbl&gt;</th><th scope=col>&lt;int&gt;</th><th scope=col>&lt;dbl&gt;</th><th scope=col>&lt;dbl&gt;</th><th scope=col>&lt;dbl&gt;</th></tr>\n",
              "</thead>\n",
              "<tbody>\n",
              "\t<tr><td>0.57</td><td>Ideal    </td><td>G</td><td>VVS2</td><td>60.7</td><td>55</td><td> 2206</td><td>5.36</td><td>5.34</td><td>3.25</td></tr>\n",
              "\t<tr><td>0.51</td><td>Ideal    </td><td>D</td><td>SI1 </td><td>62.6</td><td>57</td><td> 1619</td><td>5.11</td><td>5.08</td><td>3.19</td></tr>\n",
              "\t<tr><td>0.30</td><td>Very Good</td><td>G</td><td>VVS1</td><td>62.7</td><td>59</td><td>  789</td><td>4.22</td><td>4.27</td><td>2.66</td></tr>\n",
              "\t<tr><td>0.76</td><td>Ideal    </td><td>F</td><td>VS2 </td><td>61.6</td><td>55</td><td> 2725</td><td>5.88</td><td>5.90</td><td>3.63</td></tr>\n",
              "\t<tr><td>2.00</td><td>Ideal    </td><td>I</td><td>SI1 </td><td>62.8</td><td>56</td><td>15043</td><td>8.04</td><td>7.95</td><td>5.02</td></tr>\n",
              "\t<tr><td>0.72</td><td>Very Good</td><td>J</td><td>SI1 </td><td>61.1</td><td>57</td><td> 1866</td><td>5.75</td><td>5.80</td><td>3.53</td></tr>\n",
              "</tbody>\n",
              "</table>\n"
            ],
            "text/markdown": "\nA tibble: 6 × 10\n\n| carat &lt;dbl&gt; | cut &lt;ord&gt; | color &lt;ord&gt; | clarity &lt;ord&gt; | depth &lt;dbl&gt; | table &lt;dbl&gt; | price &lt;int&gt; | x &lt;dbl&gt; | y &lt;dbl&gt; | z &lt;dbl&gt; |\n|---|---|---|---|---|---|---|---|---|---|\n| 0.57 | Ideal     | G | VVS2 | 60.7 | 55 |  2206 | 5.36 | 5.34 | 3.25 |\n| 0.51 | Ideal     | D | SI1  | 62.6 | 57 |  1619 | 5.11 | 5.08 | 3.19 |\n| 0.30 | Very Good | G | VVS1 | 62.7 | 59 |   789 | 4.22 | 4.27 | 2.66 |\n| 0.76 | Ideal     | F | VS2  | 61.6 | 55 |  2725 | 5.88 | 5.90 | 3.63 |\n| 2.00 | Ideal     | I | SI1  | 62.8 | 56 | 15043 | 8.04 | 7.95 | 5.02 |\n| 0.72 | Very Good | J | SI1  | 61.1 | 57 |  1866 | 5.75 | 5.80 | 3.53 |\n\n",
            "text/latex": "A tibble: 6 × 10\n\\begin{tabular}{llllllllll}\n carat & cut & color & clarity & depth & table & price & x & y & z\\\\\n <dbl> & <ord> & <ord> & <ord> & <dbl> & <dbl> & <int> & <dbl> & <dbl> & <dbl>\\\\\n\\hline\n\t 0.57 & Ideal     & G & VVS2 & 60.7 & 55 &  2206 & 5.36 & 5.34 & 3.25\\\\\n\t 0.51 & Ideal     & D & SI1  & 62.6 & 57 &  1619 & 5.11 & 5.08 & 3.19\\\\\n\t 0.30 & Very Good & G & VVS1 & 62.7 & 59 &   789 & 4.22 & 4.27 & 2.66\\\\\n\t 0.76 & Ideal     & F & VS2  & 61.6 & 55 &  2725 & 5.88 & 5.90 & 3.63\\\\\n\t 2.00 & Ideal     & I & SI1  & 62.8 & 56 & 15043 & 8.04 & 7.95 & 5.02\\\\\n\t 0.72 & Very Good & J & SI1  & 61.1 & 57 &  1866 & 5.75 & 5.80 & 3.53\\\\\n\\end{tabular}\n",
            "text/plain": [
              "  carat cut       color clarity depth table price x    y    z   \n",
              "1 0.57  Ideal     G     VVS2    60.7  55     2206 5.36 5.34 3.25\n",
              "2 0.51  Ideal     D     SI1     62.6  57     1619 5.11 5.08 3.19\n",
              "3 0.30  Very Good G     VVS1    62.7  59      789 4.22 4.27 2.66\n",
              "4 0.76  Ideal     F     VS2     61.6  55     2725 5.88 5.90 3.63\n",
              "5 2.00  Ideal     I     SI1     62.8  56    15043 8.04 7.95 5.02\n",
              "6 0.72  Very Good J     SI1     61.1  57     1866 5.75 5.80 3.53"
            ]
          },
          "metadata": {}
        }
      ]
    },
    {
      "cell_type": "code",
      "source": [
        "diamonds |>\n",
        "  slice_sample(n = 5)"
      ],
      "metadata": {
        "colab": {
          "base_uri": "https://localhost:8080/",
          "height": 255
        },
        "id": "kIhKnhZJ2RiO",
        "outputId": "774292fd-ac88-4d84-a9d4-9c238b3518da"
      },
      "id": "kIhKnhZJ2RiO",
      "execution_count": null,
      "outputs": [
        {
          "output_type": "display_data",
          "data": {
            "text/html": [
              "<table class=\"dataframe\">\n",
              "<caption>A tibble: 5 × 10</caption>\n",
              "<thead>\n",
              "\t<tr><th scope=col>carat</th><th scope=col>cut</th><th scope=col>color</th><th scope=col>clarity</th><th scope=col>depth</th><th scope=col>table</th><th scope=col>price</th><th scope=col>x</th><th scope=col>y</th><th scope=col>z</th></tr>\n",
              "\t<tr><th scope=col>&lt;dbl&gt;</th><th scope=col>&lt;ord&gt;</th><th scope=col>&lt;ord&gt;</th><th scope=col>&lt;ord&gt;</th><th scope=col>&lt;dbl&gt;</th><th scope=col>&lt;dbl&gt;</th><th scope=col>&lt;int&gt;</th><th scope=col>&lt;dbl&gt;</th><th scope=col>&lt;dbl&gt;</th><th scope=col>&lt;dbl&gt;</th></tr>\n",
              "</thead>\n",
              "<tbody>\n",
              "\t<tr><td>1.12</td><td>Ideal    </td><td>F</td><td>SI2 </td><td>61.6</td><td>57</td><td>4720</td><td>6.68</td><td>6.66</td><td>4.11</td></tr>\n",
              "\t<tr><td>0.56</td><td>Ideal    </td><td>F</td><td>VS1 </td><td>61.7</td><td>56</td><td>1915</td><td>5.30</td><td>5.33</td><td>3.28</td></tr>\n",
              "\t<tr><td>0.70</td><td>Good     </td><td>E</td><td>VS1 </td><td>59.8</td><td>62</td><td>2973</td><td>5.74</td><td>5.80</td><td>3.45</td></tr>\n",
              "\t<tr><td>0.40</td><td>Very Good</td><td>E</td><td>SI2 </td><td>63.2</td><td>57</td><td> 855</td><td>4.68</td><td>4.66</td><td>2.95</td></tr>\n",
              "\t<tr><td>0.40</td><td>Ideal    </td><td>F</td><td>VVS2</td><td>60.1</td><td>57</td><td> 990</td><td>4.78</td><td>4.83</td><td>2.89</td></tr>\n",
              "</tbody>\n",
              "</table>\n"
            ],
            "text/markdown": "\nA tibble: 5 × 10\n\n| carat &lt;dbl&gt; | cut &lt;ord&gt; | color &lt;ord&gt; | clarity &lt;ord&gt; | depth &lt;dbl&gt; | table &lt;dbl&gt; | price &lt;int&gt; | x &lt;dbl&gt; | y &lt;dbl&gt; | z &lt;dbl&gt; |\n|---|---|---|---|---|---|---|---|---|---|\n| 1.12 | Ideal     | F | SI2  | 61.6 | 57 | 4720 | 6.68 | 6.66 | 4.11 |\n| 0.56 | Ideal     | F | VS1  | 61.7 | 56 | 1915 | 5.30 | 5.33 | 3.28 |\n| 0.70 | Good      | E | VS1  | 59.8 | 62 | 2973 | 5.74 | 5.80 | 3.45 |\n| 0.40 | Very Good | E | SI2  | 63.2 | 57 |  855 | 4.68 | 4.66 | 2.95 |\n| 0.40 | Ideal     | F | VVS2 | 60.1 | 57 |  990 | 4.78 | 4.83 | 2.89 |\n\n",
            "text/latex": "A tibble: 5 × 10\n\\begin{tabular}{llllllllll}\n carat & cut & color & clarity & depth & table & price & x & y & z\\\\\n <dbl> & <ord> & <ord> & <ord> & <dbl> & <dbl> & <int> & <dbl> & <dbl> & <dbl>\\\\\n\\hline\n\t 1.12 & Ideal     & F & SI2  & 61.6 & 57 & 4720 & 6.68 & 6.66 & 4.11\\\\\n\t 0.56 & Ideal     & F & VS1  & 61.7 & 56 & 1915 & 5.30 & 5.33 & 3.28\\\\\n\t 0.70 & Good      & E & VS1  & 59.8 & 62 & 2973 & 5.74 & 5.80 & 3.45\\\\\n\t 0.40 & Very Good & E & SI2  & 63.2 & 57 &  855 & 4.68 & 4.66 & 2.95\\\\\n\t 0.40 & Ideal     & F & VVS2 & 60.1 & 57 &  990 & 4.78 & 4.83 & 2.89\\\\\n\\end{tabular}\n",
            "text/plain": [
              "  carat cut       color clarity depth table price x    y    z   \n",
              "1 1.12  Ideal     F     SI2     61.6  57    4720  6.68 6.66 4.11\n",
              "2 0.56  Ideal     F     VS1     61.7  56    1915  5.30 5.33 3.28\n",
              "3 0.70  Good      E     VS1     59.8  62    2973  5.74 5.80 3.45\n",
              "4 0.40  Very Good E     SI2     63.2  57     855  4.68 4.66 2.95\n",
              "5 0.40  Ideal     F     VVS2    60.1  57     990  4.78 4.83 2.89"
            ]
          },
          "metadata": {}
        }
      ]
    },
    {
      "cell_type": "markdown",
      "id": "b6a313a3",
      "metadata": {
        "id": "b6a313a3"
      },
      "source": [
        "## Aggregating Data\n",
        "\n",
        "__Aggregating__ data involves summarizing the data at a higher level than the original data, such as computing the `mean`, `sum`, or `count` of values for different `groups` of data. The two primary functions that you will use to aggregate data are:\n",
        "\n",
        "<img src=\"https://i.imgur.com/BMjwi2P.png\" />"
      ]
    },
    {
      "cell_type": "markdown",
      "id": "817c4bf1",
      "metadata": {
        "id": "817c4bf1"
      },
      "source": [
        "- `group_by()`: This function is used to group data by one or more variables. The result is a `grouped_df` object, which can then be used with other `dplyr` functions to aggregate the data.\n",
        "\n",
        "- `summarize()` or `summarise()`: These functions are used to compute summary statistics for each group of data. For example, you can compute the `mean()`, `median()`, `sum()`, or `count()` of values in each group.\n",
        "\n",
        "Additionally, the grammar of data manipulation provided by `tidyverse` allows us to utilize the full power of data manipulation operations like `mutate()`, `filter()`, `arrange()` etc. to grouped data as well."
      ]
    },
    {
      "cell_type": "markdown",
      "id": "7cd86c1b",
      "metadata": {
        "id": "7cd86c1b"
      },
      "source": [
        "Let us load the `tidyverse` and read the babynames data so we can use it to explore data aggregation.\n"
      ]
    },
    {
      "cell_type": "code",
      "execution_count": null,
      "id": "c5c1db83",
      "metadata": {
        "message": false,
        "name": "setup",
        "colab": {
          "base_uri": "https://localhost:8080/"
        },
        "id": "c5c1db83",
        "outputId": "756f9027-f87f-4b90-9afd-1826d5c70ec0"
      },
      "outputs": [
        {
          "output_type": "stream",
          "name": "stderr",
          "text": [
            "Installing package into ‘/usr/local/lib/R/site-library’\n",
            "(as ‘lib’ is unspecified)\n",
            "\n",
            "Tracing function \"install.packages\" in package \"utils\"\n",
            "\n",
            "Tracing function \"update.packages\" in package \"utils\"\n",
            "\n",
            "Installing packages into ‘/usr/local/lib/R/site-library’\n",
            "(as ‘lib’ is unspecified)\n",
            "\n",
            "Inspecting installed packages...\n",
            "\n"
          ]
        }
      ],
      "source": [
        "# Load packages and common utility functions\n",
        "library(tidyverse)\n",
        "url = \"https://gist.githubusercontent.com/ramnathv/e71d3ffe88961fc4ef95642053012384/raw/9dda53562d06009912841ab3538d4aeb90e5ee09/_common.R\"\n",
        "download.file(url, basename(url))\n",
        "source(\"_common.R\")"
      ]
    },
    {
      "cell_type": "code",
      "execution_count": null,
      "id": "00750be2",
      "metadata": {
        "name": "read-babynames",
        "colab": {
          "base_uri": "https://localhost:8080/",
          "height": 286
        },
        "id": "00750be2",
        "outputId": "9143dae1-7006-429d-e12b-fb9cefac75f7"
      },
      "outputs": [
        {
          "output_type": "display_data",
          "data": {
            "text/html": [
              "<table class=\"dataframe\">\n",
              "<caption>A tibble: 6 × 4</caption>\n",
              "<thead>\n",
              "\t<tr><th scope=col>year</th><th scope=col>name</th><th scope=col>sex</th><th scope=col>nb_births</th></tr>\n",
              "\t<tr><th scope=col>&lt;dbl&gt;</th><th scope=col>&lt;chr&gt;</th><th scope=col>&lt;chr&gt;</th><th scope=col>&lt;dbl&gt;</th></tr>\n",
              "</thead>\n",
              "<tbody>\n",
              "\t<tr><td>1880</td><td>Mary     </td><td>F</td><td>7065</td></tr>\n",
              "\t<tr><td>1880</td><td>Anna     </td><td>F</td><td>2604</td></tr>\n",
              "\t<tr><td>1880</td><td>Emma     </td><td>F</td><td>2003</td></tr>\n",
              "\t<tr><td>1880</td><td>Elizabeth</td><td>F</td><td>1939</td></tr>\n",
              "\t<tr><td>1880</td><td>Minnie   </td><td>F</td><td>1746</td></tr>\n",
              "\t<tr><td>1880</td><td>Margaret </td><td>F</td><td>1578</td></tr>\n",
              "</tbody>\n",
              "</table>\n"
            ],
            "text/markdown": "\nA tibble: 6 × 4\n\n| year &lt;dbl&gt; | name &lt;chr&gt; | sex &lt;chr&gt; | nb_births &lt;dbl&gt; |\n|---|---|---|---|\n| 1880 | Mary      | F | 7065 |\n| 1880 | Anna      | F | 2604 |\n| 1880 | Emma      | F | 2003 |\n| 1880 | Elizabeth | F | 1939 |\n| 1880 | Minnie    | F | 1746 |\n| 1880 | Margaret  | F | 1578 |\n\n",
            "text/latex": "A tibble: 6 × 4\n\\begin{tabular}{llll}\n year & name & sex & nb\\_births\\\\\n <dbl> & <chr> & <chr> & <dbl>\\\\\n\\hline\n\t 1880 & Mary      & F & 7065\\\\\n\t 1880 & Anna      & F & 2604\\\\\n\t 1880 & Emma      & F & 2003\\\\\n\t 1880 & Elizabeth & F & 1939\\\\\n\t 1880 & Minnie    & F & 1746\\\\\n\t 1880 & Margaret  & F & 1578\\\\\n\\end{tabular}\n",
            "text/plain": [
              "  year name      sex nb_births\n",
              "1 1880 Mary      F   7065     \n",
              "2 1880 Anna      F   2604     \n",
              "3 1880 Emma      F   2003     \n",
              "4 1880 Elizabeth F   1939     \n",
              "5 1880 Minnie    F   1746     \n",
              "6 1880 Margaret  F   1578     "
            ]
          },
          "metadata": {}
        }
      ],
      "source": [
        "file_name_names <- \"https://raw.githubusercontent.com/ramnathv/corise-r-for-ds/main/data/names.csv.gz\"\n",
        "tbl_names <- readr::read_csv(file_name_names, show_col_types = FALSE)\n",
        "head(tbl_names)"
      ]
    },
    {
      "cell_type": "markdown",
      "id": "c2105717",
      "metadata": {
        "id": "c2105717"
      },
      "source": [
        "### `group_by()`: Group by one or more variables\n",
        "\n",
        "The `group_by()` function lets you group a table by one or more columns. Applying the `group_by` function to a table does not change its appearance, except for adding some metadata on the grouping variables."
      ]
    },
    {
      "cell_type": "code",
      "execution_count": null,
      "id": "f94fc05b",
      "metadata": {
        "name": "group-by-one-column",
        "colab": {
          "base_uri": "https://localhost:8080/",
          "height": 286
        },
        "id": "f94fc05b",
        "outputId": "79d657a9-9133-466f-db8e-d9bd09359438"
      },
      "outputs": [
        {
          "output_type": "display_data",
          "data": {
            "text/html": [
              "<table class=\"dataframe\">\n",
              "<caption>A grouped_df: 6 × 4</caption>\n",
              "<thead>\n",
              "\t<tr><th scope=col>year</th><th scope=col>name</th><th scope=col>sex</th><th scope=col>nb_births</th></tr>\n",
              "\t<tr><th scope=col>&lt;dbl&gt;</th><th scope=col>&lt;chr&gt;</th><th scope=col>&lt;chr&gt;</th><th scope=col>&lt;dbl&gt;</th></tr>\n",
              "</thead>\n",
              "<tbody>\n",
              "\t<tr><td>1880</td><td>Mary     </td><td>F</td><td>7065</td></tr>\n",
              "\t<tr><td>1880</td><td>Anna     </td><td>F</td><td>2604</td></tr>\n",
              "\t<tr><td>1880</td><td>Emma     </td><td>F</td><td>2003</td></tr>\n",
              "\t<tr><td>1880</td><td>Elizabeth</td><td>F</td><td>1939</td></tr>\n",
              "\t<tr><td>1880</td><td>Minnie   </td><td>F</td><td>1746</td></tr>\n",
              "\t<tr><td>1880</td><td>Margaret </td><td>F</td><td>1578</td></tr>\n",
              "</tbody>\n",
              "</table>\n"
            ],
            "text/markdown": "\nA grouped_df: 6 × 4\n\n| year &lt;dbl&gt; | name &lt;chr&gt; | sex &lt;chr&gt; | nb_births &lt;dbl&gt; |\n|---|---|---|---|\n| 1880 | Mary      | F | 7065 |\n| 1880 | Anna      | F | 2604 |\n| 1880 | Emma      | F | 2003 |\n| 1880 | Elizabeth | F | 1939 |\n| 1880 | Minnie    | F | 1746 |\n| 1880 | Margaret  | F | 1578 |\n\n",
            "text/latex": "A grouped\\_df: 6 × 4\n\\begin{tabular}{llll}\n year & name & sex & nb\\_births\\\\\n <dbl> & <chr> & <chr> & <dbl>\\\\\n\\hline\n\t 1880 & Mary      & F & 7065\\\\\n\t 1880 & Anna      & F & 2604\\\\\n\t 1880 & Emma      & F & 2003\\\\\n\t 1880 & Elizabeth & F & 1939\\\\\n\t 1880 & Minnie    & F & 1746\\\\\n\t 1880 & Margaret  & F & 1578\\\\\n\\end{tabular}\n",
            "text/plain": [
              "  year name      sex nb_births\n",
              "1 1880 Mary      F   7065     \n",
              "2 1880 Anna      F   2604     \n",
              "3 1880 Emma      F   2003     \n",
              "4 1880 Elizabeth F   1939     \n",
              "5 1880 Minnie    F   1746     \n",
              "6 1880 Margaret  F   1578     "
            ]
          },
          "metadata": {}
        }
      ],
      "source": [
        "# Group by ONE column\n",
        "tbl_names |>\n",
        "  group_by(sex) |>\n",
        "  head()"
      ]
    },
    {
      "cell_type": "code",
      "execution_count": null,
      "id": "67e04f25",
      "metadata": {
        "lines_to_next_cell": 2,
        "name": "group-by-multiple-columns",
        "colab": {
          "base_uri": "https://localhost:8080/",
          "height": 286
        },
        "id": "67e04f25",
        "outputId": "db5b0248-e602-41be-b171-60ed429086d8"
      },
      "outputs": [
        {
          "output_type": "display_data",
          "data": {
            "text/html": [
              "<table class=\"dataframe\">\n",
              "<caption>A grouped_df: 6 × 4</caption>\n",
              "<thead>\n",
              "\t<tr><th scope=col>year</th><th scope=col>name</th><th scope=col>sex</th><th scope=col>nb_births</th></tr>\n",
              "\t<tr><th scope=col>&lt;dbl&gt;</th><th scope=col>&lt;chr&gt;</th><th scope=col>&lt;chr&gt;</th><th scope=col>&lt;dbl&gt;</th></tr>\n",
              "</thead>\n",
              "<tbody>\n",
              "\t<tr><td>1880</td><td>Mary     </td><td>F</td><td>7065</td></tr>\n",
              "\t<tr><td>1880</td><td>Anna     </td><td>F</td><td>2604</td></tr>\n",
              "\t<tr><td>1880</td><td>Emma     </td><td>F</td><td>2003</td></tr>\n",
              "\t<tr><td>1880</td><td>Elizabeth</td><td>F</td><td>1939</td></tr>\n",
              "\t<tr><td>1880</td><td>Minnie   </td><td>F</td><td>1746</td></tr>\n",
              "\t<tr><td>1880</td><td>Margaret </td><td>F</td><td>1578</td></tr>\n",
              "</tbody>\n",
              "</table>\n"
            ],
            "text/markdown": "\nA grouped_df: 6 × 4\n\n| year &lt;dbl&gt; | name &lt;chr&gt; | sex &lt;chr&gt; | nb_births &lt;dbl&gt; |\n|---|---|---|---|\n| 1880 | Mary      | F | 7065 |\n| 1880 | Anna      | F | 2604 |\n| 1880 | Emma      | F | 2003 |\n| 1880 | Elizabeth | F | 1939 |\n| 1880 | Minnie    | F | 1746 |\n| 1880 | Margaret  | F | 1578 |\n\n",
            "text/latex": "A grouped\\_df: 6 × 4\n\\begin{tabular}{llll}\n year & name & sex & nb\\_births\\\\\n <dbl> & <chr> & <chr> & <dbl>\\\\\n\\hline\n\t 1880 & Mary      & F & 7065\\\\\n\t 1880 & Anna      & F & 2604\\\\\n\t 1880 & Emma      & F & 2003\\\\\n\t 1880 & Elizabeth & F & 1939\\\\\n\t 1880 & Minnie    & F & 1746\\\\\n\t 1880 & Margaret  & F & 1578\\\\\n\\end{tabular}\n",
            "text/plain": [
              "  year name      sex nb_births\n",
              "1 1880 Mary      F   7065     \n",
              "2 1880 Anna      F   2604     \n",
              "3 1880 Emma      F   2003     \n",
              "4 1880 Elizabeth F   1939     \n",
              "5 1880 Minnie    F   1746     \n",
              "6 1880 Margaret  F   1578     "
            ]
          },
          "metadata": {}
        }
      ],
      "source": [
        "# Group by multiple columns\n",
        "tbl_names |>\n",
        "  group_by(sex, name) |>\n",
        "  head()"
      ]
    },
    {
      "cell_type": "markdown",
      "id": "010fd538",
      "metadata": {
        "id": "010fd538"
      },
      "source": [
        "### `summarize()`: Summarize each group down to one row\n",
        "\n",
        "The reason we group a table by columns is to be able to manipulate it by group. While the `group_by` function can be used in tandem with several other manipulation functions, the most common function used is the `summarize` function. It aggregates the data for each group such that there is only ONE row per group.\n",
        "\n",
        "You can use any arbitrary function inside `summarize` as long as it collapses multiple values into a single value. For example, we can summarize the `babynames` dataset for each `sex` in terms of the total number of births and number of distinct names."
      ]
    },
    {
      "cell_type": "code",
      "execution_count": null,
      "id": "cb1047df",
      "metadata": {
        "name": "summarize-by-sex",
        "colab": {
          "base_uri": "https://localhost:8080/",
          "height": 161
        },
        "id": "cb1047df",
        "outputId": "cd95944c-316c-41f0-b0cd-b7977dc52ab6"
      },
      "outputs": [
        {
          "output_type": "display_data",
          "data": {
            "text/html": [
              "<table class=\"dataframe\">\n",
              "<caption>A tibble: 2 × 3</caption>\n",
              "<thead>\n",
              "\t<tr><th scope=col>sex</th><th scope=col>nb_births</th><th scope=col>nb_names</th></tr>\n",
              "\t<tr><th scope=col>&lt;chr&gt;</th><th scope=col>&lt;dbl&gt;</th><th scope=col>&lt;int&gt;</th></tr>\n",
              "</thead>\n",
              "<tbody>\n",
              "\t<tr><td>F</td><td>179027755</td><td>69527</td></tr>\n",
              "\t<tr><td>M</td><td>182860478</td><td>43093</td></tr>\n",
              "</tbody>\n",
              "</table>\n"
            ],
            "text/markdown": "\nA tibble: 2 × 3\n\n| sex &lt;chr&gt; | nb_births &lt;dbl&gt; | nb_names &lt;int&gt; |\n|---|---|---|\n| F | 179027755 | 69527 |\n| M | 182860478 | 43093 |\n\n",
            "text/latex": "A tibble: 2 × 3\n\\begin{tabular}{lll}\n sex & nb\\_births & nb\\_names\\\\\n <chr> & <dbl> & <int>\\\\\n\\hline\n\t F & 179027755 & 69527\\\\\n\t M & 182860478 & 43093\\\\\n\\end{tabular}\n",
            "text/plain": [
              "  sex nb_births nb_names\n",
              "1 F   179027755 69527   \n",
              "2 M   182860478 43093   "
            ]
          },
          "metadata": {}
        }
      ],
      "source": [
        "tbl_names |>\n",
        "  group_by(sex) |>\n",
        "  summarize(\n",
        "    nb_births = sum(nb_births),\n",
        "    nb_names = n_distinct(name)\n",
        "  )"
      ]
    },
    {
      "cell_type": "markdown",
      "id": "64f1d988",
      "metadata": {
        "id": "64f1d988"
      },
      "source": [
        "How about we try grouping by multiple variables? Let us compute the same summaries, but grouping by `sex` and `year` this time."
      ]
    },
    {
      "cell_type": "code",
      "execution_count": null,
      "id": "e26d25f7",
      "metadata": {
        "name": "summarize-by-sex-year",
        "colab": {
          "base_uri": "https://localhost:8080/",
          "height": 322
        },
        "id": "e26d25f7",
        "outputId": "aa8316b8-fcba-4fb4-85d2-840a1d11653a"
      },
      "outputs": [
        {
          "output_type": "stream",
          "name": "stderr",
          "text": [
            "\u001b[1m\u001b[22m`summarise()` has grouped output by 'sex'. You can override using the `.groups`\n",
            "argument.\n"
          ]
        },
        {
          "output_type": "display_data",
          "data": {
            "text/html": [
              "<table class=\"dataframe\">\n",
              "<caption>A grouped_df: 6 × 4</caption>\n",
              "<thead>\n",
              "\t<tr><th scope=col>sex</th><th scope=col>year</th><th scope=col>nb_births</th><th scope=col>nb_names</th></tr>\n",
              "\t<tr><th scope=col>&lt;chr&gt;</th><th scope=col>&lt;dbl&gt;</th><th scope=col>&lt;dbl&gt;</th><th scope=col>&lt;int&gt;</th></tr>\n",
              "</thead>\n",
              "<tbody>\n",
              "\t<tr><td>F</td><td>1880</td><td> 90994</td><td> 942</td></tr>\n",
              "\t<tr><td>F</td><td>1881</td><td> 91953</td><td> 938</td></tr>\n",
              "\t<tr><td>F</td><td>1882</td><td>107847</td><td>1028</td></tr>\n",
              "\t<tr><td>F</td><td>1883</td><td>112319</td><td>1054</td></tr>\n",
              "\t<tr><td>F</td><td>1884</td><td>129019</td><td>1172</td></tr>\n",
              "\t<tr><td>F</td><td>1885</td><td>133055</td><td>1197</td></tr>\n",
              "</tbody>\n",
              "</table>\n"
            ],
            "text/markdown": "\nA grouped_df: 6 × 4\n\n| sex &lt;chr&gt; | year &lt;dbl&gt; | nb_births &lt;dbl&gt; | nb_names &lt;int&gt; |\n|---|---|---|---|\n| F | 1880 |  90994 |  942 |\n| F | 1881 |  91953 |  938 |\n| F | 1882 | 107847 | 1028 |\n| F | 1883 | 112319 | 1054 |\n| F | 1884 | 129019 | 1172 |\n| F | 1885 | 133055 | 1197 |\n\n",
            "text/latex": "A grouped\\_df: 6 × 4\n\\begin{tabular}{llll}\n sex & year & nb\\_births & nb\\_names\\\\\n <chr> & <dbl> & <dbl> & <int>\\\\\n\\hline\n\t F & 1880 &  90994 &  942\\\\\n\t F & 1881 &  91953 &  938\\\\\n\t F & 1882 & 107847 & 1028\\\\\n\t F & 1883 & 112319 & 1054\\\\\n\t F & 1884 & 129019 & 1172\\\\\n\t F & 1885 & 133055 & 1197\\\\\n\\end{tabular}\n",
            "text/plain": [
              "  sex year nb_births nb_names\n",
              "1 F   1880  90994     942    \n",
              "2 F   1881  91953     938    \n",
              "3 F   1882 107847    1028    \n",
              "4 F   1883 112319    1054    \n",
              "5 F   1884 129019    1172    \n",
              "6 F   1885 133055    1197    "
            ]
          },
          "metadata": {}
        }
      ],
      "source": [
        "tbl_names |>\n",
        "  group_by(sex, year) |>\n",
        "  summarize(\n",
        "    nb_births = sum(nb_births),\n",
        "    nb_names = n_distinct(name)\n",
        "  ) |>\n",
        "  head()"
      ]
    },
    {
      "cell_type": "markdown",
      "id": "0cb7325e",
      "metadata": {
        "id": "0cb7325e"
      },
      "source": [
        "It is very important to pay attention to the message that gets printed.\n",
        "\n",
        "```\n",
        "#> `summarize()` has grouped output by 'sex'. You can override using the `.groups`\n",
        "#> argument.\n",
        "```\n",
        "\n",
        "When you group by multiple variables, each summarize operation removes only the last level of grouping. For example, in this case, the grouping by `year` was removed, but the grouping by `sex` is still retained. This design has some advantages as it lets us do hierarchical summaries without having to invoke multiple `group_by` operations. However, it can also introduce nasty surprises if you are not careful.\n",
        "\n",
        "My recommendation would be to override this default behavior and always drop all grouping after a summarize operation. This might add some overhead especially if you are going to group it again. But doing that explicitly will save you a lot of pain."
      ]
    },
    {
      "cell_type": "code",
      "execution_count": null,
      "id": "67c5b0e4",
      "metadata": {
        "name": "summarize-by-sex-year-drop",
        "colab": {
          "base_uri": "https://localhost:8080/",
          "height": 322
        },
        "id": "67c5b0e4",
        "outputId": "a263669b-6569-4932-bc15-d19096c15a71"
      },
      "outputs": [
        {
          "output_type": "stream",
          "name": "stderr",
          "text": [
            "\u001b[1m\u001b[22m`summarise()` has grouped output by 'sex'. You can override using the `.groups`\n",
            "argument.\n"
          ]
        },
        {
          "output_type": "display_data",
          "data": {
            "text/html": [
              "<table class=\"dataframe\">\n",
              "<caption>A tibble: 6 × 4</caption>\n",
              "<thead>\n",
              "\t<tr><th scope=col>sex</th><th scope=col>year</th><th scope=col>nb_births</th><th scope=col>nb_names</th></tr>\n",
              "\t<tr><th scope=col>&lt;chr&gt;</th><th scope=col>&lt;dbl&gt;</th><th scope=col>&lt;dbl&gt;</th><th scope=col>&lt;int&gt;</th></tr>\n",
              "</thead>\n",
              "<tbody>\n",
              "\t<tr><td>F</td><td>1880</td><td> 90994</td><td> 942</td></tr>\n",
              "\t<tr><td>F</td><td>1881</td><td> 91953</td><td> 938</td></tr>\n",
              "\t<tr><td>F</td><td>1882</td><td>107847</td><td>1028</td></tr>\n",
              "\t<tr><td>F</td><td>1883</td><td>112319</td><td>1054</td></tr>\n",
              "\t<tr><td>F</td><td>1884</td><td>129019</td><td>1172</td></tr>\n",
              "\t<tr><td>F</td><td>1885</td><td>133055</td><td>1197</td></tr>\n",
              "</tbody>\n",
              "</table>\n"
            ],
            "text/markdown": "\nA tibble: 6 × 4\n\n| sex &lt;chr&gt; | year &lt;dbl&gt; | nb_births &lt;dbl&gt; | nb_names &lt;int&gt; |\n|---|---|---|---|\n| F | 1880 |  90994 |  942 |\n| F | 1881 |  91953 |  938 |\n| F | 1882 | 107847 | 1028 |\n| F | 1883 | 112319 | 1054 |\n| F | 1884 | 129019 | 1172 |\n| F | 1885 | 133055 | 1197 |\n\n",
            "text/latex": "A tibble: 6 × 4\n\\begin{tabular}{llll}\n sex & year & nb\\_births & nb\\_names\\\\\n <chr> & <dbl> & <dbl> & <int>\\\\\n\\hline\n\t F & 1880 &  90994 &  942\\\\\n\t F & 1881 &  91953 &  938\\\\\n\t F & 1882 & 107847 & 1028\\\\\n\t F & 1883 & 112319 & 1054\\\\\n\t F & 1884 & 129019 & 1172\\\\\n\t F & 1885 & 133055 & 1197\\\\\n\\end{tabular}\n",
            "text/plain": [
              "  sex year nb_births nb_names\n",
              "1 F   1880  90994     942    \n",
              "2 F   1881  91953     938    \n",
              "3 F   1882 107847    1028    \n",
              "4 F   1883 112319    1054    \n",
              "5 F   1884 129019    1172    \n",
              "6 F   1885 133055    1197    "
            ]
          },
          "metadata": {}
        }
      ],
      "source": [
        "tbl_names |>\n",
        "  group_by(sex, year) |>\n",
        "  summarize(\n",
        "    nb_births = sum(nb_births),\n",
        "    nb_names = n_distinct(name),\n",
        "    .groups = \"drop\"\n",
        "  ) |>\n",
        "  head()"
      ]
    },
    {
      "cell_type": "markdown",
      "id": "cdb36e4d",
      "metadata": {
        "id": "cdb36e4d"
      },
      "source": [
        "While, you can apply any of the data manipulation verbs in the `tidyverse` to a grouped data frame, there are some that are going to be used more than the others."
      ]
    },
    {
      "cell_type": "markdown",
      "id": "50141a8b",
      "metadata": {
        "id": "50141a8b"
      },
      "source": [
        "### `mutate()`: Create, modify, and delete columns\n",
        "\n",
        "A grouped data frame is just like a normal data frame EXCEPT that any operation you do on it is applied to each group separately. For example, suppose you want to compute the percentage of births in a year by `sex` and `name`. You can group by `sex` and `name` and use the `mutate()` function to add a column for the total number of births for each group, and then use that to compute the percentages.\n",
        "\n",
        "Let us now `ungroup()` the data, `filter()` for names with more than 50,000 births and `arrange()` them in descending order of births, so we can see how some names have a lion's share of births happening in a few years. For example, 40% of all Lunas were born in the years 2019, 2020, and 2021\n"
      ]
    },
    {
      "cell_type": "code",
      "execution_count": null,
      "id": "5c86b63a",
      "metadata": {
        "name": "mutate-nb-births",
        "colab": {
          "base_uri": "https://localhost:8080/",
          "height": 286
        },
        "id": "5c86b63a",
        "outputId": "c52783fb-0ab3-4b9f-cbdb-c2b4127dc5fb"
      },
      "outputs": [
        {
          "output_type": "display_data",
          "data": {
            "text/html": [
              "<table class=\"dataframe\">\n",
              "<caption>A tibble: 6 × 6</caption>\n",
              "<thead>\n",
              "\t<tr><th scope=col>year</th><th scope=col>name</th><th scope=col>sex</th><th scope=col>nb_births</th><th scope=col>nb_births_total</th><th scope=col>pct_births_in_year</th></tr>\n",
              "\t<tr><th scope=col>&lt;dbl&gt;</th><th scope=col>&lt;chr&gt;</th><th scope=col>&lt;chr&gt;</th><th scope=col>&lt;dbl&gt;</th><th scope=col>&lt;dbl&gt;</th><th scope=col>&lt;dbl&gt;</th></tr>\n",
              "</thead>\n",
              "<tbody>\n",
              "\t<tr><td>2021</td><td>Luna</td><td>F</td><td>8173</td><td>57494</td><td>0.1421540</td></tr>\n",
              "\t<tr><td>2020</td><td>Luna</td><td>F</td><td>7818</td><td>57494</td><td>0.1359794</td></tr>\n",
              "\t<tr><td>2019</td><td>Luna</td><td>F</td><td>7778</td><td>57494</td><td>0.1352837</td></tr>\n",
              "\t<tr><td>2018</td><td>Mila</td><td>F</td><td>8158</td><td>61710</td><td>0.1321990</td></tr>\n",
              "\t<tr><td>2018</td><td>Luna</td><td>F</td><td>6931</td><td>57494</td><td>0.1205517</td></tr>\n",
              "\t<tr><td>2019</td><td>Mila</td><td>F</td><td>7330</td><td>61710</td><td>0.1187814</td></tr>\n",
              "</tbody>\n",
              "</table>\n"
            ],
            "text/markdown": "\nA tibble: 6 × 6\n\n| year &lt;dbl&gt; | name &lt;chr&gt; | sex &lt;chr&gt; | nb_births &lt;dbl&gt; | nb_births_total &lt;dbl&gt; | pct_births_in_year &lt;dbl&gt; |\n|---|---|---|---|---|---|\n| 2021 | Luna | F | 8173 | 57494 | 0.1421540 |\n| 2020 | Luna | F | 7818 | 57494 | 0.1359794 |\n| 2019 | Luna | F | 7778 | 57494 | 0.1352837 |\n| 2018 | Mila | F | 8158 | 61710 | 0.1321990 |\n| 2018 | Luna | F | 6931 | 57494 | 0.1205517 |\n| 2019 | Mila | F | 7330 | 61710 | 0.1187814 |\n\n",
            "text/latex": "A tibble: 6 × 6\n\\begin{tabular}{llllll}\n year & name & sex & nb\\_births & nb\\_births\\_total & pct\\_births\\_in\\_year\\\\\n <dbl> & <chr> & <chr> & <dbl> & <dbl> & <dbl>\\\\\n\\hline\n\t 2021 & Luna & F & 8173 & 57494 & 0.1421540\\\\\n\t 2020 & Luna & F & 7818 & 57494 & 0.1359794\\\\\n\t 2019 & Luna & F & 7778 & 57494 & 0.1352837\\\\\n\t 2018 & Mila & F & 8158 & 61710 & 0.1321990\\\\\n\t 2018 & Luna & F & 6931 & 57494 & 0.1205517\\\\\n\t 2019 & Mila & F & 7330 & 61710 & 0.1187814\\\\\n\\end{tabular}\n",
            "text/plain": [
              "  year name sex nb_births nb_births_total pct_births_in_year\n",
              "1 2021 Luna F   8173      57494           0.1421540         \n",
              "2 2020 Luna F   7818      57494           0.1359794         \n",
              "3 2019 Luna F   7778      57494           0.1352837         \n",
              "4 2018 Mila F   8158      61710           0.1321990         \n",
              "5 2018 Luna F   6931      57494           0.1205517         \n",
              "6 2019 Mila F   7330      61710           0.1187814         "
            ]
          },
          "metadata": {}
        }
      ],
      "source": [
        "tbl_names |>\n",
        "  group_by(sex, name) |>\n",
        "  mutate(\n",
        "    nb_births_total = sum(nb_births),\n",
        "    pct_births_in_year = nb_births / nb_births_total\n",
        "  ) |>\n",
        "  ungroup() |>\n",
        "  filter(nb_births_total > 50000) |>\n",
        "  arrange(desc(pct_births_in_year)) |>\n",
        "  head()"
      ]
    },
    {
      "cell_type": "markdown",
      "id": "d7ed815c",
      "metadata": {
        "id": "d7ed815c"
      },
      "source": [
        "Note that it is very important to ungroup the data using `ungroup()` before applying any data frame wide operations. It is more efficient to operate on whole data frames and grouped operations are always going to be slower."
      ]
    },
    {
      "cell_type": "markdown",
      "id": "d907d9e8",
      "metadata": {
        "id": "d907d9e8"
      },
      "source": [
        "### `across()`: Apply a function across multiple columns\n",
        "\n",
        "Finally, there are situations where you might want to apply a function across multiple columns. This is where the `across()` function comes very handy. You can use different selector functions available to summarize a group of columns without having to write multiple lines of code. Shown below are two examples, where we summarize the mean of a number of columns of the data by `cut`.\n",
        "\n",
        "- In the first example, we select the columns to summarize across by name\n",
        "- In the second example, we select the columns to summarize across by their data type."
      ]
    },
    {
      "cell_type": "code",
      "execution_count": null,
      "id": "ed736b72",
      "metadata": {
        "lines_to_next_cell": 0,
        "name": "across",
        "colab": {
          "base_uri": "https://localhost:8080/",
          "height": 255
        },
        "id": "ed736b72",
        "outputId": "30647726-7408-46d5-9b1b-e544212241a4"
      },
      "outputs": [
        {
          "output_type": "display_data",
          "data": {
            "text/html": [
              "<table class=\"dataframe\">\n",
              "<caption>A tibble: 5 × 3</caption>\n",
              "<thead>\n",
              "\t<tr><th scope=col>cut</th><th scope=col>carat</th><th scope=col>price</th></tr>\n",
              "\t<tr><th scope=col>&lt;ord&gt;</th><th scope=col>&lt;dbl&gt;</th><th scope=col>&lt;dbl&gt;</th></tr>\n",
              "</thead>\n",
              "<tbody>\n",
              "\t<tr><td>Fair     </td><td>1.0461366</td><td>4358.758</td></tr>\n",
              "\t<tr><td>Good     </td><td>0.8491847</td><td>3928.864</td></tr>\n",
              "\t<tr><td>Very Good</td><td>0.8063814</td><td>3981.760</td></tr>\n",
              "\t<tr><td>Premium  </td><td>0.8919549</td><td>4584.258</td></tr>\n",
              "\t<tr><td>Ideal    </td><td>0.7028370</td><td>3457.542</td></tr>\n",
              "</tbody>\n",
              "</table>\n"
            ],
            "text/markdown": "\nA tibble: 5 × 3\n\n| cut &lt;ord&gt; | carat &lt;dbl&gt; | price &lt;dbl&gt; |\n|---|---|---|\n| Fair      | 1.0461366 | 4358.758 |\n| Good      | 0.8491847 | 3928.864 |\n| Very Good | 0.8063814 | 3981.760 |\n| Premium   | 0.8919549 | 4584.258 |\n| Ideal     | 0.7028370 | 3457.542 |\n\n",
            "text/latex": "A tibble: 5 × 3\n\\begin{tabular}{lll}\n cut & carat & price\\\\\n <ord> & <dbl> & <dbl>\\\\\n\\hline\n\t Fair      & 1.0461366 & 4358.758\\\\\n\t Good      & 0.8491847 & 3928.864\\\\\n\t Very Good & 0.8063814 & 3981.760\\\\\n\t Premium   & 0.8919549 & 4584.258\\\\\n\t Ideal     & 0.7028370 & 3457.542\\\\\n\\end{tabular}\n",
            "text/plain": [
              "  cut       carat     price   \n",
              "1 Fair      1.0461366 4358.758\n",
              "2 Good      0.8491847 3928.864\n",
              "3 Very Good 0.8063814 3981.760\n",
              "4 Premium   0.8919549 4584.258\n",
              "5 Ideal     0.7028370 3457.542"
            ]
          },
          "metadata": {}
        }
      ],
      "source": [
        "# Summarize multiple columns by name\n",
        "diamonds |>\n",
        "  group_by(cut) |>\n",
        "  summarize(across(c(carat, price), mean)) |>\n",
        "  head()"
      ]
    },
    {
      "cell_type": "code",
      "source": [
        "# Summarize multiple columns by data type\n",
        "diamonds |>\n",
        "  group_by(cut) |>\n",
        "  summarize(across(where(is.numeric), mean)) |>\n",
        "  head()"
      ],
      "metadata": {
        "colab": {
          "base_uri": "https://localhost:8080/",
          "height": 255
        },
        "id": "M2sKmUOhtSYz",
        "outputId": "a2d4cc21-f844-4bf1-e82d-dca1efbb7334"
      },
      "id": "M2sKmUOhtSYz",
      "execution_count": null,
      "outputs": [
        {
          "output_type": "display_data",
          "data": {
            "text/html": [
              "<table class=\"dataframe\">\n",
              "<caption>A tibble: 5 × 8</caption>\n",
              "<thead>\n",
              "\t<tr><th scope=col>cut</th><th scope=col>carat</th><th scope=col>depth</th><th scope=col>table</th><th scope=col>price</th><th scope=col>x</th><th scope=col>y</th><th scope=col>z</th></tr>\n",
              "\t<tr><th scope=col>&lt;ord&gt;</th><th scope=col>&lt;dbl&gt;</th><th scope=col>&lt;dbl&gt;</th><th scope=col>&lt;dbl&gt;</th><th scope=col>&lt;dbl&gt;</th><th scope=col>&lt;dbl&gt;</th><th scope=col>&lt;dbl&gt;</th><th scope=col>&lt;dbl&gt;</th></tr>\n",
              "</thead>\n",
              "<tbody>\n",
              "\t<tr><td>Fair     </td><td>1.0461366</td><td>64.04168</td><td>59.05379</td><td>4358.758</td><td>6.246894</td><td>6.182652</td><td>3.982770</td></tr>\n",
              "\t<tr><td>Good     </td><td>0.8491847</td><td>62.36588</td><td>58.69464</td><td>3928.864</td><td>5.838785</td><td>5.850744</td><td>3.639507</td></tr>\n",
              "\t<tr><td>Very Good</td><td>0.8063814</td><td>61.81828</td><td>57.95615</td><td>3981.760</td><td>5.740696</td><td>5.770026</td><td>3.559801</td></tr>\n",
              "\t<tr><td>Premium  </td><td>0.8919549</td><td>61.26467</td><td>58.74610</td><td>4584.258</td><td>5.973887</td><td>5.944879</td><td>3.647124</td></tr>\n",
              "\t<tr><td>Ideal    </td><td>0.7028370</td><td>61.70940</td><td>55.95167</td><td>3457.542</td><td>5.507451</td><td>5.520080</td><td>3.401448</td></tr>\n",
              "</tbody>\n",
              "</table>\n"
            ],
            "text/markdown": "\nA tibble: 5 × 8\n\n| cut &lt;ord&gt; | carat &lt;dbl&gt; | depth &lt;dbl&gt; | table &lt;dbl&gt; | price &lt;dbl&gt; | x &lt;dbl&gt; | y &lt;dbl&gt; | z &lt;dbl&gt; |\n|---|---|---|---|---|---|---|---|\n| Fair      | 1.0461366 | 64.04168 | 59.05379 | 4358.758 | 6.246894 | 6.182652 | 3.982770 |\n| Good      | 0.8491847 | 62.36588 | 58.69464 | 3928.864 | 5.838785 | 5.850744 | 3.639507 |\n| Very Good | 0.8063814 | 61.81828 | 57.95615 | 3981.760 | 5.740696 | 5.770026 | 3.559801 |\n| Premium   | 0.8919549 | 61.26467 | 58.74610 | 4584.258 | 5.973887 | 5.944879 | 3.647124 |\n| Ideal     | 0.7028370 | 61.70940 | 55.95167 | 3457.542 | 5.507451 | 5.520080 | 3.401448 |\n\n",
            "text/latex": "A tibble: 5 × 8\n\\begin{tabular}{llllllll}\n cut & carat & depth & table & price & x & y & z\\\\\n <ord> & <dbl> & <dbl> & <dbl> & <dbl> & <dbl> & <dbl> & <dbl>\\\\\n\\hline\n\t Fair      & 1.0461366 & 64.04168 & 59.05379 & 4358.758 & 6.246894 & 6.182652 & 3.982770\\\\\n\t Good      & 0.8491847 & 62.36588 & 58.69464 & 3928.864 & 5.838785 & 5.850744 & 3.639507\\\\\n\t Very Good & 0.8063814 & 61.81828 & 57.95615 & 3981.760 & 5.740696 & 5.770026 & 3.559801\\\\\n\t Premium   & 0.8919549 & 61.26467 & 58.74610 & 4584.258 & 5.973887 & 5.944879 & 3.647124\\\\\n\t Ideal     & 0.7028370 & 61.70940 & 55.95167 & 3457.542 & 5.507451 & 5.520080 & 3.401448\\\\\n\\end{tabular}\n",
            "text/plain": [
              "  cut       carat     depth    table    price    x        y        z       \n",
              "1 Fair      1.0461366 64.04168 59.05379 4358.758 6.246894 6.182652 3.982770\n",
              "2 Good      0.8491847 62.36588 58.69464 3928.864 5.838785 5.850744 3.639507\n",
              "3 Very Good 0.8063814 61.81828 57.95615 3981.760 5.740696 5.770026 3.559801\n",
              "4 Premium   0.8919549 61.26467 58.74610 4584.258 5.973887 5.944879 3.647124\n",
              "5 Ideal     0.7028370 61.70940 55.95167 3457.542 5.507451 5.520080 3.401448"
            ]
          },
          "metadata": {}
        }
      ]
    }
  ],
  "metadata": {
    "jupytext": {
      "cell_metadata_filter": "tags,message,out.width,name,-all",
      "split_at_heading": true
    },
    "kernelspec": {
      "display_name": "R",
      "language": "R",
      "name": "ir"
    },
    "colab": {
      "provenance": []
    }
  },
  "nbformat": 4,
  "nbformat_minor": 5
}
