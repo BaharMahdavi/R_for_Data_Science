{
  "cells": [
    {
      "cell_type": "markdown",
      "id": "80006d42",
      "metadata": {
        "id": "80006d42"
      },
      "source": [
        "<a href=https://uplimit.com/course/r-for-data-science>\n",
        "  <img src=https://imgur.com/6Vkc11w.png />\n",
        "</a>\n",
        "\n",
        "|        |                                   |                                   |                                 |                                |\n",
        "| -------| ----------------------------------| -------------------------------- -| --------------------------------| ------------------------------------------|\n",
        "| Week 1 | [[01] Doing Data Science](https://colab.research.google.com/drive/1aWpmzS36qVc8hNIaSSSHexlodwwyMJCB)           | [[02] Data Science in Action](https://colab.research.google.com/drive/1aWpmzS36qVc8hNIaSSSHexlodwwyMJCB)       | [[03] Importing Data](https://colab.research.google.com/drive/13kHBX3H1F2yx5yXWJ5iFZh48qjEtpLjU)             | [[04] Visualizing Data: Overview](https://colab.research.google.com/drive/1JSeDt-Gneegd5B2KwWTJF_igYPb-xsIv)          |\n",
        "|        | [[05] Transforming Data: Overview](https://colab.research.google.com/drive/1IMZJFE8WmwjgdYCddvaO386PljKq_PjC)  | [[06] Transforming Data: Manipulate](https://colab.research.google.com/drive/19ClnAH7d30I9PkD9KuZndPmy5hxk3gdi) |                                 |                                           |\n",
        "| Week 2 | [[07] Transforming Data: Aggregate](https://colab.research.google.com/drive/1zigvePewKpzKQHx2pjABXU6Ms8QzQXj7) | [[08] Transforming Data: Reshape](https://colab.research.google.com/drive/1Ma9VrM9SrkNEeXTSul0Ca8a7GHAeNLzC)   | [[09] Transforming Data: Combine](https://colab.research.google.com/drive/1JUGm1h4YPmCkre-rVUj5Ql7lBS66_xIs) | [[10] Visualizing Data: Grammar of Graphics](https://colab.research.google.com/drive/1YLE3NPp-TO2KUTohtidjzKMeqJVWxYoT) |\n",
        "|        | [[11] Data Science in Action Again](https://colab.research.google.com/drive/1eWjVK4oEiXdwdP4sT0nOJlmkCMBkfLpz) |                                   |                                 |                                           |\n",
        "Books | [Hands on Programming with R](https://rstudio-education.github.io/hopr/index.html) | [R for Data Science](https://r4ds.hadley.nz/) | [Elegant Graphics for Data Analysis](https://ggplot2-book.org/)\n",
        "\n",
        "\n"
      ]
    },
    {
      "cell_type": "markdown",
      "id": "3fc66ea7",
      "metadata": {
        "id": "3fc66ea7"
      },
      "source": [
        "> 📕 __BEFORE YOU GET STARTED:__\n",
        "> 1. Click on **Copy to Drive** to copy notebook to your drive.\n",
        "> 2. Click on **Share** on the top-right corner (of your copied notebook).\n",
        "> 3. Update sharing settings to **Anyone with link**\n",
        "> 4. Delete this cell.\n"
      ]
    },
    {
      "cell_type": "markdown",
      "id": "4a20a220",
      "metadata": {
        "id": "4a20a220"
      },
      "source": [
        "## Importing Data\n",
        "\n",
        "Importing data refers to the process of reading data from an external file or data source into an R session or environment. This is an important step in many data science projects, as it allows you to work with real-world data in R.\n",
        "\n",
        "<img src=\"https://i.imgur.com/Up3eaUJ.png\" />"
      ]
    },
    {
      "cell_type": "markdown",
      "id": "dc23d58b",
      "metadata": {
        "id": "dc23d58b"
      },
      "source": [
        "In R, there are several functions and packages that can be used to import data. Some of the most commonly used ones are:\n",
        "\n",
        "-   `read.table()`, `read.csv()`, and `read.delim()`: These are base R functions for reading in tabular data from text files with different formats.\n",
        "\n",
        "-   `readr::read_csv()` and `readr::read_tsv()`: These are functions from the `readr` package, which provides fast and efficient reading of tabular data with more flexible options for handling missing values, column types, and so on.\n",
        "\n",
        "-   `haven::read_sas()`, `haven::read_dta()`, `haven::read_spss()`: These are functions from the `haven` package, which can be used to read in data from SAS, Stata, and SPSS files respectively.\n",
        "\n",
        "-   `readxl::read_excel()`: This is a function from the `readxl` package, which can be used to read in data from Excel files.\n",
        "\n",
        "-   `httr::GET()`: This function can be used to retrieve data from a web API or a remote data source over the internet.\n"
      ]
    },
    {
      "cell_type": "code",
      "execution_count": null,
      "id": "a93dcc64",
      "metadata": {
        "lines_to_next_cell": 2,
        "message": false,
        "name": "setup",
        "tags": [
          "remove_cell"
        ],
        "colab": {
          "base_uri": "https://localhost:8080/"
        },
        "id": "a93dcc64",
        "outputId": "01a25446-3ab3-4ffb-89b4-907bae8e8656"
      },
      "outputs": [
        {
          "output_type": "stream",
          "name": "stderr",
          "text": [
            "── \u001b[1mAttaching core tidyverse packages\u001b[22m ──────────────────────── tidyverse 2.0.0 ──\n",
            "\u001b[32m✔\u001b[39m \u001b[34mdplyr    \u001b[39m 1.1.3     \u001b[32m✔\u001b[39m \u001b[34mreadr    \u001b[39m 2.1.4\n",
            "\u001b[32m✔\u001b[39m \u001b[34mforcats  \u001b[39m 1.0.0     \u001b[32m✔\u001b[39m \u001b[34mstringr  \u001b[39m 1.5.0\n",
            "\u001b[32m✔\u001b[39m \u001b[34mggplot2  \u001b[39m 3.4.4     \u001b[32m✔\u001b[39m \u001b[34mtibble   \u001b[39m 3.2.1\n",
            "\u001b[32m✔\u001b[39m \u001b[34mlubridate\u001b[39m 1.9.3     \u001b[32m✔\u001b[39m \u001b[34mtidyr    \u001b[39m 1.3.0\n",
            "\u001b[32m✔\u001b[39m \u001b[34mpurrr    \u001b[39m 1.0.2     \n",
            "── \u001b[1mConflicts\u001b[22m ────────────────────────────────────────── tidyverse_conflicts() ──\n",
            "\u001b[31m✖\u001b[39m \u001b[34mdplyr\u001b[39m::\u001b[32mfilter()\u001b[39m masks \u001b[34mstats\u001b[39m::filter()\n",
            "\u001b[31m✖\u001b[39m \u001b[34mdplyr\u001b[39m::\u001b[32mlag()\u001b[39m    masks \u001b[34mstats\u001b[39m::lag()\n",
            "\u001b[36mℹ\u001b[39m Use the conflicted package (\u001b[3m\u001b[34m<http://conflicted.r-lib.org/>\u001b[39m\u001b[23m) to force all conflicts to become errors\n",
            "Installing package into ‘/usr/local/lib/R/site-library’\n",
            "(as ‘lib’ is unspecified)\n",
            "\n",
            "Tracing function \"install.packages\" in package \"utils\"\n",
            "\n",
            "Tracing function \"update.packages\" in package \"utils\"\n",
            "\n",
            "Installing packages into ‘/usr/local/lib/R/site-library’\n",
            "(as ‘lib’ is unspecified)\n",
            "\n",
            "Inspecting installed packages...\n",
            "\n"
          ]
        }
      ],
      "source": [
        "# Load packages and common utility funtions\n",
        "library(tidyverse)\n",
        "url = \"https://gist.githubusercontent.com/ramnathv/e71d3ffe88961fc4ef95642053012384/raw/9dda53562d06009912841ab3538d4aeb90e5ee09/_common.R\"\n",
        "download.file(url, basename(url))\n",
        "source(\"_common.R\")"
      ]
    },
    {
      "cell_type": "markdown",
      "id": "926864a7",
      "metadata": {
        "id": "926864a7"
      },
      "source": [
        "### Download Zip File\n",
        "\n",
        "In this course, we will be working with a very interesting dataset of 100+ years of US baby names from the Social Security Administration (SSA). The raw data is available on the SSA website as a zip file, and we will start our data import by downloading this zip file."
      ]
    },
    {
      "cell_type": "code",
      "execution_count": null,
      "id": "f1f1b5c2",
      "metadata": {
        "name": "download-names",
        "id": "f1f1b5c2"
      },
      "outputs": [],
      "source": [
        "NAMES_URL <- \"https://www.ssa.gov/oact/babynames/names.zip\"\n",
        "dir.create(\"data\", showWarnings = FALSE)\n",
        "DOWNLOAD_DIR <- here::here(\"data\")\n",
        "NAMES_ZIP <- file.path(DOWNLOAD_DIR, basename(NAMES_URL))\n",
        "\n",
        "# Download `NAMES_ZIP` from `NAMES_URL` if it does not already exist\n",
        "if (!file.exists(NAMES_ZIP)) {\n",
        "  download.file(NAMES_URL, NAMES_ZIP)\n",
        "}"
      ]
    },
    {
      "cell_type": "markdown",
      "id": "18f2298d",
      "metadata": {
        "id": "18f2298d"
      },
      "source": [
        "The `download.file()` function is used to download the zip file from the URL specified in `NAMES_URL` and save it to the location specified in `NAMES_ZIP`. Note that we first check if the file to be downloaded already exists and download it ONLY if it has not been downloaded already.\n",
        "\n",
        "After running this code, the zip file containing baby names data from the SSA website will be downloaded and saved to the specified `DOWNLOAD_DIR` directory with the file name specified in `NAMES_ZIP`.\n",
        "\n",
        "------------------------------------------------------------------------\n",
        "\n",
        "To become a good data scientist, you need to focus on three things:\n",
        "\n",
        "1.  Identify WHAT needs to be done?\n",
        "2.  Identify the STEPS to accomplish the task.\n",
        "3.  Write code to execute the steps.\n",
        "\n",
        "The first two areas are typically language agnostic and require one to focus on the ability to define a problem and break it down into steps. The last area is language specific, and knowing the language and its ecosystem well will allow you to write highly performant, concise code.\n",
        "\n",
        "------------------------------------------------------------------------"
      ]
    },
    {
      "cell_type": "markdown",
      "id": "02aecd1a",
      "metadata": {
        "id": "02aecd1a"
      },
      "source": [
        "### Explore Zip File\n",
        "\n",
        "Before we can import the data into R, we need to explore the contents of the zip file. Let us list the files contained within the zip file, without actually unzipping them."
      ]
    },
    {
      "cell_type": "code",
      "execution_count": null,
      "id": "e805ccc8",
      "metadata": {
        "name": "list-files",
        "colab": {
          "base_uri": "https://localhost:8080/",
          "height": 286
        },
        "id": "e805ccc8",
        "outputId": "21a7d2e0-c38b-4812-e0ef-ef5f0f14b43c"
      },
      "outputs": [
        {
          "output_type": "display_data",
          "data": {
            "text/html": [
              "<table class=\"dataframe\">\n",
              "<caption>A data.frame: 6 × 3</caption>\n",
              "<thead>\n",
              "\t<tr><th></th><th scope=col>Name</th><th scope=col>Length</th><th scope=col>Date</th></tr>\n",
              "\t<tr><th></th><th scope=col>&lt;chr&gt;</th><th scope=col>&lt;dbl&gt;</th><th scope=col>&lt;dttm&gt;</th></tr>\n",
              "</thead>\n",
              "<tbody>\n",
              "\t<tr><th scope=row>1</th><td>yob1880.txt</td><td>24933</td><td>2023-03-15 18:55:00</td></tr>\n",
              "\t<tr><th scope=row>2</th><td>yob1881.txt</td><td>24052</td><td>2023-03-15 18:55:00</td></tr>\n",
              "\t<tr><th scope=row>3</th><td>yob1882.txt</td><td>26559</td><td>2023-03-15 18:55:00</td></tr>\n",
              "\t<tr><th scope=row>4</th><td>yob1883.txt</td><td>26002</td><td>2023-03-15 18:55:00</td></tr>\n",
              "\t<tr><th scope=row>5</th><td>yob1884.txt</td><td>28670</td><td>2023-03-15 18:55:00</td></tr>\n",
              "\t<tr><th scope=row>6</th><td>yob1885.txt</td><td>28625</td><td>2023-03-15 18:55:00</td></tr>\n",
              "</tbody>\n",
              "</table>\n"
            ],
            "text/markdown": "\nA data.frame: 6 × 3\n\n| <!--/--> | Name &lt;chr&gt; | Length &lt;dbl&gt; | Date &lt;dttm&gt; |\n|---|---|---|---|\n| 1 | yob1880.txt | 24933 | 2023-03-15 18:55:00 |\n| 2 | yob1881.txt | 24052 | 2023-03-15 18:55:00 |\n| 3 | yob1882.txt | 26559 | 2023-03-15 18:55:00 |\n| 4 | yob1883.txt | 26002 | 2023-03-15 18:55:00 |\n| 5 | yob1884.txt | 28670 | 2023-03-15 18:55:00 |\n| 6 | yob1885.txt | 28625 | 2023-03-15 18:55:00 |\n\n",
            "text/latex": "A data.frame: 6 × 3\n\\begin{tabular}{r|lll}\n  & Name & Length & Date\\\\\n  & <chr> & <dbl> & <dttm>\\\\\n\\hline\n\t1 & yob1880.txt & 24933 & 2023-03-15 18:55:00\\\\\n\t2 & yob1881.txt & 24052 & 2023-03-15 18:55:00\\\\\n\t3 & yob1882.txt & 26559 & 2023-03-15 18:55:00\\\\\n\t4 & yob1883.txt & 26002 & 2023-03-15 18:55:00\\\\\n\t5 & yob1884.txt & 28670 & 2023-03-15 18:55:00\\\\\n\t6 & yob1885.txt & 28625 & 2023-03-15 18:55:00\\\\\n\\end{tabular}\n",
            "text/plain": [
              "  Name        Length Date               \n",
              "1 yob1880.txt 24933  2023-03-15 18:55:00\n",
              "2 yob1881.txt 24052  2023-03-15 18:55:00\n",
              "3 yob1882.txt 26559  2023-03-15 18:55:00\n",
              "4 yob1883.txt 26002  2023-03-15 18:55:00\n",
              "5 yob1884.txt 28670  2023-03-15 18:55:00\n",
              "6 yob1885.txt 28625  2023-03-15 18:55:00"
            ]
          },
          "metadata": {}
        }
      ],
      "source": [
        "files <- unzip(NAMES_ZIP, list = TRUE)\n",
        "head(files)"
      ]
    },
    {
      "cell_type": "markdown",
      "id": "44653d6b",
      "metadata": {
        "id": "44653d6b"
      },
      "source": [
        "The `unzip()` function is used to extract information about the contents of the zip file, with the `list = TRUE` argument specified to only list the files within the zip file, rather than extracting them.\n",
        "\n",
        "The `head()` function is used to display the first 6 rows (by default) of an object. In this case, it will show the first 6 rows of the `files` object. If you wanted to see the first 10 rows instead, you could add a second argument to the `head()` function, e.g., `head(file, n = 10)`.\n",
        "\n",
        "Looking at the `files` object, it seems like the data is stored as multiple text files, one for each year.\n",
        "\n",
        "----\n",
        "\n",
        "Learning a programming language is very similar to how you would learn a new language. You need to start with the __letters__ of the alphabet, put them together to form __words__, put words into __sentences__, sentences into __paragraphs__, and paragraphs into __documents__.\n",
        "\n",
        "Becoming a good data scientist requires you to build a strong vocabulary of functionality. The area where the `tidyverse` shines bright is that it provides you with a highly consistent vocabulary of small building blocks that can be strung together to accomplish complex tasks.\n",
        "\n",
        "One learning tip I can give you is that every time you encounter a new function, write it down with an example and fill in your own description. Periodically refer to this so you internalize this in your mind.\n",
        "\n",
        "----"
      ]
    },
    {
      "cell_type": "markdown",
      "id": "2d6d7860",
      "metadata": {
        "id": "2d6d7860"
      },
      "source": [
        "### Explore Text File\n",
        "\n",
        "Let us read the first 5 lines of the text file `yob1880.txt` located within the zip file downloaded. We can do this using the `unz()` function to create a connection to the zip file `yob1880.txt`, and read the first 5 lines of this text file.\n",
        "\n",
        "When dealing with text files, it is really important to take the time to read the first few lines of data so you can understand how it is formatted, and what would be the appropriate function to use to import it as a data frame."
      ]
    },
    {
      "cell_type": "code",
      "execution_count": null,
      "id": "7487b71f",
      "metadata": {
        "name": "explore-contents",
        "colab": {
          "base_uri": "https://localhost:8080/"
        },
        "id": "7487b71f",
        "outputId": "47daa637-f59e-4f3e-878a-40a466b0ad15"
      },
      "outputs": [
        {
          "output_type": "stream",
          "name": "stdout",
          "text": [
            "[1] \"Mary,F,7065\"      \"Anna,F,2604\"      \"Emma,F,2003\"      \"Elizabeth,F,1939\"\n",
            "[5] \"Minnie,F,1746\"   \n"
          ]
        }
      ],
      "source": [
        "file_con <- unz(NAMES_ZIP, 'yob1880.txt')\n",
        "print(readLines(file_con, n = 5))"
      ]
    },
    {
      "cell_type": "markdown",
      "id": "64527950",
      "metadata": {
        "id": "64527950"
      },
      "source": [
        "It seems like each line of this file holds comma separated values. This is the most common type of text data you will find, and we can read it as a data frame into R using the `read_csv()` function from `readr`.\n",
        "\n",
        "Another important point to note is that this text file does NOT contain a row with the column headers. Hence, we will need to specify it explicitly when we read the data into R."
      ]
    },
    {
      "cell_type": "markdown",
      "id": "e20886ef",
      "metadata": {
        "id": "e20886ef"
      },
      "source": [
        "### Read CSV File\n",
        "\n",
        "Let us now read the text file `yob1880.txt`, into a data frame using the `read_csv()` function from the `readr` package. We will use the connection object `file_con` that we created previously."
      ]
    },
    {
      "cell_type": "code",
      "execution_count": null,
      "id": "f67bf154",
      "metadata": {
        "name": "read-file",
        "colab": {
          "base_uri": "https://localhost:8080/",
          "height": 286
        },
        "id": "f67bf154",
        "outputId": "4e473ffb-317a-4567-ba12-87b8438c5c57"
      },
      "outputs": [
        {
          "output_type": "display_data",
          "data": {
            "text/html": [
              "<table class=\"dataframe\">\n",
              "<caption>A tibble: 6 × 3</caption>\n",
              "<thead>\n",
              "\t<tr><th scope=col>name</th><th scope=col>sex</th><th scope=col>nb_births</th></tr>\n",
              "\t<tr><th scope=col>&lt;chr&gt;</th><th scope=col>&lt;chr&gt;</th><th scope=col>&lt;dbl&gt;</th></tr>\n",
              "</thead>\n",
              "<tbody>\n",
              "\t<tr><td>Mary     </td><td>F</td><td>7065</td></tr>\n",
              "\t<tr><td>Anna     </td><td>F</td><td>2604</td></tr>\n",
              "\t<tr><td>Emma     </td><td>F</td><td>2003</td></tr>\n",
              "\t<tr><td>Elizabeth</td><td>F</td><td>1939</td></tr>\n",
              "\t<tr><td>Minnie   </td><td>F</td><td>1746</td></tr>\n",
              "\t<tr><td>Margaret </td><td>F</td><td>1578</td></tr>\n",
              "</tbody>\n",
              "</table>\n"
            ],
            "text/markdown": "\nA tibble: 6 × 3\n\n| name &lt;chr&gt; | sex &lt;chr&gt; | nb_births &lt;dbl&gt; |\n|---|---|---|\n| Mary      | F | 7065 |\n| Anna      | F | 2604 |\n| Emma      | F | 2003 |\n| Elizabeth | F | 1939 |\n| Minnie    | F | 1746 |\n| Margaret  | F | 1578 |\n\n",
            "text/latex": "A tibble: 6 × 3\n\\begin{tabular}{lll}\n name & sex & nb\\_births\\\\\n <chr> & <chr> & <dbl>\\\\\n\\hline\n\t Mary      & F & 7065\\\\\n\t Anna      & F & 2604\\\\\n\t Emma      & F & 2003\\\\\n\t Elizabeth & F & 1939\\\\\n\t Minnie    & F & 1746\\\\\n\t Margaret  & F & 1578\\\\\n\\end{tabular}\n",
            "text/plain": [
              "  name      sex nb_births\n",
              "1 Mary      F   7065     \n",
              "2 Anna      F   2604     \n",
              "3 Emma      F   2003     \n",
              "4 Elizabeth F   1939     \n",
              "5 Minnie    F   1746     \n",
              "6 Margaret  F   1578     "
            ]
          },
          "metadata": {}
        }
      ],
      "source": [
        "tbl_names <- readr::read_csv(\n",
        "  file = file_con,\n",
        "  col_names = c('name', 'sex', 'nb_births'),\n",
        "  show_col_types = FALSE\n",
        ")\n",
        "\n",
        "head(tbl_names)"
      ]
    },
    {
      "cell_type": "markdown",
      "id": "58bfebea",
      "metadata": {
        "id": "58bfebea"
      },
      "source": [
        "1.  The `file` argument specifies the connection to the text file to be read.\n",
        "2.  The `col_names` argument specifies the column names to be assigned to the resulting data frame, with the first column being named 'name', the second column being named 'sex', and the third column being named 'nb_births'.\n",
        "3.  The `show_col_types` argument is set to `FALSE`, which means that column types will not be displayed as the data is read in.\n",
        "\n",
        "The resulting `tbl_names` object is a data frame containing the baby names data, with one row per name and columns for name, sex, and the number of births for that name."
      ]
    },
    {
      "cell_type": "markdown",
      "id": "c461a8bc",
      "metadata": {
        "id": "c461a8bc"
      },
      "source": [
        "### Unzip Zip File\n",
        "\n",
        "We are now ready to read data from all the text files in the zip file. In order to do this, we should first unzip the contents of the zip file `NAMES_ZIP` to a temporary directory `NAMES_DIR`, and then get the paths to all the text files as the variable `NAMES_TXT_FILES`."
      ]
    },
    {
      "cell_type": "code",
      "execution_count": null,
      "id": "f59b5a8e",
      "metadata": {
        "name": "unzip-files",
        "colab": {
          "base_uri": "https://localhost:8080/"
        },
        "id": "f59b5a8e",
        "outputId": "50683ca9-d558-4b57-f829-f7d93be5f948"
      },
      "outputs": [
        {
          "output_type": "stream",
          "name": "stdout",
          "text": [
            "/tmp/RtmpyGukp4/yob1880.txt /tmp/RtmpyGukp4/yob1881.txt \n",
            "/tmp/RtmpyGukp4/yob1882.txt /tmp/RtmpyGukp4/yob1883.txt \n",
            "/tmp/RtmpyGukp4/yob1884.txt /tmp/RtmpyGukp4/yob1885.txt \n"
          ]
        }
      ],
      "source": [
        "NAMES_DIR <- tempdir()\n",
        "unzip(NAMES_ZIP, exdir = NAMES_DIR)\n",
        "NAMES_TXT_FILES <- fs::dir_ls(NAMES_DIR, glob = \"*.txt\")\n",
        "print(head(NAMES_TXT_FILES))"
      ]
    },
    {
      "cell_type": "markdown",
      "id": "10b12652",
      "metadata": {
        "id": "10b12652"
      },
      "source": [
        "### Read CSV Files\n",
        "\n",
        "We can now use the `read_csv` function from the `readr` package to read all the text files into a data frame. It is important to understand the arguments to this function, as it is one of the most commonly used import functions.\n",
        "\n",
        "1.  The `file` argument specifies the file to read in, and in this case, it is `NAMES_TXT_FILES`, which is a character vector containing the paths to all the text files in the directory.\n",
        "\n",
        "2.  The `col_names` argument specifies the names of the columns in the CSV file. In this case, the file has three columns: `name`, `sex`, and `nb_births`.\n",
        "\n",
        "3.  The `show_col_types` argument is set to `FALSE`, which means that the function will not print the types of the columns.\n",
        "\n",
        "4.  The `id = 'year'` argument specifies that the path to the file should be added as an extra column named `year`. This is required in order to add the `year` information to the data frame, since it is not already present."
      ]
    },
    {
      "cell_type": "code",
      "execution_count": null,
      "id": "08d495a7",
      "metadata": {
        "name": "read-files",
        "colab": {
          "base_uri": "https://localhost:8080/",
          "height": 286
        },
        "id": "08d495a7",
        "outputId": "e2599760-5b4b-4aa8-faa1-ef968c65c32c"
      },
      "outputs": [
        {
          "output_type": "display_data",
          "data": {
            "text/html": [
              "<table class=\"dataframe\">\n",
              "<caption>A tibble: 6 × 4</caption>\n",
              "<thead>\n",
              "\t<tr><th scope=col>year</th><th scope=col>name</th><th scope=col>sex</th><th scope=col>nb_births</th></tr>\n",
              "\t<tr><th scope=col>&lt;chr&gt;</th><th scope=col>&lt;chr&gt;</th><th scope=col>&lt;chr&gt;</th><th scope=col>&lt;dbl&gt;</th></tr>\n",
              "</thead>\n",
              "<tbody>\n",
              "\t<tr><td>/tmp/RtmpyGukp4/yob1880.txt</td><td>Mary     </td><td>F</td><td>7065</td></tr>\n",
              "\t<tr><td>/tmp/RtmpyGukp4/yob1880.txt</td><td>Anna     </td><td>F</td><td>2604</td></tr>\n",
              "\t<tr><td>/tmp/RtmpyGukp4/yob1880.txt</td><td>Emma     </td><td>F</td><td>2003</td></tr>\n",
              "\t<tr><td>/tmp/RtmpyGukp4/yob1880.txt</td><td>Elizabeth</td><td>F</td><td>1939</td></tr>\n",
              "\t<tr><td>/tmp/RtmpyGukp4/yob1880.txt</td><td>Minnie   </td><td>F</td><td>1746</td></tr>\n",
              "\t<tr><td>/tmp/RtmpyGukp4/yob1880.txt</td><td>Margaret </td><td>F</td><td>1578</td></tr>\n",
              "</tbody>\n",
              "</table>\n"
            ],
            "text/markdown": "\nA tibble: 6 × 4\n\n| year &lt;chr&gt; | name &lt;chr&gt; | sex &lt;chr&gt; | nb_births &lt;dbl&gt; |\n|---|---|---|---|\n| /tmp/RtmpyGukp4/yob1880.txt | Mary      | F | 7065 |\n| /tmp/RtmpyGukp4/yob1880.txt | Anna      | F | 2604 |\n| /tmp/RtmpyGukp4/yob1880.txt | Emma      | F | 2003 |\n| /tmp/RtmpyGukp4/yob1880.txt | Elizabeth | F | 1939 |\n| /tmp/RtmpyGukp4/yob1880.txt | Minnie    | F | 1746 |\n| /tmp/RtmpyGukp4/yob1880.txt | Margaret  | F | 1578 |\n\n",
            "text/latex": "A tibble: 6 × 4\n\\begin{tabular}{llll}\n year & name & sex & nb\\_births\\\\\n <chr> & <chr> & <chr> & <dbl>\\\\\n\\hline\n\t /tmp/RtmpyGukp4/yob1880.txt & Mary      & F & 7065\\\\\n\t /tmp/RtmpyGukp4/yob1880.txt & Anna      & F & 2604\\\\\n\t /tmp/RtmpyGukp4/yob1880.txt & Emma      & F & 2003\\\\\n\t /tmp/RtmpyGukp4/yob1880.txt & Elizabeth & F & 1939\\\\\n\t /tmp/RtmpyGukp4/yob1880.txt & Minnie    & F & 1746\\\\\n\t /tmp/RtmpyGukp4/yob1880.txt & Margaret  & F & 1578\\\\\n\\end{tabular}\n",
            "text/plain": [
              "  year                        name      sex nb_births\n",
              "1 /tmp/RtmpyGukp4/yob1880.txt Mary      F   7065     \n",
              "2 /tmp/RtmpyGukp4/yob1880.txt Anna      F   2604     \n",
              "3 /tmp/RtmpyGukp4/yob1880.txt Emma      F   2003     \n",
              "4 /tmp/RtmpyGukp4/yob1880.txt Elizabeth F   1939     \n",
              "5 /tmp/RtmpyGukp4/yob1880.txt Minnie    F   1746     \n",
              "6 /tmp/RtmpyGukp4/yob1880.txt Margaret  F   1578     "
            ]
          },
          "metadata": {}
        }
      ],
      "source": [
        "tbl_names <- readr::read_csv(\n",
        "  file = NAMES_TXT_FILES,\n",
        "  col_names = c('name', 'sex', 'nb_births'),\n",
        "  show_col_types = FALSE,\n",
        "  id = 'year'\n",
        ")\n",
        "\n",
        "head(tbl_names)"
      ]
    },
    {
      "cell_type": "markdown",
      "id": "146e8c73",
      "metadata": {
        "id": "146e8c73"
      },
      "source": [
        "Note that the `year` column contains the full path to the text file and hence we will need to extract just the numerical portion of the file name. We can use the `mutate()` function from the `dplyr` package to modify the `year` column and replace its values by the parsed numerical value of year."
      ]
    },
    {
      "cell_type": "code",
      "execution_count": null,
      "id": "7944d9f8",
      "metadata": {
        "name": "clean-tbl-names",
        "colab": {
          "base_uri": "https://localhost:8080/",
          "height": 286
        },
        "id": "7944d9f8",
        "outputId": "de139c07-ef1b-4f2b-ca7f-2abb8b6ea664"
      },
      "outputs": [
        {
          "output_type": "display_data",
          "data": {
            "text/html": [
              "<table class=\"dataframe\">\n",
              "<caption>A tibble: 6 × 4</caption>\n",
              "<thead>\n",
              "\t<tr><th scope=col>year</th><th scope=col>name</th><th scope=col>sex</th><th scope=col>nb_births</th></tr>\n",
              "\t<tr><th scope=col>&lt;dbl&gt;</th><th scope=col>&lt;chr&gt;</th><th scope=col>&lt;chr&gt;</th><th scope=col>&lt;dbl&gt;</th></tr>\n",
              "</thead>\n",
              "<tbody>\n",
              "\t<tr><td>1880</td><td>Mary     </td><td>F</td><td>7065</td></tr>\n",
              "\t<tr><td>1880</td><td>Anna     </td><td>F</td><td>2604</td></tr>\n",
              "\t<tr><td>1880</td><td>Emma     </td><td>F</td><td>2003</td></tr>\n",
              "\t<tr><td>1880</td><td>Elizabeth</td><td>F</td><td>1939</td></tr>\n",
              "\t<tr><td>1880</td><td>Minnie   </td><td>F</td><td>1746</td></tr>\n",
              "\t<tr><td>1880</td><td>Margaret </td><td>F</td><td>1578</td></tr>\n",
              "</tbody>\n",
              "</table>\n"
            ],
            "text/markdown": "\nA tibble: 6 × 4\n\n| year &lt;dbl&gt; | name &lt;chr&gt; | sex &lt;chr&gt; | nb_births &lt;dbl&gt; |\n|---|---|---|---|\n| 1880 | Mary      | F | 7065 |\n| 1880 | Anna      | F | 2604 |\n| 1880 | Emma      | F | 2003 |\n| 1880 | Elizabeth | F | 1939 |\n| 1880 | Minnie    | F | 1746 |\n| 1880 | Margaret  | F | 1578 |\n\n",
            "text/latex": "A tibble: 6 × 4\n\\begin{tabular}{llll}\n year & name & sex & nb\\_births\\\\\n <dbl> & <chr> & <chr> & <dbl>\\\\\n\\hline\n\t 1880 & Mary      & F & 7065\\\\\n\t 1880 & Anna      & F & 2604\\\\\n\t 1880 & Emma      & F & 2003\\\\\n\t 1880 & Elizabeth & F & 1939\\\\\n\t 1880 & Minnie    & F & 1746\\\\\n\t 1880 & Margaret  & F & 1578\\\\\n\\end{tabular}\n",
            "text/plain": [
              "  year name      sex nb_births\n",
              "1 1880 Mary      F   7065     \n",
              "2 1880 Anna      F   2604     \n",
              "3 1880 Emma      F   2003     \n",
              "4 1880 Elizabeth F   1939     \n",
              "5 1880 Minnie    F   1746     \n",
              "6 1880 Margaret  F   1578     "
            ]
          },
          "metadata": {}
        }
      ],
      "source": [
        "tbl_names <- tbl_names |>\n",
        "  dplyr::mutate(year = readr::parse_number(basename(year)))\n",
        "\n",
        "head(tbl_names)"
      ]
    },
    {
      "cell_type": "markdown",
      "id": "74e353ee",
      "metadata": {
        "id": "74e353ee"
      },
      "source": [
        "### Write CSV File\n",
        "\n",
        "The final step is to write the imported and tidied data to a compressed csv file, using the `write_csv()` function from the `readr` package. Note that it is best to save csv files with compression in order to keep the file size small."
      ]
    },
    {
      "cell_type": "code",
      "execution_count": null,
      "id": "cd1877e1",
      "metadata": {
        "eval": false,
        "name": "write-data",
        "id": "cd1877e1"
      },
      "outputs": [],
      "source": [
        "NAMES_CSV_GZ <- file.path(here::here(\"data\"), 'names.csv.gz')\n",
        "readr::write_csv(tbl_names, gzfile(NAMES_CSV_GZ))"
      ]
    },
    {
      "cell_type": "markdown",
      "id": "15d1225a",
      "metadata": {
        "id": "15d1225a"
      },
      "source": [
        "You will be using this babynames data for your first project."
      ]
    }
  ],
  "metadata": {
    "jupytext": {
      "cell_metadata_filter": "eval,name,tags,out.width,message,-all",
      "split_at_heading": true
    },
    "kernelspec": {
      "display_name": "R",
      "language": "R",
      "name": "ir"
    },
    "colab": {
      "provenance": []
    }
  },
  "nbformat": 4,
  "nbformat_minor": 5
}
