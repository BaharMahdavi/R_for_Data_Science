{
  "cells": [
    {
      "cell_type": "markdown",
      "id": "bc6dfc75",
      "metadata": {
        "id": "bc6dfc75"
      },
      "source": [
        "<a href=https://uplimit.com/course/r-for-data-science>\n",
        "  <img src=https://imgur.com/6Vkc11w.png />\n",
        "</a>\n",
        "\n",
        "|        |                                   |                                   |                                 |                                |\n",
        "| -------| ----------------------------------| -------------------------------- -| --------------------------------| ------------------------------------------|\n",
        "| Week 1 | [[01] Doing Data Science](https://colab.research.google.com/drive/1aWpmzS36qVc8hNIaSSSHexlodwwyMJCB)           | [[02] Data Science in Action](https://colab.research.google.com/drive/1aWpmzS36qVc8hNIaSSSHexlodwwyMJCB)       | [[03] Importing Data](https://colab.research.google.com/drive/13kHBX3H1F2yx5yXWJ5iFZh48qjEtpLjU)             | [[04] Visualizing Data: Overview](https://colab.research.google.com/drive/1JSeDt-Gneegd5B2KwWTJF_igYPb-xsIv)          |\n",
        "|        | [[05] Transforming Data: Overview](https://colab.research.google.com/drive/1IMZJFE8WmwjgdYCddvaO386PljKq_PjC)  | [[06] Transforming Data: Manipulate](https://colab.research.google.com/drive/19ClnAH7d30I9PkD9KuZndPmy5hxk3gdi) |                                 |                                           |\n",
        "| Week 2 | [[07] Transforming Data: Aggregate](https://colab.research.google.com/drive/1zigvePewKpzKQHx2pjABXU6Ms8QzQXj7) | [[08] Transforming Data: Reshape](https://colab.research.google.com/drive/1Ma9VrM9SrkNEeXTSul0Ca8a7GHAeNLzC)   | [[09] Transforming Data: Combine](https://colab.research.google.com/drive/1JUGm1h4YPmCkre-rVUj5Ql7lBS66_xIs) | [[10] Visualizing Data: Grammar of Graphics](https://colab.research.google.com/drive/1YLE3NPp-TO2KUTohtidjzKMeqJVWxYoT) |\n",
        "|        | [[11] Data Science in Action Again](https://colab.research.google.com/drive/1eWjVK4oEiXdwdP4sT0nOJlmkCMBkfLpz) |                                   |                                 |                                           |\n",
        "Books | [Hands on Programming with R](https://rstudio-education.github.io/hopr/index.html) | [R for Data Science](https://r4ds.hadley.nz/) | [Elegant Graphics for Data Analysis](https://ggplot2-book.org/)\n",
        "\n"
      ]
    },
    {
      "cell_type": "markdown",
      "id": "2b63f7e6",
      "metadata": {
        "id": "2b63f7e6"
      },
      "source": [
        "> 📕 __BEFORE YOU GET STARTED:__\n",
        "> 1. Click on **Copy to Drive** to copy notebook to your drive.\n",
        "> 2. Click on **Share** on the top-right corner (of your copied notebook).\n",
        "> 3. Update sharing settings to **Anyone with link**\n",
        "> 4. Delete this cell.\n"
      ]
    },
    {
      "cell_type": "markdown",
      "id": "c5d1a83b",
      "metadata": {
        "id": "c5d1a83b"
      },
      "source": [
        "## Transforming Data\n",
        "\n",
        "Visualizing data is a lot of fun. However, the key to visualizing data is getting the data into a tidy format that makes it easy to visualize. Ask any practicing data scientist and they will tell you how data transformation is easily the most time consuming portion of their daily workflow.\n",
        "\n",
        "<img src=\"https://i.imgur.com/0l6fJiZ.png\" />"
      ]
    },
    {
      "cell_type": "markdown",
      "id": "ddc4bfe6",
      "metadata": {
        "id": "ddc4bfe6"
      },
      "source": [
        "Fortunately for us, the `tidyverse` provides us with a __grammar of data transformation__ as well, that makes it easy to make data bend to our will and wishes. Once you understand this grammar, you will be able to make any dataset dance to your tunes!\n",
        "\n",
        "<img src=\"https://media0.giphy.com/media/4esrzplOvKkE0/giphy.gif?cid=ecf05e47dl39d633d1uhf4480lxjn7x1cxdmumgo9w4a6ccj&ep=v1_gifs_search&rid=giphy.gif&ct=g\" />"
      ]
    },
    {
      "cell_type": "code",
      "execution_count": null,
      "id": "a1623fe1",
      "metadata": {
        "lines_to_next_cell": 2,
        "message": false,
        "name": "setup",
        "colab": {
          "base_uri": "https://localhost:8080/"
        },
        "id": "a1623fe1",
        "outputId": "8c4b75c4-11c6-4d2a-e7ac-0621d60350ac"
      },
      "outputs": [
        {
          "output_type": "stream",
          "name": "stderr",
          "text": [
            "── \u001b[1mAttaching core tidyverse packages\u001b[22m ──────────────────────── tidyverse 2.0.0 ──\n",
            "\u001b[32m✔\u001b[39m \u001b[34mdplyr    \u001b[39m 1.1.3     \u001b[32m✔\u001b[39m \u001b[34mreadr    \u001b[39m 2.1.4\n",
            "\u001b[32m✔\u001b[39m \u001b[34mforcats  \u001b[39m 1.0.0     \u001b[32m✔\u001b[39m \u001b[34mstringr  \u001b[39m 1.5.0\n",
            "\u001b[32m✔\u001b[39m \u001b[34mggplot2  \u001b[39m 3.4.4     \u001b[32m✔\u001b[39m \u001b[34mtibble   \u001b[39m 3.2.1\n",
            "\u001b[32m✔\u001b[39m \u001b[34mlubridate\u001b[39m 1.9.3     \u001b[32m✔\u001b[39m \u001b[34mtidyr    \u001b[39m 1.3.0\n",
            "\u001b[32m✔\u001b[39m \u001b[34mpurrr    \u001b[39m 1.0.2     \n",
            "── \u001b[1mConflicts\u001b[22m ────────────────────────────────────────── tidyverse_conflicts() ──\n",
            "\u001b[31m✖\u001b[39m \u001b[34mdplyr\u001b[39m::\u001b[32mfilter()\u001b[39m masks \u001b[34mstats\u001b[39m::filter()\n",
            "\u001b[31m✖\u001b[39m \u001b[34mdplyr\u001b[39m::\u001b[32mlag()\u001b[39m    masks \u001b[34mstats\u001b[39m::lag()\n",
            "\u001b[36mℹ\u001b[39m Use the conflicted package (\u001b[3m\u001b[34m<http://conflicted.r-lib.org/>\u001b[39m\u001b[23m) to force all conflicts to become errors\n",
            "Installing package into ‘/usr/local/lib/R/site-library’\n",
            "(as ‘lib’ is unspecified)\n",
            "\n",
            "Tracing function \"install.packages\" in package \"utils\"\n",
            "\n",
            "Tracing function \"update.packages\" in package \"utils\"\n",
            "\n",
            "Installing packages into ‘/usr/local/lib/R/site-library’\n",
            "(as ‘lib’ is unspecified)\n",
            "\n",
            "Inspecting installed packages...\n",
            "\n"
          ]
        }
      ],
      "source": [
        "# Load packages and utility scripts\n",
        "library(tidyverse)\n",
        "url = \"https://gist.githubusercontent.com/ramnathv/e71d3ffe88961fc4ef95642053012384/raw/9dda53562d06009912841ab3538d4aeb90e5ee09/_common.R\"\n",
        "download.file(url, basename(url))\n",
        "source(\"_common.R\")"
      ]
    },
    {
      "cell_type": "markdown",
      "id": "7d3a1af4",
      "metadata": {
        "id": "7d3a1af4"
      },
      "source": [
        "We will use both the `babynames` dataset as well as the `diamonds` dataset to explore the world of data transformation with the `tidyverse`."
      ]
    },
    {
      "cell_type": "code",
      "execution_count": null,
      "id": "90e6a14c",
      "metadata": {
        "lines_to_next_cell": 2,
        "message": false,
        "name": "read-babynames",
        "id": "90e6a14c"
      },
      "outputs": [],
      "source": [
        "FILE_NAMES <- \"https://raw.githubusercontent.com/ramnathv/corise-r-for-ds/main/data/names.csv.gz\"\n",
        "babynames <- readr::read_csv(FILE_NAMES, show_col_types = FALSE)"
      ]
    },
    {
      "cell_type": "markdown",
      "source": [
        "<img src=\"https://www.casalejewelers.net/media/uploads/Half%20off%20Half%20the%20Store/Babies%20vs%20Diamonds.JPG\" height=300px/>"
      ],
      "metadata": {
        "id": "3EYO1dXleIxN"
      },
      "id": "3EYO1dXleIxN"
    },
    {
      "cell_type": "markdown",
      "id": "9bce7e4f",
      "metadata": {
        "id": "9bce7e4f"
      },
      "source": [
        "We can categorize data transformation operations into FOUR groups. In this lesson, we will touch upon the basics of this grammar.\n",
        "\n",
        "<img src=https://i.imgur.com/6NUKqpe.png height=250px/>\n"
      ]
    },
    {
      "cell_type": "markdown",
      "id": "fa271087",
      "metadata": {
        "id": "fa271087"
      },
      "source": [
        "### Manipulating Data\n",
        "\n",
        "The first set of operations involve __manipulating rows and columns__ of a table while leaving the underlying unit of observation, and its shape largely intact. For example, suppose we want to display the `carat`, `price` and `price_per_carat` columns for the top 5 diamonds by `price_per_carat`. We can accomplish this using the grammar provided by the `dplyr` package, which is a part of the `tidyverse`."
      ]
    },
    {
      "cell_type": "code",
      "execution_count": null,
      "id": "4e30d98e",
      "metadata": {
        "name": "manipulate-data-diamonds",
        "colab": {
          "base_uri": "https://localhost:8080/",
          "height": 255
        },
        "id": "4e30d98e",
        "outputId": "899f0fca-6ec2-4cdb-b5ab-4852a485cb73"
      },
      "outputs": [
        {
          "output_type": "display_data",
          "data": {
            "text/html": [
              "<table class=\"dataframe\">\n",
              "<caption>A tibble: 5 × 3</caption>\n",
              "<thead>\n",
              "\t<tr><th scope=col>carat</th><th scope=col>price</th><th scope=col>price_per_carat</th></tr>\n",
              "\t<tr><th scope=col>&lt;dbl&gt;</th><th scope=col>&lt;int&gt;</th><th scope=col>&lt;dbl&gt;</th></tr>\n",
              "</thead>\n",
              "<tbody>\n",
              "\t<tr><td>1.04</td><td>18542</td><td>17828.85</td></tr>\n",
              "\t<tr><td>1.07</td><td>18279</td><td>17083.18</td></tr>\n",
              "\t<tr><td>1.03</td><td>17590</td><td>17077.67</td></tr>\n",
              "\t<tr><td>1.07</td><td>18114</td><td>16928.97</td></tr>\n",
              "\t<tr><td>1.02</td><td>17100</td><td>16764.71</td></tr>\n",
              "</tbody>\n",
              "</table>\n"
            ],
            "text/markdown": "\nA tibble: 5 × 3\n\n| carat &lt;dbl&gt; | price &lt;int&gt; | price_per_carat &lt;dbl&gt; |\n|---|---|---|\n| 1.04 | 18542 | 17828.85 |\n| 1.07 | 18279 | 17083.18 |\n| 1.03 | 17590 | 17077.67 |\n| 1.07 | 18114 | 16928.97 |\n| 1.02 | 17100 | 16764.71 |\n\n",
            "text/latex": "A tibble: 5 × 3\n\\begin{tabular}{lll}\n carat & price & price\\_per\\_carat\\\\\n <dbl> & <int> & <dbl>\\\\\n\\hline\n\t 1.04 & 18542 & 17828.85\\\\\n\t 1.07 & 18279 & 17083.18\\\\\n\t 1.03 & 17590 & 17077.67\\\\\n\t 1.07 & 18114 & 16928.97\\\\\n\t 1.02 & 17100 & 16764.71\\\\\n\\end{tabular}\n",
            "text/plain": [
              "  carat price price_per_carat\n",
              "1 1.04  18542 17828.85       \n",
              "2 1.07  18279 17083.18       \n",
              "3 1.03  17590 17077.67       \n",
              "4 1.07  18114 16928.97       \n",
              "5 1.02  17100 16764.71       "
            ]
          },
          "metadata": {}
        }
      ],
      "source": [
        "# Start with the diamonds data.\n",
        "diamonds |>\n",
        "  # Select the columns carat and price\n",
        "  select(carat, price) |>\n",
        "  # Add a new column for price_per_carat\n",
        "  mutate(price_per_carat = price / carat) |>\n",
        "  # Arrange the rows in descending order of price_per_carat\n",
        "  arrange(desc(price_per_carat)) |>\n",
        "  # Slice the first five rows\n",
        "  slice_head(n = 5)"
      ]
    },
    {
      "cell_type": "markdown",
      "id": "6bcf6ce9",
      "metadata": {
        "id": "6bcf6ce9"
      },
      "source": [
        "Note how the pipe operator (`|>`) allows us to pass the dataset through a series of transformations, that together accomplish what we want. Also note how each row in the dataset still corresponds to a single `observation` (diamond), and each cell is a `value` of a `variable`.\n",
        "\n",
        "Let us take another example of data manipulation, this time on the `babynames` data. Suppose, we want the most popular female names for babies born in the year 2021. We can accomplish this by stringing together a series of data manipulation functions provided by the `tidyverse`."
      ]
    },
    {
      "cell_type": "code",
      "execution_count": null,
      "id": "626e43fb",
      "metadata": {
        "name": "manipulate-data-babynames",
        "colab": {
          "base_uri": "https://localhost:8080/",
          "height": 255
        },
        "id": "626e43fb",
        "outputId": "d01747d9-33d8-4025-eae3-ad2ff65bd069"
      },
      "outputs": [
        {
          "output_type": "display_data",
          "data": {
            "text/html": [
              "<table class=\"dataframe\">\n",
              "<caption>A tibble: 5 × 3</caption>\n",
              "<thead>\n",
              "\t<tr><th scope=col>name</th><th scope=col>sex</th><th scope=col>nb_births</th></tr>\n",
              "\t<tr><th scope=col>&lt;chr&gt;</th><th scope=col>&lt;chr&gt;</th><th scope=col>&lt;dbl&gt;</th></tr>\n",
              "</thead>\n",
              "<tbody>\n",
              "\t<tr><td>Olivia   </td><td>F</td><td>17728</td></tr>\n",
              "\t<tr><td>Emma     </td><td>F</td><td>15433</td></tr>\n",
              "\t<tr><td>Charlotte</td><td>F</td><td>13285</td></tr>\n",
              "\t<tr><td>Amelia   </td><td>F</td><td>12952</td></tr>\n",
              "\t<tr><td>Ava      </td><td>F</td><td>12759</td></tr>\n",
              "</tbody>\n",
              "</table>\n"
            ],
            "text/markdown": "\nA tibble: 5 × 3\n\n| name &lt;chr&gt; | sex &lt;chr&gt; | nb_births &lt;dbl&gt; |\n|---|---|---|\n| Olivia    | F | 17728 |\n| Emma      | F | 15433 |\n| Charlotte | F | 13285 |\n| Amelia    | F | 12952 |\n| Ava       | F | 12759 |\n\n",
            "text/latex": "A tibble: 5 × 3\n\\begin{tabular}{lll}\n name & sex & nb\\_births\\\\\n <chr> & <chr> & <dbl>\\\\\n\\hline\n\t Olivia    & F & 17728\\\\\n\t Emma      & F & 15433\\\\\n\t Charlotte & F & 13285\\\\\n\t Amelia    & F & 12952\\\\\n\t Ava       & F & 12759\\\\\n\\end{tabular}\n",
            "text/plain": [
              "  name      sex nb_births\n",
              "1 Olivia    F   17728    \n",
              "2 Emma      F   15433    \n",
              "3 Charlotte F   13285    \n",
              "4 Amelia    F   12952    \n",
              "5 Ava       F   12759    "
            ]
          },
          "metadata": {}
        }
      ],
      "source": [
        "# Start with the babynames data\n",
        "babynames |>\n",
        "  # Filter the rows for year = 2021 and sex = \"F\"\n",
        "  filter(year == 2021, sex == \"F\") |>\n",
        "  # Select the columns name, sex, and nb_births\n",
        "  select(name, sex, nb_births) |>\n",
        "  # Arrange the rows in descending order of nb_births\n",
        "  arrange(desc(nb_births)) |>\n",
        "  # Slice the first five rows\n",
        "  slice_head(n = 5)"
      ]
    },
    {
      "cell_type": "markdown",
      "id": "b9a1f1cb",
      "metadata": {
        "id": "b9a1f1cb"
      },
      "source": [
        "A large part of transforming data will involve data manipulation operations. This is just a trailer of what is to come, and we will learn more about data manipulation in the next lesson."
      ]
    },
    {
      "cell_type": "markdown",
      "id": "01e2d7b8",
      "metadata": {
        "id": "01e2d7b8"
      },
      "source": [
        "### Aggregating Data\n",
        "\n",
        "The second set of data manipulation operations that are extremely useful are __data aggregation operations__. Unlike data manipulation operations, aggregation operations change the underlying shape of the data. Moreover, they change the unit of observation from individual observations to groups.\n",
        "\n",
        "For example, suppose we want to summarize diamonds by combination of `cut` and `clarity`. We can group them by `cut` and `clarity` and summarize each group by computing the `avg_price`, `avg_carat` and `avg_price_per_carat`. The `dplyr` package provides us with the useful functions `group_by()` and `summarize()` to accomplish what we want.  "
      ]
    },
    {
      "cell_type": "code",
      "execution_count": null,
      "id": "4d640fc7",
      "metadata": {
        "name": "aggregate-data-diamonds",
        "colab": {
          "base_uri": "https://localhost:8080/",
          "height": 286
        },
        "id": "4d640fc7",
        "outputId": "9bfc13f7-1105-4346-8c4a-a511749f2b2d"
      },
      "outputs": [
        {
          "output_type": "display_data",
          "data": {
            "text/html": [
              "<table class=\"dataframe\">\n",
              "<caption>A tibble: 6 × 5</caption>\n",
              "<thead>\n",
              "\t<tr><th scope=col>cut</th><th scope=col>clarity</th><th scope=col>avg_price</th><th scope=col>avg_carat</th><th scope=col>avg_price_per_carat</th></tr>\n",
              "\t<tr><th scope=col>&lt;ord&gt;</th><th scope=col>&lt;ord&gt;</th><th scope=col>&lt;dbl&gt;</th><th scope=col>&lt;dbl&gt;</th><th scope=col>&lt;dbl&gt;</th></tr>\n",
              "</thead>\n",
              "<tbody>\n",
              "\t<tr><td>Fair</td><td>I1  </td><td>3703.533</td><td>1.3610000</td><td>2721.185</td></tr>\n",
              "\t<tr><td>Fair</td><td>SI2 </td><td>5173.916</td><td>1.2038412</td><td>4297.840</td></tr>\n",
              "\t<tr><td>Fair</td><td>SI1 </td><td>4208.279</td><td>0.9646324</td><td>4362.573</td></tr>\n",
              "\t<tr><td>Fair</td><td>VS2 </td><td>4174.724</td><td>0.8852490</td><td>4715.875</td></tr>\n",
              "\t<tr><td>Fair</td><td>VS1 </td><td>4165.141</td><td>0.8798235</td><td>4734.064</td></tr>\n",
              "\t<tr><td>Fair</td><td>VVS2</td><td>3349.768</td><td>0.6915942</td><td>4843.546</td></tr>\n",
              "</tbody>\n",
              "</table>\n"
            ],
            "text/markdown": "\nA tibble: 6 × 5\n\n| cut &lt;ord&gt; | clarity &lt;ord&gt; | avg_price &lt;dbl&gt; | avg_carat &lt;dbl&gt; | avg_price_per_carat &lt;dbl&gt; |\n|---|---|---|---|---|\n| Fair | I1   | 3703.533 | 1.3610000 | 2721.185 |\n| Fair | SI2  | 5173.916 | 1.2038412 | 4297.840 |\n| Fair | SI1  | 4208.279 | 0.9646324 | 4362.573 |\n| Fair | VS2  | 4174.724 | 0.8852490 | 4715.875 |\n| Fair | VS1  | 4165.141 | 0.8798235 | 4734.064 |\n| Fair | VVS2 | 3349.768 | 0.6915942 | 4843.546 |\n\n",
            "text/latex": "A tibble: 6 × 5\n\\begin{tabular}{lllll}\n cut & clarity & avg\\_price & avg\\_carat & avg\\_price\\_per\\_carat\\\\\n <ord> & <ord> & <dbl> & <dbl> & <dbl>\\\\\n\\hline\n\t Fair & I1   & 3703.533 & 1.3610000 & 2721.185\\\\\n\t Fair & SI2  & 5173.916 & 1.2038412 & 4297.840\\\\\n\t Fair & SI1  & 4208.279 & 0.9646324 & 4362.573\\\\\n\t Fair & VS2  & 4174.724 & 0.8852490 & 4715.875\\\\\n\t Fair & VS1  & 4165.141 & 0.8798235 & 4734.064\\\\\n\t Fair & VVS2 & 3349.768 & 0.6915942 & 4843.546\\\\\n\\end{tabular}\n",
            "text/plain": [
              "  cut  clarity avg_price avg_carat avg_price_per_carat\n",
              "1 Fair I1      3703.533  1.3610000 2721.185           \n",
              "2 Fair SI2     5173.916  1.2038412 4297.840           \n",
              "3 Fair SI1     4208.279  0.9646324 4362.573           \n",
              "4 Fair VS2     4174.724  0.8852490 4715.875           \n",
              "5 Fair VS1     4165.141  0.8798235 4734.064           \n",
              "6 Fair VVS2    3349.768  0.6915942 4843.546           "
            ]
          },
          "metadata": {}
        }
      ],
      "source": [
        "diamonds_by_cut_clarity <- diamonds |>\n",
        "    # Group by cut and clarity\n",
        "    group_by(cut, clarity) |>\n",
        "    # Summarize average price, carat, and price/carat\n",
        "    summarize(\n",
        "      avg_price = mean(price),\n",
        "      avg_carat = mean(carat),\n",
        "      avg_price_per_carat = sum(price) / sum(carat),\n",
        "      .groups = \"drop\"\n",
        "    )\n",
        "\n",
        "head(diamonds_by_cut_clarity)"
      ]
    },
    {
      "cell_type": "markdown",
      "id": "4b5a79b2",
      "metadata": {
        "id": "4b5a79b2"
      },
      "source": [
        "Suppose, we want to get the top 5 most popular Male and Female names of all time. Can we accomplish it with the grammar we have learnt so far? Well, the answer is ALMOST yes. We can summarize the total number of births by `sex` and `name`, and then use the `slice_max()` function to slice the rows to get the top 5 rows in terms of `nb_births` for each `sex`."
      ]
    },
    {
      "cell_type": "code",
      "execution_count": null,
      "id": "541be8e6",
      "metadata": {
        "name": "aggregate-data-babynames",
        "colab": {
          "base_uri": "https://localhost:8080/",
          "height": 412
        },
        "id": "541be8e6",
        "outputId": "13816462-b19e-427e-aa95-7ba384fd3c16"
      },
      "outputs": [
        {
          "output_type": "display_data",
          "data": {
            "text/html": [
              "<table class=\"dataframe\">\n",
              "<caption>A grouped_df: 10 × 3</caption>\n",
              "<thead>\n",
              "\t<tr><th scope=col>sex</th><th scope=col>name</th><th scope=col>nb_births</th></tr>\n",
              "\t<tr><th scope=col>&lt;chr&gt;</th><th scope=col>&lt;chr&gt;</th><th scope=col>&lt;dbl&gt;</th></tr>\n",
              "</thead>\n",
              "<tbody>\n",
              "\t<tr><td>F</td><td>Mary     </td><td>4132497</td></tr>\n",
              "\t<tr><td>F</td><td>Elizabeth</td><td>1661030</td></tr>\n",
              "\t<tr><td>F</td><td>Patricia </td><td>1572795</td></tr>\n",
              "\t<tr><td>F</td><td>Jennifer </td><td>1469379</td></tr>\n",
              "\t<tr><td>F</td><td>Linda    </td><td>1453755</td></tr>\n",
              "\t<tr><td>M</td><td>James    </td><td>5202714</td></tr>\n",
              "\t<tr><td>M</td><td>John     </td><td>5150510</td></tr>\n",
              "\t<tr><td>M</td><td>Robert   </td><td>4834094</td></tr>\n",
              "\t<tr><td>M</td><td>Michael  </td><td>4392696</td></tr>\n",
              "\t<tr><td>M</td><td>William  </td><td>4156142</td></tr>\n",
              "</tbody>\n",
              "</table>\n"
            ],
            "text/markdown": "\nA grouped_df: 10 × 3\n\n| sex &lt;chr&gt; | name &lt;chr&gt; | nb_births &lt;dbl&gt; |\n|---|---|---|\n| F | Mary      | 4132497 |\n| F | Elizabeth | 1661030 |\n| F | Patricia  | 1572795 |\n| F | Jennifer  | 1469379 |\n| F | Linda     | 1453755 |\n| M | James     | 5202714 |\n| M | John      | 5150510 |\n| M | Robert    | 4834094 |\n| M | Michael   | 4392696 |\n| M | William   | 4156142 |\n\n",
            "text/latex": "A grouped\\_df: 10 × 3\n\\begin{tabular}{lll}\n sex & name & nb\\_births\\\\\n <chr> & <chr> & <dbl>\\\\\n\\hline\n\t F & Mary      & 4132497\\\\\n\t F & Elizabeth & 1661030\\\\\n\t F & Patricia  & 1572795\\\\\n\t F & Jennifer  & 1469379\\\\\n\t F & Linda     & 1453755\\\\\n\t M & James     & 5202714\\\\\n\t M & John      & 5150510\\\\\n\t M & Robert    & 4834094\\\\\n\t M & Michael   & 4392696\\\\\n\t M & William   & 4156142\\\\\n\\end{tabular}\n",
            "text/plain": [
              "   sex name      nb_births\n",
              "1  F   Mary      4132497  \n",
              "2  F   Elizabeth 1661030  \n",
              "3  F   Patricia  1572795  \n",
              "4  F   Jennifer  1469379  \n",
              "5  F   Linda     1453755  \n",
              "6  M   James     5202714  \n",
              "7  M   John      5150510  \n",
              "8  M   Robert    4834094  \n",
              "9  M   Michael   4392696  \n",
              "10 M   William   4156142  "
            ]
          },
          "metadata": {}
        }
      ],
      "source": [
        "babynames_top_5 <- babynames |>\n",
        "    # Group by sex and name\n",
        "    group_by(sex, name) |>\n",
        "    # Summarize total number of births by sex and name\n",
        "    summarize(\n",
        "      nb_births = sum(nb_births),\n",
        "      .groups = \"drop_last\"\n",
        "    ) |>\n",
        "    # Slice the top 5 rows with highest values of `nb_births`.\n",
        "    slice_max(nb_births, n = 5)\n",
        "\n",
        "babynames_top_5"
      ]
    },
    {
      "cell_type": "markdown",
      "id": "065c49bb",
      "metadata": {
        "id": "065c49bb"
      },
      "source": [
        "You might have noticed a small difference between the `summarize` step in these two examples. In the first example with the `diamonds` data, we set `.groups = \"drop\"`. This was done to drop all grouping variables, since we wanted to get the top 5 rows overall.\n",
        "\n",
        "In the second example with the `babynames` data, we set `.groups = \"drop_last\"`. This results in the data still being grouped by the `sex` variable and that is perfect as the `slice_max()` function can then get us the top 5 names for each `sex`. Note that `.groups = \"drop_last\"` is the default behavior of the `summarize()` function. However, it is always best to be explicit about it, in order to avoid nasty surprises.\n",
        "\n",
        "Once again, this is just the trailer, and we will learn a lot more about data aggregation in later lessons. The major point I want to emphasize here once again is how a powerful consistent grammar allows you to handle complex transformations in a flexible manner!\n"
      ]
    },
    {
      "cell_type": "markdown",
      "id": "a067f876",
      "metadata": {
        "id": "a067f876"
      },
      "source": [
        "### Reshaping Data\n",
        "\n",
        "The first two operations we encountered before don't alter the fundamental shape of the data. The next set of operations we will learn about are the __reshaping__ operations, which alter the fundamental shape of the data.\n",
        "\n",
        "For example, suppose we want to display the `avg_price_per_carat` for every combination of `cut` and `clarity`, where `cut` is laid out in rows and the `clarity` is laid out in columns. We can accomplish this by taking the `diamonds_by_cut_clarity` table and pivoting it wider, taking the column names from `clarity`, and the cell values from `avg_price_per_carat`."
      ]
    },
    {
      "cell_type": "code",
      "execution_count": null,
      "id": "8a512b0d",
      "metadata": {
        "name": "reshape-data-diamonds",
        "colab": {
          "base_uri": "https://localhost:8080/",
          "height": 255
        },
        "id": "8a512b0d",
        "outputId": "461ad721-8d1b-4a60-e7f2-dc439b3b6aab"
      },
      "outputs": [
        {
          "output_type": "display_data",
          "data": {
            "text/html": [
              "<table class=\"dataframe\">\n",
              "<caption>A tibble: 5 × 9</caption>\n",
              "<thead>\n",
              "\t<tr><th scope=col>cut</th><th scope=col>I1</th><th scope=col>SI2</th><th scope=col>SI1</th><th scope=col>VS2</th><th scope=col>VS1</th><th scope=col>VVS2</th><th scope=col>VVS1</th><th scope=col>IF</th></tr>\n",
              "\t<tr><th scope=col>&lt;ord&gt;</th><th scope=col>&lt;dbl&gt;</th><th scope=col>&lt;dbl&gt;</th><th scope=col>&lt;dbl&gt;</th><th scope=col>&lt;dbl&gt;</th><th scope=col>&lt;dbl&gt;</th><th scope=col>&lt;dbl&gt;</th><th scope=col>&lt;dbl&gt;</th><th scope=col>&lt;dbl&gt;</th></tr>\n",
              "</thead>\n",
              "<tbody>\n",
              "\t<tr><td>Fair     </td><td>2721.185</td><td>4297.840</td><td>4362.573</td><td>4715.875</td><td>4734.064</td><td>4843.546</td><td>5824.159</td><td>4030.679</td></tr>\n",
              "\t<tr><td>Good     </td><td>2989.670</td><td>4424.404</td><td>4443.093</td><td>5009.755</td><td>5017.184</td><td>5007.250</td><td>4488.794</td><td>6649.474</td></tr>\n",
              "\t<tr><td>Very Good</td><td>3181.380</td><td>4687.127</td><td>4648.335</td><td>5197.064</td><td>5189.304</td><td>5363.393</td><td>4972.706</td><td>7104.782</td></tr>\n",
              "\t<tr><td>Premium  </td><td>3067.022</td><td>4847.166</td><td>4903.437</td><td>5457.510</td><td>5654.123</td><td>5796.522</td><td>5293.741</td><td>6389.863</td></tr>\n",
              "\t<tr><td>Ideal    </td><td>3546.109</td><td>4718.557</td><td>4679.574</td><td>4898.176</td><td>5172.180</td><td>5544.559</td><td>4976.469</td><td>4994.961</td></tr>\n",
              "</tbody>\n",
              "</table>\n"
            ],
            "text/markdown": "\nA tibble: 5 × 9\n\n| cut &lt;ord&gt; | I1 &lt;dbl&gt; | SI2 &lt;dbl&gt; | SI1 &lt;dbl&gt; | VS2 &lt;dbl&gt; | VS1 &lt;dbl&gt; | VVS2 &lt;dbl&gt; | VVS1 &lt;dbl&gt; | IF &lt;dbl&gt; |\n|---|---|---|---|---|---|---|---|---|\n| Fair      | 2721.185 | 4297.840 | 4362.573 | 4715.875 | 4734.064 | 4843.546 | 5824.159 | 4030.679 |\n| Good      | 2989.670 | 4424.404 | 4443.093 | 5009.755 | 5017.184 | 5007.250 | 4488.794 | 6649.474 |\n| Very Good | 3181.380 | 4687.127 | 4648.335 | 5197.064 | 5189.304 | 5363.393 | 4972.706 | 7104.782 |\n| Premium   | 3067.022 | 4847.166 | 4903.437 | 5457.510 | 5654.123 | 5796.522 | 5293.741 | 6389.863 |\n| Ideal     | 3546.109 | 4718.557 | 4679.574 | 4898.176 | 5172.180 | 5544.559 | 4976.469 | 4994.961 |\n\n",
            "text/latex": "A tibble: 5 × 9\n\\begin{tabular}{lllllllll}\n cut & I1 & SI2 & SI1 & VS2 & VS1 & VVS2 & VVS1 & IF\\\\\n <ord> & <dbl> & <dbl> & <dbl> & <dbl> & <dbl> & <dbl> & <dbl> & <dbl>\\\\\n\\hline\n\t Fair      & 2721.185 & 4297.840 & 4362.573 & 4715.875 & 4734.064 & 4843.546 & 5824.159 & 4030.679\\\\\n\t Good      & 2989.670 & 4424.404 & 4443.093 & 5009.755 & 5017.184 & 5007.250 & 4488.794 & 6649.474\\\\\n\t Very Good & 3181.380 & 4687.127 & 4648.335 & 5197.064 & 5189.304 & 5363.393 & 4972.706 & 7104.782\\\\\n\t Premium   & 3067.022 & 4847.166 & 4903.437 & 5457.510 & 5654.123 & 5796.522 & 5293.741 & 6389.863\\\\\n\t Ideal     & 3546.109 & 4718.557 & 4679.574 & 4898.176 & 5172.180 & 5544.559 & 4976.469 & 4994.961\\\\\n\\end{tabular}\n",
            "text/plain": [
              "  cut       I1       SI2      SI1      VS2      VS1      VVS2     VVS1    \n",
              "1 Fair      2721.185 4297.840 4362.573 4715.875 4734.064 4843.546 5824.159\n",
              "2 Good      2989.670 4424.404 4443.093 5009.755 5017.184 5007.250 4488.794\n",
              "3 Very Good 3181.380 4687.127 4648.335 5197.064 5189.304 5363.393 4972.706\n",
              "4 Premium   3067.022 4847.166 4903.437 5457.510 5654.123 5796.522 5293.741\n",
              "5 Ideal     3546.109 4718.557 4679.574 4898.176 5172.180 5544.559 4976.469\n",
              "  IF      \n",
              "1 4030.679\n",
              "2 6649.474\n",
              "3 7104.782\n",
              "4 6389.863\n",
              "5 4994.961"
            ]
          },
          "metadata": {}
        }
      ],
      "source": [
        "diamonds_by_cut_clarity |>\n",
        "  pivot_wider(\n",
        "    id_cols = cut,\n",
        "    names_from = clarity,\n",
        "    values_from = avg_price_per_carat\n",
        "  )"
      ]
    },
    {
      "cell_type": "markdown",
      "id": "19b8eb8e",
      "metadata": {
        "id": "19b8eb8e"
      },
      "source": [
        "The `tidyverse` provides several functions to reshape data and we will learn all about it in later lessons."
      ]
    },
    {
      "cell_type": "markdown",
      "id": "96bc7677",
      "metadata": {
        "id": "96bc7677"
      },
      "source": [
        "### Combining Data\n",
        "\n",
        "Finally, the last set of data transformation operations, we will learn about are those that involve __combining__ more than one dataset. We often want to combine datasets either by joining them or stacking them. The `tidyverse` provides several functions to accomplish this in a consistent manner.\n",
        "\n",
        "<img src=https://dataschool.com/assets/images/how-to-teach-people-sql/sqlJoins/sqlJoins_7.png height=400px/>\n"
      ]
    },
    {
      "cell_type": "markdown",
      "id": "4526b3fb",
      "metadata": {
        "id": "4526b3fb"
      },
      "source": [
        "We will learn more about this in a later lesson.\n",
        "\n",
        "----\n",
        "\n",
        "The `tidyverse` follows the unix philosophy of providing simple building blocks that do ONE thing and only ONE thing really well. The power of the `tidyverse` stems from the consistency of these building blocks and the ability to string them together into a pipeline. While this might at times lead to more lines of code, the fact that it gives you enormous flexibility makes it worthwhile. Note that it is possible to combine these building blocks into bigger sub-assemblies to abstract any repetitive patterns at play. This is beyond the scope of this course, but is what makes the `tidyverse` truly powerful in the real world!\n",
        "\n",
        "----\n"
      ]
    }
  ],
  "metadata": {
    "jupytext": {
      "cell_metadata_filter": "name,out.width,tags,message,-all",
      "split_at_heading": true
    },
    "kernelspec": {
      "display_name": "R",
      "language": "R",
      "name": "ir"
    },
    "colab": {
      "provenance": []
    }
  },
  "nbformat": 4,
  "nbformat_minor": 5
}